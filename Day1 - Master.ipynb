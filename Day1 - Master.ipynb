{
 "cells": [
  {
   "cell_type": "markdown",
   "metadata": {},
   "source": [
    "# Introduction to Python Day 1\n",
    "## Workbook Contents <a id = 'cont'></a>\n",
    "1. [Example - Writing good code](#1)\n",
    "2. [Example - Basic syntax](#2)\n",
    "3. [Example - Script structure](#3)\n",
    "4. [Example - The for loop](#4)\n",
    "5. [Exercise - My first script](#5)\n",
    "6. [Example - Built-in functions](#6)\n",
    "7. [Example - Indexing and slicing](#7)\n",
    "8. [Example - Iterators](#8)\n",
    "9. [Example - String maniuplation](#9)\n",
    "10. [Exercise - Fixing a list of strings](#10)\n",
    "11. [Exercise - Importing data with pandas](#11)\n",
    "12. [Example - Importing and exporting data with pandas](#12)\n",
    "13. [Exercise - User defined functions](#13)\n",
    "14. [Example - pandas: addressing, indexing, and masks](#14)\n",
    "15. [Example - pandas: iterating and applying](#15)\n",
    "16. [Example - pandas: grouping and aggregating](#16)\n",
    "17. [Example - pandas: concatenating DataFrames](#17)\n",
    "18. [Exercise - Collecting and analysing separate data sources](#18)\n",
    "19. [Appendix - Strings and escape chars](#19)\n",
    "\n"
   ]
  },
  {
   "cell_type": "markdown",
   "metadata": {},
   "source": [
    "## 1. Example - Writing good code<a id = '1'></a>\n",
    "[Back to contents](#cont)"
   ]
  },
  {
   "cell_type": "markdown",
   "metadata": {},
   "source": [
    "<b>Bad example:</b>\n",
    "\n",
    "Note that this might be ok - if you're just trying to do something quickly and plan on throwing away the code."
   ]
  },
  {
   "cell_type": "code",
   "execution_count": null,
   "metadata": {},
   "outputs": [],
   "source": [
    "x = 3.141*1.5**2\n",
    "y = 2*3.14*1.5\n",
    "z = 2*1.5\n",
    "x2 = 4*3.14159265*1.5**3/3\n",
    "print(x,y,z,x2)"
   ]
  },
  {
   "cell_type": "markdown",
   "metadata": {},
   "source": [
    "<b>Good example:</b>\n",
    "\n",
    "Takes slightly longer to write - but is re-useable and could be picked up by someone else.<br>\n",
    "What could be done even better?"
   ]
  },
  {
   "cell_type": "code",
   "execution_count": null,
   "metadata": {},
   "outputs": [],
   "source": [
    "# radius in metres\n",
    "r = 1.5\n",
    "# value of pi\n",
    "PI = 3.14159265\n",
    "\n",
    "# ** is to the power of\n",
    "# area of circle according to A = pi*r^2\n",
    "A = PI*r**2\n",
    "# circumference of circle according to c = 2*pi*r\n",
    "c = 2*PI*r\n",
    "# diameter of circle according to d = 2r\n",
    "d = 2*r\n",
    "# volume of sphere according to V = 4*pi*r^3/3\n",
    "V = 4*PI*r**3/3\n",
    "\n",
    "print('Area is ',A)\n",
    "print('Circumference is ',c)\n",
    "print('Diameter is ',d)\n",
    "print('Volume is ',V)"
   ]
  },
  {
   "cell_type": "markdown",
   "metadata": {},
   "source": [
    "## 2. Example - Basic syntax<a id = '2'></a>\n",
    "[Back to contents](#cont)"
   ]
  },
  {
   "cell_type": "markdown",
   "metadata": {},
   "source": [
    "<b>Notice the key feautres:</b>\n",
    "- different types of comment\n",
    "- string variables vs integers / numeric\n",
    "- use of keywords (e.g. <code>print</code>) and operators (e.g. <code>=</code>)\n",
    "\n",
    "N.B. the result of adding strings is different than adding integers."
   ]
  },
  {
   "cell_type": "code",
   "execution_count": null,
   "metadata": {},
   "outputs": [],
   "source": [
    "# define a string variable\n",
    "a_string = '1'\n",
    "# add two strings together and print them\n",
    "print(a_string + a_string)"
   ]
  },
  {
   "cell_type": "code",
   "execution_count": null,
   "metadata": {},
   "outputs": [],
   "source": [
    "'''define a string variable\n",
    "add two strings together\n",
    "and print them'''\n",
    "\n",
    "an_int = 1\n",
    "print(an_int + an_int)"
   ]
  },
  {
   "cell_type": "markdown",
   "metadata": {},
   "source": [
    "## 3. Example - Script Structure <a id = '3'></a>\n",
    "[Back to contents](#cont)"
   ]
  },
  {
   "cell_type": "markdown",
   "metadata": {},
   "source": [
    "<b>Read the below and feel free to modify.</b> <br>\n",
    "N.B. the below has additional comments to explain - normally you wouldn't use this many."
   ]
  },
  {
   "cell_type": "code",
   "execution_count": null,
   "metadata": {},
   "outputs": [],
   "source": [
    "# -*- coding: utf-8 -*-\n",
    "\"\"\"\n",
    "Created on Mon Sep  7 16:29:43 2020\n",
    "\n",
    "@author: jasonboyle\n",
    "\"\"\"\n",
    "# script header above - not required but often auto-generated, notice triple quotes\n",
    "\n",
    "# import modules required\n",
    "import math\n",
    "\n",
    "# define any user-defined functions here:\n",
    "\n",
    "# def keyword introduces function\n",
    "def my_function(): # function arguments are enclosed in brackets (no arguments here)\n",
    "    '''function to print a pre-defined string'''\n",
    "    # notice colon above, and notice that the line below the colon is indented\n",
    "    # this function just prints a pre-defined string\n",
    "    print('This is a function!')\n",
    "\n",
    "# define another function that takes an integer argument    \n",
    "def pow_2(an_int: int):\n",
    "    # an_int is defined with local scope\n",
    "    '''function to raise to power 2'''\n",
    "    # do a simple calculation squaring the integer\n",
    "    result_int = math.pow(an_int,2) # note that math.pow takes two arguments (base and exponent) separated by ,\n",
    "    # note that this calculation can be performed as an_int**2 -it's the same\n",
    "    \n",
    "    # return the result of the calculation\n",
    "    return result_int\n",
    "\n",
    "\n",
    "# call the basic function to print our message\n",
    "my_function()\n",
    "\n",
    "\n",
    "# define the value of an integer - play around with this value to see what happens\n",
    "my_int = 6 \n",
    "\n",
    "# do a logical test\n",
    "if my_int >= 5: #>= is greater than or equal to\n",
    "    function_result = pow_2(my_int)\n",
    "    print('Function result is: ', function_result) #notice print can take multiple arguments separated by ,\n",
    "    \n",
    "else:\n",
    "    print('Integer is less than 5 - function not called')\n",
    "    \n",
    "\n",
    "help(print)\n",
    "help(pow_2)"
   ]
  },
  {
   "cell_type": "markdown",
   "metadata": {},
   "source": [
    "The script is repeated here with minimal comments - it may be easier to see what's happening"
   ]
  },
  {
   "cell_type": "code",
   "execution_count": null,
   "metadata": {},
   "outputs": [],
   "source": [
    "# -*- coding: utf-8 -*-\n",
    "\"\"\"\n",
    "Created on Mon Sep  7 16:29:43 2020\n",
    "\n",
    "@author: jasonboyle\n",
    "\"\"\"\n",
    "\n",
    "# import required modules\n",
    "import math\n",
    "\n",
    "# define functions\n",
    "def my_function():\n",
    "    print('This is a function!')\n",
    "\n",
    "def pow_2(an_int: int):\n",
    "    result_int = math.pow(an_int,2)\n",
    "    return result_int\n",
    "\n",
    "# call function and set int variable\n",
    "my_function()\n",
    "my_int = 6 \n",
    "\n",
    "# do logical test for my_int more than 5 - calling pow_2 if succesful\n",
    "if my_int >= 5:\n",
    "    function_result = pow_2(my_int)\n",
    "    print('Function result is: ', function_result)\n",
    "    \n",
    "else:\n",
    "    print('Integer is less than 5 - function not called')\n",
    "    \n",
    "\n"
   ]
  },
  {
   "cell_type": "markdown",
   "metadata": {},
   "source": [
    "## 4. Example - the <code>for</code> loop <a id = '4'></a>\n",
    "[Back to contents](#cont)"
   ]
  },
  {
   "cell_type": "markdown",
   "metadata": {},
   "source": [
    "Using <code>range()</code>"
   ]
  },
  {
   "cell_type": "code",
   "execution_count": null,
   "metadata": {},
   "outputs": [],
   "source": [
    "for i in range(10):\n",
    "    print(i, 'Hello world!')"
   ]
  },
  {
   "cell_type": "markdown",
   "metadata": {},
   "source": [
    "<b>NB</b> - indexing in Python starts from 0. The first element is indexed as 0."
   ]
  },
  {
   "cell_type": "markdown",
   "metadata": {},
   "source": [
    "Iterating with a <code>for</code> loop"
   ]
  },
  {
   "cell_type": "code",
   "execution_count": null,
   "metadata": {},
   "outputs": [],
   "source": [
    "a_list = ['Sarah','Aqib','Jane','Tom']\n",
    "\n",
    "for j in a_list:\n",
    "    print(j)"
   ]
  },
  {
   "cell_type": "markdown",
   "metadata": {},
   "source": [
    "With <code>enumerate</code>"
   ]
  },
  {
   "cell_type": "code",
   "execution_count": null,
   "metadata": {},
   "outputs": [],
   "source": [
    "for i, name in enumerate(a_list):\n",
    "    print(i, name)"
   ]
  },
  {
   "cell_type": "markdown",
   "metadata": {},
   "source": [
    "Unpacking the <code>tuple</code>"
   ]
  },
  {
   "cell_type": "code",
   "execution_count": null,
   "metadata": {},
   "outputs": [],
   "source": [
    "for a_tuple in enumerate(a_list):\n",
    "    i, name = a_tuple # using two variables for a two value tuple automatically unpacks\n",
    "    print(i,name)"
   ]
  },
  {
   "cell_type": "markdown",
   "metadata": {},
   "source": [
    "Unpacking the <code>tuple</code>"
   ]
  },
  {
   "cell_type": "code",
   "execution_count": null,
   "metadata": {},
   "outputs": [],
   "source": [
    "for a_tuple in enumerate(a_list):\n",
    "    print((*a_tuple)) # manually unpack"
   ]
  },
  {
   "cell_type": "code",
   "execution_count": null,
   "metadata": {},
   "outputs": [],
   "source": []
  },
  {
   "cell_type": "markdown",
   "metadata": {},
   "source": [
    "## 5. Exercise - My First Script <a id ='5'></a>\n",
    "[Back to contents](#cont)"
   ]
  },
  {
   "cell_type": "markdown",
   "metadata": {},
   "source": [
    "\n",
    "<b>Write a script which does the following:</b>\n",
    "- Stores 2 variables (one numeric, one string)\n",
    "- Tests two logical conditions on the numeric variable\n",
    "- Prints the string if logical conditions are met\n",
    "\n",
    "Remember to use <code>if condition is true:</code>… and that <code>:</code> should be followed by an indent on the next line"
   ]
  },
  {
   "cell_type": "code",
   "execution_count": null,
   "metadata": {},
   "outputs": [],
   "source": [
    "# Enter your script here\n"
   ]
  },
  {
   "cell_type": "markdown",
   "metadata": {},
   "source": [
    "<b>Answer:</b>"
   ]
  },
  {
   "cell_type": "code",
   "execution_count": null,
   "metadata": {},
   "outputs": [],
   "source": [
    "my_string = 'Success!'\n",
    "my_int = 8\n",
    "my_float = 2.75\n",
    "\n",
    "# test if integer is a factor of 2 and float is greater than or equal to 2.5\n",
    "if my_int%2 == 0 and my_float >=2.5:\n",
    "    print(my_string)\n",
    "\n",
    "else:\n",
    "    print(\"Criteria not met\")\n",
    "    \n"
   ]
  },
  {
   "cell_type": "markdown",
   "metadata": {},
   "source": [
    "<b>Alternative Answer:</b>"
   ]
  },
  {
   "cell_type": "code",
   "execution_count": null,
   "metadata": {},
   "outputs": [],
   "source": [
    "my_string = 'Success!'\n",
    "my_int = 8\n",
    "my_float = 2.75\n",
    "\n",
    "# test if integer is a factor of 2\n",
    "if my_int%2 == 0:\n",
    "     # test if float is greater than or equal to 2.5\n",
    "    if my_float >=2.5:\n",
    "        print(my_string)\n",
    "else:\n",
    "    print(\"Criteria not met\")"
   ]
  },
  {
   "cell_type": "markdown",
   "metadata": {},
   "source": [
    "The second method uses nested <code>if</code> <code>else</code> blocks - this can be useful if you have more complicated logic flow and need to do something different at each logical step.\n",
    "\n",
    "In this case - we don't care if one of the conditions is met - only if both are. So the first answer is better as it's more succinct and readable."
   ]
  },
  {
   "cell_type": "markdown",
   "metadata": {},
   "source": [
    "## 6. Example - key built-in functions<a id= '6'></a>\n",
    "[Back to contents](#cont)"
   ]
  },
  {
   "cell_type": "markdown",
   "metadata": {},
   "source": [
    "<code>print()</code>  - print to screen either a direct value or the value of a variable"
   ]
  },
  {
   "cell_type": "code",
   "execution_count": null,
   "metadata": {},
   "outputs": [],
   "source": [
    "print('Hello World!')\n",
    "my_var = 'a_long_string'\n",
    "print(my_var)"
   ]
  },
  {
   "cell_type": "markdown",
   "metadata": {},
   "source": [
    "String formatting with <code>%</code> - this acts like a placeholder with optional format strings"
   ]
  },
  {
   "cell_type": "code",
   "execution_count": null,
   "metadata": {},
   "outputs": [],
   "source": [
    "an_int = 100\n",
    "a_float = 445.68868\n",
    "\n",
    "print('Here is an integer %i' %an_int)\n",
    "print('Here is a float %f' %a_float)\n",
    "print('Here are two presentations of the same float %4.3f   %3.0f' %(a_float,a_float))"
   ]
  },
  {
   "cell_type": "markdown",
   "metadata": {},
   "source": [
    "<code>max()</code> <code>min()</code>  - max / min of multiple values"
   ]
  },
  {
   "cell_type": "code",
   "execution_count": null,
   "metadata": {
    "scrolled": true
   },
   "outputs": [],
   "source": [
    "max([0,3,5,2])"
   ]
  },
  {
   "cell_type": "code",
   "execution_count": null,
   "metadata": {},
   "outputs": [],
   "source": [
    "min([0,3,5,2])"
   ]
  },
  {
   "cell_type": "code",
   "execution_count": null,
   "metadata": {},
   "outputs": [],
   "source": [
    "min(['aa','b'])"
   ]
  },
  {
   "cell_type": "markdown",
   "metadata": {},
   "source": [
    "<code>len()</code> - length of an object"
   ]
  },
  {
   "cell_type": "code",
   "execution_count": null,
   "metadata": {},
   "outputs": [],
   "source": [
    "len(['this','is','a','list','of','strings'])"
   ]
  },
  {
   "cell_type": "code",
   "execution_count": null,
   "metadata": {},
   "outputs": [],
   "source": [
    "len('arbitrary_string')"
   ]
  },
  {
   "cell_type": "markdown",
   "metadata": {},
   "source": [
    "<code>str()</code> <code>int()</code> <code>float()</code> etc.  - convert data types"
   ]
  },
  {
   "cell_type": "code",
   "execution_count": null,
   "metadata": {},
   "outputs": [],
   "source": [
    "str(1)"
   ]
  },
  {
   "cell_type": "code",
   "execution_count": null,
   "metadata": {
    "scrolled": true
   },
   "outputs": [],
   "source": [
    "int('1')\n"
   ]
  },
  {
   "cell_type": "code",
   "execution_count": null,
   "metadata": {
    "scrolled": true
   },
   "outputs": [],
   "source": [
    "float(1)"
   ]
  },
  {
   "cell_type": "markdown",
   "metadata": {},
   "source": [
    "## 7. Example - Indexing and slicing<a id = '7'></a>\n",
    "[Back to contents](#cont)"
   ]
  },
  {
   "cell_type": "markdown",
   "metadata": {},
   "source": [
    "Create a <code>list</code>"
   ]
  },
  {
   "cell_type": "code",
   "execution_count": 54,
   "metadata": {},
   "outputs": [],
   "source": [
    "a = ['zero','one','two','three','four','five','six','seven','eight','nine','ten']"
   ]
  },
  {
   "cell_type": "markdown",
   "metadata": {},
   "source": [
    "Zero-based indexing"
   ]
  },
  {
   "cell_type": "code",
   "execution_count": 28,
   "metadata": {
    "scrolled": true
   },
   "outputs": [
    {
     "data": {
      "text/plain": [
       "'zero'"
      ]
     },
     "execution_count": 28,
     "metadata": {},
     "output_type": "execute_result"
    }
   ],
   "source": [
    "a[3]"
   ]
  },
  {
   "cell_type": "markdown",
   "metadata": {},
   "source": [
    "Negative indices are an offset from the end of the sequence."
   ]
  },
  {
   "cell_type": "code",
   "execution_count": 30,
   "metadata": {
    "scrolled": true
   },
   "outputs": [
    {
     "data": {
      "text/plain": [
       "'eight'"
      ]
     },
     "execution_count": 30,
     "metadata": {},
     "output_type": "execute_result"
    }
   ],
   "source": [
    "a[-3]"
   ]
  },
  {
   "cell_type": "markdown",
   "metadata": {},
   "source": [
    "This is known as a slice. Note that the lower limit is inclusive, while the upper limit it exclusive."
   ]
  },
  {
   "cell_type": "code",
   "execution_count": 31,
   "metadata": {},
   "outputs": [
    {
     "data": {
      "text/plain": [
       "['three', 'four', 'five']"
      ]
     },
     "execution_count": 31,
     "metadata": {},
     "output_type": "execute_result"
    }
   ],
   "source": [
    "a[3:6]"
   ]
  },
  {
   "cell_type": "markdown",
   "metadata": {},
   "source": [
    "Yes, it's empty: you reached the end before you started!"
   ]
  },
  {
   "cell_type": "code",
   "execution_count": 38,
   "metadata": {},
   "outputs": [
    {
     "data": {
      "text/plain": [
       "['six', 'seven']"
      ]
     },
     "execution_count": 38,
     "metadata": {},
     "output_type": "execute_result"
    }
   ],
   "source": [
    "a[6:-3]"
   ]
  },
  {
   "cell_type": "markdown",
   "metadata": {},
   "source": [
    "Leaving out a limit means \"go as far as you can in that direction\"."
   ]
  },
  {
   "cell_type": "code",
   "execution_count": 39,
   "metadata": {},
   "outputs": [
    {
     "data": {
      "text/plain": [
       "['zero',\n",
       " 'one',\n",
       " 'two',\n",
       " 'three',\n",
       " 'four',\n",
       " 'five',\n",
       " 'six',\n",
       " 'seven',\n",
       " 'eight',\n",
       " 'nine',\n",
       " 'ten']"
      ]
     },
     "execution_count": 39,
     "metadata": {},
     "output_type": "execute_result"
    }
   ],
   "source": [
    "a"
   ]
  },
  {
   "cell_type": "code",
   "execution_count": 42,
   "metadata": {},
   "outputs": [
    {
     "data": {
      "text/plain": [
       "['zero', 'one', 'two', 'three', 'four', 'five']"
      ]
     },
     "execution_count": 42,
     "metadata": {},
     "output_type": "execute_result"
    }
   ],
   "source": [
    "a[:6]"
   ]
  },
  {
   "cell_type": "markdown",
   "metadata": {},
   "source": [
    "A third number gives the step size. It can be negative. "
   ]
  },
  {
   "cell_type": "code",
   "execution_count": 56,
   "metadata": {},
   "outputs": [
    {
     "data": {
      "text/plain": [
       "['ten',\n",
       " 'nine',\n",
       " 'eight',\n",
       " 'seven',\n",
       " 'six',\n",
       " 'five',\n",
       " 'four',\n",
       " 'three',\n",
       " 'two',\n",
       " 'one',\n",
       " 'zero']"
      ]
     },
     "execution_count": 56,
     "metadata": {},
     "output_type": "execute_result"
    }
   ],
   "source": [
    "a[::-1]"
   ]
  },
  {
   "cell_type": "code",
   "execution_count": 65,
   "metadata": {},
   "outputs": [
    {
     "data": {
      "text/plain": [
       "['zero', 'two', 'four']"
      ]
     },
     "execution_count": 65,
     "metadata": {},
     "output_type": "execute_result"
    }
   ],
   "source": [
    "a[0:6:2]"
   ]
  },
  {
   "cell_type": "markdown",
   "metadata": {},
   "source": [
    "## 8. Example - Iterators<a id = '8'></a>\n",
    "[Back to contents](#cont)"
   ]
  },
  {
   "cell_type": "markdown",
   "metadata": {},
   "source": [
    "Using the list from before:"
   ]
  },
  {
   "cell_type": "code",
   "execution_count": 83,
   "metadata": {},
   "outputs": [
    {
     "data": {
      "text/plain": [
       "['zero',\n",
       " 'one',\n",
       " 'two',\n",
       " 'three',\n",
       " 'four',\n",
       " 'five',\n",
       " 'six',\n",
       " 'seven',\n",
       " 'eight',\n",
       " 'nine',\n",
       " 'ten']"
      ]
     },
     "execution_count": 83,
     "metadata": {},
     "output_type": "execute_result"
    }
   ],
   "source": [
    "a = ['zero','one','two','three','four','five','six','seven','eight','nine','ten']\n",
    "a"
   ]
  },
  {
   "cell_type": "markdown",
   "metadata": {},
   "source": [
    "Using a manually constructed <code>for</code> loop - we've got the start and end points wrong so have missed 'zero' and got an error as we tried to access an element that doesn't exist."
   ]
  },
  {
   "cell_type": "code",
   "execution_count": 69,
   "metadata": {},
   "outputs": [
    {
     "name": "stdout",
     "output_type": "stream",
     "text": [
      "one\n",
      "two\n",
      "three\n",
      "four\n",
      "five\n",
      "six\n",
      "seven\n",
      "eight\n",
      "nine\n",
      "ten\n"
     ]
    },
    {
     "ename": "IndexError",
     "evalue": "list index out of range",
     "output_type": "error",
     "traceback": [
      "\u001b[1;31m---------------------------------------------------------------------------\u001b[0m",
      "\u001b[1;31mIndexError\u001b[0m                                Traceback (most recent call last)",
      "\u001b[1;32m<ipython-input-69-91d043118d55>\u001b[0m in \u001b[0;36m<module>\u001b[1;34m\u001b[0m\n\u001b[0;32m      1\u001b[0m \u001b[1;32mfor\u001b[0m \u001b[0mi\u001b[0m \u001b[1;32min\u001b[0m \u001b[0mrange\u001b[0m\u001b[1;33m(\u001b[0m\u001b[1;36m1\u001b[0m\u001b[1;33m,\u001b[0m\u001b[1;36m12\u001b[0m\u001b[1;33m)\u001b[0m\u001b[1;33m:\u001b[0m\u001b[1;33m\u001b[0m\u001b[1;33m\u001b[0m\u001b[0m\n\u001b[1;32m----> 2\u001b[1;33m     \u001b[0mprint\u001b[0m\u001b[1;33m(\u001b[0m\u001b[0ma\u001b[0m\u001b[1;33m[\u001b[0m\u001b[0mi\u001b[0m\u001b[1;33m]\u001b[0m\u001b[1;33m)\u001b[0m\u001b[1;33m\u001b[0m\u001b[1;33m\u001b[0m\u001b[0m\n\u001b[0m",
      "\u001b[1;31mIndexError\u001b[0m: list index out of range"
     ]
    }
   ],
   "source": [
    "for i in range(1,12):\n",
    "    print(a[i])"
   ]
  },
  {
   "cell_type": "markdown",
   "metadata": {},
   "source": [
    "Let's add a new value to the list"
   ]
  },
  {
   "cell_type": "code",
   "execution_count": 70,
   "metadata": {},
   "outputs": [
    {
     "data": {
      "text/plain": [
       "['zero',\n",
       " 'one',\n",
       " 'two',\n",
       " 'three',\n",
       " 'four',\n",
       " 'five',\n",
       " 'six',\n",
       " 'seven',\n",
       " 'eight',\n",
       " 'nine',\n",
       " 'ten',\n",
       " 'eleven']"
      ]
     },
     "execution_count": 70,
     "metadata": {},
     "output_type": "execute_result"
    }
   ],
   "source": [
    "a.append('eleven')\n",
    "a"
   ]
  },
  {
   "cell_type": "markdown",
   "metadata": {},
   "source": [
    "Using <code>for</code>"
   ]
  },
  {
   "cell_type": "code",
   "execution_count": 71,
   "metadata": {},
   "outputs": [
    {
     "name": "stdout",
     "output_type": "stream",
     "text": [
      "zero\n",
      "one\n",
      "two\n",
      "three\n",
      "four\n",
      "five\n",
      "six\n",
      "seven\n",
      "eight\n",
      "nine\n",
      "ten\n",
      "eleven\n"
     ]
    }
   ],
   "source": [
    "for i in a:\n",
    "    print(i)"
   ]
  },
  {
   "cell_type": "markdown",
   "metadata": {},
   "source": [
    "Using <code>enumerate</code>"
   ]
  },
  {
   "cell_type": "code",
   "execution_count": 72,
   "metadata": {},
   "outputs": [
    {
     "name": "stdout",
     "output_type": "stream",
     "text": [
      "0 zero\n",
      "1 one\n",
      "2 two\n",
      "3 three\n",
      "4 four\n",
      "5 five\n",
      "6 six\n",
      "7 seven\n",
      "8 eight\n",
      "9 nine\n",
      "10 ten\n",
      "11 eleven\n"
     ]
    }
   ],
   "source": [
    "for i, val in enumerate(a):\n",
    "    print(i, val)"
   ]
  },
  {
   "cell_type": "code",
   "execution_count": null,
   "metadata": {},
   "outputs": [],
   "source": []
  },
  {
   "cell_type": "markdown",
   "metadata": {},
   "source": [
    "With a slice to print the final 3 values from high to low"
   ]
  },
  {
   "cell_type": "code",
   "execution_count": 75,
   "metadata": {},
   "outputs": [
    {
     "name": "stdout",
     "output_type": "stream",
     "text": [
      "0 nine\n",
      "1 ten\n",
      "2 eleven\n"
     ]
    }
   ],
   "source": [
    "a = a[-1:-4:-1]\n",
    "\n",
    "for i, val in enumerate(a):\n",
    "    print(i, val)"
   ]
  },
  {
   "cell_type": "markdown",
   "metadata": {},
   "source": [
    "## 9. Example - string manipulation<a id = '9'></a>\n",
    "[Back to contents](#cont)"
   ]
  },
  {
   "cell_type": "markdown",
   "metadata": {},
   "source": [
    "Define a string (datatype <code>str</code>)"
   ]
  },
  {
   "cell_type": "code",
   "execution_count": 86,
   "metadata": {},
   "outputs": [],
   "source": [
    "my_string = 'WBS-1533271'"
   ]
  },
  {
   "cell_type": "markdown",
   "metadata": {},
   "source": [
    "Slicing works with strings too! As strings are just arrays of characters"
   ]
  },
  {
   "cell_type": "code",
   "execution_count": 77,
   "metadata": {},
   "outputs": [
    {
     "data": {
      "text/plain": [
       "'1533'"
      ]
     },
     "execution_count": 77,
     "metadata": {},
     "output_type": "execute_result"
    }
   ],
   "source": [
    "my_string[4:8]"
   ]
  },
  {
   "cell_type": "markdown",
   "metadata": {},
   "source": [
    "Stack a slice to perform two concurrent slices"
   ]
  },
  {
   "cell_type": "code",
   "execution_count": 84,
   "metadata": {},
   "outputs": [
    {
     "data": {
      "text/plain": [
       "['two', 'one', 'zero']"
      ]
     },
     "execution_count": 84,
     "metadata": {},
     "output_type": "execute_result"
    }
   ],
   "source": [
    "my_string = my_string[:6][-2:]"
   ]
  },
  {
   "cell_type": "markdown",
   "metadata": {},
   "source": [
    "Flip the string (<code>::</code> indicates the whole string, <code>-1</code> indicates in reverse)"
   ]
  },
  {
   "cell_type": "code",
   "execution_count": 87,
   "metadata": {},
   "outputs": [
    {
     "data": {
      "text/plain": [
       "'1723351-SBW'"
      ]
     },
     "execution_count": 87,
     "metadata": {},
     "output_type": "execute_result"
    }
   ],
   "source": [
    "my_string[::-1]"
   ]
  },
  {
   "cell_type": "markdown",
   "metadata": {},
   "source": [
    "Split the string based on a particular character using <code>.split()</code> - returns a <code>list</code>"
   ]
  },
  {
   "cell_type": "code",
   "execution_count": 91,
   "metadata": {},
   "outputs": [
    {
     "name": "stdout",
     "output_type": "stream",
     "text": [
      "WBS\n",
      "1533271\n"
     ]
    }
   ],
   "source": [
    "my_string.split('-')\n",
    "\n",
    "for i in my_string.split('-'):\n",
    "    print(i)"
   ]
  },
  {
   "cell_type": "markdown",
   "metadata": {},
   "source": [
    "Count occurences of a particular character using <code>.count()</code>"
   ]
  },
  {
   "cell_type": "code",
   "execution_count": 93,
   "metadata": {},
   "outputs": [
    {
     "data": {
      "text/plain": [
       "1"
      ]
     },
     "execution_count": 93,
     "metadata": {},
     "output_type": "execute_result"
    }
   ],
   "source": [
    "my_string.count('3')"
   ]
  },
  {
   "cell_type": "markdown",
   "metadata": {},
   "source": [
    "More powerful string searching with <code>regex</code>:"
   ]
  },
  {
   "cell_type": "code",
   "execution_count": 99,
   "metadata": {},
   "outputs": [
    {
     "data": {
      "text/plain": [
       "'the cat in spain'"
      ]
     },
     "execution_count": 99,
     "metadata": {},
     "output_type": "execute_result"
    }
   ],
   "source": [
    "import re\n",
    "\n",
    "string1 = 'The rain in Spain'\n",
    "string2 = 'The dog in Spain'\n",
    "string3 = 'The cat in spain'\n",
    "\n",
    "re.search('^The.*Spain$', string1) \n"
   ]
  },
  {
   "cell_type": "code",
   "execution_count": 95,
   "metadata": {},
   "outputs": [
    {
     "data": {
      "text/plain": [
       "<re.Match object; span=(0, 16), match='The dog in Spain'>"
      ]
     },
     "execution_count": 95,
     "metadata": {},
     "output_type": "execute_result"
    }
   ],
   "source": [
    "re.search('^The.*Spain$', string2) "
   ]
  },
  {
   "cell_type": "code",
   "execution_count": 100,
   "metadata": {},
   "outputs": [
    {
     "data": {
      "text/plain": [
       "<re.Match object; span=(0, 16), match='the cat in spain'>"
      ]
     },
     "execution_count": 100,
     "metadata": {},
     "output_type": "execute_result"
    }
   ],
   "source": [
    "re.search('^The.*Spain$', string3) "
   ]
  },
  {
   "cell_type": "markdown",
   "metadata": {},
   "source": [
    "## 10. Exercise - Fixing a list of strings<a id = '10'></a>\n",
    "[Back to contents](#cont)"
   ]
  },
  {
   "cell_type": "markdown",
   "metadata": {},
   "source": [
    "Starting with a <code>list</code> of strings below these have the following characteristics:\n",
    "- Each string has a person's 'spirit animal' and their full name\n",
    "- Animals are separated by '_' from the name\n",
    "- Names are in order first then last, separated by a space\n",
    "- Animals have accidentally been entered in reverse order\n",
    "- There are some blank entries which we're not interested in\n",
    "Example: John Smith's spirit animal is a dog - the string would be 'god_John Smith'\n",
    "\n",
    "<b>Requirement</b>\n",
    "1. Split the strings into three separate lists first name, last name, spirit animal\n",
    "2. The animal list should contain animals the right way round\n",
    "3. Some strings in the list are blank - get rid of these, they shouldn't show up in the final lists\n",
    "4. BONUS - get a list of animals which are 'subspecies' these have commas in the animal name: e.g. 'dog, labrador'\n",
    "5. BONUS - create a new list of strings which recombines and expands on the separate lists in a useful way: e.g. 'John Smith's spirit animal is a dog'\n",
    "6. BONUS - count the number of subspecies\n",
    "\n",
    "<b>HINT</b>\n",
    "\n",
    "- Think about how you can fix one string on its own, then how can you extend this to a list, creating multiple results lists.\n",
    "- You will need to combine what we have learned about strings, iterators, indexing, and lists"
   ]
  },
  {
   "cell_type": "code",
   "execution_count": 102,
   "metadata": {},
   "outputs": [],
   "source": [
    "string_list = ['retaw ,naageL_Cacilie Lenahan', '', 'ylzzirg ,raeB_Crichton Comelini',\n",
    "'dekcen-ylloow ,krotS_Cosetta Micallef', 'nainosduh ,tiwdoG_Dolly Dyer',\n",
    "'esuorg egas retaerG_Meaghan Abbett', 'enipucrop naciremA htroN_Banky Lukash',\n",
    "'alaoK_Gian Yarranton', 'retto revir naciremA htroN_Ariel Brett', '',\n",
    "'elgae ynwaT_Matthus Sellner', 'ooragnak decaf-kcalB_Ethel De Bernardi',\n",
    "'eulb ,kcocaeP_Paulie Reddecliffe', 'esiotrot treseD_Bastien Unwin', '',\n",
    "'gohegdeh nacirfA htuoS_Ambrosio Heamus', '', '', 'nrehtuos ,gniwpaL_Jobey Rosini',\n",
    "'yraccep deppil-etihW_Libbi Jeske', 'yballaw eligA_Arabela MacManus',\n",
    "'ekans recaR_Wilfrid Brownrigg', 'kcalb ,nawS_Delinda Broschke',\n",
    "'dedaeh-wolley ,aracaraC_Robbie Kittman', 'llibnepo ,krotS_Gaspar Butchers']\n",
    "\n",
    "# Write your solution here"
   ]
  },
  {
   "cell_type": "markdown",
   "metadata": {},
   "source": [
    "<b>Answer:</b>"
   ]
  },
  {
   "cell_type": "code",
   "execution_count": 103,
   "metadata": {
    "scrolled": true
   },
   "outputs": [
    {
     "name": "stdout",
     "output_type": "stream",
     "text": [
      "\n",
      "First names:\n",
      "['Cacilie',\n",
      " 'Crichton',\n",
      " 'Cosetta',\n",
      " 'Dolly',\n",
      " 'Meaghan',\n",
      " 'Banky',\n",
      " 'Gian',\n",
      " 'Ariel',\n",
      " 'Matthus',\n",
      " 'Ethel',\n",
      " 'Paulie',\n",
      " 'Bastien',\n",
      " 'Ambrosio',\n",
      " 'Jobey',\n",
      " 'Libbi',\n",
      " 'Arabela',\n",
      " 'Wilfrid',\n",
      " 'Delinda',\n",
      " 'Robbie',\n",
      " 'Gaspar']\n",
      "\n",
      "Last names:\n",
      "['Lenahan',\n",
      " 'Comelini',\n",
      " 'Micallef',\n",
      " 'Dyer',\n",
      " 'Abbett',\n",
      " 'Lukash',\n",
      " 'Yarranton',\n",
      " 'Brett',\n",
      " 'Sellner',\n",
      " 'De',\n",
      " 'Reddecliffe',\n",
      " 'Unwin',\n",
      " 'Heamus',\n",
      " 'Rosini',\n",
      " 'Jeske',\n",
      " 'MacManus',\n",
      " 'Brownrigg',\n",
      " 'Broschke',\n",
      " 'Kittman',\n",
      " 'Butchers']\n",
      "\n",
      "Spirit Animals:\n",
      "['Legaan, water',\n",
      " 'Bear, grizzly',\n",
      " 'Stork, woolly-necked',\n",
      " 'Godwit, hudsonian',\n",
      " 'Greater sage grouse',\n",
      " 'North American porcupine',\n",
      " 'Koala',\n",
      " 'North American river otter',\n",
      " 'Tawny eagle',\n",
      " 'Black-faced kangaroo',\n",
      " 'Peacock, blue',\n",
      " 'Desert tortoise',\n",
      " 'South African hedgehog',\n",
      " 'Lapwing, southern',\n",
      " 'White-lipped peccary',\n",
      " 'Agile wallaby',\n",
      " 'Racer snake',\n",
      " 'Swan, black',\n",
      " 'Caracara, yellow-headed',\n",
      " 'Stork, openbill']\n",
      "\n",
      "Subspecies:\n",
      "['Legaan, water',\n",
      " 'Bear, grizzly',\n",
      " 'Stork, woolly-necked',\n",
      " 'Godwit, hudsonian',\n",
      " 'Peacock, blue',\n",
      " 'Lapwing, southern',\n",
      " 'Swan, black',\n",
      " 'Caracara, yellow-headed',\n",
      " 'Stork, openbill']\n",
      "\n",
      "Number of subspecies:  9\n"
     ]
    }
   ],
   "source": [
    "# use prettyprinter to make results output more nicely\n",
    "from pprint import pprint\n",
    "\n",
    "# define empty lists \n",
    "first_name_list = []\n",
    "last_name_list = []\n",
    "animal_list = []\n",
    "subspecies_list = []\n",
    "\n",
    "for item in string_list:\n",
    "    # only interested in non empty items\n",
    "    if len(item) != 0:\n",
    "        \n",
    "        # split the string by underscore\n",
    "        item_splits = item.split('_')\n",
    "        \n",
    "        # name is first element of the split up list\n",
    "        name = item_splits[1]\n",
    "        \n",
    "        # split the name up by space\n",
    "        name_splits = name.split(' ')\n",
    "        # first name is first part of split list\n",
    "        first_name = name_splits[0]\n",
    "        # last name is second element\n",
    "        last_name = name_splits[1]\n",
    "        \n",
    "        # the reversed animal was the first part of the split up list\n",
    "        reversed_animal = item_splits[0]\n",
    "        # reverse the string        \n",
    "        animal = reversed_animal[::-1]\n",
    "        \n",
    "        # append values to respective lists\n",
    "        first_name_list.append(first_name)\n",
    "        last_name_list.append(last_name)\n",
    "        animal_list.append(animal)\n",
    "        \n",
    "        # test if the animal string contains a comma\n",
    "        if ',' in animal:\n",
    "            subspecies_list.append(animal)\n",
    "\n",
    "# print results            \n",
    "print('\\nFirst names:')            \n",
    "pprint(first_name_list)\n",
    "print('\\nLast names:')\n",
    "pprint(last_name_list)\n",
    "print('\\nSpirit Animals:')\n",
    "pprint(animal_list)\n",
    "print('\\nSubspecies:')\n",
    "pprint(subspecies_list)\n",
    "print('\\nNumber of subspecies: ', len(subspecies_list))\n",
    "        "
   ]
  },
  {
   "cell_type": "code",
   "execution_count": 112,
   "metadata": {},
   "outputs": [
    {
     "data": {
      "text/plain": [
       "'Butchers'"
      ]
     },
     "execution_count": 112,
     "metadata": {},
     "output_type": "execute_result"
    }
   ],
   "source": [
    "name_splits[1]"
   ]
  },
  {
   "cell_type": "markdown",
   "metadata": {},
   "source": [
    "## 11. Exercise - importing data with pandas<a id = '11'></a> \n",
    "[Back to contents](#cont)"
   ]
  },
  {
   "cell_type": "code",
   "execution_count": null,
   "metadata": {},
   "outputs": [],
   "source": []
  },
  {
   "cell_type": "markdown",
   "metadata": {},
   "source": [
    "<b>Requirement</b>\n",
    "1. Read in <code>.csv</code> data from the following location <code>C:\\Users\\student\\Desktop\\Python Training\\MOCK_DATA.csv</code>"
   ]
  },
  {
   "cell_type": "markdown",
   "metadata": {},
   "source": [
    "<b>Key pandas functions for import and export:</b>\n",
    "- <code>pd.read_csv(a_path)</code>\n",
    "- <code>pd.read_excel(a_path)</code>\n",
    "- <code>pd.to_csv(a_path)</code>\n",
    "- <code>pd.to_excel(a_path)</code>"
   ]
  },
  {
   "cell_type": "code",
   "execution_count": null,
   "metadata": {},
   "outputs": [],
   "source": [
    "import pandas as pd\n",
    "# your code goes here"
   ]
  },
  {
   "cell_type": "markdown",
   "metadata": {},
   "source": [
    "<b>Answer</b>"
   ]
  },
  {
   "cell_type": "code",
   "execution_count": 113,
   "metadata": {},
   "outputs": [
    {
     "data": {
      "text/html": [
       "<div>\n",
       "<style scoped>\n",
       "    .dataframe tbody tr th:only-of-type {\n",
       "        vertical-align: middle;\n",
       "    }\n",
       "\n",
       "    .dataframe tbody tr th {\n",
       "        vertical-align: top;\n",
       "    }\n",
       "\n",
       "    .dataframe thead th {\n",
       "        text-align: right;\n",
       "    }\n",
       "</style>\n",
       "<table border=\"1\" class=\"dataframe\">\n",
       "  <thead>\n",
       "    <tr style=\"text-align: right;\">\n",
       "      <th></th>\n",
       "      <th>id</th>\n",
       "      <th>first_name</th>\n",
       "      <th>last_name</th>\n",
       "      <th>email</th>\n",
       "      <th>gender</th>\n",
       "      <th>ip_address</th>\n",
       "      <th>salary</th>\n",
       "      <th>date_of_birth</th>\n",
       "    </tr>\n",
       "  </thead>\n",
       "  <tbody>\n",
       "    <tr>\n",
       "      <th>0</th>\n",
       "      <td>1</td>\n",
       "      <td>Graham</td>\n",
       "      <td>Ivanenkov</td>\n",
       "      <td>givanenkov0@uiuc.edu</td>\n",
       "      <td>Male</td>\n",
       "      <td>12.58.104.199</td>\n",
       "      <td>102778</td>\n",
       "      <td>11/06/1969</td>\n",
       "    </tr>\n",
       "    <tr>\n",
       "      <th>1</th>\n",
       "      <td>2</td>\n",
       "      <td>Karlis</td>\n",
       "      <td>Ballchin</td>\n",
       "      <td>kballchin1@alibaba.com</td>\n",
       "      <td>Male</td>\n",
       "      <td>128.63.193.159</td>\n",
       "      <td>70340</td>\n",
       "      <td>10/04/1969</td>\n",
       "    </tr>\n",
       "    <tr>\n",
       "      <th>2</th>\n",
       "      <td>3</td>\n",
       "      <td>Moria</td>\n",
       "      <td>Barber</td>\n",
       "      <td>mbarber2@oaic.gov.au</td>\n",
       "      <td>Female</td>\n",
       "      <td>175.165.231.76</td>\n",
       "      <td>28931</td>\n",
       "      <td>05/03/1950</td>\n",
       "    </tr>\n",
       "    <tr>\n",
       "      <th>3</th>\n",
       "      <td>4</td>\n",
       "      <td>Leighton</td>\n",
       "      <td>Quinnette</td>\n",
       "      <td>lquinnette3@biblegateway.com</td>\n",
       "      <td>Male</td>\n",
       "      <td>21.218.156.217</td>\n",
       "      <td>20684</td>\n",
       "      <td>11/03/1985</td>\n",
       "    </tr>\n",
       "    <tr>\n",
       "      <th>4</th>\n",
       "      <td>5</td>\n",
       "      <td>Trenton</td>\n",
       "      <td>Farmiloe</td>\n",
       "      <td>tfarmiloe4@webmd.com</td>\n",
       "      <td>Male</td>\n",
       "      <td>223.133.70.216</td>\n",
       "      <td>106946</td>\n",
       "      <td>09/12/1951</td>\n",
       "    </tr>\n",
       "    <tr>\n",
       "      <th>...</th>\n",
       "      <td>...</td>\n",
       "      <td>...</td>\n",
       "      <td>...</td>\n",
       "      <td>...</td>\n",
       "      <td>...</td>\n",
       "      <td>...</td>\n",
       "      <td>...</td>\n",
       "      <td>...</td>\n",
       "    </tr>\n",
       "    <tr>\n",
       "      <th>995</th>\n",
       "      <td>996</td>\n",
       "      <td>Innis</td>\n",
       "      <td>Lindell</td>\n",
       "      <td>ilindellrn@privacy.gov.au</td>\n",
       "      <td>Male</td>\n",
       "      <td>33.228.210.6</td>\n",
       "      <td>26023</td>\n",
       "      <td>06/02/1970</td>\n",
       "    </tr>\n",
       "    <tr>\n",
       "      <th>996</th>\n",
       "      <td>997</td>\n",
       "      <td>Edin</td>\n",
       "      <td>Gajewski</td>\n",
       "      <td>egajewskiro@privacy.gov.au</td>\n",
       "      <td>Female</td>\n",
       "      <td>7.180.8.157</td>\n",
       "      <td>18719</td>\n",
       "      <td>26/09/1971</td>\n",
       "    </tr>\n",
       "    <tr>\n",
       "      <th>997</th>\n",
       "      <td>998</td>\n",
       "      <td>Seymour</td>\n",
       "      <td>Boobier</td>\n",
       "      <td>sboobierrp@noaa.gov</td>\n",
       "      <td>Male</td>\n",
       "      <td>105.196.207.20</td>\n",
       "      <td>22734</td>\n",
       "      <td>28/07/1999</td>\n",
       "    </tr>\n",
       "    <tr>\n",
       "      <th>998</th>\n",
       "      <td>999</td>\n",
       "      <td>Gerick</td>\n",
       "      <td>Seyers</td>\n",
       "      <td>gseyersrq@unc.edu</td>\n",
       "      <td>Male</td>\n",
       "      <td>220.22.200.1</td>\n",
       "      <td>85659</td>\n",
       "      <td>10/11/1950</td>\n",
       "    </tr>\n",
       "    <tr>\n",
       "      <th>999</th>\n",
       "      <td>1000</td>\n",
       "      <td>Dulcine</td>\n",
       "      <td>Hearl</td>\n",
       "      <td>dhearlrr@tripadvisor.com</td>\n",
       "      <td>Female</td>\n",
       "      <td>21.39.192.200</td>\n",
       "      <td>85235</td>\n",
       "      <td>09/03/2000</td>\n",
       "    </tr>\n",
       "  </tbody>\n",
       "</table>\n",
       "<p>1000 rows × 8 columns</p>\n",
       "</div>"
      ],
      "text/plain": [
       "       id first_name  last_name                         email  gender  \\\n",
       "0       1     Graham  Ivanenkov          givanenkov0@uiuc.edu    Male   \n",
       "1       2     Karlis   Ballchin        kballchin1@alibaba.com    Male   \n",
       "2       3      Moria     Barber          mbarber2@oaic.gov.au  Female   \n",
       "3       4   Leighton  Quinnette  lquinnette3@biblegateway.com    Male   \n",
       "4       5    Trenton   Farmiloe          tfarmiloe4@webmd.com    Male   \n",
       "..    ...        ...        ...                           ...     ...   \n",
       "995   996      Innis    Lindell     ilindellrn@privacy.gov.au    Male   \n",
       "996   997       Edin   Gajewski    egajewskiro@privacy.gov.au  Female   \n",
       "997   998    Seymour    Boobier           sboobierrp@noaa.gov    Male   \n",
       "998   999     Gerick     Seyers             gseyersrq@unc.edu    Male   \n",
       "999  1000    Dulcine      Hearl      dhearlrr@tripadvisor.com  Female   \n",
       "\n",
       "         ip_address  salary date_of_birth  \n",
       "0     12.58.104.199  102778    11/06/1969  \n",
       "1    128.63.193.159   70340    10/04/1969  \n",
       "2    175.165.231.76   28931    05/03/1950  \n",
       "3    21.218.156.217   20684    11/03/1985  \n",
       "4    223.133.70.216  106946    09/12/1951  \n",
       "..              ...     ...           ...  \n",
       "995    33.228.210.6   26023    06/02/1970  \n",
       "996     7.180.8.157   18719    26/09/1971  \n",
       "997  105.196.207.20   22734    28/07/1999  \n",
       "998    220.22.200.1   85659    10/11/1950  \n",
       "999   21.39.192.200   85235    09/03/2000  \n",
       "\n",
       "[1000 rows x 8 columns]"
      ]
     },
     "execution_count": 113,
     "metadata": {},
     "output_type": "execute_result"
    }
   ],
   "source": [
    "import pandas as pd\n",
    "\n",
    "# define file path\n",
    "data_path = r'C:\\Users\\jasonboyle\\desktop\\Python Training\\MOCK_DATA.csv'\n",
    "\n",
    "# read in - data is now stored in a dataframe in python\n",
    "my_df = pd.read_csv(data_path)\n",
    "\n",
    "my_df"
   ]
  },
  {
   "cell_type": "markdown",
   "metadata": {},
   "source": [
    "## 12. Example - importing and exporting data with pandas<a id = '12'></a> \n",
    "[Back to contents](#cont)"
   ]
  },
  {
   "cell_type": "markdown",
   "metadata": {},
   "source": [
    "Continuing from the example DataFrame above - let's check the columns"
   ]
  },
  {
   "cell_type": "code",
   "execution_count": 133,
   "metadata": {},
   "outputs": [
    {
     "data": {
      "text/html": [
       "<div>\n",
       "<style scoped>\n",
       "    .dataframe tbody tr th:only-of-type {\n",
       "        vertical-align: middle;\n",
       "    }\n",
       "\n",
       "    .dataframe tbody tr th {\n",
       "        vertical-align: top;\n",
       "    }\n",
       "\n",
       "    .dataframe thead th {\n",
       "        text-align: right;\n",
       "    }\n",
       "</style>\n",
       "<table border=\"1\" class=\"dataframe\">\n",
       "  <thead>\n",
       "    <tr style=\"text-align: right;\">\n",
       "      <th></th>\n",
       "      <th>id</th>\n",
       "      <th>first_name</th>\n",
       "      <th>last_name</th>\n",
       "      <th>email</th>\n",
       "      <th>gender</th>\n",
       "      <th>ip_address</th>\n",
       "      <th>salary</th>\n",
       "      <th>date_of_birth</th>\n",
       "    </tr>\n",
       "  </thead>\n",
       "  <tbody>\n",
       "    <tr>\n",
       "      <th>0</th>\n",
       "      <td>1</td>\n",
       "      <td>Graham</td>\n",
       "      <td>Ivanenkov</td>\n",
       "      <td>givanenkov0@uiuc.edu</td>\n",
       "      <td>Male</td>\n",
       "      <td>12.58.104.199</td>\n",
       "      <td>102778</td>\n",
       "      <td>11/06/1969</td>\n",
       "    </tr>\n",
       "    <tr>\n",
       "      <th>1</th>\n",
       "      <td>2</td>\n",
       "      <td>Karlis</td>\n",
       "      <td>Ballchin</td>\n",
       "      <td>kballchin1@alibaba.com</td>\n",
       "      <td>Male</td>\n",
       "      <td>128.63.193.159</td>\n",
       "      <td>70340</td>\n",
       "      <td>10/04/1969</td>\n",
       "    </tr>\n",
       "    <tr>\n",
       "      <th>2</th>\n",
       "      <td>3</td>\n",
       "      <td>Moria</td>\n",
       "      <td>Barber</td>\n",
       "      <td>mbarber2@oaic.gov.au</td>\n",
       "      <td>Female</td>\n",
       "      <td>175.165.231.76</td>\n",
       "      <td>28931</td>\n",
       "      <td>05/03/1950</td>\n",
       "    </tr>\n",
       "    <tr>\n",
       "      <th>3</th>\n",
       "      <td>4</td>\n",
       "      <td>Leighton</td>\n",
       "      <td>Quinnette</td>\n",
       "      <td>lquinnette3@biblegateway.com</td>\n",
       "      <td>Male</td>\n",
       "      <td>21.218.156.217</td>\n",
       "      <td>20684</td>\n",
       "      <td>11/03/1985</td>\n",
       "    </tr>\n",
       "    <tr>\n",
       "      <th>4</th>\n",
       "      <td>5</td>\n",
       "      <td>Trenton</td>\n",
       "      <td>Farmiloe</td>\n",
       "      <td>tfarmiloe4@webmd.com</td>\n",
       "      <td>Male</td>\n",
       "      <td>223.133.70.216</td>\n",
       "      <td>106946</td>\n",
       "      <td>09/12/1951</td>\n",
       "    </tr>\n",
       "    <tr>\n",
       "      <th>...</th>\n",
       "      <td>...</td>\n",
       "      <td>...</td>\n",
       "      <td>...</td>\n",
       "      <td>...</td>\n",
       "      <td>...</td>\n",
       "      <td>...</td>\n",
       "      <td>...</td>\n",
       "      <td>...</td>\n",
       "    </tr>\n",
       "    <tr>\n",
       "      <th>995</th>\n",
       "      <td>996</td>\n",
       "      <td>Innis</td>\n",
       "      <td>Lindell</td>\n",
       "      <td>ilindellrn@privacy.gov.au</td>\n",
       "      <td>Male</td>\n",
       "      <td>33.228.210.6</td>\n",
       "      <td>26023</td>\n",
       "      <td>06/02/1970</td>\n",
       "    </tr>\n",
       "    <tr>\n",
       "      <th>996</th>\n",
       "      <td>997</td>\n",
       "      <td>Edin</td>\n",
       "      <td>Gajewski</td>\n",
       "      <td>egajewskiro@privacy.gov.au</td>\n",
       "      <td>Female</td>\n",
       "      <td>7.180.8.157</td>\n",
       "      <td>18719</td>\n",
       "      <td>26/09/1971</td>\n",
       "    </tr>\n",
       "    <tr>\n",
       "      <th>997</th>\n",
       "      <td>998</td>\n",
       "      <td>Seymour</td>\n",
       "      <td>Boobier</td>\n",
       "      <td>sboobierrp@noaa.gov</td>\n",
       "      <td>Male</td>\n",
       "      <td>105.196.207.20</td>\n",
       "      <td>22734</td>\n",
       "      <td>28/07/1999</td>\n",
       "    </tr>\n",
       "    <tr>\n",
       "      <th>998</th>\n",
       "      <td>999</td>\n",
       "      <td>Gerick</td>\n",
       "      <td>Seyers</td>\n",
       "      <td>gseyersrq@unc.edu</td>\n",
       "      <td>Male</td>\n",
       "      <td>220.22.200.1</td>\n",
       "      <td>85659</td>\n",
       "      <td>10/11/1950</td>\n",
       "    </tr>\n",
       "    <tr>\n",
       "      <th>999</th>\n",
       "      <td>1000</td>\n",
       "      <td>Dulcine</td>\n",
       "      <td>Hearl</td>\n",
       "      <td>dhearlrr@tripadvisor.com</td>\n",
       "      <td>Female</td>\n",
       "      <td>21.39.192.200</td>\n",
       "      <td>85235</td>\n",
       "      <td>09/03/2000</td>\n",
       "    </tr>\n",
       "  </tbody>\n",
       "</table>\n",
       "<p>1000 rows × 8 columns</p>\n",
       "</div>"
      ],
      "text/plain": [
       "       id first_name  last_name                         email  gender  \\\n",
       "0       1     Graham  Ivanenkov          givanenkov0@uiuc.edu    Male   \n",
       "1       2     Karlis   Ballchin        kballchin1@alibaba.com    Male   \n",
       "2       3      Moria     Barber          mbarber2@oaic.gov.au  Female   \n",
       "3       4   Leighton  Quinnette  lquinnette3@biblegateway.com    Male   \n",
       "4       5    Trenton   Farmiloe          tfarmiloe4@webmd.com    Male   \n",
       "..    ...        ...        ...                           ...     ...   \n",
       "995   996      Innis    Lindell     ilindellrn@privacy.gov.au    Male   \n",
       "996   997       Edin   Gajewski    egajewskiro@privacy.gov.au  Female   \n",
       "997   998    Seymour    Boobier           sboobierrp@noaa.gov    Male   \n",
       "998   999     Gerick     Seyers             gseyersrq@unc.edu    Male   \n",
       "999  1000    Dulcine      Hearl      dhearlrr@tripadvisor.com  Female   \n",
       "\n",
       "         ip_address  salary date_of_birth  \n",
       "0     12.58.104.199  102778    11/06/1969  \n",
       "1    128.63.193.159   70340    10/04/1969  \n",
       "2    175.165.231.76   28931    05/03/1950  \n",
       "3    21.218.156.217   20684    11/03/1985  \n",
       "4    223.133.70.216  106946    09/12/1951  \n",
       "..              ...     ...           ...  \n",
       "995    33.228.210.6   26023    06/02/1970  \n",
       "996     7.180.8.157   18719    26/09/1971  \n",
       "997  105.196.207.20   22734    28/07/1999  \n",
       "998    220.22.200.1   85659    10/11/1950  \n",
       "999   21.39.192.200   85235    09/03/2000  \n",
       "\n",
       "[1000 rows x 8 columns]"
      ]
     },
     "execution_count": 133,
     "metadata": {},
     "output_type": "execute_result"
    }
   ],
   "source": [
    "my_df = pd.read_csv(data_path)\n",
    "my_df.columns.values.tolist()\n",
    "my_df"
   ]
  },
  {
   "cell_type": "markdown",
   "metadata": {},
   "source": [
    "\n",
    "Let's do some data manipulation"
   ]
  },
  {
   "cell_type": "markdown",
   "metadata": {},
   "source": [
    "Create a new column for full name"
   ]
  },
  {
   "cell_type": "code",
   "execution_count": 137,
   "metadata": {},
   "outputs": [
    {
     "data": {
      "text/html": [
       "<div>\n",
       "<style scoped>\n",
       "    .dataframe tbody tr th:only-of-type {\n",
       "        vertical-align: middle;\n",
       "    }\n",
       "\n",
       "    .dataframe tbody tr th {\n",
       "        vertical-align: top;\n",
       "    }\n",
       "\n",
       "    .dataframe thead th {\n",
       "        text-align: right;\n",
       "    }\n",
       "</style>\n",
       "<table border=\"1\" class=\"dataframe\">\n",
       "  <thead>\n",
       "    <tr style=\"text-align: right;\">\n",
       "      <th></th>\n",
       "      <th>id</th>\n",
       "      <th>first_name</th>\n",
       "      <th>last_name</th>\n",
       "      <th>email</th>\n",
       "      <th>gender</th>\n",
       "      <th>ip_address</th>\n",
       "      <th>salary</th>\n",
       "      <th>date_of_birth</th>\n",
       "      <th>full_name</th>\n",
       "    </tr>\n",
       "  </thead>\n",
       "  <tbody>\n",
       "    <tr>\n",
       "      <th>0</th>\n",
       "      <td>1</td>\n",
       "      <td>Graham</td>\n",
       "      <td>Ivanenkov</td>\n",
       "      <td>givanenkov0@uiuc.edu</td>\n",
       "      <td>Male</td>\n",
       "      <td>12.58.104.199</td>\n",
       "      <td>102778</td>\n",
       "      <td>11/06/1969</td>\n",
       "      <td>Graham Ivanenkov</td>\n",
       "    </tr>\n",
       "    <tr>\n",
       "      <th>1</th>\n",
       "      <td>2</td>\n",
       "      <td>Karlis</td>\n",
       "      <td>Ballchin</td>\n",
       "      <td>kballchin1@alibaba.com</td>\n",
       "      <td>Male</td>\n",
       "      <td>128.63.193.159</td>\n",
       "      <td>70340</td>\n",
       "      <td>10/04/1969</td>\n",
       "      <td>Karlis Ballchin</td>\n",
       "    </tr>\n",
       "    <tr>\n",
       "      <th>2</th>\n",
       "      <td>3</td>\n",
       "      <td>Moria</td>\n",
       "      <td>Barber</td>\n",
       "      <td>mbarber2@oaic.gov.au</td>\n",
       "      <td>Female</td>\n",
       "      <td>175.165.231.76</td>\n",
       "      <td>28931</td>\n",
       "      <td>05/03/1950</td>\n",
       "      <td>Moria Barber</td>\n",
       "    </tr>\n",
       "    <tr>\n",
       "      <th>3</th>\n",
       "      <td>4</td>\n",
       "      <td>Leighton</td>\n",
       "      <td>Quinnette</td>\n",
       "      <td>lquinnette3@biblegateway.com</td>\n",
       "      <td>Male</td>\n",
       "      <td>21.218.156.217</td>\n",
       "      <td>20684</td>\n",
       "      <td>11/03/1985</td>\n",
       "      <td>Leighton Quinnette</td>\n",
       "    </tr>\n",
       "    <tr>\n",
       "      <th>4</th>\n",
       "      <td>5</td>\n",
       "      <td>Trenton</td>\n",
       "      <td>Farmiloe</td>\n",
       "      <td>tfarmiloe4@webmd.com</td>\n",
       "      <td>Male</td>\n",
       "      <td>223.133.70.216</td>\n",
       "      <td>106946</td>\n",
       "      <td>09/12/1951</td>\n",
       "      <td>Trenton Farmiloe</td>\n",
       "    </tr>\n",
       "    <tr>\n",
       "      <th>...</th>\n",
       "      <td>...</td>\n",
       "      <td>...</td>\n",
       "      <td>...</td>\n",
       "      <td>...</td>\n",
       "      <td>...</td>\n",
       "      <td>...</td>\n",
       "      <td>...</td>\n",
       "      <td>...</td>\n",
       "      <td>...</td>\n",
       "    </tr>\n",
       "    <tr>\n",
       "      <th>995</th>\n",
       "      <td>996</td>\n",
       "      <td>Innis</td>\n",
       "      <td>Lindell</td>\n",
       "      <td>ilindellrn@privacy.gov.au</td>\n",
       "      <td>Male</td>\n",
       "      <td>33.228.210.6</td>\n",
       "      <td>26023</td>\n",
       "      <td>06/02/1970</td>\n",
       "      <td>Innis Lindell</td>\n",
       "    </tr>\n",
       "    <tr>\n",
       "      <th>996</th>\n",
       "      <td>997</td>\n",
       "      <td>Edin</td>\n",
       "      <td>Gajewski</td>\n",
       "      <td>egajewskiro@privacy.gov.au</td>\n",
       "      <td>Female</td>\n",
       "      <td>7.180.8.157</td>\n",
       "      <td>18719</td>\n",
       "      <td>26/09/1971</td>\n",
       "      <td>Edin Gajewski</td>\n",
       "    </tr>\n",
       "    <tr>\n",
       "      <th>997</th>\n",
       "      <td>998</td>\n",
       "      <td>Seymour</td>\n",
       "      <td>Boobier</td>\n",
       "      <td>sboobierrp@noaa.gov</td>\n",
       "      <td>Male</td>\n",
       "      <td>105.196.207.20</td>\n",
       "      <td>22734</td>\n",
       "      <td>28/07/1999</td>\n",
       "      <td>Seymour Boobier</td>\n",
       "    </tr>\n",
       "    <tr>\n",
       "      <th>998</th>\n",
       "      <td>999</td>\n",
       "      <td>Gerick</td>\n",
       "      <td>Seyers</td>\n",
       "      <td>gseyersrq@unc.edu</td>\n",
       "      <td>Male</td>\n",
       "      <td>220.22.200.1</td>\n",
       "      <td>85659</td>\n",
       "      <td>10/11/1950</td>\n",
       "      <td>Gerick Seyers</td>\n",
       "    </tr>\n",
       "    <tr>\n",
       "      <th>999</th>\n",
       "      <td>1000</td>\n",
       "      <td>Dulcine</td>\n",
       "      <td>Hearl</td>\n",
       "      <td>dhearlrr@tripadvisor.com</td>\n",
       "      <td>Female</td>\n",
       "      <td>21.39.192.200</td>\n",
       "      <td>85235</td>\n",
       "      <td>09/03/2000</td>\n",
       "      <td>Dulcine Hearl</td>\n",
       "    </tr>\n",
       "  </tbody>\n",
       "</table>\n",
       "<p>1000 rows × 9 columns</p>\n",
       "</div>"
      ],
      "text/plain": [
       "       id first_name  last_name                         email  gender  \\\n",
       "0       1     Graham  Ivanenkov          givanenkov0@uiuc.edu    Male   \n",
       "1       2     Karlis   Ballchin        kballchin1@alibaba.com    Male   \n",
       "2       3      Moria     Barber          mbarber2@oaic.gov.au  Female   \n",
       "3       4   Leighton  Quinnette  lquinnette3@biblegateway.com    Male   \n",
       "4       5    Trenton   Farmiloe          tfarmiloe4@webmd.com    Male   \n",
       "..    ...        ...        ...                           ...     ...   \n",
       "995   996      Innis    Lindell     ilindellrn@privacy.gov.au    Male   \n",
       "996   997       Edin   Gajewski    egajewskiro@privacy.gov.au  Female   \n",
       "997   998    Seymour    Boobier           sboobierrp@noaa.gov    Male   \n",
       "998   999     Gerick     Seyers             gseyersrq@unc.edu    Male   \n",
       "999  1000    Dulcine      Hearl      dhearlrr@tripadvisor.com  Female   \n",
       "\n",
       "         ip_address  salary date_of_birth           full_name  \n",
       "0     12.58.104.199  102778    11/06/1969    Graham Ivanenkov  \n",
       "1    128.63.193.159   70340    10/04/1969     Karlis Ballchin  \n",
       "2    175.165.231.76   28931    05/03/1950        Moria Barber  \n",
       "3    21.218.156.217   20684    11/03/1985  Leighton Quinnette  \n",
       "4    223.133.70.216  106946    09/12/1951    Trenton Farmiloe  \n",
       "..              ...     ...           ...                 ...  \n",
       "995    33.228.210.6   26023    06/02/1970       Innis Lindell  \n",
       "996     7.180.8.157   18719    26/09/1971       Edin Gajewski  \n",
       "997  105.196.207.20   22734    28/07/1999     Seymour Boobier  \n",
       "998    220.22.200.1   85659    10/11/1950       Gerick Seyers  \n",
       "999   21.39.192.200   85235    09/03/2000       Dulcine Hearl  \n",
       "\n",
       "[1000 rows x 9 columns]"
      ]
     },
     "execution_count": 137,
     "metadata": {},
     "output_type": "execute_result"
    }
   ],
   "source": [
    "my_df['full_name'] = my_df['first_name'] + ' ' + my_df['last_name']\n",
    "my_df"
   ]
  },
  {
   "cell_type": "markdown",
   "metadata": {},
   "source": [
    "Get rid of the ip adress column using <code>drop</code> as it's surplus"
   ]
  },
  {
   "cell_type": "code",
   "execution_count": 149,
   "metadata": {},
   "outputs": [
    {
     "data": {
      "text/html": [
       "<div>\n",
       "<style scoped>\n",
       "    .dataframe tbody tr th:only-of-type {\n",
       "        vertical-align: middle;\n",
       "    }\n",
       "\n",
       "    .dataframe tbody tr th {\n",
       "        vertical-align: top;\n",
       "    }\n",
       "\n",
       "    .dataframe thead th {\n",
       "        text-align: right;\n",
       "    }\n",
       "</style>\n",
       "<table border=\"1\" class=\"dataframe\">\n",
       "  <thead>\n",
       "    <tr style=\"text-align: right;\">\n",
       "      <th></th>\n",
       "      <th>id</th>\n",
       "      <th>email</th>\n",
       "      <th>gender</th>\n",
       "      <th>salary</th>\n",
       "      <th>date_of_birth</th>\n",
       "      <th>full_name</th>\n",
       "    </tr>\n",
       "  </thead>\n",
       "  <tbody>\n",
       "    <tr>\n",
       "      <th>554</th>\n",
       "      <td>555</td>\n",
       "      <td>aaucottfe@ft.com</td>\n",
       "      <td>Female</td>\n",
       "      <td>14325</td>\n",
       "      <td>29/01/1962</td>\n",
       "      <td>Abbe Aucott</td>\n",
       "    </tr>\n",
       "    <tr>\n",
       "      <th>477</th>\n",
       "      <td>478</td>\n",
       "      <td>asouthwoodd9@businessinsider.com</td>\n",
       "      <td>Female</td>\n",
       "      <td>27059</td>\n",
       "      <td>24/05/1983</td>\n",
       "      <td>Abbi Southwood</td>\n",
       "    </tr>\n",
       "    <tr>\n",
       "      <th>214</th>\n",
       "      <td>215</td>\n",
       "      <td>asaenz5y@webnode.com</td>\n",
       "      <td>Male</td>\n",
       "      <td>44571</td>\n",
       "      <td>07/01/1974</td>\n",
       "      <td>Abie Saenz</td>\n",
       "    </tr>\n",
       "    <tr>\n",
       "      <th>752</th>\n",
       "      <td>753</td>\n",
       "      <td>agregoracekw@gnu.org</td>\n",
       "      <td>Male</td>\n",
       "      <td>28902</td>\n",
       "      <td>07/06/1987</td>\n",
       "      <td>Addie Gregorace</td>\n",
       "    </tr>\n",
       "    <tr>\n",
       "      <th>79</th>\n",
       "      <td>80</td>\n",
       "      <td>agaskell27@freewebs.com</td>\n",
       "      <td>Female</td>\n",
       "      <td>57393</td>\n",
       "      <td>11/10/1962</td>\n",
       "      <td>Adeline Gaskell</td>\n",
       "    </tr>\n",
       "    <tr>\n",
       "      <th>...</th>\n",
       "      <td>...</td>\n",
       "      <td>...</td>\n",
       "      <td>...</td>\n",
       "      <td>...</td>\n",
       "      <td>...</td>\n",
       "      <td>...</td>\n",
       "    </tr>\n",
       "    <tr>\n",
       "      <th>584</th>\n",
       "      <td>585</td>\n",
       "      <td>zdebruyneg8@linkedin.com</td>\n",
       "      <td>Male</td>\n",
       "      <td>45348</td>\n",
       "      <td>19/10/1999</td>\n",
       "      <td>Zachariah De Bruyne</td>\n",
       "    </tr>\n",
       "    <tr>\n",
       "      <th>620</th>\n",
       "      <td>621</td>\n",
       "      <td>zfurnivalh8@acquirethisname.com</td>\n",
       "      <td>Male</td>\n",
       "      <td>65818</td>\n",
       "      <td>16/09/1980</td>\n",
       "      <td>Zak Furnival</td>\n",
       "    </tr>\n",
       "    <tr>\n",
       "      <th>476</th>\n",
       "      <td>477</td>\n",
       "      <td>zmanchesterd8@gov.uk</td>\n",
       "      <td>Male</td>\n",
       "      <td>11353</td>\n",
       "      <td>26/07/1975</td>\n",
       "      <td>Zak Manchester</td>\n",
       "    </tr>\n",
       "    <tr>\n",
       "      <th>234</th>\n",
       "      <td>235</td>\n",
       "      <td>zrussan6i@hhs.gov</td>\n",
       "      <td>Male</td>\n",
       "      <td>73397</td>\n",
       "      <td>05/04/1975</td>\n",
       "      <td>Zelig Russan</td>\n",
       "    </tr>\n",
       "    <tr>\n",
       "      <th>825</th>\n",
       "      <td>826</td>\n",
       "      <td>zwoodermx@weibo.com</td>\n",
       "      <td>Male</td>\n",
       "      <td>29217</td>\n",
       "      <td>24/02/1989</td>\n",
       "      <td>Zelig Wooder</td>\n",
       "    </tr>\n",
       "  </tbody>\n",
       "</table>\n",
       "<p>1000 rows × 6 columns</p>\n",
       "</div>"
      ],
      "text/plain": [
       "      id                             email  gender  salary date_of_birth  \\\n",
       "554  555                  aaucottfe@ft.com  Female   14325    29/01/1962   \n",
       "477  478  asouthwoodd9@businessinsider.com  Female   27059    24/05/1983   \n",
       "214  215              asaenz5y@webnode.com    Male   44571    07/01/1974   \n",
       "752  753              agregoracekw@gnu.org    Male   28902    07/06/1987   \n",
       "79    80           agaskell27@freewebs.com  Female   57393    11/10/1962   \n",
       "..   ...                               ...     ...     ...           ...   \n",
       "584  585          zdebruyneg8@linkedin.com    Male   45348    19/10/1999   \n",
       "620  621   zfurnivalh8@acquirethisname.com    Male   65818    16/09/1980   \n",
       "476  477              zmanchesterd8@gov.uk    Male   11353    26/07/1975   \n",
       "234  235                 zrussan6i@hhs.gov    Male   73397    05/04/1975   \n",
       "825  826               zwoodermx@weibo.com    Male   29217    24/02/1989   \n",
       "\n",
       "               full_name  \n",
       "554          Abbe Aucott  \n",
       "477       Abbi Southwood  \n",
       "214           Abie Saenz  \n",
       "752      Addie Gregorace  \n",
       "79       Adeline Gaskell  \n",
       "..                   ...  \n",
       "584  Zachariah De Bruyne  \n",
       "620         Zak Furnival  \n",
       "476       Zak Manchester  \n",
       "234         Zelig Russan  \n",
       "825         Zelig Wooder  \n",
       "\n",
       "[1000 rows x 6 columns]"
      ]
     },
     "execution_count": 149,
     "metadata": {},
     "output_type": "execute_result"
    }
   ],
   "source": [
    "my_df = my_df.drop('ip_address', axis = 1)\n",
    "my_df"
   ]
  },
  {
   "cell_type": "markdown",
   "metadata": {},
   "source": [
    "Lets order the records alphabetically using <code>sort_values</code>"
   ]
  },
  {
   "cell_type": "code",
   "execution_count": 143,
   "metadata": {},
   "outputs": [
    {
     "data": {
      "text/html": [
       "<div>\n",
       "<style scoped>\n",
       "    .dataframe tbody tr th:only-of-type {\n",
       "        vertical-align: middle;\n",
       "    }\n",
       "\n",
       "    .dataframe tbody tr th {\n",
       "        vertical-align: top;\n",
       "    }\n",
       "\n",
       "    .dataframe thead th {\n",
       "        text-align: right;\n",
       "    }\n",
       "</style>\n",
       "<table border=\"1\" class=\"dataframe\">\n",
       "  <thead>\n",
       "    <tr style=\"text-align: right;\">\n",
       "      <th></th>\n",
       "      <th>id</th>\n",
       "      <th>first_name</th>\n",
       "      <th>last_name</th>\n",
       "      <th>email</th>\n",
       "      <th>gender</th>\n",
       "      <th>ip_address</th>\n",
       "      <th>salary</th>\n",
       "      <th>date_of_birth</th>\n",
       "      <th>full_name</th>\n",
       "    </tr>\n",
       "  </thead>\n",
       "  <tbody>\n",
       "    <tr>\n",
       "      <th>554</th>\n",
       "      <td>555</td>\n",
       "      <td>Abbe</td>\n",
       "      <td>Aucott</td>\n",
       "      <td>aaucottfe@ft.com</td>\n",
       "      <td>Female</td>\n",
       "      <td>194.53.202.95</td>\n",
       "      <td>14325</td>\n",
       "      <td>29/01/1962</td>\n",
       "      <td>Abbe Aucott</td>\n",
       "    </tr>\n",
       "    <tr>\n",
       "      <th>477</th>\n",
       "      <td>478</td>\n",
       "      <td>Abbi</td>\n",
       "      <td>Southwood</td>\n",
       "      <td>asouthwoodd9@businessinsider.com</td>\n",
       "      <td>Female</td>\n",
       "      <td>230.5.87.85</td>\n",
       "      <td>27059</td>\n",
       "      <td>24/05/1983</td>\n",
       "      <td>Abbi Southwood</td>\n",
       "    </tr>\n",
       "    <tr>\n",
       "      <th>214</th>\n",
       "      <td>215</td>\n",
       "      <td>Abie</td>\n",
       "      <td>Saenz</td>\n",
       "      <td>asaenz5y@webnode.com</td>\n",
       "      <td>Male</td>\n",
       "      <td>13.26.96.94</td>\n",
       "      <td>44571</td>\n",
       "      <td>07/01/1974</td>\n",
       "      <td>Abie Saenz</td>\n",
       "    </tr>\n",
       "    <tr>\n",
       "      <th>752</th>\n",
       "      <td>753</td>\n",
       "      <td>Addie</td>\n",
       "      <td>Gregorace</td>\n",
       "      <td>agregoracekw@gnu.org</td>\n",
       "      <td>Male</td>\n",
       "      <td>101.1.137.105</td>\n",
       "      <td>28902</td>\n",
       "      <td>07/06/1987</td>\n",
       "      <td>Addie Gregorace</td>\n",
       "    </tr>\n",
       "    <tr>\n",
       "      <th>79</th>\n",
       "      <td>80</td>\n",
       "      <td>Adeline</td>\n",
       "      <td>Gaskell</td>\n",
       "      <td>agaskell27@freewebs.com</td>\n",
       "      <td>Female</td>\n",
       "      <td>207.144.34.236</td>\n",
       "      <td>57393</td>\n",
       "      <td>11/10/1962</td>\n",
       "      <td>Adeline Gaskell</td>\n",
       "    </tr>\n",
       "    <tr>\n",
       "      <th>...</th>\n",
       "      <td>...</td>\n",
       "      <td>...</td>\n",
       "      <td>...</td>\n",
       "      <td>...</td>\n",
       "      <td>...</td>\n",
       "      <td>...</td>\n",
       "      <td>...</td>\n",
       "      <td>...</td>\n",
       "      <td>...</td>\n",
       "    </tr>\n",
       "    <tr>\n",
       "      <th>584</th>\n",
       "      <td>585</td>\n",
       "      <td>Zachariah</td>\n",
       "      <td>De Bruyne</td>\n",
       "      <td>zdebruyneg8@linkedin.com</td>\n",
       "      <td>Male</td>\n",
       "      <td>161.218.208.185</td>\n",
       "      <td>45348</td>\n",
       "      <td>19/10/1999</td>\n",
       "      <td>Zachariah De Bruyne</td>\n",
       "    </tr>\n",
       "    <tr>\n",
       "      <th>620</th>\n",
       "      <td>621</td>\n",
       "      <td>Zak</td>\n",
       "      <td>Furnival</td>\n",
       "      <td>zfurnivalh8@acquirethisname.com</td>\n",
       "      <td>Male</td>\n",
       "      <td>17.96.192.77</td>\n",
       "      <td>65818</td>\n",
       "      <td>16/09/1980</td>\n",
       "      <td>Zak Furnival</td>\n",
       "    </tr>\n",
       "    <tr>\n",
       "      <th>476</th>\n",
       "      <td>477</td>\n",
       "      <td>Zak</td>\n",
       "      <td>Manchester</td>\n",
       "      <td>zmanchesterd8@gov.uk</td>\n",
       "      <td>Male</td>\n",
       "      <td>156.133.99.110</td>\n",
       "      <td>11353</td>\n",
       "      <td>26/07/1975</td>\n",
       "      <td>Zak Manchester</td>\n",
       "    </tr>\n",
       "    <tr>\n",
       "      <th>234</th>\n",
       "      <td>235</td>\n",
       "      <td>Zelig</td>\n",
       "      <td>Russan</td>\n",
       "      <td>zrussan6i@hhs.gov</td>\n",
       "      <td>Male</td>\n",
       "      <td>82.173.194.38</td>\n",
       "      <td>73397</td>\n",
       "      <td>05/04/1975</td>\n",
       "      <td>Zelig Russan</td>\n",
       "    </tr>\n",
       "    <tr>\n",
       "      <th>825</th>\n",
       "      <td>826</td>\n",
       "      <td>Zelig</td>\n",
       "      <td>Wooder</td>\n",
       "      <td>zwoodermx@weibo.com</td>\n",
       "      <td>Male</td>\n",
       "      <td>222.60.135.180</td>\n",
       "      <td>29217</td>\n",
       "      <td>24/02/1989</td>\n",
       "      <td>Zelig Wooder</td>\n",
       "    </tr>\n",
       "  </tbody>\n",
       "</table>\n",
       "<p>1000 rows × 9 columns</p>\n",
       "</div>"
      ],
      "text/plain": [
       "      id first_name   last_name                             email  gender  \\\n",
       "554  555       Abbe      Aucott                  aaucottfe@ft.com  Female   \n",
       "477  478       Abbi   Southwood  asouthwoodd9@businessinsider.com  Female   \n",
       "214  215       Abie       Saenz              asaenz5y@webnode.com    Male   \n",
       "752  753      Addie   Gregorace              agregoracekw@gnu.org    Male   \n",
       "79    80    Adeline     Gaskell           agaskell27@freewebs.com  Female   \n",
       "..   ...        ...         ...                               ...     ...   \n",
       "584  585  Zachariah   De Bruyne          zdebruyneg8@linkedin.com    Male   \n",
       "620  621        Zak    Furnival   zfurnivalh8@acquirethisname.com    Male   \n",
       "476  477        Zak  Manchester              zmanchesterd8@gov.uk    Male   \n",
       "234  235      Zelig      Russan                 zrussan6i@hhs.gov    Male   \n",
       "825  826      Zelig      Wooder               zwoodermx@weibo.com    Male   \n",
       "\n",
       "          ip_address  salary date_of_birth            full_name  \n",
       "554    194.53.202.95   14325    29/01/1962          Abbe Aucott  \n",
       "477      230.5.87.85   27059    24/05/1983       Abbi Southwood  \n",
       "214      13.26.96.94   44571    07/01/1974           Abie Saenz  \n",
       "752    101.1.137.105   28902    07/06/1987      Addie Gregorace  \n",
       "79    207.144.34.236   57393    11/10/1962      Adeline Gaskell  \n",
       "..               ...     ...           ...                  ...  \n",
       "584  161.218.208.185   45348    19/10/1999  Zachariah De Bruyne  \n",
       "620     17.96.192.77   65818    16/09/1980         Zak Furnival  \n",
       "476   156.133.99.110   11353    26/07/1975       Zak Manchester  \n",
       "234    82.173.194.38   73397    05/04/1975         Zelig Russan  \n",
       "825   222.60.135.180   29217    24/02/1989         Zelig Wooder  \n",
       "\n",
       "[1000 rows x 9 columns]"
      ]
     },
     "execution_count": 143,
     "metadata": {},
     "output_type": "execute_result"
    }
   ],
   "source": [
    "my_df = my_df.sort_values('full_name', axis = 0, ascending = True)\n",
    "my_df"
   ]
  },
  {
   "cell_type": "markdown",
   "metadata": {},
   "source": [
    "Also get rid of the old name columns as we no longer need these - this time we pas a <code>list</code> of multiple columns to <code>drop</code>"
   ]
  },
  {
   "cell_type": "code",
   "execution_count": 146,
   "metadata": {},
   "outputs": [
    {
     "data": {
      "text/html": [
       "<div>\n",
       "<style scoped>\n",
       "    .dataframe tbody tr th:only-of-type {\n",
       "        vertical-align: middle;\n",
       "    }\n",
       "\n",
       "    .dataframe tbody tr th {\n",
       "        vertical-align: top;\n",
       "    }\n",
       "\n",
       "    .dataframe thead th {\n",
       "        text-align: right;\n",
       "    }\n",
       "</style>\n",
       "<table border=\"1\" class=\"dataframe\">\n",
       "  <thead>\n",
       "    <tr style=\"text-align: right;\">\n",
       "      <th></th>\n",
       "      <th>id</th>\n",
       "      <th>email</th>\n",
       "      <th>gender</th>\n",
       "      <th>ip_address</th>\n",
       "      <th>salary</th>\n",
       "      <th>date_of_birth</th>\n",
       "      <th>full_name</th>\n",
       "    </tr>\n",
       "  </thead>\n",
       "  <tbody>\n",
       "    <tr>\n",
       "      <th>554</th>\n",
       "      <td>555</td>\n",
       "      <td>aaucottfe@ft.com</td>\n",
       "      <td>Female</td>\n",
       "      <td>194.53.202.95</td>\n",
       "      <td>14325</td>\n",
       "      <td>29/01/1962</td>\n",
       "      <td>Abbe Aucott</td>\n",
       "    </tr>\n",
       "    <tr>\n",
       "      <th>477</th>\n",
       "      <td>478</td>\n",
       "      <td>asouthwoodd9@businessinsider.com</td>\n",
       "      <td>Female</td>\n",
       "      <td>230.5.87.85</td>\n",
       "      <td>27059</td>\n",
       "      <td>24/05/1983</td>\n",
       "      <td>Abbi Southwood</td>\n",
       "    </tr>\n",
       "    <tr>\n",
       "      <th>214</th>\n",
       "      <td>215</td>\n",
       "      <td>asaenz5y@webnode.com</td>\n",
       "      <td>Male</td>\n",
       "      <td>13.26.96.94</td>\n",
       "      <td>44571</td>\n",
       "      <td>07/01/1974</td>\n",
       "      <td>Abie Saenz</td>\n",
       "    </tr>\n",
       "    <tr>\n",
       "      <th>752</th>\n",
       "      <td>753</td>\n",
       "      <td>agregoracekw@gnu.org</td>\n",
       "      <td>Male</td>\n",
       "      <td>101.1.137.105</td>\n",
       "      <td>28902</td>\n",
       "      <td>07/06/1987</td>\n",
       "      <td>Addie Gregorace</td>\n",
       "    </tr>\n",
       "    <tr>\n",
       "      <th>79</th>\n",
       "      <td>80</td>\n",
       "      <td>agaskell27@freewebs.com</td>\n",
       "      <td>Female</td>\n",
       "      <td>207.144.34.236</td>\n",
       "      <td>57393</td>\n",
       "      <td>11/10/1962</td>\n",
       "      <td>Adeline Gaskell</td>\n",
       "    </tr>\n",
       "    <tr>\n",
       "      <th>...</th>\n",
       "      <td>...</td>\n",
       "      <td>...</td>\n",
       "      <td>...</td>\n",
       "      <td>...</td>\n",
       "      <td>...</td>\n",
       "      <td>...</td>\n",
       "      <td>...</td>\n",
       "    </tr>\n",
       "    <tr>\n",
       "      <th>584</th>\n",
       "      <td>585</td>\n",
       "      <td>zdebruyneg8@linkedin.com</td>\n",
       "      <td>Male</td>\n",
       "      <td>161.218.208.185</td>\n",
       "      <td>45348</td>\n",
       "      <td>19/10/1999</td>\n",
       "      <td>Zachariah De Bruyne</td>\n",
       "    </tr>\n",
       "    <tr>\n",
       "      <th>620</th>\n",
       "      <td>621</td>\n",
       "      <td>zfurnivalh8@acquirethisname.com</td>\n",
       "      <td>Male</td>\n",
       "      <td>17.96.192.77</td>\n",
       "      <td>65818</td>\n",
       "      <td>16/09/1980</td>\n",
       "      <td>Zak Furnival</td>\n",
       "    </tr>\n",
       "    <tr>\n",
       "      <th>476</th>\n",
       "      <td>477</td>\n",
       "      <td>zmanchesterd8@gov.uk</td>\n",
       "      <td>Male</td>\n",
       "      <td>156.133.99.110</td>\n",
       "      <td>11353</td>\n",
       "      <td>26/07/1975</td>\n",
       "      <td>Zak Manchester</td>\n",
       "    </tr>\n",
       "    <tr>\n",
       "      <th>234</th>\n",
       "      <td>235</td>\n",
       "      <td>zrussan6i@hhs.gov</td>\n",
       "      <td>Male</td>\n",
       "      <td>82.173.194.38</td>\n",
       "      <td>73397</td>\n",
       "      <td>05/04/1975</td>\n",
       "      <td>Zelig Russan</td>\n",
       "    </tr>\n",
       "    <tr>\n",
       "      <th>825</th>\n",
       "      <td>826</td>\n",
       "      <td>zwoodermx@weibo.com</td>\n",
       "      <td>Male</td>\n",
       "      <td>222.60.135.180</td>\n",
       "      <td>29217</td>\n",
       "      <td>24/02/1989</td>\n",
       "      <td>Zelig Wooder</td>\n",
       "    </tr>\n",
       "  </tbody>\n",
       "</table>\n",
       "<p>1000 rows × 7 columns</p>\n",
       "</div>"
      ],
      "text/plain": [
       "      id                             email  gender       ip_address  salary  \\\n",
       "554  555                  aaucottfe@ft.com  Female    194.53.202.95   14325   \n",
       "477  478  asouthwoodd9@businessinsider.com  Female      230.5.87.85   27059   \n",
       "214  215              asaenz5y@webnode.com    Male      13.26.96.94   44571   \n",
       "752  753              agregoracekw@gnu.org    Male    101.1.137.105   28902   \n",
       "79    80           agaskell27@freewebs.com  Female   207.144.34.236   57393   \n",
       "..   ...                               ...     ...              ...     ...   \n",
       "584  585          zdebruyneg8@linkedin.com    Male  161.218.208.185   45348   \n",
       "620  621   zfurnivalh8@acquirethisname.com    Male     17.96.192.77   65818   \n",
       "476  477              zmanchesterd8@gov.uk    Male   156.133.99.110   11353   \n",
       "234  235                 zrussan6i@hhs.gov    Male    82.173.194.38   73397   \n",
       "825  826               zwoodermx@weibo.com    Male   222.60.135.180   29217   \n",
       "\n",
       "    date_of_birth            full_name  \n",
       "554    29/01/1962          Abbe Aucott  \n",
       "477    24/05/1983       Abbi Southwood  \n",
       "214    07/01/1974           Abie Saenz  \n",
       "752    07/06/1987      Addie Gregorace  \n",
       "79     11/10/1962      Adeline Gaskell  \n",
       "..            ...                  ...  \n",
       "584    19/10/1999  Zachariah De Bruyne  \n",
       "620    16/09/1980         Zak Furnival  \n",
       "476    26/07/1975       Zak Manchester  \n",
       "234    05/04/1975         Zelig Russan  \n",
       "825    24/02/1989         Zelig Wooder  \n",
       "\n",
       "[1000 rows x 7 columns]"
      ]
     },
     "execution_count": 146,
     "metadata": {},
     "output_type": "execute_result"
    }
   ],
   "source": [
    "my_df = my_df.drop(['first_name','last_name'],axis = 1)\n",
    "my_df"
   ]
  },
  {
   "cell_type": "markdown",
   "metadata": {},
   "source": [
    "Get the columns using the <code>columns</code> accessor"
   ]
  },
  {
   "cell_type": "code",
   "execution_count": 151,
   "metadata": {},
   "outputs": [
    {
     "data": {
      "text/plain": [
       "Index(['id', 'email', 'gender', 'salary', 'date_of_birth', 'full_name'], dtype='object')"
      ]
     },
     "execution_count": 151,
     "metadata": {},
     "output_type": "execute_result"
    }
   ],
   "source": [
    "old_columns = my_df.columns\n",
    "old_columns"
   ]
  },
  {
   "cell_type": "markdown",
   "metadata": {},
   "source": [
    "This produces a <code>pandas</code> <code>index</code> which can be tricky to work with - let's convert to a <code>list</code> instead\n"
   ]
  },
  {
   "cell_type": "code",
   "execution_count": 152,
   "metadata": {},
   "outputs": [
    {
     "data": {
      "text/plain": [
       "['id', 'email', 'gender', 'salary', 'date_of_birth', 'full_name']"
      ]
     },
     "execution_count": 152,
     "metadata": {},
     "output_type": "execute_result"
    }
   ],
   "source": [
    "old_columns = list(old_columns.values)\n",
    "old_columns"
   ]
  },
  {
   "cell_type": "markdown",
   "metadata": {},
   "source": [
    "Now mess around with our <code>list</code> using slices to reorder it note <code>old_columns[-1]</code> is a string - so wrapping it in <code>[]</code> converts it into a list so we can add the two lists together using <code>+</code>"
   ]
  },
  {
   "cell_type": "code",
   "execution_count": 157,
   "metadata": {},
   "outputs": [
    {
     "data": {
      "text/plain": [
       "['full_name', 'id', 'email', 'gender', 'salary', 'date_of_birth']"
      ]
     },
     "execution_count": 157,
     "metadata": {},
     "output_type": "execute_result"
    }
   ],
   "source": [
    "new_columns = [old_columns[-1]] + old_columns[:-1]\n",
    "new_columns"
   ]
  },
  {
   "cell_type": "markdown",
   "metadata": {},
   "source": [
    "Now reorder the <code>DataFrame</code> columns"
   ]
  },
  {
   "cell_type": "code",
   "execution_count": 158,
   "metadata": {},
   "outputs": [
    {
     "data": {
      "text/html": [
       "<div>\n",
       "<style scoped>\n",
       "    .dataframe tbody tr th:only-of-type {\n",
       "        vertical-align: middle;\n",
       "    }\n",
       "\n",
       "    .dataframe tbody tr th {\n",
       "        vertical-align: top;\n",
       "    }\n",
       "\n",
       "    .dataframe thead th {\n",
       "        text-align: right;\n",
       "    }\n",
       "</style>\n",
       "<table border=\"1\" class=\"dataframe\">\n",
       "  <thead>\n",
       "    <tr style=\"text-align: right;\">\n",
       "      <th></th>\n",
       "      <th>full_name</th>\n",
       "      <th>id</th>\n",
       "      <th>email</th>\n",
       "      <th>gender</th>\n",
       "      <th>salary</th>\n",
       "      <th>date_of_birth</th>\n",
       "    </tr>\n",
       "  </thead>\n",
       "  <tbody>\n",
       "    <tr>\n",
       "      <th>554</th>\n",
       "      <td>Abbe Aucott</td>\n",
       "      <td>555</td>\n",
       "      <td>aaucottfe@ft.com</td>\n",
       "      <td>Female</td>\n",
       "      <td>14325</td>\n",
       "      <td>29/01/1962</td>\n",
       "    </tr>\n",
       "    <tr>\n",
       "      <th>477</th>\n",
       "      <td>Abbi Southwood</td>\n",
       "      <td>478</td>\n",
       "      <td>asouthwoodd9@businessinsider.com</td>\n",
       "      <td>Female</td>\n",
       "      <td>27059</td>\n",
       "      <td>24/05/1983</td>\n",
       "    </tr>\n",
       "    <tr>\n",
       "      <th>214</th>\n",
       "      <td>Abie Saenz</td>\n",
       "      <td>215</td>\n",
       "      <td>asaenz5y@webnode.com</td>\n",
       "      <td>Male</td>\n",
       "      <td>44571</td>\n",
       "      <td>07/01/1974</td>\n",
       "    </tr>\n",
       "    <tr>\n",
       "      <th>752</th>\n",
       "      <td>Addie Gregorace</td>\n",
       "      <td>753</td>\n",
       "      <td>agregoracekw@gnu.org</td>\n",
       "      <td>Male</td>\n",
       "      <td>28902</td>\n",
       "      <td>07/06/1987</td>\n",
       "    </tr>\n",
       "    <tr>\n",
       "      <th>79</th>\n",
       "      <td>Adeline Gaskell</td>\n",
       "      <td>80</td>\n",
       "      <td>agaskell27@freewebs.com</td>\n",
       "      <td>Female</td>\n",
       "      <td>57393</td>\n",
       "      <td>11/10/1962</td>\n",
       "    </tr>\n",
       "    <tr>\n",
       "      <th>...</th>\n",
       "      <td>...</td>\n",
       "      <td>...</td>\n",
       "      <td>...</td>\n",
       "      <td>...</td>\n",
       "      <td>...</td>\n",
       "      <td>...</td>\n",
       "    </tr>\n",
       "    <tr>\n",
       "      <th>584</th>\n",
       "      <td>Zachariah De Bruyne</td>\n",
       "      <td>585</td>\n",
       "      <td>zdebruyneg8@linkedin.com</td>\n",
       "      <td>Male</td>\n",
       "      <td>45348</td>\n",
       "      <td>19/10/1999</td>\n",
       "    </tr>\n",
       "    <tr>\n",
       "      <th>620</th>\n",
       "      <td>Zak Furnival</td>\n",
       "      <td>621</td>\n",
       "      <td>zfurnivalh8@acquirethisname.com</td>\n",
       "      <td>Male</td>\n",
       "      <td>65818</td>\n",
       "      <td>16/09/1980</td>\n",
       "    </tr>\n",
       "    <tr>\n",
       "      <th>476</th>\n",
       "      <td>Zak Manchester</td>\n",
       "      <td>477</td>\n",
       "      <td>zmanchesterd8@gov.uk</td>\n",
       "      <td>Male</td>\n",
       "      <td>11353</td>\n",
       "      <td>26/07/1975</td>\n",
       "    </tr>\n",
       "    <tr>\n",
       "      <th>234</th>\n",
       "      <td>Zelig Russan</td>\n",
       "      <td>235</td>\n",
       "      <td>zrussan6i@hhs.gov</td>\n",
       "      <td>Male</td>\n",
       "      <td>73397</td>\n",
       "      <td>05/04/1975</td>\n",
       "    </tr>\n",
       "    <tr>\n",
       "      <th>825</th>\n",
       "      <td>Zelig Wooder</td>\n",
       "      <td>826</td>\n",
       "      <td>zwoodermx@weibo.com</td>\n",
       "      <td>Male</td>\n",
       "      <td>29217</td>\n",
       "      <td>24/02/1989</td>\n",
       "    </tr>\n",
       "  </tbody>\n",
       "</table>\n",
       "<p>1000 rows × 6 columns</p>\n",
       "</div>"
      ],
      "text/plain": [
       "               full_name   id                             email  gender  \\\n",
       "554          Abbe Aucott  555                  aaucottfe@ft.com  Female   \n",
       "477       Abbi Southwood  478  asouthwoodd9@businessinsider.com  Female   \n",
       "214           Abie Saenz  215              asaenz5y@webnode.com    Male   \n",
       "752      Addie Gregorace  753              agregoracekw@gnu.org    Male   \n",
       "79       Adeline Gaskell   80           agaskell27@freewebs.com  Female   \n",
       "..                   ...  ...                               ...     ...   \n",
       "584  Zachariah De Bruyne  585          zdebruyneg8@linkedin.com    Male   \n",
       "620         Zak Furnival  621   zfurnivalh8@acquirethisname.com    Male   \n",
       "476       Zak Manchester  477              zmanchesterd8@gov.uk    Male   \n",
       "234         Zelig Russan  235                 zrussan6i@hhs.gov    Male   \n",
       "825         Zelig Wooder  826               zwoodermx@weibo.com    Male   \n",
       "\n",
       "     salary date_of_birth  \n",
       "554   14325    29/01/1962  \n",
       "477   27059    24/05/1983  \n",
       "214   44571    07/01/1974  \n",
       "752   28902    07/06/1987  \n",
       "79    57393    11/10/1962  \n",
       "..      ...           ...  \n",
       "584   45348    19/10/1999  \n",
       "620   65818    16/09/1980  \n",
       "476   11353    26/07/1975  \n",
       "234   73397    05/04/1975  \n",
       "825   29217    24/02/1989  \n",
       "\n",
       "[1000 rows x 6 columns]"
      ]
     },
     "execution_count": 158,
     "metadata": {},
     "output_type": "execute_result"
    }
   ],
   "source": [
    "my_df = my_df[new_columns]\n",
    "my_df"
   ]
  },
  {
   "cell_type": "markdown",
   "metadata": {},
   "source": [
    "If we'd used <code>my_df.columns = new_cols</code> we would have just renamed the existing columns without moving them - not what we wanted!"
   ]
  },
  {
   "cell_type": "code",
   "execution_count": 160,
   "metadata": {},
   "outputs": [
    {
     "data": {
      "text/html": [
       "<div>\n",
       "<style scoped>\n",
       "    .dataframe tbody tr th:only-of-type {\n",
       "        vertical-align: middle;\n",
       "    }\n",
       "\n",
       "    .dataframe tbody tr th {\n",
       "        vertical-align: top;\n",
       "    }\n",
       "\n",
       "    .dataframe thead th {\n",
       "        text-align: right;\n",
       "    }\n",
       "</style>\n",
       "<table border=\"1\" class=\"dataframe\">\n",
       "  <thead>\n",
       "    <tr style=\"text-align: right;\">\n",
       "      <th></th>\n",
       "      <th>full_name</th>\n",
       "      <th>id</th>\n",
       "      <th>email</th>\n",
       "      <th>gender</th>\n",
       "      <th>salary</th>\n",
       "      <th>date_of_birth</th>\n",
       "    </tr>\n",
       "  </thead>\n",
       "  <tbody>\n",
       "    <tr>\n",
       "      <th>554</th>\n",
       "      <td>Abbe Aucott</td>\n",
       "      <td>555</td>\n",
       "      <td>aaucottfe@ft.com</td>\n",
       "      <td>Female</td>\n",
       "      <td>14325</td>\n",
       "      <td>29/01/1962</td>\n",
       "    </tr>\n",
       "    <tr>\n",
       "      <th>477</th>\n",
       "      <td>Abbi Southwood</td>\n",
       "      <td>478</td>\n",
       "      <td>asouthwoodd9@businessinsider.com</td>\n",
       "      <td>Female</td>\n",
       "      <td>27059</td>\n",
       "      <td>24/05/1983</td>\n",
       "    </tr>\n",
       "    <tr>\n",
       "      <th>214</th>\n",
       "      <td>Abie Saenz</td>\n",
       "      <td>215</td>\n",
       "      <td>asaenz5y@webnode.com</td>\n",
       "      <td>Male</td>\n",
       "      <td>44571</td>\n",
       "      <td>07/01/1974</td>\n",
       "    </tr>\n",
       "    <tr>\n",
       "      <th>752</th>\n",
       "      <td>Addie Gregorace</td>\n",
       "      <td>753</td>\n",
       "      <td>agregoracekw@gnu.org</td>\n",
       "      <td>Male</td>\n",
       "      <td>28902</td>\n",
       "      <td>07/06/1987</td>\n",
       "    </tr>\n",
       "    <tr>\n",
       "      <th>79</th>\n",
       "      <td>Adeline Gaskell</td>\n",
       "      <td>80</td>\n",
       "      <td>agaskell27@freewebs.com</td>\n",
       "      <td>Female</td>\n",
       "      <td>57393</td>\n",
       "      <td>11/10/1962</td>\n",
       "    </tr>\n",
       "    <tr>\n",
       "      <th>...</th>\n",
       "      <td>...</td>\n",
       "      <td>...</td>\n",
       "      <td>...</td>\n",
       "      <td>...</td>\n",
       "      <td>...</td>\n",
       "      <td>...</td>\n",
       "    </tr>\n",
       "    <tr>\n",
       "      <th>584</th>\n",
       "      <td>Zachariah De Bruyne</td>\n",
       "      <td>585</td>\n",
       "      <td>zdebruyneg8@linkedin.com</td>\n",
       "      <td>Male</td>\n",
       "      <td>45348</td>\n",
       "      <td>19/10/1999</td>\n",
       "    </tr>\n",
       "    <tr>\n",
       "      <th>620</th>\n",
       "      <td>Zak Furnival</td>\n",
       "      <td>621</td>\n",
       "      <td>zfurnivalh8@acquirethisname.com</td>\n",
       "      <td>Male</td>\n",
       "      <td>65818</td>\n",
       "      <td>16/09/1980</td>\n",
       "    </tr>\n",
       "    <tr>\n",
       "      <th>476</th>\n",
       "      <td>Zak Manchester</td>\n",
       "      <td>477</td>\n",
       "      <td>zmanchesterd8@gov.uk</td>\n",
       "      <td>Male</td>\n",
       "      <td>11353</td>\n",
       "      <td>26/07/1975</td>\n",
       "    </tr>\n",
       "    <tr>\n",
       "      <th>234</th>\n",
       "      <td>Zelig Russan</td>\n",
       "      <td>235</td>\n",
       "      <td>zrussan6i@hhs.gov</td>\n",
       "      <td>Male</td>\n",
       "      <td>73397</td>\n",
       "      <td>05/04/1975</td>\n",
       "    </tr>\n",
       "    <tr>\n",
       "      <th>825</th>\n",
       "      <td>Zelig Wooder</td>\n",
       "      <td>826</td>\n",
       "      <td>zwoodermx@weibo.com</td>\n",
       "      <td>Male</td>\n",
       "      <td>29217</td>\n",
       "      <td>24/02/1989</td>\n",
       "    </tr>\n",
       "  </tbody>\n",
       "</table>\n",
       "<p>1000 rows × 6 columns</p>\n",
       "</div>"
      ],
      "text/plain": [
       "               full_name   id                             email  gender  \\\n",
       "554          Abbe Aucott  555                  aaucottfe@ft.com  Female   \n",
       "477       Abbi Southwood  478  asouthwoodd9@businessinsider.com  Female   \n",
       "214           Abie Saenz  215              asaenz5y@webnode.com    Male   \n",
       "752      Addie Gregorace  753              agregoracekw@gnu.org    Male   \n",
       "79       Adeline Gaskell   80           agaskell27@freewebs.com  Female   \n",
       "..                   ...  ...                               ...     ...   \n",
       "584  Zachariah De Bruyne  585          zdebruyneg8@linkedin.com    Male   \n",
       "620         Zak Furnival  621   zfurnivalh8@acquirethisname.com    Male   \n",
       "476       Zak Manchester  477              zmanchesterd8@gov.uk    Male   \n",
       "234         Zelig Russan  235                 zrussan6i@hhs.gov    Male   \n",
       "825         Zelig Wooder  826               zwoodermx@weibo.com    Male   \n",
       "\n",
       "     salary date_of_birth  \n",
       "554   14325    29/01/1962  \n",
       "477   27059    24/05/1983  \n",
       "214   44571    07/01/1974  \n",
       "752   28902    07/06/1987  \n",
       "79    57393    11/10/1962  \n",
       "..      ...           ...  \n",
       "584   45348    19/10/1999  \n",
       "620   65818    16/09/1980  \n",
       "476   11353    26/07/1975  \n",
       "234   73397    05/04/1975  \n",
       "825   29217    24/02/1989  \n",
       "\n",
       "[1000 rows x 6 columns]"
      ]
     },
     "execution_count": 160,
     "metadata": {},
     "output_type": "execute_result"
    }
   ],
   "source": [
    "#e.g. put back to the way it was\n",
    "test_df = my_df[old_columns]\n",
    "# now rename\n",
    "test_df.columns = new_columns\n",
    "test_df"
   ]
  },
  {
   "cell_type": "markdown",
   "metadata": {},
   "source": [
    "Let's filter the data for people with google email addresses only"
   ]
  },
  {
   "cell_type": "code",
   "execution_count": 170,
   "metadata": {},
   "outputs": [
    {
     "data": {
      "text/plain": [
       "pandas.core.series.Series"
      ]
     },
     "execution_count": 170,
     "metadata": {},
     "output_type": "execute_result"
    }
   ],
   "source": [
    "# get the subset of data with google email addresses (boolean mask)\n",
    "my_mask = my_df['email'].str.contains('google')\n",
    "my_mask\n",
    "my_df[my_mask]"
   ]
  },
  {
   "cell_type": "markdown",
   "metadata": {},
   "source": [
    "We can do all of the above manipulation in a few lines if we know what we're doing..."
   ]
  },
  {
   "cell_type": "code",
   "execution_count": 173,
   "metadata": {},
   "outputs": [
    {
     "data": {
      "text/html": [
       "<div>\n",
       "<style scoped>\n",
       "    .dataframe tbody tr th:only-of-type {\n",
       "        vertical-align: middle;\n",
       "    }\n",
       "\n",
       "    .dataframe tbody tr th {\n",
       "        vertical-align: top;\n",
       "    }\n",
       "\n",
       "    .dataframe thead th {\n",
       "        text-align: right;\n",
       "    }\n",
       "</style>\n",
       "<table border=\"1\" class=\"dataframe\">\n",
       "  <thead>\n",
       "    <tr style=\"text-align: right;\">\n",
       "      <th></th>\n",
       "      <th>id</th>\n",
       "      <th>email</th>\n",
       "      <th>gender</th>\n",
       "      <th>salary</th>\n",
       "      <th>date_of_birth</th>\n",
       "      <th>full_name</th>\n",
       "    </tr>\n",
       "  </thead>\n",
       "  <tbody>\n",
       "    <tr>\n",
       "      <th>534</th>\n",
       "      <td>535</td>\n",
       "      <td>amacconnaleu@google.com.hk</td>\n",
       "      <td>Female</td>\n",
       "      <td>94610</td>\n",
       "      <td>18/09/1950</td>\n",
       "      <td>Adrienne MacConnal</td>\n",
       "    </tr>\n",
       "    <tr>\n",
       "      <th>695</th>\n",
       "      <td>696</td>\n",
       "      <td>ablackhurstjb@google.com.au</td>\n",
       "      <td>Female</td>\n",
       "      <td>14482</td>\n",
       "      <td>06/10/1982</td>\n",
       "      <td>Alta Blackhurst</td>\n",
       "    </tr>\n",
       "    <tr>\n",
       "      <th>757</th>\n",
       "      <td>758</td>\n",
       "      <td>bbunnerl1@google.de</td>\n",
       "      <td>Male</td>\n",
       "      <td>58939</td>\n",
       "      <td>30/01/1993</td>\n",
       "      <td>Ber Bunner</td>\n",
       "    </tr>\n",
       "    <tr>\n",
       "      <th>888</th>\n",
       "      <td>889</td>\n",
       "      <td>cscrowsonoo@google.it</td>\n",
       "      <td>Female</td>\n",
       "      <td>107027</td>\n",
       "      <td>03/05/1998</td>\n",
       "      <td>Cam Scrowson</td>\n",
       "    </tr>\n",
       "    <tr>\n",
       "      <th>912</th>\n",
       "      <td>913</td>\n",
       "      <td>caggepc@google.com.hk</td>\n",
       "      <td>Female</td>\n",
       "      <td>76660</td>\n",
       "      <td>10/05/1964</td>\n",
       "      <td>Cassandry Agge</td>\n",
       "    </tr>\n",
       "    <tr>\n",
       "      <th>852</th>\n",
       "      <td>853</td>\n",
       "      <td>cantonomoliino@google.com.br</td>\n",
       "      <td>Female</td>\n",
       "      <td>72382</td>\n",
       "      <td>20/10/1995</td>\n",
       "      <td>Constanta Antonomolii</td>\n",
       "    </tr>\n",
       "    <tr>\n",
       "      <th>561</th>\n",
       "      <td>562</td>\n",
       "      <td>dputlandfl@google.es</td>\n",
       "      <td>Male</td>\n",
       "      <td>38509</td>\n",
       "      <td>28/02/1954</td>\n",
       "      <td>Douglass Putland</td>\n",
       "    </tr>\n",
       "    <tr>\n",
       "      <th>382</th>\n",
       "      <td>383</td>\n",
       "      <td>edowbakinam@google.ca</td>\n",
       "      <td>Female</td>\n",
       "      <td>57259</td>\n",
       "      <td>29/06/1989</td>\n",
       "      <td>Elaine Dowbakin</td>\n",
       "    </tr>\n",
       "    <tr>\n",
       "      <th>446</th>\n",
       "      <td>447</td>\n",
       "      <td>ebrazenerce@google.ca</td>\n",
       "      <td>Male</td>\n",
       "      <td>53693</td>\n",
       "      <td>17/04/1947</td>\n",
       "      <td>Eugenio Brazener</td>\n",
       "    </tr>\n",
       "    <tr>\n",
       "      <th>64</th>\n",
       "      <td>65</td>\n",
       "      <td>gslinger1s@google.com.hk</td>\n",
       "      <td>Female</td>\n",
       "      <td>59909</td>\n",
       "      <td>27/08/1953</td>\n",
       "      <td>Gabriell Slinger</td>\n",
       "    </tr>\n",
       "    <tr>\n",
       "      <th>619</th>\n",
       "      <td>620</td>\n",
       "      <td>ggorryh7@google.com.br</td>\n",
       "      <td>Male</td>\n",
       "      <td>29531</td>\n",
       "      <td>09/11/1977</td>\n",
       "      <td>Gianni Gorry</td>\n",
       "    </tr>\n",
       "    <tr>\n",
       "      <th>137</th>\n",
       "      <td>138</td>\n",
       "      <td>iantonietti3t@google.it</td>\n",
       "      <td>Female</td>\n",
       "      <td>16752</td>\n",
       "      <td>21/10/1949</td>\n",
       "      <td>Ina Antonietti</td>\n",
       "    </tr>\n",
       "    <tr>\n",
       "      <th>972</th>\n",
       "      <td>973</td>\n",
       "      <td>jtewkesburyr0@google.com.br</td>\n",
       "      <td>Male</td>\n",
       "      <td>100995</td>\n",
       "      <td>26/06/1956</td>\n",
       "      <td>Jimmie Tewkesbury</td>\n",
       "    </tr>\n",
       "    <tr>\n",
       "      <th>14</th>\n",
       "      <td>15</td>\n",
       "      <td>kbrehaulte@google.com</td>\n",
       "      <td>Female</td>\n",
       "      <td>106373</td>\n",
       "      <td>28/03/1958</td>\n",
       "      <td>Karlyn Brehault</td>\n",
       "    </tr>\n",
       "    <tr>\n",
       "      <th>257</th>\n",
       "      <td>258</td>\n",
       "      <td>kogle75@google.com.hk</td>\n",
       "      <td>Female</td>\n",
       "      <td>96742</td>\n",
       "      <td>10/04/1955</td>\n",
       "      <td>Kellen Ogle</td>\n",
       "    </tr>\n",
       "    <tr>\n",
       "      <th>217</th>\n",
       "      <td>218</td>\n",
       "      <td>lbyfield61@google.com</td>\n",
       "      <td>Female</td>\n",
       "      <td>65434</td>\n",
       "      <td>02/08/1971</td>\n",
       "      <td>Lexy Byfield</td>\n",
       "    </tr>\n",
       "    <tr>\n",
       "      <th>294</th>\n",
       "      <td>295</td>\n",
       "      <td>lleese86@google.cn</td>\n",
       "      <td>Female</td>\n",
       "      <td>38857</td>\n",
       "      <td>16/04/1966</td>\n",
       "      <td>Loren Leese</td>\n",
       "    </tr>\n",
       "    <tr>\n",
       "      <th>782</th>\n",
       "      <td>783</td>\n",
       "      <td>mbuckwelllq@google.com</td>\n",
       "      <td>Female</td>\n",
       "      <td>97938</td>\n",
       "      <td>09/05/2001</td>\n",
       "      <td>Madelon Buckwell</td>\n",
       "    </tr>\n",
       "    <tr>\n",
       "      <th>844</th>\n",
       "      <td>845</td>\n",
       "      <td>malenichevng@google.com.hk</td>\n",
       "      <td>Male</td>\n",
       "      <td>49635</td>\n",
       "      <td>07/07/2001</td>\n",
       "      <td>Mar Alenichev</td>\n",
       "    </tr>\n",
       "    <tr>\n",
       "      <th>329</th>\n",
       "      <td>330</td>\n",
       "      <td>mtedorenko95@google.pl</td>\n",
       "      <td>Female</td>\n",
       "      <td>60477</td>\n",
       "      <td>13/05/1959</td>\n",
       "      <td>Maurine Tedorenko</td>\n",
       "    </tr>\n",
       "  </tbody>\n",
       "</table>\n",
       "</div>"
      ],
      "text/plain": [
       "      id                         email  gender  salary date_of_birth  \\\n",
       "534  535    amacconnaleu@google.com.hk  Female   94610    18/09/1950   \n",
       "695  696   ablackhurstjb@google.com.au  Female   14482    06/10/1982   \n",
       "757  758           bbunnerl1@google.de    Male   58939    30/01/1993   \n",
       "888  889         cscrowsonoo@google.it  Female  107027    03/05/1998   \n",
       "912  913         caggepc@google.com.hk  Female   76660    10/05/1964   \n",
       "852  853  cantonomoliino@google.com.br  Female   72382    20/10/1995   \n",
       "561  562          dputlandfl@google.es    Male   38509    28/02/1954   \n",
       "382  383         edowbakinam@google.ca  Female   57259    29/06/1989   \n",
       "446  447         ebrazenerce@google.ca    Male   53693    17/04/1947   \n",
       "64    65      gslinger1s@google.com.hk  Female   59909    27/08/1953   \n",
       "619  620        ggorryh7@google.com.br    Male   29531    09/11/1977   \n",
       "137  138       iantonietti3t@google.it  Female   16752    21/10/1949   \n",
       "972  973   jtewkesburyr0@google.com.br    Male  100995    26/06/1956   \n",
       "14    15         kbrehaulte@google.com  Female  106373    28/03/1958   \n",
       "257  258         kogle75@google.com.hk  Female   96742    10/04/1955   \n",
       "217  218         lbyfield61@google.com  Female   65434    02/08/1971   \n",
       "294  295            lleese86@google.cn  Female   38857    16/04/1966   \n",
       "782  783        mbuckwelllq@google.com  Female   97938    09/05/2001   \n",
       "844  845    malenichevng@google.com.hk    Male   49635    07/07/2001   \n",
       "329  330        mtedorenko95@google.pl  Female   60477    13/05/1959   \n",
       "\n",
       "                 full_name  \n",
       "534     Adrienne MacConnal  \n",
       "695        Alta Blackhurst  \n",
       "757             Ber Bunner  \n",
       "888           Cam Scrowson  \n",
       "912         Cassandry Agge  \n",
       "852  Constanta Antonomolii  \n",
       "561       Douglass Putland  \n",
       "382        Elaine Dowbakin  \n",
       "446       Eugenio Brazener  \n",
       "64        Gabriell Slinger  \n",
       "619           Gianni Gorry  \n",
       "137         Ina Antonietti  \n",
       "972      Jimmie Tewkesbury  \n",
       "14         Karlyn Brehault  \n",
       "257            Kellen Ogle  \n",
       "217           Lexy Byfield  \n",
       "294            Loren Leese  \n",
       "782       Madelon Buckwell  \n",
       "844          Mar Alenichev  \n",
       "329      Maurine Tedorenko  "
      ]
     },
     "execution_count": 173,
     "metadata": {},
     "output_type": "execute_result"
    }
   ],
   "source": [
    "my_df = pd.read_csv(data_path)\n",
    "my_df['full_name'] = my_df['first_name'] + ' ' + my_df['last_name']\n",
    "my_df = my_df.drop(['ip_address','first_name','last_name'], axis = 1)\n",
    "cols = list(my_df.columns.values)\n",
    "google_df = my_df[my_df[[cols[-1]]+cols[:-1]]['email'].str.contains('google')].sort_values(by='full_name', ascending = True)\n",
    "google_df"
   ]
  },
  {
   "cell_type": "markdown",
   "metadata": {},
   "source": [
    "Finally let's put the data in a new excel file"
   ]
  },
  {
   "cell_type": "markdown",
   "metadata": {},
   "source": [
    "First let's decide on a new file name and path"
   ]
  },
  {
   "cell_type": "code",
   "execution_count": 171,
   "metadata": {},
   "outputs": [
    {
     "data": {
      "text/plain": [
       "'C:\\\\Users\\\\jasonboyle\\\\desktop\\\\Python Training\\\\MOCK_DATA_modified.xls'"
      ]
     },
     "execution_count": 171,
     "metadata": {},
     "output_type": "execute_result"
    }
   ],
   "source": [
    "import os\n",
    "# combine path with new filename\n",
    "new_path = os.path.join(os.path.dirname(data_path),'MOCK_DATA_modified.xls')\n",
    "new_path"
   ]
  },
  {
   "cell_type": "markdown",
   "metadata": {},
   "source": [
    "Or more generically for an arbitrary filename and path we could just append <code>_modified.xls</code> to whatever the source data file was called"
   ]
  },
  {
   "cell_type": "code",
   "execution_count": 176,
   "metadata": {},
   "outputs": [
    {
     "data": {
      "text/plain": [
       "'C:\\\\Users\\\\jasonboyle\\\\desktop\\\\Python Training\\\\MOCK_DATA_modified.xls'"
      ]
     },
     "execution_count": 176,
     "metadata": {},
     "output_type": "execute_result"
    }
   ],
   "source": [
    "head, tail = os.path.split(data_path)\n",
    "new_path = os.path.join(head, os.path.splitext(tail)[0] + '_modified.xls')  \n",
    "new_path"
   ]
  },
  {
   "cell_type": "markdown",
   "metadata": {},
   "source": [
    "Output to an Excel file"
   ]
  },
  {
   "cell_type": "code",
   "execution_count": 174,
   "metadata": {},
   "outputs": [
    {
     "name": "stdout",
     "output_type": "stream",
     "text": [
      "Modified file outputted to C:\\Users\\jasonboyle\\desktop\\Python Training\\MOCK_DATA_modified.xls\n"
     ]
    }
   ],
   "source": [
    "google_df.to_excel(new_path, index = False)\n",
    "print('Modified file outputted to %s' %new_path)"
   ]
  },
  {
   "cell_type": "markdown",
   "metadata": {},
   "source": [
    "Load it back just to check"
   ]
  },
  {
   "cell_type": "code",
   "execution_count": 177,
   "metadata": {
    "scrolled": true
   },
   "outputs": [
    {
     "data": {
      "text/html": [
       "<div>\n",
       "<style scoped>\n",
       "    .dataframe tbody tr th:only-of-type {\n",
       "        vertical-align: middle;\n",
       "    }\n",
       "\n",
       "    .dataframe tbody tr th {\n",
       "        vertical-align: top;\n",
       "    }\n",
       "\n",
       "    .dataframe thead th {\n",
       "        text-align: right;\n",
       "    }\n",
       "</style>\n",
       "<table border=\"1\" class=\"dataframe\">\n",
       "  <thead>\n",
       "    <tr style=\"text-align: right;\">\n",
       "      <th></th>\n",
       "      <th>id</th>\n",
       "      <th>email</th>\n",
       "      <th>gender</th>\n",
       "      <th>salary</th>\n",
       "      <th>date_of_birth</th>\n",
       "      <th>full_name</th>\n",
       "    </tr>\n",
       "  </thead>\n",
       "  <tbody>\n",
       "    <tr>\n",
       "      <th>0</th>\n",
       "      <td>535</td>\n",
       "      <td>amacconnaleu@google.com.hk</td>\n",
       "      <td>Female</td>\n",
       "      <td>94610</td>\n",
       "      <td>18/09/1950</td>\n",
       "      <td>Adrienne MacConnal</td>\n",
       "    </tr>\n",
       "    <tr>\n",
       "      <th>1</th>\n",
       "      <td>696</td>\n",
       "      <td>ablackhurstjb@google.com.au</td>\n",
       "      <td>Female</td>\n",
       "      <td>14482</td>\n",
       "      <td>06/10/1982</td>\n",
       "      <td>Alta Blackhurst</td>\n",
       "    </tr>\n",
       "    <tr>\n",
       "      <th>2</th>\n",
       "      <td>758</td>\n",
       "      <td>bbunnerl1@google.de</td>\n",
       "      <td>Male</td>\n",
       "      <td>58939</td>\n",
       "      <td>30/01/1993</td>\n",
       "      <td>Ber Bunner</td>\n",
       "    </tr>\n",
       "    <tr>\n",
       "      <th>3</th>\n",
       "      <td>889</td>\n",
       "      <td>cscrowsonoo@google.it</td>\n",
       "      <td>Female</td>\n",
       "      <td>107027</td>\n",
       "      <td>03/05/1998</td>\n",
       "      <td>Cam Scrowson</td>\n",
       "    </tr>\n",
       "    <tr>\n",
       "      <th>4</th>\n",
       "      <td>913</td>\n",
       "      <td>caggepc@google.com.hk</td>\n",
       "      <td>Female</td>\n",
       "      <td>76660</td>\n",
       "      <td>10/05/1964</td>\n",
       "      <td>Cassandry Agge</td>\n",
       "    </tr>\n",
       "    <tr>\n",
       "      <th>5</th>\n",
       "      <td>853</td>\n",
       "      <td>cantonomoliino@google.com.br</td>\n",
       "      <td>Female</td>\n",
       "      <td>72382</td>\n",
       "      <td>20/10/1995</td>\n",
       "      <td>Constanta Antonomolii</td>\n",
       "    </tr>\n",
       "    <tr>\n",
       "      <th>6</th>\n",
       "      <td>562</td>\n",
       "      <td>dputlandfl@google.es</td>\n",
       "      <td>Male</td>\n",
       "      <td>38509</td>\n",
       "      <td>28/02/1954</td>\n",
       "      <td>Douglass Putland</td>\n",
       "    </tr>\n",
       "    <tr>\n",
       "      <th>7</th>\n",
       "      <td>383</td>\n",
       "      <td>edowbakinam@google.ca</td>\n",
       "      <td>Female</td>\n",
       "      <td>57259</td>\n",
       "      <td>29/06/1989</td>\n",
       "      <td>Elaine Dowbakin</td>\n",
       "    </tr>\n",
       "    <tr>\n",
       "      <th>8</th>\n",
       "      <td>447</td>\n",
       "      <td>ebrazenerce@google.ca</td>\n",
       "      <td>Male</td>\n",
       "      <td>53693</td>\n",
       "      <td>17/04/1947</td>\n",
       "      <td>Eugenio Brazener</td>\n",
       "    </tr>\n",
       "    <tr>\n",
       "      <th>9</th>\n",
       "      <td>65</td>\n",
       "      <td>gslinger1s@google.com.hk</td>\n",
       "      <td>Female</td>\n",
       "      <td>59909</td>\n",
       "      <td>27/08/1953</td>\n",
       "      <td>Gabriell Slinger</td>\n",
       "    </tr>\n",
       "    <tr>\n",
       "      <th>10</th>\n",
       "      <td>620</td>\n",
       "      <td>ggorryh7@google.com.br</td>\n",
       "      <td>Male</td>\n",
       "      <td>29531</td>\n",
       "      <td>09/11/1977</td>\n",
       "      <td>Gianni Gorry</td>\n",
       "    </tr>\n",
       "    <tr>\n",
       "      <th>11</th>\n",
       "      <td>138</td>\n",
       "      <td>iantonietti3t@google.it</td>\n",
       "      <td>Female</td>\n",
       "      <td>16752</td>\n",
       "      <td>21/10/1949</td>\n",
       "      <td>Ina Antonietti</td>\n",
       "    </tr>\n",
       "    <tr>\n",
       "      <th>12</th>\n",
       "      <td>973</td>\n",
       "      <td>jtewkesburyr0@google.com.br</td>\n",
       "      <td>Male</td>\n",
       "      <td>100995</td>\n",
       "      <td>26/06/1956</td>\n",
       "      <td>Jimmie Tewkesbury</td>\n",
       "    </tr>\n",
       "    <tr>\n",
       "      <th>13</th>\n",
       "      <td>15</td>\n",
       "      <td>kbrehaulte@google.com</td>\n",
       "      <td>Female</td>\n",
       "      <td>106373</td>\n",
       "      <td>28/03/1958</td>\n",
       "      <td>Karlyn Brehault</td>\n",
       "    </tr>\n",
       "    <tr>\n",
       "      <th>14</th>\n",
       "      <td>258</td>\n",
       "      <td>kogle75@google.com.hk</td>\n",
       "      <td>Female</td>\n",
       "      <td>96742</td>\n",
       "      <td>10/04/1955</td>\n",
       "      <td>Kellen Ogle</td>\n",
       "    </tr>\n",
       "    <tr>\n",
       "      <th>15</th>\n",
       "      <td>218</td>\n",
       "      <td>lbyfield61@google.com</td>\n",
       "      <td>Female</td>\n",
       "      <td>65434</td>\n",
       "      <td>02/08/1971</td>\n",
       "      <td>Lexy Byfield</td>\n",
       "    </tr>\n",
       "    <tr>\n",
       "      <th>16</th>\n",
       "      <td>295</td>\n",
       "      <td>lleese86@google.cn</td>\n",
       "      <td>Female</td>\n",
       "      <td>38857</td>\n",
       "      <td>16/04/1966</td>\n",
       "      <td>Loren Leese</td>\n",
       "    </tr>\n",
       "    <tr>\n",
       "      <th>17</th>\n",
       "      <td>783</td>\n",
       "      <td>mbuckwelllq@google.com</td>\n",
       "      <td>Female</td>\n",
       "      <td>97938</td>\n",
       "      <td>09/05/2001</td>\n",
       "      <td>Madelon Buckwell</td>\n",
       "    </tr>\n",
       "    <tr>\n",
       "      <th>18</th>\n",
       "      <td>845</td>\n",
       "      <td>malenichevng@google.com.hk</td>\n",
       "      <td>Male</td>\n",
       "      <td>49635</td>\n",
       "      <td>07/07/2001</td>\n",
       "      <td>Mar Alenichev</td>\n",
       "    </tr>\n",
       "    <tr>\n",
       "      <th>19</th>\n",
       "      <td>330</td>\n",
       "      <td>mtedorenko95@google.pl</td>\n",
       "      <td>Female</td>\n",
       "      <td>60477</td>\n",
       "      <td>13/05/1959</td>\n",
       "      <td>Maurine Tedorenko</td>\n",
       "    </tr>\n",
       "  </tbody>\n",
       "</table>\n",
       "</div>"
      ],
      "text/plain": [
       "     id                         email  gender  salary date_of_birth  \\\n",
       "0   535    amacconnaleu@google.com.hk  Female   94610    18/09/1950   \n",
       "1   696   ablackhurstjb@google.com.au  Female   14482    06/10/1982   \n",
       "2   758           bbunnerl1@google.de    Male   58939    30/01/1993   \n",
       "3   889         cscrowsonoo@google.it  Female  107027    03/05/1998   \n",
       "4   913         caggepc@google.com.hk  Female   76660    10/05/1964   \n",
       "5   853  cantonomoliino@google.com.br  Female   72382    20/10/1995   \n",
       "6   562          dputlandfl@google.es    Male   38509    28/02/1954   \n",
       "7   383         edowbakinam@google.ca  Female   57259    29/06/1989   \n",
       "8   447         ebrazenerce@google.ca    Male   53693    17/04/1947   \n",
       "9    65      gslinger1s@google.com.hk  Female   59909    27/08/1953   \n",
       "10  620        ggorryh7@google.com.br    Male   29531    09/11/1977   \n",
       "11  138       iantonietti3t@google.it  Female   16752    21/10/1949   \n",
       "12  973   jtewkesburyr0@google.com.br    Male  100995    26/06/1956   \n",
       "13   15         kbrehaulte@google.com  Female  106373    28/03/1958   \n",
       "14  258         kogle75@google.com.hk  Female   96742    10/04/1955   \n",
       "15  218         lbyfield61@google.com  Female   65434    02/08/1971   \n",
       "16  295            lleese86@google.cn  Female   38857    16/04/1966   \n",
       "17  783        mbuckwelllq@google.com  Female   97938    09/05/2001   \n",
       "18  845    malenichevng@google.com.hk    Male   49635    07/07/2001   \n",
       "19  330        mtedorenko95@google.pl  Female   60477    13/05/1959   \n",
       "\n",
       "                full_name  \n",
       "0      Adrienne MacConnal  \n",
       "1         Alta Blackhurst  \n",
       "2              Ber Bunner  \n",
       "3            Cam Scrowson  \n",
       "4          Cassandry Agge  \n",
       "5   Constanta Antonomolii  \n",
       "6        Douglass Putland  \n",
       "7         Elaine Dowbakin  \n",
       "8        Eugenio Brazener  \n",
       "9        Gabriell Slinger  \n",
       "10           Gianni Gorry  \n",
       "11         Ina Antonietti  \n",
       "12      Jimmie Tewkesbury  \n",
       "13        Karlyn Brehault  \n",
       "14            Kellen Ogle  \n",
       "15           Lexy Byfield  \n",
       "16            Loren Leese  \n",
       "17       Madelon Buckwell  \n",
       "18          Mar Alenichev  \n",
       "19      Maurine Tedorenko  "
      ]
     },
     "execution_count": 177,
     "metadata": {},
     "output_type": "execute_result"
    }
   ],
   "source": [
    "pd.read_excel(new_path)"
   ]
  },
  {
   "cell_type": "markdown",
   "metadata": {},
   "source": [
    "## 13. Exercise - user defined function <a id = '13'></a>\n",
    "[Back to contents](#cont)"
   ]
  },
  {
   "cell_type": "markdown",
   "metadata": {},
   "source": [
    "Recall the code for calculating circle and sphere geometry from a radius:<br>\n",
    "<code>PI = 3.14159265\n",
    "d = 2\\*r\n",
    "c = 2\\*PI\\*r\n",
    "A = PI\\*r\\*\\*2\n",
    "V = 4\\*PI\\*r\\*\\*3/3</code>\n",
    "\n",
    "<b>Requirement</b>\n",
    "1. Create a user defined function which returns <code>d</code>,<code>c</code>,<code>A</code>,<code>V</code> as a <code>tuple</code>.\n",
    "2. BONUS take user input for the radius by using <code>r = input()</code>\n",
    "\n",
    "You can use the <code>math</code> module to import PI as a constant rather than hard-coding it\n",
    "\n",
    "HINT: your code should include <code>def</code>..."
   ]
  },
  {
   "cell_type": "code",
   "execution_count": null,
   "metadata": {},
   "outputs": [],
   "source": [
    "#type your code in here using the starting points below\n",
    "\n",
    "from math import pi\n",
    "\n",
    "#define function here\n",
    "    # calculations here\n",
    "#    return # return values here\n",
    "\n",
    "# call the function here"
   ]
  },
  {
   "cell_type": "markdown",
   "metadata": {},
   "source": [
    "<b>Answer</b>"
   ]
  },
  {
   "cell_type": "code",
   "execution_count": null,
   "metadata": {},
   "outputs": [],
   "source": [
    "# clear variables for user input\n",
    "%clear\n",
    "# import pi constant\n",
    "from math import pi\n",
    "\n",
    "# define function\n",
    "def radius_geometry(r: float): #optional : float restricts the value the function can accept\n",
    "    '''takes a radius r and returns various circle / sphere geometry measures''' #docstring\n",
    "    # calculations\n",
    "    d = 2*r\n",
    "    c = 2*pi*r\n",
    "    A = pi*r**2\n",
    "    V = 4*pi*r**3/3\n",
    "    # return values\n",
    "    return d,c,A,V\n",
    "\n",
    "# loop for input to repeat until valid input received\n",
    "success_flag = False\n",
    "while success_flag != True:\n",
    "    r = input()\n",
    "    try:\n",
    "        r = float(r)\n",
    "        success_flag = True\n",
    "    except:\n",
    "        pass\n",
    "        print('Not a number - try again!')\n",
    "\n",
    "#invoke function\n",
    "radius_geometry(r)"
   ]
  },
  {
   "cell_type": "markdown",
   "metadata": {},
   "source": [
    "## 14. Example - pandas: addressing, indexing, and masks<a id = '14'></a>\n",
    "[Back to contents](#cont)"
   ]
  },
  {
   "cell_type": "markdown",
   "metadata": {},
   "source": [
    "Let's create a DataFrame from scratch using lists"
   ]
  },
  {
   "cell_type": "code",
   "execution_count": 12,
   "metadata": {},
   "outputs": [
    {
     "data": {
      "text/html": [
       "<div>\n",
       "<style scoped>\n",
       "    .dataframe tbody tr th:only-of-type {\n",
       "        vertical-align: middle;\n",
       "    }\n",
       "\n",
       "    .dataframe tbody tr th {\n",
       "        vertical-align: top;\n",
       "    }\n",
       "\n",
       "    .dataframe thead th {\n",
       "        text-align: right;\n",
       "    }\n",
       "</style>\n",
       "<table border=\"1\" class=\"dataframe\">\n",
       "  <thead>\n",
       "    <tr style=\"text-align: right;\">\n",
       "      <th></th>\n",
       "      <th>animals</th>\n",
       "      <th>counts</th>\n",
       "    </tr>\n",
       "  </thead>\n",
       "  <tbody>\n",
       "    <tr>\n",
       "      <th>0</th>\n",
       "      <td>dog</td>\n",
       "      <td>7</td>\n",
       "    </tr>\n",
       "    <tr>\n",
       "      <th>1</th>\n",
       "      <td>cat</td>\n",
       "      <td>5</td>\n",
       "    </tr>\n",
       "    <tr>\n",
       "      <th>2</th>\n",
       "      <td>rabbit</td>\n",
       "      <td>3</td>\n",
       "    </tr>\n",
       "    <tr>\n",
       "      <th>3</th>\n",
       "      <td>mouse</td>\n",
       "      <td>1</td>\n",
       "    </tr>\n",
       "    <tr>\n",
       "      <th>4</th>\n",
       "      <td>guinea pig</td>\n",
       "      <td>1</td>\n",
       "    </tr>\n",
       "    <tr>\n",
       "      <th>5</th>\n",
       "      <td>goldfish</td>\n",
       "      <td>5</td>\n",
       "    </tr>\n",
       "  </tbody>\n",
       "</table>\n",
       "</div>"
      ],
      "text/plain": [
       "      animals  counts\n",
       "0         dog       7\n",
       "1         cat       5\n",
       "2      rabbit       3\n",
       "3       mouse       1\n",
       "4  guinea pig       1\n",
       "5    goldfish       5"
      ]
     },
     "execution_count": 12,
     "metadata": {},
     "output_type": "execute_result"
    }
   ],
   "source": [
    "import pandas as pd\n",
    "\n",
    "animal_list = ['dog','cat','rabbit','mouse','guinea pig','goldfish']\n",
    "count_list = [7,5,3,1,1,5]\n",
    "\n",
    "pd.DataFrame(list(zip(animal_list,count_list)), columns = ['animals', 'counts'])"
   ]
  },
  {
   "cell_type": "markdown",
   "metadata": {},
   "source": [
    "Equivalently using a dictionary rather than lists"
   ]
  },
  {
   "cell_type": "code",
   "execution_count": 13,
   "metadata": {},
   "outputs": [
    {
     "data": {
      "text/html": [
       "<div>\n",
       "<style scoped>\n",
       "    .dataframe tbody tr th:only-of-type {\n",
       "        vertical-align: middle;\n",
       "    }\n",
       "\n",
       "    .dataframe tbody tr th {\n",
       "        vertical-align: top;\n",
       "    }\n",
       "\n",
       "    .dataframe thead th {\n",
       "        text-align: right;\n",
       "    }\n",
       "</style>\n",
       "<table border=\"1\" class=\"dataframe\">\n",
       "  <thead>\n",
       "    <tr style=\"text-align: right;\">\n",
       "      <th></th>\n",
       "      <th>animals</th>\n",
       "      <th>counts</th>\n",
       "    </tr>\n",
       "  </thead>\n",
       "  <tbody>\n",
       "    <tr>\n",
       "      <th>0</th>\n",
       "      <td>dog</td>\n",
       "      <td>7</td>\n",
       "    </tr>\n",
       "    <tr>\n",
       "      <th>1</th>\n",
       "      <td>cat</td>\n",
       "      <td>5</td>\n",
       "    </tr>\n",
       "    <tr>\n",
       "      <th>2</th>\n",
       "      <td>rabbit</td>\n",
       "      <td>3</td>\n",
       "    </tr>\n",
       "    <tr>\n",
       "      <th>3</th>\n",
       "      <td>mouse</td>\n",
       "      <td>1</td>\n",
       "    </tr>\n",
       "    <tr>\n",
       "      <th>4</th>\n",
       "      <td>guinea pig</td>\n",
       "      <td>1</td>\n",
       "    </tr>\n",
       "    <tr>\n",
       "      <th>5</th>\n",
       "      <td>goldfish</td>\n",
       "      <td>5</td>\n",
       "    </tr>\n",
       "  </tbody>\n",
       "</table>\n",
       "</div>"
      ],
      "text/plain": [
       "      animals  counts\n",
       "0         dog       7\n",
       "1         cat       5\n",
       "2      rabbit       3\n",
       "3       mouse       1\n",
       "4  guinea pig       1\n",
       "5    goldfish       5"
      ]
     },
     "execution_count": 13,
     "metadata": {},
     "output_type": "execute_result"
    }
   ],
   "source": [
    "data_dict = {'animals' : ['dog','cat','rabbit','mouse','guinea pig','goldfish'], 'counts' :[7,5,3,1,1,5]}\n",
    "df = pd.DataFrame(data_dict)\n",
    "df"
   ]
  },
  {
   "cell_type": "markdown",
   "metadata": {},
   "source": [
    "Note that the pandas index may not be numeric, and could be made of strings for example.\n",
    "\n",
    "Using list comprehension (a compact <code>for</code> loop) we can create a new index list"
   ]
  },
  {
   "cell_type": "code",
   "execution_count": 14,
   "metadata": {},
   "outputs": [
    {
     "data": {
      "text/plain": [
       "['row 0', 'row 1', 'row 2', 'row 3', 'row 4', 'row 5']"
      ]
     },
     "execution_count": 14,
     "metadata": {},
     "output_type": "execute_result"
    }
   ],
   "source": [
    "new_index = ['row %i' %i for i in range(len(df))]\n",
    "new_index"
   ]
  },
  {
   "cell_type": "markdown",
   "metadata": {},
   "source": [
    "Let's change the index"
   ]
  },
  {
   "cell_type": "code",
   "execution_count": 15,
   "metadata": {},
   "outputs": [
    {
     "data": {
      "text/html": [
       "<div>\n",
       "<style scoped>\n",
       "    .dataframe tbody tr th:only-of-type {\n",
       "        vertical-align: middle;\n",
       "    }\n",
       "\n",
       "    .dataframe tbody tr th {\n",
       "        vertical-align: top;\n",
       "    }\n",
       "\n",
       "    .dataframe thead th {\n",
       "        text-align: right;\n",
       "    }\n",
       "</style>\n",
       "<table border=\"1\" class=\"dataframe\">\n",
       "  <thead>\n",
       "    <tr style=\"text-align: right;\">\n",
       "      <th></th>\n",
       "      <th>animals</th>\n",
       "      <th>counts</th>\n",
       "    </tr>\n",
       "  </thead>\n",
       "  <tbody>\n",
       "    <tr>\n",
       "      <th>row 0</th>\n",
       "      <td>dog</td>\n",
       "      <td>7</td>\n",
       "    </tr>\n",
       "    <tr>\n",
       "      <th>row 1</th>\n",
       "      <td>cat</td>\n",
       "      <td>5</td>\n",
       "    </tr>\n",
       "    <tr>\n",
       "      <th>row 2</th>\n",
       "      <td>rabbit</td>\n",
       "      <td>3</td>\n",
       "    </tr>\n",
       "    <tr>\n",
       "      <th>row 3</th>\n",
       "      <td>mouse</td>\n",
       "      <td>1</td>\n",
       "    </tr>\n",
       "    <tr>\n",
       "      <th>row 4</th>\n",
       "      <td>guinea pig</td>\n",
       "      <td>1</td>\n",
       "    </tr>\n",
       "    <tr>\n",
       "      <th>row 5</th>\n",
       "      <td>goldfish</td>\n",
       "      <td>5</td>\n",
       "    </tr>\n",
       "  </tbody>\n",
       "</table>\n",
       "</div>"
      ],
      "text/plain": [
       "          animals  counts\n",
       "row 0         dog       7\n",
       "row 1         cat       5\n",
       "row 2      rabbit       3\n",
       "row 3       mouse       1\n",
       "row 4  guinea pig       1\n",
       "row 5    goldfish       5"
      ]
     },
     "execution_count": 15,
     "metadata": {},
     "output_type": "execute_result"
    }
   ],
   "source": [
    "df.index = new_index\n",
    "df"
   ]
  },
  {
   "cell_type": "markdown",
   "metadata": {},
   "source": [
    "Addressing columns as attributes produces a pandas series"
   ]
  },
  {
   "cell_type": "code",
   "execution_count": 16,
   "metadata": {},
   "outputs": [
    {
     "data": {
      "text/plain": [
       "row 0           dog\n",
       "row 1           cat\n",
       "row 2        rabbit\n",
       "row 3         mouse\n",
       "row 4    guinea pig\n",
       "row 5      goldfish\n",
       "Name: animals, dtype: object"
      ]
     },
     "execution_count": 16,
     "metadata": {},
     "output_type": "execute_result"
    }
   ],
   "source": [
    "df.animals"
   ]
  },
  {
   "cell_type": "markdown",
   "metadata": {},
   "source": [
    "Similarly using string column names to address columns"
   ]
  },
  {
   "cell_type": "code",
   "execution_count": 17,
   "metadata": {
    "scrolled": true
   },
   "outputs": [
    {
     "data": {
      "text/plain": [
       "row 0           dog\n",
       "row 1           cat\n",
       "row 2        rabbit\n",
       "row 3         mouse\n",
       "row 4    guinea pig\n",
       "row 5      goldfish\n",
       "Name: animals, dtype: object"
      ]
     },
     "execution_count": 17,
     "metadata": {},
     "output_type": "execute_result"
    }
   ],
   "source": [
    "df['animals']"
   ]
  },
  {
   "cell_type": "markdown",
   "metadata": {},
   "source": [
    "Reommended approach for pandas index and column indexing is <code>.loc[index,column]</code>"
   ]
  },
  {
   "cell_type": "code",
   "execution_count": 21,
   "metadata": {},
   "outputs": [
    {
     "data": {
      "text/plain": [
       "'dog'"
      ]
     },
     "execution_count": 21,
     "metadata": {},
     "output_type": "execute_result"
    }
   ],
   "source": [
    "df.loc[:,'animals']"
   ]
  },
  {
   "cell_type": "markdown",
   "metadata": {},
   "source": [
    "Also recommended using integer indexing <code>.iloc[row number, column number]</code>"
   ]
  },
  {
   "cell_type": "code",
   "execution_count": 23,
   "metadata": {},
   "outputs": [
    {
     "data": {
      "text/plain": [
       "'mouse'"
      ]
     },
     "execution_count": 23,
     "metadata": {},
     "output_type": "execute_result"
    }
   ],
   "source": [
    "df.iloc[3:0]"
   ]
  },
  {
   "cell_type": "markdown",
   "metadata": {},
   "source": [
    "For specific rows and columns - we can slice as per ususal"
   ]
  },
  {
   "cell_type": "code",
   "execution_count": 24,
   "metadata": {},
   "outputs": [
    {
     "data": {
      "text/plain": [
       "row 0       dog\n",
       "row 1       cat\n",
       "row 2    rabbit\n",
       "Name: animals, dtype: object"
      ]
     },
     "execution_count": 24,
     "metadata": {},
     "output_type": "execute_result"
    }
   ],
   "source": [
    "df.iloc[0:3, 0]"
   ]
  },
  {
   "cell_type": "code",
   "execution_count": 25,
   "metadata": {},
   "outputs": [
    {
     "data": {
      "text/plain": [
       "'rabbit'"
      ]
     },
     "execution_count": 25,
     "metadata": {},
     "output_type": "execute_result"
    }
   ],
   "source": [
    "df.loc['row 2', 'animals']"
   ]
  },
  {
   "cell_type": "markdown",
   "metadata": {},
   "source": [
    "We can use logical tests to develop a 'Boolean mask' of a DataFrame"
   ]
  },
  {
   "cell_type": "code",
   "execution_count": 26,
   "metadata": {},
   "outputs": [
    {
     "data": {
      "text/plain": [
       "row 0     True\n",
       "row 1     True\n",
       "row 2     True\n",
       "row 3    False\n",
       "row 4    False\n",
       "row 5     True\n",
       "Name: counts, dtype: bool"
      ]
     },
     "execution_count": 26,
     "metadata": {},
     "output_type": "execute_result"
    }
   ],
   "source": [
    "bool_mask = df['counts']>2\n",
    "bool_mask"
   ]
  },
  {
   "cell_type": "markdown",
   "metadata": {},
   "source": [
    "We can then apply the mask to the DataFrame giving a reduced portion of the DataFrame which meets the logical criteria"
   ]
  },
  {
   "cell_type": "code",
   "execution_count": 27,
   "metadata": {},
   "outputs": [
    {
     "data": {
      "text/html": [
       "<div>\n",
       "<style scoped>\n",
       "    .dataframe tbody tr th:only-of-type {\n",
       "        vertical-align: middle;\n",
       "    }\n",
       "\n",
       "    .dataframe tbody tr th {\n",
       "        vertical-align: top;\n",
       "    }\n",
       "\n",
       "    .dataframe thead th {\n",
       "        text-align: right;\n",
       "    }\n",
       "</style>\n",
       "<table border=\"1\" class=\"dataframe\">\n",
       "  <thead>\n",
       "    <tr style=\"text-align: right;\">\n",
       "      <th></th>\n",
       "      <th>animals</th>\n",
       "      <th>counts</th>\n",
       "    </tr>\n",
       "  </thead>\n",
       "  <tbody>\n",
       "    <tr>\n",
       "      <th>row 0</th>\n",
       "      <td>dog</td>\n",
       "      <td>7</td>\n",
       "    </tr>\n",
       "    <tr>\n",
       "      <th>row 1</th>\n",
       "      <td>cat</td>\n",
       "      <td>5</td>\n",
       "    </tr>\n",
       "    <tr>\n",
       "      <th>row 2</th>\n",
       "      <td>rabbit</td>\n",
       "      <td>3</td>\n",
       "    </tr>\n",
       "    <tr>\n",
       "      <th>row 5</th>\n",
       "      <td>goldfish</td>\n",
       "      <td>5</td>\n",
       "    </tr>\n",
       "  </tbody>\n",
       "</table>\n",
       "</div>"
      ],
      "text/plain": [
       "        animals  counts\n",
       "row 0       dog       7\n",
       "row 1       cat       5\n",
       "row 2    rabbit       3\n",
       "row 5  goldfish       5"
      ]
     },
     "execution_count": 27,
     "metadata": {},
     "output_type": "execute_result"
    }
   ],
   "source": [
    "df[bool_mask]"
   ]
  },
  {
   "cell_type": "markdown",
   "metadata": {},
   "source": [
    "## 15. Example - pandas: iterating and applying<a id='15'></a>\n",
    "[Back to contents](#cont)"
   ]
  },
  {
   "cell_type": "markdown",
   "metadata": {},
   "source": [
    "Let's use the data from earlier to test some more techniques"
   ]
  },
  {
   "cell_type": "code",
   "execution_count": 28,
   "metadata": {},
   "outputs": [
    {
     "data": {
      "text/html": [
       "<div>\n",
       "<style scoped>\n",
       "    .dataframe tbody tr th:only-of-type {\n",
       "        vertical-align: middle;\n",
       "    }\n",
       "\n",
       "    .dataframe tbody tr th {\n",
       "        vertical-align: top;\n",
       "    }\n",
       "\n",
       "    .dataframe thead th {\n",
       "        text-align: right;\n",
       "    }\n",
       "</style>\n",
       "<table border=\"1\" class=\"dataframe\">\n",
       "  <thead>\n",
       "    <tr style=\"text-align: right;\">\n",
       "      <th></th>\n",
       "      <th>id</th>\n",
       "      <th>first_name</th>\n",
       "      <th>last_name</th>\n",
       "      <th>email</th>\n",
       "      <th>gender</th>\n",
       "      <th>ip_address</th>\n",
       "      <th>salary</th>\n",
       "      <th>date_of_birth</th>\n",
       "    </tr>\n",
       "  </thead>\n",
       "  <tbody>\n",
       "    <tr>\n",
       "      <th>0</th>\n",
       "      <td>1</td>\n",
       "      <td>Graham</td>\n",
       "      <td>Ivanenkov</td>\n",
       "      <td>givanenkov0@uiuc.edu</td>\n",
       "      <td>Male</td>\n",
       "      <td>12.58.104.199</td>\n",
       "      <td>102778</td>\n",
       "      <td>11/06/1969</td>\n",
       "    </tr>\n",
       "    <tr>\n",
       "      <th>1</th>\n",
       "      <td>2</td>\n",
       "      <td>Karlis</td>\n",
       "      <td>Ballchin</td>\n",
       "      <td>kballchin1@alibaba.com</td>\n",
       "      <td>Male</td>\n",
       "      <td>128.63.193.159</td>\n",
       "      <td>70340</td>\n",
       "      <td>10/04/1969</td>\n",
       "    </tr>\n",
       "    <tr>\n",
       "      <th>2</th>\n",
       "      <td>3</td>\n",
       "      <td>Moria</td>\n",
       "      <td>Barber</td>\n",
       "      <td>mbarber2@oaic.gov.au</td>\n",
       "      <td>Female</td>\n",
       "      <td>175.165.231.76</td>\n",
       "      <td>28931</td>\n",
       "      <td>05/03/1950</td>\n",
       "    </tr>\n",
       "    <tr>\n",
       "      <th>3</th>\n",
       "      <td>4</td>\n",
       "      <td>Leighton</td>\n",
       "      <td>Quinnette</td>\n",
       "      <td>lquinnette3@biblegateway.com</td>\n",
       "      <td>Male</td>\n",
       "      <td>21.218.156.217</td>\n",
       "      <td>20684</td>\n",
       "      <td>11/03/1985</td>\n",
       "    </tr>\n",
       "    <tr>\n",
       "      <th>4</th>\n",
       "      <td>5</td>\n",
       "      <td>Trenton</td>\n",
       "      <td>Farmiloe</td>\n",
       "      <td>tfarmiloe4@webmd.com</td>\n",
       "      <td>Male</td>\n",
       "      <td>223.133.70.216</td>\n",
       "      <td>106946</td>\n",
       "      <td>09/12/1951</td>\n",
       "    </tr>\n",
       "    <tr>\n",
       "      <th>...</th>\n",
       "      <td>...</td>\n",
       "      <td>...</td>\n",
       "      <td>...</td>\n",
       "      <td>...</td>\n",
       "      <td>...</td>\n",
       "      <td>...</td>\n",
       "      <td>...</td>\n",
       "      <td>...</td>\n",
       "    </tr>\n",
       "    <tr>\n",
       "      <th>995</th>\n",
       "      <td>996</td>\n",
       "      <td>Innis</td>\n",
       "      <td>Lindell</td>\n",
       "      <td>ilindellrn@privacy.gov.au</td>\n",
       "      <td>Male</td>\n",
       "      <td>33.228.210.6</td>\n",
       "      <td>26023</td>\n",
       "      <td>06/02/1970</td>\n",
       "    </tr>\n",
       "    <tr>\n",
       "      <th>996</th>\n",
       "      <td>997</td>\n",
       "      <td>Edin</td>\n",
       "      <td>Gajewski</td>\n",
       "      <td>egajewskiro@privacy.gov.au</td>\n",
       "      <td>Female</td>\n",
       "      <td>7.180.8.157</td>\n",
       "      <td>18719</td>\n",
       "      <td>26/09/1971</td>\n",
       "    </tr>\n",
       "    <tr>\n",
       "      <th>997</th>\n",
       "      <td>998</td>\n",
       "      <td>Seymour</td>\n",
       "      <td>Boobier</td>\n",
       "      <td>sboobierrp@noaa.gov</td>\n",
       "      <td>Male</td>\n",
       "      <td>105.196.207.20</td>\n",
       "      <td>22734</td>\n",
       "      <td>28/07/1999</td>\n",
       "    </tr>\n",
       "    <tr>\n",
       "      <th>998</th>\n",
       "      <td>999</td>\n",
       "      <td>Gerick</td>\n",
       "      <td>Seyers</td>\n",
       "      <td>gseyersrq@unc.edu</td>\n",
       "      <td>Male</td>\n",
       "      <td>220.22.200.1</td>\n",
       "      <td>85659</td>\n",
       "      <td>10/11/1950</td>\n",
       "    </tr>\n",
       "    <tr>\n",
       "      <th>999</th>\n",
       "      <td>1000</td>\n",
       "      <td>Dulcine</td>\n",
       "      <td>Hearl</td>\n",
       "      <td>dhearlrr@tripadvisor.com</td>\n",
       "      <td>Female</td>\n",
       "      <td>21.39.192.200</td>\n",
       "      <td>85235</td>\n",
       "      <td>09/03/2000</td>\n",
       "    </tr>\n",
       "  </tbody>\n",
       "</table>\n",
       "<p>1000 rows × 8 columns</p>\n",
       "</div>"
      ],
      "text/plain": [
       "       id first_name  last_name                         email  gender  \\\n",
       "0       1     Graham  Ivanenkov          givanenkov0@uiuc.edu    Male   \n",
       "1       2     Karlis   Ballchin        kballchin1@alibaba.com    Male   \n",
       "2       3      Moria     Barber          mbarber2@oaic.gov.au  Female   \n",
       "3       4   Leighton  Quinnette  lquinnette3@biblegateway.com    Male   \n",
       "4       5    Trenton   Farmiloe          tfarmiloe4@webmd.com    Male   \n",
       "..    ...        ...        ...                           ...     ...   \n",
       "995   996      Innis    Lindell     ilindellrn@privacy.gov.au    Male   \n",
       "996   997       Edin   Gajewski    egajewskiro@privacy.gov.au  Female   \n",
       "997   998    Seymour    Boobier           sboobierrp@noaa.gov    Male   \n",
       "998   999     Gerick     Seyers             gseyersrq@unc.edu    Male   \n",
       "999  1000    Dulcine      Hearl      dhearlrr@tripadvisor.com  Female   \n",
       "\n",
       "         ip_address  salary date_of_birth  \n",
       "0     12.58.104.199  102778    11/06/1969  \n",
       "1    128.63.193.159   70340    10/04/1969  \n",
       "2    175.165.231.76   28931    05/03/1950  \n",
       "3    21.218.156.217   20684    11/03/1985  \n",
       "4    223.133.70.216  106946    09/12/1951  \n",
       "..              ...     ...           ...  \n",
       "995    33.228.210.6   26023    06/02/1970  \n",
       "996     7.180.8.157   18719    26/09/1971  \n",
       "997  105.196.207.20   22734    28/07/1999  \n",
       "998    220.22.200.1   85659    10/11/1950  \n",
       "999   21.39.192.200   85235    09/03/2000  \n",
       "\n",
       "[1000 rows x 8 columns]"
      ]
     },
     "execution_count": 28,
     "metadata": {},
     "output_type": "execute_result"
    }
   ],
   "source": [
    "import pandas as pd\n",
    "\n",
    "# define file path\n",
    "data_path = r'C:\\Users\\jasonboyle\\Desktop\\Python Training\\MOCK_DATA.csv'\n",
    "\n",
    "# read in - data is now stored in a dataframe in python\n",
    "my_df = pd.read_csv(data_path)\n",
    "\n",
    "my_df"
   ]
  },
  {
   "cell_type": "markdown",
   "metadata": {},
   "source": [
    "Iterate over columns to perform operations on each column (pandas Series)"
   ]
  },
  {
   "cell_type": "code",
   "execution_count": 30,
   "metadata": {},
   "outputs": [
    {
     "name": "stdout",
     "output_type": "stream",
     "text": [
      "id 1 1000\n",
      "first_name Abbe Zelig\n",
      "last_name Abelovitz todor\n",
      "email aaffroneo@nifty.com zwoodermx@weibo.com\n",
      "gender Female Male\n",
      "ip_address 0.1.122.52 99.96.224.186\n",
      "salary 10009 109983\n",
      "date_of_birth 01/01/1945 31/12/2001\n",
      "<class 'pandas.core.frame.DataFrame'>\n",
      "RangeIndex: 1000 entries, 0 to 999\n",
      "Data columns (total 8 columns):\n",
      " #   Column         Non-Null Count  Dtype \n",
      "---  ------         --------------  ----- \n",
      " 0   id             1000 non-null   int64 \n",
      " 1   first_name     1000 non-null   object\n",
      " 2   last_name      1000 non-null   object\n",
      " 3   email          1000 non-null   object\n",
      " 4   gender         1000 non-null   object\n",
      " 5   ip_address     1000 non-null   object\n",
      " 6   salary         1000 non-null   int64 \n",
      " 7   date_of_birth  1000 non-null   object\n",
      "dtypes: int64(2), object(6)\n",
      "memory usage: 62.6+ KB\n"
     ]
    }
   ],
   "source": [
    "for column in my_df:\n",
    "    print(column, min(my_df[column]), max(my_df[column]))"
   ]
  },
  {
   "cell_type": "markdown",
   "metadata": {},
   "source": [
    "This is equivalent to using the <code>iteritems()</code> iterator - which  returns a tuple of columns and values. This is the recommended method for column iteration"
   ]
  },
  {
   "cell_type": "code",
   "execution_count": null,
   "metadata": {},
   "outputs": [],
   "source": [
    "for column, values in my_df.iteritems():\n",
    "    print(column, min(values), max(values))"
   ]
  },
  {
   "cell_type": "markdown",
   "metadata": {},
   "source": [
    "The results for min and max date of birth don't look right. These dates have been wrongly imported as strings. Let's fix it"
   ]
  },
  {
   "cell_type": "code",
   "execution_count": 33,
   "metadata": {},
   "outputs": [
    {
     "data": {
      "text/html": [
       "<div>\n",
       "<style scoped>\n",
       "    .dataframe tbody tr th:only-of-type {\n",
       "        vertical-align: middle;\n",
       "    }\n",
       "\n",
       "    .dataframe tbody tr th {\n",
       "        vertical-align: top;\n",
       "    }\n",
       "\n",
       "    .dataframe thead th {\n",
       "        text-align: right;\n",
       "    }\n",
       "</style>\n",
       "<table border=\"1\" class=\"dataframe\">\n",
       "  <thead>\n",
       "    <tr style=\"text-align: right;\">\n",
       "      <th></th>\n",
       "      <th>id</th>\n",
       "      <th>first_name</th>\n",
       "      <th>last_name</th>\n",
       "      <th>email</th>\n",
       "      <th>gender</th>\n",
       "      <th>ip_address</th>\n",
       "      <th>salary</th>\n",
       "      <th>date_of_birth</th>\n",
       "    </tr>\n",
       "  </thead>\n",
       "  <tbody>\n",
       "    <tr>\n",
       "      <th>0</th>\n",
       "      <td>1</td>\n",
       "      <td>Graham</td>\n",
       "      <td>Ivanenkov</td>\n",
       "      <td>givanenkov0@uiuc.edu</td>\n",
       "      <td>Male</td>\n",
       "      <td>12.58.104.199</td>\n",
       "      <td>102778</td>\n",
       "      <td>1969-11-06</td>\n",
       "    </tr>\n",
       "    <tr>\n",
       "      <th>1</th>\n",
       "      <td>2</td>\n",
       "      <td>Karlis</td>\n",
       "      <td>Ballchin</td>\n",
       "      <td>kballchin1@alibaba.com</td>\n",
       "      <td>Male</td>\n",
       "      <td>128.63.193.159</td>\n",
       "      <td>70340</td>\n",
       "      <td>1969-10-04</td>\n",
       "    </tr>\n",
       "    <tr>\n",
       "      <th>2</th>\n",
       "      <td>3</td>\n",
       "      <td>Moria</td>\n",
       "      <td>Barber</td>\n",
       "      <td>mbarber2@oaic.gov.au</td>\n",
       "      <td>Female</td>\n",
       "      <td>175.165.231.76</td>\n",
       "      <td>28931</td>\n",
       "      <td>1950-05-03</td>\n",
       "    </tr>\n",
       "    <tr>\n",
       "      <th>3</th>\n",
       "      <td>4</td>\n",
       "      <td>Leighton</td>\n",
       "      <td>Quinnette</td>\n",
       "      <td>lquinnette3@biblegateway.com</td>\n",
       "      <td>Male</td>\n",
       "      <td>21.218.156.217</td>\n",
       "      <td>20684</td>\n",
       "      <td>1985-11-03</td>\n",
       "    </tr>\n",
       "    <tr>\n",
       "      <th>4</th>\n",
       "      <td>5</td>\n",
       "      <td>Trenton</td>\n",
       "      <td>Farmiloe</td>\n",
       "      <td>tfarmiloe4@webmd.com</td>\n",
       "      <td>Male</td>\n",
       "      <td>223.133.70.216</td>\n",
       "      <td>106946</td>\n",
       "      <td>1951-09-12</td>\n",
       "    </tr>\n",
       "    <tr>\n",
       "      <th>...</th>\n",
       "      <td>...</td>\n",
       "      <td>...</td>\n",
       "      <td>...</td>\n",
       "      <td>...</td>\n",
       "      <td>...</td>\n",
       "      <td>...</td>\n",
       "      <td>...</td>\n",
       "      <td>...</td>\n",
       "    </tr>\n",
       "    <tr>\n",
       "      <th>995</th>\n",
       "      <td>996</td>\n",
       "      <td>Innis</td>\n",
       "      <td>Lindell</td>\n",
       "      <td>ilindellrn@privacy.gov.au</td>\n",
       "      <td>Male</td>\n",
       "      <td>33.228.210.6</td>\n",
       "      <td>26023</td>\n",
       "      <td>1970-06-02</td>\n",
       "    </tr>\n",
       "    <tr>\n",
       "      <th>996</th>\n",
       "      <td>997</td>\n",
       "      <td>Edin</td>\n",
       "      <td>Gajewski</td>\n",
       "      <td>egajewskiro@privacy.gov.au</td>\n",
       "      <td>Female</td>\n",
       "      <td>7.180.8.157</td>\n",
       "      <td>18719</td>\n",
       "      <td>1971-09-26</td>\n",
       "    </tr>\n",
       "    <tr>\n",
       "      <th>997</th>\n",
       "      <td>998</td>\n",
       "      <td>Seymour</td>\n",
       "      <td>Boobier</td>\n",
       "      <td>sboobierrp@noaa.gov</td>\n",
       "      <td>Male</td>\n",
       "      <td>105.196.207.20</td>\n",
       "      <td>22734</td>\n",
       "      <td>1999-07-28</td>\n",
       "    </tr>\n",
       "    <tr>\n",
       "      <th>998</th>\n",
       "      <td>999</td>\n",
       "      <td>Gerick</td>\n",
       "      <td>Seyers</td>\n",
       "      <td>gseyersrq@unc.edu</td>\n",
       "      <td>Male</td>\n",
       "      <td>220.22.200.1</td>\n",
       "      <td>85659</td>\n",
       "      <td>1950-10-11</td>\n",
       "    </tr>\n",
       "    <tr>\n",
       "      <th>999</th>\n",
       "      <td>1000</td>\n",
       "      <td>Dulcine</td>\n",
       "      <td>Hearl</td>\n",
       "      <td>dhearlrr@tripadvisor.com</td>\n",
       "      <td>Female</td>\n",
       "      <td>21.39.192.200</td>\n",
       "      <td>85235</td>\n",
       "      <td>2000-09-03</td>\n",
       "    </tr>\n",
       "  </tbody>\n",
       "</table>\n",
       "<p>1000 rows × 8 columns</p>\n",
       "</div>"
      ],
      "text/plain": [
       "       id first_name  last_name                         email  gender  \\\n",
       "0       1     Graham  Ivanenkov          givanenkov0@uiuc.edu    Male   \n",
       "1       2     Karlis   Ballchin        kballchin1@alibaba.com    Male   \n",
       "2       3      Moria     Barber          mbarber2@oaic.gov.au  Female   \n",
       "3       4   Leighton  Quinnette  lquinnette3@biblegateway.com    Male   \n",
       "4       5    Trenton   Farmiloe          tfarmiloe4@webmd.com    Male   \n",
       "..    ...        ...        ...                           ...     ...   \n",
       "995   996      Innis    Lindell     ilindellrn@privacy.gov.au    Male   \n",
       "996   997       Edin   Gajewski    egajewskiro@privacy.gov.au  Female   \n",
       "997   998    Seymour    Boobier           sboobierrp@noaa.gov    Male   \n",
       "998   999     Gerick     Seyers             gseyersrq@unc.edu    Male   \n",
       "999  1000    Dulcine      Hearl      dhearlrr@tripadvisor.com  Female   \n",
       "\n",
       "         ip_address  salary date_of_birth  \n",
       "0     12.58.104.199  102778    1969-11-06  \n",
       "1    128.63.193.159   70340    1969-10-04  \n",
       "2    175.165.231.76   28931    1950-05-03  \n",
       "3    21.218.156.217   20684    1985-11-03  \n",
       "4    223.133.70.216  106946    1951-09-12  \n",
       "..              ...     ...           ...  \n",
       "995    33.228.210.6   26023    1970-06-02  \n",
       "996     7.180.8.157   18719    1971-09-26  \n",
       "997  105.196.207.20   22734    1999-07-28  \n",
       "998    220.22.200.1   85659    1950-10-11  \n",
       "999   21.39.192.200   85235    2000-09-03  \n",
       "\n",
       "[1000 rows x 8 columns]"
      ]
     },
     "execution_count": 33,
     "metadata": {},
     "output_type": "execute_result"
    }
   ],
   "source": [
    "my_df['date_of_birth'] = pd.to_datetime(my_df['date_of_birth'])\n",
    "my_df"
   ]
  },
  {
   "cell_type": "markdown",
   "metadata": {},
   "source": [
    "To perform operations on a row-by-row basis - we could iterate, but this is slow and inefficienct in pandas.\n",
    "\n",
    "E.g. let's calculate age based on current date"
   ]
  },
  {
   "cell_type": "code",
   "execution_count": 36,
   "metadata": {},
   "outputs": [
    {
     "data": {
      "text/plain": [
       "datetime.datetime(2020, 9, 18, 9, 53, 11, 174441)"
      ]
     },
     "execution_count": 36,
     "metadata": {},
     "output_type": "execute_result"
    }
   ],
   "source": [
    "from datetime import datetime\n",
    "\n",
    "datetime.now()"
   ]
  },
  {
   "cell_type": "code",
   "execution_count": 37,
   "metadata": {},
   "outputs": [
    {
     "data": {
      "text/html": [
       "<div>\n",
       "<style scoped>\n",
       "    .dataframe tbody tr th:only-of-type {\n",
       "        vertical-align: middle;\n",
       "    }\n",
       "\n",
       "    .dataframe tbody tr th {\n",
       "        vertical-align: top;\n",
       "    }\n",
       "\n",
       "    .dataframe thead th {\n",
       "        text-align: right;\n",
       "    }\n",
       "</style>\n",
       "<table border=\"1\" class=\"dataframe\">\n",
       "  <thead>\n",
       "    <tr style=\"text-align: right;\">\n",
       "      <th></th>\n",
       "      <th>id</th>\n",
       "      <th>first_name</th>\n",
       "      <th>last_name</th>\n",
       "      <th>email</th>\n",
       "      <th>gender</th>\n",
       "      <th>ip_address</th>\n",
       "      <th>salary</th>\n",
       "      <th>date_of_birth</th>\n",
       "      <th>age</th>\n",
       "    </tr>\n",
       "  </thead>\n",
       "  <tbody>\n",
       "    <tr>\n",
       "      <th>0</th>\n",
       "      <td>1</td>\n",
       "      <td>Graham</td>\n",
       "      <td>Ivanenkov</td>\n",
       "      <td>givanenkov0@uiuc.edu</td>\n",
       "      <td>Male</td>\n",
       "      <td>12.58.104.199</td>\n",
       "      <td>102778</td>\n",
       "      <td>1969-11-06</td>\n",
       "      <td>50.901370</td>\n",
       "    </tr>\n",
       "    <tr>\n",
       "      <th>1</th>\n",
       "      <td>2</td>\n",
       "      <td>Karlis</td>\n",
       "      <td>Ballchin</td>\n",
       "      <td>kballchin1@alibaba.com</td>\n",
       "      <td>Male</td>\n",
       "      <td>128.63.193.159</td>\n",
       "      <td>70340</td>\n",
       "      <td>1969-10-04</td>\n",
       "      <td>50.991781</td>\n",
       "    </tr>\n",
       "    <tr>\n",
       "      <th>2</th>\n",
       "      <td>3</td>\n",
       "      <td>Moria</td>\n",
       "      <td>Barber</td>\n",
       "      <td>mbarber2@oaic.gov.au</td>\n",
       "      <td>Female</td>\n",
       "      <td>175.165.231.76</td>\n",
       "      <td>28931</td>\n",
       "      <td>1950-05-03</td>\n",
       "      <td>70.427397</td>\n",
       "    </tr>\n",
       "    <tr>\n",
       "      <th>3</th>\n",
       "      <td>4</td>\n",
       "      <td>Leighton</td>\n",
       "      <td>Quinnette</td>\n",
       "      <td>lquinnette3@biblegateway.com</td>\n",
       "      <td>Male</td>\n",
       "      <td>21.218.156.217</td>\n",
       "      <td>20684</td>\n",
       "      <td>1985-11-03</td>\n",
       "      <td>34.898630</td>\n",
       "    </tr>\n",
       "    <tr>\n",
       "      <th>4</th>\n",
       "      <td>5</td>\n",
       "      <td>Trenton</td>\n",
       "      <td>Farmiloe</td>\n",
       "      <td>tfarmiloe4@webmd.com</td>\n",
       "      <td>Male</td>\n",
       "      <td>223.133.70.216</td>\n",
       "      <td>106946</td>\n",
       "      <td>1951-09-12</td>\n",
       "      <td>69.065753</td>\n",
       "    </tr>\n",
       "    <tr>\n",
       "      <th>...</th>\n",
       "      <td>...</td>\n",
       "      <td>...</td>\n",
       "      <td>...</td>\n",
       "      <td>...</td>\n",
       "      <td>...</td>\n",
       "      <td>...</td>\n",
       "      <td>...</td>\n",
       "      <td>...</td>\n",
       "      <td>...</td>\n",
       "    </tr>\n",
       "    <tr>\n",
       "      <th>995</th>\n",
       "      <td>996</td>\n",
       "      <td>Innis</td>\n",
       "      <td>Lindell</td>\n",
       "      <td>ilindellrn@privacy.gov.au</td>\n",
       "      <td>Male</td>\n",
       "      <td>33.228.210.6</td>\n",
       "      <td>26023</td>\n",
       "      <td>1970-06-02</td>\n",
       "      <td>50.331507</td>\n",
       "    </tr>\n",
       "    <tr>\n",
       "      <th>996</th>\n",
       "      <td>997</td>\n",
       "      <td>Edin</td>\n",
       "      <td>Gajewski</td>\n",
       "      <td>egajewskiro@privacy.gov.au</td>\n",
       "      <td>Female</td>\n",
       "      <td>7.180.8.157</td>\n",
       "      <td>18719</td>\n",
       "      <td>1971-09-26</td>\n",
       "      <td>49.013699</td>\n",
       "    </tr>\n",
       "    <tr>\n",
       "      <th>997</th>\n",
       "      <td>998</td>\n",
       "      <td>Seymour</td>\n",
       "      <td>Boobier</td>\n",
       "      <td>sboobierrp@noaa.gov</td>\n",
       "      <td>Male</td>\n",
       "      <td>105.196.207.20</td>\n",
       "      <td>22734</td>\n",
       "      <td>1999-07-28</td>\n",
       "      <td>21.158904</td>\n",
       "    </tr>\n",
       "    <tr>\n",
       "      <th>998</th>\n",
       "      <td>999</td>\n",
       "      <td>Gerick</td>\n",
       "      <td>Seyers</td>\n",
       "      <td>gseyersrq@unc.edu</td>\n",
       "      <td>Male</td>\n",
       "      <td>220.22.200.1</td>\n",
       "      <td>85659</td>\n",
       "      <td>1950-10-11</td>\n",
       "      <td>69.986301</td>\n",
       "    </tr>\n",
       "    <tr>\n",
       "      <th>999</th>\n",
       "      <td>1000</td>\n",
       "      <td>Dulcine</td>\n",
       "      <td>Hearl</td>\n",
       "      <td>dhearlrr@tripadvisor.com</td>\n",
       "      <td>Female</td>\n",
       "      <td>21.39.192.200</td>\n",
       "      <td>85235</td>\n",
       "      <td>2000-09-03</td>\n",
       "      <td>20.054795</td>\n",
       "    </tr>\n",
       "  </tbody>\n",
       "</table>\n",
       "<p>1000 rows × 9 columns</p>\n",
       "</div>"
      ],
      "text/plain": [
       "       id first_name  last_name                         email  gender  \\\n",
       "0       1     Graham  Ivanenkov          givanenkov0@uiuc.edu    Male   \n",
       "1       2     Karlis   Ballchin        kballchin1@alibaba.com    Male   \n",
       "2       3      Moria     Barber          mbarber2@oaic.gov.au  Female   \n",
       "3       4   Leighton  Quinnette  lquinnette3@biblegateway.com    Male   \n",
       "4       5    Trenton   Farmiloe          tfarmiloe4@webmd.com    Male   \n",
       "..    ...        ...        ...                           ...     ...   \n",
       "995   996      Innis    Lindell     ilindellrn@privacy.gov.au    Male   \n",
       "996   997       Edin   Gajewski    egajewskiro@privacy.gov.au  Female   \n",
       "997   998    Seymour    Boobier           sboobierrp@noaa.gov    Male   \n",
       "998   999     Gerick     Seyers             gseyersrq@unc.edu    Male   \n",
       "999  1000    Dulcine      Hearl      dhearlrr@tripadvisor.com  Female   \n",
       "\n",
       "         ip_address  salary date_of_birth        age  \n",
       "0     12.58.104.199  102778    1969-11-06  50.901370  \n",
       "1    128.63.193.159   70340    1969-10-04  50.991781  \n",
       "2    175.165.231.76   28931    1950-05-03  70.427397  \n",
       "3    21.218.156.217   20684    1985-11-03  34.898630  \n",
       "4    223.133.70.216  106946    1951-09-12  69.065753  \n",
       "..              ...     ...           ...        ...  \n",
       "995    33.228.210.6   26023    1970-06-02  50.331507  \n",
       "996     7.180.8.157   18719    1971-09-26  49.013699  \n",
       "997  105.196.207.20   22734    1999-07-28  21.158904  \n",
       "998    220.22.200.1   85659    1950-10-11  69.986301  \n",
       "999   21.39.192.200   85235    2000-09-03  20.054795  \n",
       "\n",
       "[1000 rows x 9 columns]"
      ]
     },
     "execution_count": 37,
     "metadata": {},
     "output_type": "execute_result"
    }
   ],
   "source": [
    "from datetime import datetime\n",
    "age_list = []\n",
    "\n",
    "#iterate over rows\n",
    "for row in my_df['date_of_birth']:\n",
    "    datediff_days = (datetime.now() - row).days\n",
    "    age_list.append((datediff_days/365))\n",
    "\n",
    "my_df['age'] = age_list\n",
    "my_df"
   ]
  },
  {
   "cell_type": "markdown",
   "metadata": {},
   "source": [
    "We can use <code>apply</code> to apply a function to a column without iterating.\n",
    "\n",
    "Let's use the <code>numpy</code> library which includes a range of vectorized mathemtaical functions.\n",
    "\n",
    "Specifically we can use <code>np.floor</code> to round down our ages then convert to <code>int</code."
   ]
  },
  {
   "cell_type": "code",
   "execution_count": 38,
   "metadata": {},
   "outputs": [
    {
     "data": {
      "text/html": [
       "<div>\n",
       "<style scoped>\n",
       "    .dataframe tbody tr th:only-of-type {\n",
       "        vertical-align: middle;\n",
       "    }\n",
       "\n",
       "    .dataframe tbody tr th {\n",
       "        vertical-align: top;\n",
       "    }\n",
       "\n",
       "    .dataframe thead th {\n",
       "        text-align: right;\n",
       "    }\n",
       "</style>\n",
       "<table border=\"1\" class=\"dataframe\">\n",
       "  <thead>\n",
       "    <tr style=\"text-align: right;\">\n",
       "      <th></th>\n",
       "      <th>id</th>\n",
       "      <th>first_name</th>\n",
       "      <th>last_name</th>\n",
       "      <th>email</th>\n",
       "      <th>gender</th>\n",
       "      <th>ip_address</th>\n",
       "      <th>salary</th>\n",
       "      <th>date_of_birth</th>\n",
       "      <th>age</th>\n",
       "    </tr>\n",
       "  </thead>\n",
       "  <tbody>\n",
       "    <tr>\n",
       "      <th>0</th>\n",
       "      <td>1</td>\n",
       "      <td>Graham</td>\n",
       "      <td>Ivanenkov</td>\n",
       "      <td>givanenkov0@uiuc.edu</td>\n",
       "      <td>Male</td>\n",
       "      <td>12.58.104.199</td>\n",
       "      <td>102778</td>\n",
       "      <td>1969-11-06</td>\n",
       "      <td>50</td>\n",
       "    </tr>\n",
       "    <tr>\n",
       "      <th>1</th>\n",
       "      <td>2</td>\n",
       "      <td>Karlis</td>\n",
       "      <td>Ballchin</td>\n",
       "      <td>kballchin1@alibaba.com</td>\n",
       "      <td>Male</td>\n",
       "      <td>128.63.193.159</td>\n",
       "      <td>70340</td>\n",
       "      <td>1969-10-04</td>\n",
       "      <td>50</td>\n",
       "    </tr>\n",
       "    <tr>\n",
       "      <th>2</th>\n",
       "      <td>3</td>\n",
       "      <td>Moria</td>\n",
       "      <td>Barber</td>\n",
       "      <td>mbarber2@oaic.gov.au</td>\n",
       "      <td>Female</td>\n",
       "      <td>175.165.231.76</td>\n",
       "      <td>28931</td>\n",
       "      <td>1950-05-03</td>\n",
       "      <td>70</td>\n",
       "    </tr>\n",
       "    <tr>\n",
       "      <th>3</th>\n",
       "      <td>4</td>\n",
       "      <td>Leighton</td>\n",
       "      <td>Quinnette</td>\n",
       "      <td>lquinnette3@biblegateway.com</td>\n",
       "      <td>Male</td>\n",
       "      <td>21.218.156.217</td>\n",
       "      <td>20684</td>\n",
       "      <td>1985-11-03</td>\n",
       "      <td>34</td>\n",
       "    </tr>\n",
       "    <tr>\n",
       "      <th>4</th>\n",
       "      <td>5</td>\n",
       "      <td>Trenton</td>\n",
       "      <td>Farmiloe</td>\n",
       "      <td>tfarmiloe4@webmd.com</td>\n",
       "      <td>Male</td>\n",
       "      <td>223.133.70.216</td>\n",
       "      <td>106946</td>\n",
       "      <td>1951-09-12</td>\n",
       "      <td>69</td>\n",
       "    </tr>\n",
       "    <tr>\n",
       "      <th>...</th>\n",
       "      <td>...</td>\n",
       "      <td>...</td>\n",
       "      <td>...</td>\n",
       "      <td>...</td>\n",
       "      <td>...</td>\n",
       "      <td>...</td>\n",
       "      <td>...</td>\n",
       "      <td>...</td>\n",
       "      <td>...</td>\n",
       "    </tr>\n",
       "    <tr>\n",
       "      <th>995</th>\n",
       "      <td>996</td>\n",
       "      <td>Innis</td>\n",
       "      <td>Lindell</td>\n",
       "      <td>ilindellrn@privacy.gov.au</td>\n",
       "      <td>Male</td>\n",
       "      <td>33.228.210.6</td>\n",
       "      <td>26023</td>\n",
       "      <td>1970-06-02</td>\n",
       "      <td>50</td>\n",
       "    </tr>\n",
       "    <tr>\n",
       "      <th>996</th>\n",
       "      <td>997</td>\n",
       "      <td>Edin</td>\n",
       "      <td>Gajewski</td>\n",
       "      <td>egajewskiro@privacy.gov.au</td>\n",
       "      <td>Female</td>\n",
       "      <td>7.180.8.157</td>\n",
       "      <td>18719</td>\n",
       "      <td>1971-09-26</td>\n",
       "      <td>49</td>\n",
       "    </tr>\n",
       "    <tr>\n",
       "      <th>997</th>\n",
       "      <td>998</td>\n",
       "      <td>Seymour</td>\n",
       "      <td>Boobier</td>\n",
       "      <td>sboobierrp@noaa.gov</td>\n",
       "      <td>Male</td>\n",
       "      <td>105.196.207.20</td>\n",
       "      <td>22734</td>\n",
       "      <td>1999-07-28</td>\n",
       "      <td>21</td>\n",
       "    </tr>\n",
       "    <tr>\n",
       "      <th>998</th>\n",
       "      <td>999</td>\n",
       "      <td>Gerick</td>\n",
       "      <td>Seyers</td>\n",
       "      <td>gseyersrq@unc.edu</td>\n",
       "      <td>Male</td>\n",
       "      <td>220.22.200.1</td>\n",
       "      <td>85659</td>\n",
       "      <td>1950-10-11</td>\n",
       "      <td>69</td>\n",
       "    </tr>\n",
       "    <tr>\n",
       "      <th>999</th>\n",
       "      <td>1000</td>\n",
       "      <td>Dulcine</td>\n",
       "      <td>Hearl</td>\n",
       "      <td>dhearlrr@tripadvisor.com</td>\n",
       "      <td>Female</td>\n",
       "      <td>21.39.192.200</td>\n",
       "      <td>85235</td>\n",
       "      <td>2000-09-03</td>\n",
       "      <td>20</td>\n",
       "    </tr>\n",
       "  </tbody>\n",
       "</table>\n",
       "<p>1000 rows × 9 columns</p>\n",
       "</div>"
      ],
      "text/plain": [
       "       id first_name  last_name                         email  gender  \\\n",
       "0       1     Graham  Ivanenkov          givanenkov0@uiuc.edu    Male   \n",
       "1       2     Karlis   Ballchin        kballchin1@alibaba.com    Male   \n",
       "2       3      Moria     Barber          mbarber2@oaic.gov.au  Female   \n",
       "3       4   Leighton  Quinnette  lquinnette3@biblegateway.com    Male   \n",
       "4       5    Trenton   Farmiloe          tfarmiloe4@webmd.com    Male   \n",
       "..    ...        ...        ...                           ...     ...   \n",
       "995   996      Innis    Lindell     ilindellrn@privacy.gov.au    Male   \n",
       "996   997       Edin   Gajewski    egajewskiro@privacy.gov.au  Female   \n",
       "997   998    Seymour    Boobier           sboobierrp@noaa.gov    Male   \n",
       "998   999     Gerick     Seyers             gseyersrq@unc.edu    Male   \n",
       "999  1000    Dulcine      Hearl      dhearlrr@tripadvisor.com  Female   \n",
       "\n",
       "         ip_address  salary date_of_birth  age  \n",
       "0     12.58.104.199  102778    1969-11-06   50  \n",
       "1    128.63.193.159   70340    1969-10-04   50  \n",
       "2    175.165.231.76   28931    1950-05-03   70  \n",
       "3    21.218.156.217   20684    1985-11-03   34  \n",
       "4    223.133.70.216  106946    1951-09-12   69  \n",
       "..              ...     ...           ...  ...  \n",
       "995    33.228.210.6   26023    1970-06-02   50  \n",
       "996     7.180.8.157   18719    1971-09-26   49  \n",
       "997  105.196.207.20   22734    1999-07-28   21  \n",
       "998    220.22.200.1   85659    1950-10-11   69  \n",
       "999   21.39.192.200   85235    2000-09-03   20  \n",
       "\n",
       "[1000 rows x 9 columns]"
      ]
     },
     "execution_count": 38,
     "metadata": {},
     "output_type": "execute_result"
    }
   ],
   "source": [
    "import numpy as np\n",
    "# round down and convert\n",
    "my_df['age'] = my_df['age'].apply(np.floor).astype(int)\n",
    "my_df"
   ]
  },
  {
   "cell_type": "markdown",
   "metadata": {},
   "source": [
    "We can repeat this whole calculation process more efficiently, using <code>apply</code> with a disposable <code>lambda</code> function"
   ]
  },
  {
   "cell_type": "code",
   "execution_count": 40,
   "metadata": {},
   "outputs": [
    {
     "data": {
      "text/html": [
       "<div>\n",
       "<style scoped>\n",
       "    .dataframe tbody tr th:only-of-type {\n",
       "        vertical-align: middle;\n",
       "    }\n",
       "\n",
       "    .dataframe tbody tr th {\n",
       "        vertical-align: top;\n",
       "    }\n",
       "\n",
       "    .dataframe thead th {\n",
       "        text-align: right;\n",
       "    }\n",
       "</style>\n",
       "<table border=\"1\" class=\"dataframe\">\n",
       "  <thead>\n",
       "    <tr style=\"text-align: right;\">\n",
       "      <th></th>\n",
       "      <th>id</th>\n",
       "      <th>first_name</th>\n",
       "      <th>last_name</th>\n",
       "      <th>email</th>\n",
       "      <th>gender</th>\n",
       "      <th>ip_address</th>\n",
       "      <th>salary</th>\n",
       "      <th>date_of_birth</th>\n",
       "      <th>age</th>\n",
       "    </tr>\n",
       "  </thead>\n",
       "  <tbody>\n",
       "    <tr>\n",
       "      <th>0</th>\n",
       "      <td>1</td>\n",
       "      <td>Graham</td>\n",
       "      <td>Ivanenkov</td>\n",
       "      <td>givanenkov0@uiuc.edu</td>\n",
       "      <td>Male</td>\n",
       "      <td>12.58.104.199</td>\n",
       "      <td>102778</td>\n",
       "      <td>1969-11-06</td>\n",
       "      <td>50</td>\n",
       "    </tr>\n",
       "    <tr>\n",
       "      <th>1</th>\n",
       "      <td>2</td>\n",
       "      <td>Karlis</td>\n",
       "      <td>Ballchin</td>\n",
       "      <td>kballchin1@alibaba.com</td>\n",
       "      <td>Male</td>\n",
       "      <td>128.63.193.159</td>\n",
       "      <td>70340</td>\n",
       "      <td>1969-10-04</td>\n",
       "      <td>50</td>\n",
       "    </tr>\n",
       "    <tr>\n",
       "      <th>2</th>\n",
       "      <td>3</td>\n",
       "      <td>Moria</td>\n",
       "      <td>Barber</td>\n",
       "      <td>mbarber2@oaic.gov.au</td>\n",
       "      <td>Female</td>\n",
       "      <td>175.165.231.76</td>\n",
       "      <td>28931</td>\n",
       "      <td>1950-05-03</td>\n",
       "      <td>70</td>\n",
       "    </tr>\n",
       "    <tr>\n",
       "      <th>3</th>\n",
       "      <td>4</td>\n",
       "      <td>Leighton</td>\n",
       "      <td>Quinnette</td>\n",
       "      <td>lquinnette3@biblegateway.com</td>\n",
       "      <td>Male</td>\n",
       "      <td>21.218.156.217</td>\n",
       "      <td>20684</td>\n",
       "      <td>1985-11-03</td>\n",
       "      <td>34</td>\n",
       "    </tr>\n",
       "    <tr>\n",
       "      <th>4</th>\n",
       "      <td>5</td>\n",
       "      <td>Trenton</td>\n",
       "      <td>Farmiloe</td>\n",
       "      <td>tfarmiloe4@webmd.com</td>\n",
       "      <td>Male</td>\n",
       "      <td>223.133.70.216</td>\n",
       "      <td>106946</td>\n",
       "      <td>1951-09-12</td>\n",
       "      <td>69</td>\n",
       "    </tr>\n",
       "    <tr>\n",
       "      <th>...</th>\n",
       "      <td>...</td>\n",
       "      <td>...</td>\n",
       "      <td>...</td>\n",
       "      <td>...</td>\n",
       "      <td>...</td>\n",
       "      <td>...</td>\n",
       "      <td>...</td>\n",
       "      <td>...</td>\n",
       "      <td>...</td>\n",
       "    </tr>\n",
       "    <tr>\n",
       "      <th>995</th>\n",
       "      <td>996</td>\n",
       "      <td>Innis</td>\n",
       "      <td>Lindell</td>\n",
       "      <td>ilindellrn@privacy.gov.au</td>\n",
       "      <td>Male</td>\n",
       "      <td>33.228.210.6</td>\n",
       "      <td>26023</td>\n",
       "      <td>1970-06-02</td>\n",
       "      <td>50</td>\n",
       "    </tr>\n",
       "    <tr>\n",
       "      <th>996</th>\n",
       "      <td>997</td>\n",
       "      <td>Edin</td>\n",
       "      <td>Gajewski</td>\n",
       "      <td>egajewskiro@privacy.gov.au</td>\n",
       "      <td>Female</td>\n",
       "      <td>7.180.8.157</td>\n",
       "      <td>18719</td>\n",
       "      <td>1971-09-26</td>\n",
       "      <td>49</td>\n",
       "    </tr>\n",
       "    <tr>\n",
       "      <th>997</th>\n",
       "      <td>998</td>\n",
       "      <td>Seymour</td>\n",
       "      <td>Boobier</td>\n",
       "      <td>sboobierrp@noaa.gov</td>\n",
       "      <td>Male</td>\n",
       "      <td>105.196.207.20</td>\n",
       "      <td>22734</td>\n",
       "      <td>1999-07-28</td>\n",
       "      <td>21</td>\n",
       "    </tr>\n",
       "    <tr>\n",
       "      <th>998</th>\n",
       "      <td>999</td>\n",
       "      <td>Gerick</td>\n",
       "      <td>Seyers</td>\n",
       "      <td>gseyersrq@unc.edu</td>\n",
       "      <td>Male</td>\n",
       "      <td>220.22.200.1</td>\n",
       "      <td>85659</td>\n",
       "      <td>1950-10-11</td>\n",
       "      <td>69</td>\n",
       "    </tr>\n",
       "    <tr>\n",
       "      <th>999</th>\n",
       "      <td>1000</td>\n",
       "      <td>Dulcine</td>\n",
       "      <td>Hearl</td>\n",
       "      <td>dhearlrr@tripadvisor.com</td>\n",
       "      <td>Female</td>\n",
       "      <td>21.39.192.200</td>\n",
       "      <td>85235</td>\n",
       "      <td>2000-09-03</td>\n",
       "      <td>20</td>\n",
       "    </tr>\n",
       "  </tbody>\n",
       "</table>\n",
       "<p>1000 rows × 9 columns</p>\n",
       "</div>"
      ],
      "text/plain": [
       "       id first_name  last_name                         email  gender  \\\n",
       "0       1     Graham  Ivanenkov          givanenkov0@uiuc.edu    Male   \n",
       "1       2     Karlis   Ballchin        kballchin1@alibaba.com    Male   \n",
       "2       3      Moria     Barber          mbarber2@oaic.gov.au  Female   \n",
       "3       4   Leighton  Quinnette  lquinnette3@biblegateway.com    Male   \n",
       "4       5    Trenton   Farmiloe          tfarmiloe4@webmd.com    Male   \n",
       "..    ...        ...        ...                           ...     ...   \n",
       "995   996      Innis    Lindell     ilindellrn@privacy.gov.au    Male   \n",
       "996   997       Edin   Gajewski    egajewskiro@privacy.gov.au  Female   \n",
       "997   998    Seymour    Boobier           sboobierrp@noaa.gov    Male   \n",
       "998   999     Gerick     Seyers             gseyersrq@unc.edu    Male   \n",
       "999  1000    Dulcine      Hearl      dhearlrr@tripadvisor.com  Female   \n",
       "\n",
       "         ip_address  salary date_of_birth  age  \n",
       "0     12.58.104.199  102778    1969-11-06   50  \n",
       "1    128.63.193.159   70340    1969-10-04   50  \n",
       "2    175.165.231.76   28931    1950-05-03   70  \n",
       "3    21.218.156.217   20684    1985-11-03   34  \n",
       "4    223.133.70.216  106946    1951-09-12   69  \n",
       "..              ...     ...           ...  ...  \n",
       "995    33.228.210.6   26023    1970-06-02   50  \n",
       "996     7.180.8.157   18719    1971-09-26   49  \n",
       "997  105.196.207.20   22734    1999-07-28   21  \n",
       "998    220.22.200.1   85659    1950-10-11   69  \n",
       "999   21.39.192.200   85235    2000-09-03   20  \n",
       "\n",
       "[1000 rows x 9 columns]"
      ]
     },
     "execution_count": 40,
     "metadata": {},
     "output_type": "execute_result"
    }
   ],
   "source": [
    "my_df['age'] = my_df.apply(lambda row: int(np.floor((datetime.now() - row['date_of_birth']).days/365)) , axis =1)\n",
    "my_df"
   ]
  },
  {
   "cell_type": "markdown",
   "metadata": {},
   "source": [
    "This is better - but the syntax is a little messy, and we haven't accounted for leap-years. We really need to define a custom function for this and <code>apply</code> that instead.\n",
    "\n",
    "Define and test the function:"
   ]
  },
  {
   "cell_type": "code",
   "execution_count": 41,
   "metadata": {},
   "outputs": [
    {
     "name": "stdout",
     "output_type": "stream",
     "text": [
      "1969-11-06 00:00:00\n",
      "50\n"
     ]
    }
   ],
   "source": [
    "def calc_age(dob: datetime):\n",
    "    # current year - birth year\n",
    "    current = datetime.now()\n",
    "    year_delta = current.year - dob.year\n",
    "    month_delta = current.month - dob.month\n",
    "    day_delta = current.day - dob.day\n",
    "    \n",
    "    if current.month > dob.month or (current.month == dob.month and current.day >= dob.day):\n",
    "        age = year_delta\n",
    "    else:\n",
    "        age = year_delta - 1\n",
    "    return (age)\n",
    "    \n",
    "    \n",
    "print(my_df.loc[0,'date_of_birth'])\n",
    "print(calc_age(my_df.loc[0,'date_of_birth']))\n",
    "    "
   ]
  },
  {
   "cell_type": "markdown",
   "metadata": {},
   "source": [
    "Now let's <code>apply</code> the <code>calc_age</code> function to the <code>'date of birth'</code> <code>series</code>:"
   ]
  },
  {
   "cell_type": "code",
   "execution_count": 42,
   "metadata": {},
   "outputs": [
    {
     "data": {
      "text/html": [
       "<div>\n",
       "<style scoped>\n",
       "    .dataframe tbody tr th:only-of-type {\n",
       "        vertical-align: middle;\n",
       "    }\n",
       "\n",
       "    .dataframe tbody tr th {\n",
       "        vertical-align: top;\n",
       "    }\n",
       "\n",
       "    .dataframe thead th {\n",
       "        text-align: right;\n",
       "    }\n",
       "</style>\n",
       "<table border=\"1\" class=\"dataframe\">\n",
       "  <thead>\n",
       "    <tr style=\"text-align: right;\">\n",
       "      <th></th>\n",
       "      <th>id</th>\n",
       "      <th>first_name</th>\n",
       "      <th>last_name</th>\n",
       "      <th>email</th>\n",
       "      <th>gender</th>\n",
       "      <th>ip_address</th>\n",
       "      <th>salary</th>\n",
       "      <th>date_of_birth</th>\n",
       "      <th>age</th>\n",
       "    </tr>\n",
       "  </thead>\n",
       "  <tbody>\n",
       "    <tr>\n",
       "      <th>0</th>\n",
       "      <td>1</td>\n",
       "      <td>Graham</td>\n",
       "      <td>Ivanenkov</td>\n",
       "      <td>givanenkov0@uiuc.edu</td>\n",
       "      <td>Male</td>\n",
       "      <td>12.58.104.199</td>\n",
       "      <td>102778</td>\n",
       "      <td>1969-11-06</td>\n",
       "      <td>50</td>\n",
       "    </tr>\n",
       "    <tr>\n",
       "      <th>1</th>\n",
       "      <td>2</td>\n",
       "      <td>Karlis</td>\n",
       "      <td>Ballchin</td>\n",
       "      <td>kballchin1@alibaba.com</td>\n",
       "      <td>Male</td>\n",
       "      <td>128.63.193.159</td>\n",
       "      <td>70340</td>\n",
       "      <td>1969-10-04</td>\n",
       "      <td>50</td>\n",
       "    </tr>\n",
       "    <tr>\n",
       "      <th>2</th>\n",
       "      <td>3</td>\n",
       "      <td>Moria</td>\n",
       "      <td>Barber</td>\n",
       "      <td>mbarber2@oaic.gov.au</td>\n",
       "      <td>Female</td>\n",
       "      <td>175.165.231.76</td>\n",
       "      <td>28931</td>\n",
       "      <td>1950-05-03</td>\n",
       "      <td>70</td>\n",
       "    </tr>\n",
       "    <tr>\n",
       "      <th>3</th>\n",
       "      <td>4</td>\n",
       "      <td>Leighton</td>\n",
       "      <td>Quinnette</td>\n",
       "      <td>lquinnette3@biblegateway.com</td>\n",
       "      <td>Male</td>\n",
       "      <td>21.218.156.217</td>\n",
       "      <td>20684</td>\n",
       "      <td>1985-11-03</td>\n",
       "      <td>34</td>\n",
       "    </tr>\n",
       "    <tr>\n",
       "      <th>4</th>\n",
       "      <td>5</td>\n",
       "      <td>Trenton</td>\n",
       "      <td>Farmiloe</td>\n",
       "      <td>tfarmiloe4@webmd.com</td>\n",
       "      <td>Male</td>\n",
       "      <td>223.133.70.216</td>\n",
       "      <td>106946</td>\n",
       "      <td>1951-09-12</td>\n",
       "      <td>69</td>\n",
       "    </tr>\n",
       "    <tr>\n",
       "      <th>...</th>\n",
       "      <td>...</td>\n",
       "      <td>...</td>\n",
       "      <td>...</td>\n",
       "      <td>...</td>\n",
       "      <td>...</td>\n",
       "      <td>...</td>\n",
       "      <td>...</td>\n",
       "      <td>...</td>\n",
       "      <td>...</td>\n",
       "    </tr>\n",
       "    <tr>\n",
       "      <th>995</th>\n",
       "      <td>996</td>\n",
       "      <td>Innis</td>\n",
       "      <td>Lindell</td>\n",
       "      <td>ilindellrn@privacy.gov.au</td>\n",
       "      <td>Male</td>\n",
       "      <td>33.228.210.6</td>\n",
       "      <td>26023</td>\n",
       "      <td>1970-06-02</td>\n",
       "      <td>50</td>\n",
       "    </tr>\n",
       "    <tr>\n",
       "      <th>996</th>\n",
       "      <td>997</td>\n",
       "      <td>Edin</td>\n",
       "      <td>Gajewski</td>\n",
       "      <td>egajewskiro@privacy.gov.au</td>\n",
       "      <td>Female</td>\n",
       "      <td>7.180.8.157</td>\n",
       "      <td>18719</td>\n",
       "      <td>1971-09-26</td>\n",
       "      <td>48</td>\n",
       "    </tr>\n",
       "    <tr>\n",
       "      <th>997</th>\n",
       "      <td>998</td>\n",
       "      <td>Seymour</td>\n",
       "      <td>Boobier</td>\n",
       "      <td>sboobierrp@noaa.gov</td>\n",
       "      <td>Male</td>\n",
       "      <td>105.196.207.20</td>\n",
       "      <td>22734</td>\n",
       "      <td>1999-07-28</td>\n",
       "      <td>21</td>\n",
       "    </tr>\n",
       "    <tr>\n",
       "      <th>998</th>\n",
       "      <td>999</td>\n",
       "      <td>Gerick</td>\n",
       "      <td>Seyers</td>\n",
       "      <td>gseyersrq@unc.edu</td>\n",
       "      <td>Male</td>\n",
       "      <td>220.22.200.1</td>\n",
       "      <td>85659</td>\n",
       "      <td>1950-10-11</td>\n",
       "      <td>69</td>\n",
       "    </tr>\n",
       "    <tr>\n",
       "      <th>999</th>\n",
       "      <td>1000</td>\n",
       "      <td>Dulcine</td>\n",
       "      <td>Hearl</td>\n",
       "      <td>dhearlrr@tripadvisor.com</td>\n",
       "      <td>Female</td>\n",
       "      <td>21.39.192.200</td>\n",
       "      <td>85235</td>\n",
       "      <td>2000-09-03</td>\n",
       "      <td>20</td>\n",
       "    </tr>\n",
       "  </tbody>\n",
       "</table>\n",
       "<p>1000 rows × 9 columns</p>\n",
       "</div>"
      ],
      "text/plain": [
       "       id first_name  last_name                         email  gender  \\\n",
       "0       1     Graham  Ivanenkov          givanenkov0@uiuc.edu    Male   \n",
       "1       2     Karlis   Ballchin        kballchin1@alibaba.com    Male   \n",
       "2       3      Moria     Barber          mbarber2@oaic.gov.au  Female   \n",
       "3       4   Leighton  Quinnette  lquinnette3@biblegateway.com    Male   \n",
       "4       5    Trenton   Farmiloe          tfarmiloe4@webmd.com    Male   \n",
       "..    ...        ...        ...                           ...     ...   \n",
       "995   996      Innis    Lindell     ilindellrn@privacy.gov.au    Male   \n",
       "996   997       Edin   Gajewski    egajewskiro@privacy.gov.au  Female   \n",
       "997   998    Seymour    Boobier           sboobierrp@noaa.gov    Male   \n",
       "998   999     Gerick     Seyers             gseyersrq@unc.edu    Male   \n",
       "999  1000    Dulcine      Hearl      dhearlrr@tripadvisor.com  Female   \n",
       "\n",
       "         ip_address  salary date_of_birth  age  \n",
       "0     12.58.104.199  102778    1969-11-06   50  \n",
       "1    128.63.193.159   70340    1969-10-04   50  \n",
       "2    175.165.231.76   28931    1950-05-03   70  \n",
       "3    21.218.156.217   20684    1985-11-03   34  \n",
       "4    223.133.70.216  106946    1951-09-12   69  \n",
       "..              ...     ...           ...  ...  \n",
       "995    33.228.210.6   26023    1970-06-02   50  \n",
       "996     7.180.8.157   18719    1971-09-26   48  \n",
       "997  105.196.207.20   22734    1999-07-28   21  \n",
       "998    220.22.200.1   85659    1950-10-11   69  \n",
       "999   21.39.192.200   85235    2000-09-03   20  \n",
       "\n",
       "[1000 rows x 9 columns]"
      ]
     },
     "execution_count": 42,
     "metadata": {},
     "output_type": "execute_result"
    }
   ],
   "source": [
    "my_df['age'] = my_df['date_of_birth'].apply(calc_age)\n",
    "my_df"
   ]
  },
  {
   "cell_type": "markdown",
   "metadata": {},
   "source": [
    "Success!"
   ]
  },
  {
   "cell_type": "markdown",
   "metadata": {},
   "source": [
    "## 16. Example - pandas: grouping and aggregating<a id = '16'></a>\n",
    "[Back to contents](#cont)"
   ]
  },
  {
   "cell_type": "markdown",
   "metadata": {},
   "source": [
    "Using the <code>.groupby</code> method we can group similar entries together. Grouping by gender:"
   ]
  },
  {
   "cell_type": "code",
   "execution_count": null,
   "metadata": {},
   "outputs": [],
   "source": [
    "my_df.groupby('gender')"
   ]
  },
  {
   "cell_type": "markdown",
   "metadata": {},
   "source": [
    "Now let's add some custom grouping using a <code>mask</code> and the <code>numpy</code> <code>where</code> function"
   ]
  },
  {
   "cell_type": "code",
   "execution_count": null,
   "metadata": {},
   "outputs": [],
   "source": [
    "mask = my_df['age']<50\n",
    "mask = np.where(mask==True,'Less than 50', '50 or older')\n",
    "\n",
    "grouped_df = my_df.groupby(by=['gender',mask])\n",
    "grouped_df"
   ]
  },
  {
   "cell_type": "markdown",
   "metadata": {},
   "source": [
    "Now we can aggregate the data by functions of our choosing. Let's check the columns first"
   ]
  },
  {
   "cell_type": "code",
   "execution_count": null,
   "metadata": {},
   "outputs": [],
   "source": [
    "my_df.columns"
   ]
  },
  {
   "cell_type": "markdown",
   "metadata": {},
   "source": [
    "Now let's aggregate"
   ]
  },
  {
   "cell_type": "code",
   "execution_count": null,
   "metadata": {},
   "outputs": [],
   "source": [
    "# use a dict for ease\n",
    "agg_dict = {'id': 'count', 'age': 'mean', 'salary': ['min', 'max' ,'std']}\n",
    "agg_df = grouped_df.agg(agg_dict)\n",
    "agg_df"
   ]
  },
  {
   "cell_type": "markdown",
   "metadata": {},
   "source": [
    "This looks good - but has produced <code>mult-index</code> columns. These can be useful but may be hard to work with when outputting data. Let's flatten them to new column names."
   ]
  },
  {
   "cell_type": "code",
   "execution_count": null,
   "metadata": {},
   "outputs": [],
   "source": [
    "# use list comprehension to get new column names\n",
    "new_cols = [col+'_'+function for col, function in agg_df.columns.ravel()]\n",
    "\n",
    "# assign new column names\n",
    "agg_df.columns = new_cols\n",
    "agg_df"
   ]
  },
  {
   "cell_type": "markdown",
   "metadata": {},
   "source": [
    "## 17. Example - pandas: concatenating DataFrames<a id = '17'></a> \n",
    "[Back to contents](#cont)"
   ]
  },
  {
   "cell_type": "markdown",
   "metadata": {},
   "source": [
    "Let's go back to the original data, and split up the <code>DataFrame</code> into 200 row chunks and put each in a new <code>DataFrame</code> stored in a <code>list</code>"
   ]
  },
  {
   "cell_type": "code",
   "execution_count": null,
   "metadata": {},
   "outputs": [],
   "source": [
    "import numpy as np\n",
    "\n",
    "# create empty list to store dfs:\n",
    "df_list = []\n",
    "\n",
    "# use a numpy array to find lower bounds\n",
    "n = 200\n",
    "lower_list = np.arange(0,len(my_df),n)\n",
    "\n",
    "# loop to split into separate dataframes\n",
    "for low in lower_list:\n",
    "    split_df = my_df.iloc[low:low+n,:]\n",
    "    df_list.append(split_df)"
   ]
  },
  {
   "cell_type": "markdown",
   "metadata": {},
   "source": [
    "Now let's arbitrarily stick the 3rd and 4th <code>DataFrames</code> back to gether - like a <code>UNION</code>"
   ]
  },
  {
   "cell_type": "code",
   "execution_count": null,
   "metadata": {},
   "outputs": [],
   "source": [
    "union_df = pd.concat(df_list[2:4])\n",
    "union_df"
   ]
  },
  {
   "cell_type": "markdown",
   "metadata": {},
   "source": [
    "Next lets <code>append</code> a new row to the bottom of this new <code>DataFrame</code>. First create a <code>dict</code> of column-value pairs "
   ]
  },
  {
   "cell_type": "code",
   "execution_count": null,
   "metadata": {},
   "outputs": [],
   "source": [
    "cols = union_df.columns.to_list()\n",
    "values = (1001,'Joe','Bloggs','joebloggs99@hotmail.com','Male','345.112.543.22',13470,'17/05/1999')\n",
    "\n",
    "newrow_dict = dict(zip(cols,values))\n",
    "newrow_dict"
   ]
  },
  {
   "cell_type": "markdown",
   "metadata": {},
   "source": [
    "Now add to the <code>DataFrame</code>. Note that the new entry has <code>NaN</code> for age - as we calculated this earlier."
   ]
  },
  {
   "cell_type": "code",
   "execution_count": null,
   "metadata": {},
   "outputs": [],
   "source": [
    "union_df.append(newrow_dict, ignore_index = True)"
   ]
  },
  {
   "cell_type": "markdown",
   "metadata": {},
   "source": [
    "We can also join the dataframe horizontally using the <code>axis = 1</code> argument - notice that empty <code>NaN</code> values are created because the indexes don't match - this is like a SQL <code>OUTER JOIN</code>."
   ]
  },
  {
   "cell_type": "code",
   "execution_count": null,
   "metadata": {},
   "outputs": [],
   "source": [
    "pd.concat(df_list[2:4], axis = 1)"
   ]
  },
  {
   "cell_type": "markdown",
   "metadata": {},
   "source": [
    "If we want to ignore indexes and just stick the columns together arbitrarily <b>don't</b> use the <code>ignore_index</code> keyword as this does something else. Instead we need to <code>reset_index</code> for each individual dataframe we join"
   ]
  },
  {
   "cell_type": "code",
   "execution_count": null,
   "metadata": {
    "scrolled": false
   },
   "outputs": [],
   "source": [
    "new_index_df_list = [df.reset_index() for df in df_list]\n",
    "\n",
    "pd.concat(new_index_df_list[2:4], axis = 1)"
   ]
  },
  {
   "cell_type": "markdown",
   "metadata": {},
   "source": [
    "## 18. Exercise - collecting and analysing separate data sources<a id = '18'></a>\n",
    "[Back to contents](#cont)"
   ]
  },
  {
   "cell_type": "markdown",
   "metadata": {},
   "source": [
    "<b>Requirement</b>\n",
    "1. Read in the 6 datafiles (of unknown location) containing car sales data which sit in the folder <code>C:\\Users\\student\\Python Training\\Car Sales</code>\n",
    "\n",
    "\n",
    "2. Store the region number from the filename\n",
    "\n",
    "\n",
    "3. Combine the individual files into one <code>DataFrame</code>, the new <code>DataFrame</code> should include which region the file is from\n",
    "\n",
    "\n",
    "4. Fix any columns which may not be formatted as the right dataype (<b>hint:</b> look at numerics and dates... you may want to look up the <code>Series.str.replace()</code>, <code>pd.to_datetime()</code> and <code>pd.to_numeric()</code> functions)\n",
    "\n",
    "\n",
    "5. Write down the rrp and monthly_cost by 30% each for any Audi brand car, which has a model year earlier than 2005 (<b>hint</b>: There are multiple ways to achieve this but <code>np.where</code> could be useful here. To combine logical tests you will need to use the bitwise operator <code>&</code> not the scalar operator <code>and</code> \n",
    "\n",
    "\n",
    "6. Get rid of any entries which have no data in the numeric fields - these are erroneous\n",
    "\n",
    "\n",
    "7. Use the provided dictionary <code>region_dict</code> to (<b>hint</b>) <code>map</code> regions to the region number deduced from the filenames\n",
    "\n",
    "\n",
    "8. Summarize data by region and make - some stats like mean rrp would be useful\n",
    "\n",
    "\n",
    "9. Output the summary to a new csv or excel file\n",
    "\n",
    "\n",
    "10. BONUS - find the rarest cars\n",
    "\n",
    "\n",
    "These requirements are complicated so don't expect to get them all. Facilitators will drop in and out of groups to help as much as possible. We can continue the exercise into Day 2 if we run out of time.\n",
    "\n",
    "Feel free to use spyder or another IDE rather than Jupyter if you find it easier. Materials can also be found hon remote desktop instead.\n",
    "\n"
   ]
  },
  {
   "cell_type": "markdown",
   "metadata": {},
   "source": [
    "Let's build up some pseudo code as a hint:"
   ]
  },
  {
   "cell_type": "code",
   "execution_count": null,
   "metadata": {},
   "outputs": [],
   "source": [
    "# pseudocode for one way of doing it:\n",
    "\n",
    "# import any modules needed\n",
    "\n",
    "# loop over all directories and files using os walk - creating lists for each\n",
    "    # loop over all files in the list\n",
    "        # read each the individual file into pandas dataframe\n",
    "        # store the dataframe in a dicitionary with the filename as the key\n",
    "\n",
    "# iterate over the dictionary key, value pairs\n",
    "    # take the file name and use string manipulation to split it up and deduce region number\n",
    "    # create new column in the dataframe for the region number\n",
    "    # convert number to int from string\n",
    "    \n",
    "# combine separate dataframes into one\n",
    "# remove extra strings around the numeric fields (e.g. £)\n",
    "# convert the numeric fields to numerics / dates where required\n",
    "\n",
    "# find elements of the dataframe where the car make is audi and year is pre 2005\n",
    "# for all of these elements reduce them by 10 %\n",
    "# find rows where the numeric fields are Nan\n",
    "# drop these rows\n",
    "\n",
    "#deduce region names from region number and map - and put these in dataframe\n",
    "\n",
    "# group dataframe on region and make\n",
    "# aggregate using functions of your choice\n",
    "\n",
    "# do any rounding or changes to column names required\n",
    "\n",
    "# define an output path based on source path\n",
    "# output the summary to csv \n",
    "\n",
    "# group non aggregated dataframe by car make and model\n",
    "# aggregate by count\n",
    "# sort lowest count to highest\n",
    "# find the lowest count of cars\n",
    "# find all the items which have this count"
   ]
  },
  {
   "cell_type": "code",
   "execution_count": 65,
   "metadata": {},
   "outputs": [
    {
     "name": "stdout",
     "output_type": "stream",
     "text": [
      "The rest is up to you!\n",
      "The rest is up to you!\n",
      "The rest is up to you!\n",
      "The rest is up to you!\n",
      "The rest is up to you!\n",
      "The rest is up to you!\n"
     ]
    }
   ],
   "source": [
    "# Your code goes here - here are some starting points\n",
    "\n",
    "import os\n",
    "import pandas as pd\n",
    "import numpy as np\n",
    "\n",
    "# mapping of numbers to regions\n",
    "region_dict = dict(zip([1,2,3,4,5,6],['North','South-East','South-West','London','Midlands','Other']))\n",
    "\n",
    "# directory path to read from\n",
    "source_path = r'C:\\Users\\jasonboyle\\Desktop\\Python Training\\Car Sales'\n",
    "\n",
    "# initialise a dictionary to store the files\n",
    "read_dict = {}\n",
    "\n",
    "# loop over directories, subdirectories, files as a starting point\n",
    "for dirs, subdirs, files in os.walk(source_path):\n",
    "    # loop over list of files\n",
    "    for file in files:\n",
    "        # read in the files!\n",
    "        print('The rest is up to you!')\n",
    "        "
   ]
  },
  {
   "cell_type": "markdown",
   "metadata": {},
   "source": [
    "<b>Answer pt. 1</b> - read in the data"
   ]
  },
  {
   "cell_type": "code",
   "execution_count": 66,
   "metadata": {},
   "outputs": [
    {
     "data": {
      "text/plain": [
       "{'region_1_car_sales':       car_make      car_model  model_year            car_vin   purchase_date  \\\n",
       " 0         Ford       Freestar        2003  WAUKH98E58A381109   on 6/16/2018,   \n",
       " 1        Mazda            626        2002  3C3CFFAR4CT883916   on 4/27/2018,   \n",
       " 2       Subaru           Baja        2003  1GYFC26209R153521  on 11/27/2017,   \n",
       " 3         Ford          Focus        2009  WAULC58E95A491863   on 1/24/2020,   \n",
       " 4      Mercury  Grand Marquis        1995  WAUKG94F56N224154    on 3/2/2020,   \n",
       " ...        ...            ...         ...                ...             ...   \n",
       " 1995       Ram           3500        2011  1G4GA5GR4CF318407   on 6/16/2019,   \n",
       " 1996     Volvo            S80        2010  1GYEC63T32R130661    on 6/5/2020,   \n",
       " 1997       Kia         Sephia        1995  SAJWA4FB4DL985982   on 11/6/2017,   \n",
       " 1998  Maserati            430        1989  WP1AA2A20EL568618   on 6/14/2019,   \n",
       " 1999   Pontiac       Grand Am        2004  WAUDF48H37K839640   on 5/20/2019,   \n",
       " \n",
       "           title           full_name      dealer        rrp  \\\n",
       " 0            Dr      Cathryn Aloigi     Tagchat  £37484.85   \n",
       " 1            Ms          Keen Sives   Flipstorm  £19138.46   \n",
       " 2           Mrs         Tiffy Baugh       Eabox  £24296.23   \n",
       " 3     Honorable  Fredrick Greenroad      Skidoo  £18775.51   \n",
       " 4     Honorable   Muffin Darlington     Trilith        NaN   \n",
       " ...         ...                 ...         ...        ...   \n",
       " 1995  Honorable      Stacy Wimpeney  Topicstorm  £20945.06   \n",
       " 1996         Dr      Vasili Clother   Topicware  £13080.99   \n",
       " 1997         Dr    Emmeline Giraudy       Quatz        NaN   \n",
       " 1998  Honorable     Wandie Jozwicki       InnoZ  £33483.17   \n",
       " 1999         Mr     Ainslee Smythin       Rooxo  £18859.98   \n",
       " \n",
       "                        monthly_cost  \n",
       " 0      £540.2542348581231 per month  \n",
       " 1     £279.55088901296773 per month  \n",
       " 2      £386.1739856281775 per month  \n",
       " 3      £307.5218717033825 per month  \n",
       " 4                               NaN  \n",
       " ...                             ...  \n",
       " 1995  £292.70468219359316 per month  \n",
       " 1996  £218.88687465510074 per month  \n",
       " 1997                            NaN  \n",
       " 1998   £459.8702251248783 per month  \n",
       " 1999  £270.67967099990176 per month  \n",
       " \n",
       " [2000 rows x 10 columns],\n",
       " 'region_2_car_sales':        car_make     car_model  model_year            car_vin   purchase_date  \\\n",
       " 0          Ford      Taurus X        2008  WBAYB6C57FG468800  on 11/27/2017,   \n",
       " 1           BMW            X5        2005  JH4CL95848C358850   on 7/16/2019,   \n",
       " 2       Porsche        Cayman        2011  JN8AE2KP9B9442645    on 8/8/2020,   \n",
       " 3        Nissan    Pathfinder        2005  3C63DPGL8CG633072  on 12/14/2019,   \n",
       " 4     Chevrolet  G-Series G20        1993  WDDEJ7GB6BA970196   on 12/6/2017,   \n",
       " ...         ...           ...         ...                ...             ...   \n",
       " 1995    Hyundai       Elantra        1993  WBA3C1C53DF590213   on 6/17/2018,   \n",
       " 1996   Maserati   GranTurismo        2010  JN1CV6EK2FM266670    on 6/1/2020,   \n",
       " 1997     Toyota        Solara        2000  WBA1M1C50FV678486  on 11/27/2019,   \n",
       " 1998      Honda          CR-V        2001  19UUB2F53FA282004   on 1/18/2019,   \n",
       " 1999      Dodge       Caravan        2009  1FTSX2B5XAE420312    on 5/6/2019,   \n",
       " \n",
       "           title          full_name      dealer        rrp  \\\n",
       " 0           Rev     Lydie Slidders      Voonte  £34851.22   \n",
       " 1            Mr       Jenna Dugood        Tazz  £31801.07   \n",
       " 2            Ms    Glad Waplington    Gigazoom   £56429.7   \n",
       " 3            Ms       Teodoro Cain      Meeveo  £17541.31   \n",
       " 4           Rev  Carmen Claricoats       Jatri  £16772.88   \n",
       " ...         ...                ...         ...        ...   \n",
       " 1995         Mr       Kerwin Orgen      Rhybox        NaN   \n",
       " 1996        Rev   Rossie Bonniface       Leexo  £30110.66   \n",
       " 1997         Ms    Hyacinthe Saggs  Photospace  £22068.12   \n",
       " 1998         Ms     Sande McKimmey     Buzzdog        NaN   \n",
       " 1999  Honorable       Lucien Denis      Divape  £32628.67   \n",
       " \n",
       "                        monthly_cost  \n",
       " 0      £532.8393354707316 per month  \n",
       " 1     £476.71586299630735 per month  \n",
       " 2      £802.4599373028587 per month  \n",
       " 3     £281.37847003137057 per month  \n",
       " 4      £279.6687179709387 per month  \n",
       " ...                             ...  \n",
       " 1995                            NaN  \n",
       " 1996   £466.1838030514247 per month  \n",
       " 1997   £329.1410953725737 per month  \n",
       " 1998                            NaN  \n",
       " 1999  £449.26070497345177 per month  \n",
       " \n",
       " [2000 rows x 10 columns],\n",
       " 'region_5_car_sales':            car_make    car_model  model_year            car_vin  \\\n",
       " 0         Chevrolet      Equinox        2010  WAUJC58E02A041683   \n",
       " 1        Mitsubishi       Pajero        1987  WP0AA2A89BU167146   \n",
       " 2           Pontiac        Aztek        2002  KNDJT2A52D7420907   \n",
       " 3          Infiniti           QX        1999  SALSF2D40DA844337   \n",
       " 4         Chevrolet  Monte Carlo        2004  WVGAK7A97AD469158   \n",
       " ...             ...          ...         ...                ...   \n",
       " 1995      Chevrolet       Camaro        2010  JTEBC3EH6D2308697   \n",
       " 1996            Geo      Tracker        1996  1FTSX2B57AE118637   \n",
       " 1997        Pontiac      Firefly        1985  JTDJTUD32ED157357   \n",
       " 1998  Mercedes-Benz         W201        1984  1G6DL5EG8A0813487   \n",
       " 1999      Chevrolet     Colorado        2006  WAUWMAFC6EN201317   \n",
       " \n",
       "        purchase_date      title          full_name        dealer        rrp  \\\n",
       " 0       on 2/5/2017,        Rev       Cori Cleever         Janyx  £19157.73   \n",
       " 1       on 7/5/2020,         Ms    Audrye Leinster        Wikizz  £53535.41   \n",
       " 2     on 12/10/2017,        Rev      Danie Eefting        Eimbee  £21201.71   \n",
       " 3     on 12/24/2018,         Dr      Jessie Hodgon       Edgeify  £28607.79   \n",
       " 4      on 9/17/2018,         Ms       Kerwin Karsh      Jaxworks  £12233.81   \n",
       " ...              ...        ...                ...           ...        ...   \n",
       " 1995    on 4/8/2020,         Mr  Ardine Mottershaw         Mynte  £13551.62   \n",
       " 1996   on 7/28/2020,  Honorable      Bree Shoreman   Twitterlist        NaN   \n",
       " 1997   on 7/13/2017,         Mr  Leticia Rillstone         Rooxo   £16642.0   \n",
       " 1998   on 3/30/2019,        Mrs     Beverlee Hover       Dabfeed    £576.45   \n",
       " 1999   on 5/20/2020,         Mr     Odette Youhill  Twitterworks  £11181.16   \n",
       " \n",
       "                        monthly_cost  \n",
       " 0     £282.74921901505064 per month  \n",
       " 1      £787.6556185987355 per month  \n",
       " 2     £332.54850252741267 per month  \n",
       " 3     £432.03722536692976 per month  \n",
       " 4     £189.04771882202667 per month  \n",
       " ...                             ...  \n",
       " 1995  £216.57835135627238 per month  \n",
       " 1996                            NaN  \n",
       " 1997  £244.51019013568646 per month  \n",
       " 1998   £8.537106565021661 per month  \n",
       " 1999   £161.8509914685103 per month  \n",
       " \n",
       " [2000 rows x 10 columns],\n",
       " 'region_6_car_sales':         car_make          car_model  model_year            car_vin  \\\n",
       " 0         Toyota       Land Cruiser        2002  1G6DK67V480905355   \n",
       " 1           Ford             Fiesta        2001  1G4HD57267U545078   \n",
       " 2          Lexus          RX Hybrid        2007  WP1AA2A27BL467989   \n",
       " 3        Lincoln           Town Car        1993  KNADM5A36D6414900   \n",
       " 4     Volkswagen              Jetta        1993  WA1WMBFE7CD699566   \n",
       " ...          ...                ...         ...                ...   \n",
       " 1995         GMC  Sonoma Club Coupe        1997  WDCGG5GB8AF352329   \n",
       " 1996     Mercury             Cougar        1995  5N1AN0NW0EN447999   \n",
       " 1997  Land Rover          Discovery        2012  WBANE73507B154209   \n",
       " 1998       Buick         Roadmaster        1996  1FTSX2B59AE703462   \n",
       " 1999        Audi            Allroad        2004  JN8AZ1MU6DW647376   \n",
       " \n",
       "        purchase_date      title           full_name        dealer        rrp  \\\n",
       " 0      on 5/28/2017,         Mr     Kissiah Marwick        Voolia  £35990.08   \n",
       " 1       on 7/1/2019,  Honorable  Louisette Hanniger        Voonix  £28451.59   \n",
       " 2     on 12/28/2018,        Rev       Orella McLise  Jabbersphere  £34373.27   \n",
       " 3     on 12/14/2018,        Mrs    Dominique Lescop      Devpulse  £23537.74   \n",
       " 4      on 4/13/2020,         Dr        Earle Lloyds       Yakidoo   £59768.0   \n",
       " ...              ...        ...                 ...           ...        ...   \n",
       " 1995   on 7/15/2017,         Mr      Sherye Swalwel        Tagpad  £42738.09   \n",
       " 1996    on 5/2/2019,        Mrs      Tuckie Chestle        Demizz   £18175.0   \n",
       " 1997   on 2/16/2020,        Mrs        Galen Coling        Skinix  £51702.15   \n",
       " 1998  on 11/17/2019,         Ms   Dorita O'Doireidh      Photobug  £35803.92   \n",
       " 1999   on 2/18/2018,         Mr         Karee Allen       Voolith  £14324.69   \n",
       " \n",
       "                        monthly_cost  \n",
       " 0       £586.675016356132 per month  \n",
       " 1     £428.29660653379057 per month  \n",
       " 2      £535.4903487666945 per month  \n",
       " 3     £376.45216516326485 per month  \n",
       " 4      £904.3204206790776 per month  \n",
       " ...                             ...  \n",
       " 1995     £664.57565207888 per month  \n",
       " 1996   £278.6208622422934 per month  \n",
       " 1997   £853.4734500528348 per month  \n",
       " 1998   £553.4854146704906 per month  \n",
       " 1999  £210.37309793651974 per month  \n",
       " \n",
       " [2000 rows x 10 columns],\n",
       " 'region_3_car_sales':            car_make     car_model  model_year            car_vin  \\\n",
       " 0            Nissan        Xterra        2003  5NPDH4AE1DH160831   \n",
       " 1              Ford          F150        1996  1G4GJ5E3XCF338014   \n",
       " 2             Dodge       Caliber        2012  2FMGK5CC2AB310591   \n",
       " 3           Pontiac    Grand Prix        2005  SAJWA4EC8CM983994   \n",
       " 4     Mercedes-Benz       E-Class        1998  4USBT53564L724584   \n",
       " ...             ...           ...         ...                ...   \n",
       " 1995     Volkswagen          Golf        1986  5GAER13D59J322979   \n",
       " 1996         Toyota  Land Cruiser        2011  5UXZV4C52DL622674   \n",
       " 1997            BMW            Z4        2011  WAUDF98E48A972613   \n",
       " 1998          Dodge          Neon        1998  1FTEW1CW5AK568628   \n",
       " 1999           Ford        Bronco        1995  WBAKB4C51CC006746   \n",
       " \n",
       "        purchase_date      title           full_name        dealer        rrp  \\\n",
       " 0      on 5/14/2020,         Mr        Jesus Nowick    Zoomlounge    £391.53   \n",
       " 1       on 2/7/2019,        Mrs       Vinni Gambell   Topiclounge  £29818.37   \n",
       " 2       on 5/1/2017,        Rev       Jolee Dedrick  Jabbersphere   £15940.7   \n",
       " 3      on 7/12/2019,         Mr          Kinny Eyre       Tagtune  £25967.65   \n",
       " 4      on 4/13/2017,         Ms       Kathe Tolfrey   Shufflester  £52038.42   \n",
       " ...              ...        ...                 ...           ...        ...   \n",
       " 1995   on 7/15/2020,  Honorable     Sher Olerenshaw       Jetwire        NaN   \n",
       " 1996    on 9/4/2019,        Rev        Isador Phinn          Ntag  £41903.24   \n",
       " 1997   on 8/15/2020,  Honorable       Bari Senecaut        Voonyx   £51260.3   \n",
       " 1998  on 11/11/2019,        Rev        Munroe Faley       Tagtune  £17063.77   \n",
       " 1999    on 9/5/2020,         Ms  Mattheus Abendroth      Cogilith  £16161.81   \n",
       " \n",
       "                        monthly_cost  \n",
       " 0     £6.4747119412061025 per month  \n",
       " 1      £477.3533840675457 per month  \n",
       " 2     £226.66664115894605 per month  \n",
       " 3     £374.31194436084365 per month  \n",
       " 4      £822.5497042770163 per month  \n",
       " ...                             ...  \n",
       " 1995                            NaN  \n",
       " 1996   £624.2393989846856 per month  \n",
       " 1997   £708.0484604285655 per month  \n",
       " 1998  £284.57519615393375 per month  \n",
       " 1999  £231.40047286193686 per month  \n",
       " \n",
       " [2000 rows x 10 columns],\n",
       " 'region_4_car_sales':        car_make     car_model  model_year            car_vin  purchase_date  \\\n",
       " 0         Honda       Insight        2000  WA1LKBFP6AA772015  on 9/20/2017,   \n",
       " 1       Pontiac    Grand Prix        1969  WBALM7C59DE423571  on 2/23/2017,   \n",
       " 2     Chevrolet  Sportvan G30        1994  WAUXL68E84A546129  on 4/22/2017,   \n",
       " 3           GMC   Savana 2500        2007  WAUMGBFL4CA084958  on 6/15/2018,   \n",
       " 4       Pontiac    Grand Prix        1969  JH4DC54823S101537  on 5/15/2017,   \n",
       " ...         ...           ...         ...                ...            ...   \n",
       " 1995       Ford        Taurus        1989  1G4HC5EM6BU985821   on 2/1/2020,   \n",
       " 1996  Chevrolet      Corvette        1955  SAJWA4DB9EL727638  on 5/28/2017,   \n",
       " 1997      Volvo           V40        2000  1ZVBP8JZ9E5788901  on 8/17/2018,   \n",
       " 1998      Lexus            RX        2000  WAUNG74F79N231869   on 7/1/2017,   \n",
       " 1999      Mazda      Millenia        1997  WBA6B8C50FD883526   on 6/2/2018,   \n",
       " \n",
       "           title          full_name        dealer        rrp  \\\n",
       " 0           Rev  Angelina Killoran      Riffpath  £29711.11   \n",
       " 1            Mr       Sybil Losbie    Brainverse   £30145.4   \n",
       " 2            Mr      Elsie Garrett  Thoughtworks  £18043.38   \n",
       " 3           Mrs        Byram Perel         Mynte  £45493.78   \n",
       " 4            Ms     Lanna Hawkshaw      Tanoodle  £30530.53   \n",
       " ...         ...                ...           ...        ...   \n",
       " 1995        Rev   Anthia Van Hault         Voomm  £36273.03   \n",
       " 1996        Mrs    Kerwin Sperling      Cogilith  £25598.22   \n",
       " 1997  Honorable      Georas Tapson        Roombo   £4319.34   \n",
       " 1998        Rev   Lezlie Whitworth       Tagopia  £41179.96   \n",
       " 1999        Rev        Juli Keming         Jamia  £10225.94   \n",
       " \n",
       "                        monthly_cost  \n",
       " 0      £434.9866977585823 per month  \n",
       " 1      £415.3120379530529 per month  \n",
       " 2      £292.5017389386592 per month  \n",
       " 3      £735.0908196600423 per month  \n",
       " 4     £496.42162506623663 per month  \n",
       " ...                             ...  \n",
       " 1995   £547.9439627361237 per month  \n",
       " 1996   £421.1100015481617 per month  \n",
       " 1997   £59.67899060629221 per month  \n",
       " 1998   £609.2465574660928 per month  \n",
       " 1999  £165.84722036327264 per month  \n",
       " \n",
       " [2000 rows x 10 columns]}"
      ]
     },
     "execution_count": 66,
     "metadata": {},
     "output_type": "execute_result"
    }
   ],
   "source": [
    "# imports\n",
    "import os\n",
    "import pandas as pd\n",
    "import numpy as np\n",
    "\n",
    "# mapping of numbers to regions\n",
    "region_dict = dict(zip([1,2,3,4,5,6],['North','South-East','South-West','London','Midlands','Other']))\n",
    "\n",
    "# directory path to read from\n",
    "source_path = r'C:\\Users\\jasonboyle\\Desktop\\Python Training\\Car Sales'\n",
    "\n",
    "# initialise a dictionary to store the files\n",
    "read_dict = {}\n",
    "\n",
    "# use os.walk to navigate directory\n",
    "for dirs, subdirs, files in os.walk(source_path):\n",
    "    # for each iteration files is a list of files in that directory\n",
    "    #loop over each file\n",
    "    #print(dirs)\n",
    "    #print(files)\n",
    "    for file in files:\n",
    "        # we can join the directory to the filname to get the full path\n",
    "        filepath = os.path.join(dirs,file)\n",
    "        # read in the data\n",
    "        read_df = pd.read_csv(filepath)\n",
    "        # get the name of the file without extension\n",
    "        filename = os.path.splitext(file)[0]\n",
    "        # store the dataframe in the dictionary using the filename as the key\n",
    "        read_dict[filename] = read_df\n",
    "        \n",
    "        #or in one line:              \n",
    "        # read_dict[os.path.splitext(file)[0]] = pd.read_csv(os.path.join(dirs,file))\n",
    "\n",
    "#os.walk(source_path)\n",
    "#help(os.walk)\n",
    "\n",
    "read_dict"
   ]
  },
  {
   "cell_type": "markdown",
   "metadata": {},
   "source": [
    "<b>Answer pt. 2</b> - deduce the region numbers"
   ]
  },
  {
   "cell_type": "code",
   "execution_count": 67,
   "metadata": {},
   "outputs": [
    {
     "name": "stdout",
     "output_type": "stream",
     "text": [
      "1\n",
      "2\n",
      "5\n",
      "6\n",
      "3\n",
      "4\n"
     ]
    }
   ],
   "source": [
    "# iterate over the key, value pairs in the dictionary\n",
    "for filename, df in read_dict.items():\n",
    "    #split the filename on '_'\n",
    "    split_list = filename.split('_')\n",
    "    # 2nd element (index 1) is the region number\n",
    "    region_num = split_list[1]\n",
    "    # let's convert to int instead of str - since this matches the region dict\n",
    "    region_num = int(region_num)\n",
    "    # add the region number to all rows in this dataframe\n",
    "    df['region'] = region_num\n",
    "    \n",
    "    # or in one line\n",
    "    #df['region'] = int(filename.split('_')[1])\n",
    "# show the results    \n",
    "for key in read_dict:\n",
    "   print(read_dict[key]['region'][0])\n",
    "\n"
   ]
  },
  {
   "cell_type": "markdown",
   "metadata": {},
   "source": [
    "<b>Answer pt.3</b> - concatenate the DataFrames and fix the formats"
   ]
  },
  {
   "cell_type": "code",
   "execution_count": 68,
   "metadata": {
    "scrolled": true
   },
   "outputs": [
    {
     "name": "stdout",
     "output_type": "stream",
     "text": [
      "<class 'pandas.core.frame.DataFrame'>\n",
      "RangeIndex: 12000 entries, 0 to 11999\n",
      "Data columns (total 11 columns):\n",
      " #   Column         Non-Null Count  Dtype \n",
      "---  ------         --------------  ----- \n",
      " 0   car_make       12000 non-null  object\n",
      " 1   car_model      12000 non-null  object\n",
      " 2   model_year     12000 non-null  int64 \n",
      " 3   car_vin        12000 non-null  object\n",
      " 4   purchase_date  12000 non-null  object\n",
      " 5   title          12000 non-null  object\n",
      " 6   full_name      12000 non-null  object\n",
      " 7   dealer         12000 non-null  object\n",
      " 8   rrp            11510 non-null  object\n",
      " 9   monthly_cost   11510 non-null  object\n",
      " 10  region         12000 non-null  int64 \n",
      "dtypes: int64(2), object(9)\n",
      "memory usage: 1.0+ MB\n"
     ]
    },
    {
     "data": {
      "text/html": [
       "<div>\n",
       "<style scoped>\n",
       "    .dataframe tbody tr th:only-of-type {\n",
       "        vertical-align: middle;\n",
       "    }\n",
       "\n",
       "    .dataframe tbody tr th {\n",
       "        vertical-align: top;\n",
       "    }\n",
       "\n",
       "    .dataframe thead th {\n",
       "        text-align: right;\n",
       "    }\n",
       "</style>\n",
       "<table border=\"1\" class=\"dataframe\">\n",
       "  <thead>\n",
       "    <tr style=\"text-align: right;\">\n",
       "      <th></th>\n",
       "      <th>car_make</th>\n",
       "      <th>car_model</th>\n",
       "      <th>model_year</th>\n",
       "      <th>car_vin</th>\n",
       "      <th>purchase_date</th>\n",
       "      <th>title</th>\n",
       "      <th>full_name</th>\n",
       "      <th>dealer</th>\n",
       "      <th>rrp</th>\n",
       "      <th>monthly_cost</th>\n",
       "      <th>region</th>\n",
       "    </tr>\n",
       "  </thead>\n",
       "  <tbody>\n",
       "    <tr>\n",
       "      <th>0</th>\n",
       "      <td>Ford</td>\n",
       "      <td>Freestar</td>\n",
       "      <td>2003</td>\n",
       "      <td>WAUKH98E58A381109</td>\n",
       "      <td>on 6/16/2018,</td>\n",
       "      <td>Dr</td>\n",
       "      <td>Cathryn Aloigi</td>\n",
       "      <td>Tagchat</td>\n",
       "      <td>£37484.85</td>\n",
       "      <td>£540.2542348581231 per month</td>\n",
       "      <td>1</td>\n",
       "    </tr>\n",
       "    <tr>\n",
       "      <th>1</th>\n",
       "      <td>Mazda</td>\n",
       "      <td>626</td>\n",
       "      <td>2002</td>\n",
       "      <td>3C3CFFAR4CT883916</td>\n",
       "      <td>on 4/27/2018,</td>\n",
       "      <td>Ms</td>\n",
       "      <td>Keen Sives</td>\n",
       "      <td>Flipstorm</td>\n",
       "      <td>£19138.46</td>\n",
       "      <td>£279.55088901296773 per month</td>\n",
       "      <td>1</td>\n",
       "    </tr>\n",
       "    <tr>\n",
       "      <th>2</th>\n",
       "      <td>Subaru</td>\n",
       "      <td>Baja</td>\n",
       "      <td>2003</td>\n",
       "      <td>1GYFC26209R153521</td>\n",
       "      <td>on 11/27/2017,</td>\n",
       "      <td>Mrs</td>\n",
       "      <td>Tiffy Baugh</td>\n",
       "      <td>Eabox</td>\n",
       "      <td>£24296.23</td>\n",
       "      <td>£386.1739856281775 per month</td>\n",
       "      <td>1</td>\n",
       "    </tr>\n",
       "    <tr>\n",
       "      <th>3</th>\n",
       "      <td>Ford</td>\n",
       "      <td>Focus</td>\n",
       "      <td>2009</td>\n",
       "      <td>WAULC58E95A491863</td>\n",
       "      <td>on 1/24/2020,</td>\n",
       "      <td>Honorable</td>\n",
       "      <td>Fredrick Greenroad</td>\n",
       "      <td>Skidoo</td>\n",
       "      <td>£18775.51</td>\n",
       "      <td>£307.5218717033825 per month</td>\n",
       "      <td>1</td>\n",
       "    </tr>\n",
       "    <tr>\n",
       "      <th>4</th>\n",
       "      <td>Mercury</td>\n",
       "      <td>Grand Marquis</td>\n",
       "      <td>1995</td>\n",
       "      <td>WAUKG94F56N224154</td>\n",
       "      <td>on 3/2/2020,</td>\n",
       "      <td>Honorable</td>\n",
       "      <td>Muffin Darlington</td>\n",
       "      <td>Trilith</td>\n",
       "      <td>NaN</td>\n",
       "      <td>NaN</td>\n",
       "      <td>1</td>\n",
       "    </tr>\n",
       "    <tr>\n",
       "      <th>...</th>\n",
       "      <td>...</td>\n",
       "      <td>...</td>\n",
       "      <td>...</td>\n",
       "      <td>...</td>\n",
       "      <td>...</td>\n",
       "      <td>...</td>\n",
       "      <td>...</td>\n",
       "      <td>...</td>\n",
       "      <td>...</td>\n",
       "      <td>...</td>\n",
       "      <td>...</td>\n",
       "    </tr>\n",
       "    <tr>\n",
       "      <th>11995</th>\n",
       "      <td>Ford</td>\n",
       "      <td>Taurus</td>\n",
       "      <td>1989</td>\n",
       "      <td>1G4HC5EM6BU985821</td>\n",
       "      <td>on 2/1/2020,</td>\n",
       "      <td>Rev</td>\n",
       "      <td>Anthia Van Hault</td>\n",
       "      <td>Voomm</td>\n",
       "      <td>£36273.03</td>\n",
       "      <td>£547.9439627361237 per month</td>\n",
       "      <td>4</td>\n",
       "    </tr>\n",
       "    <tr>\n",
       "      <th>11996</th>\n",
       "      <td>Chevrolet</td>\n",
       "      <td>Corvette</td>\n",
       "      <td>1955</td>\n",
       "      <td>SAJWA4DB9EL727638</td>\n",
       "      <td>on 5/28/2017,</td>\n",
       "      <td>Mrs</td>\n",
       "      <td>Kerwin Sperling</td>\n",
       "      <td>Cogilith</td>\n",
       "      <td>£25598.22</td>\n",
       "      <td>£421.1100015481617 per month</td>\n",
       "      <td>4</td>\n",
       "    </tr>\n",
       "    <tr>\n",
       "      <th>11997</th>\n",
       "      <td>Volvo</td>\n",
       "      <td>V40</td>\n",
       "      <td>2000</td>\n",
       "      <td>1ZVBP8JZ9E5788901</td>\n",
       "      <td>on 8/17/2018,</td>\n",
       "      <td>Honorable</td>\n",
       "      <td>Georas Tapson</td>\n",
       "      <td>Roombo</td>\n",
       "      <td>£4319.34</td>\n",
       "      <td>£59.67899060629221 per month</td>\n",
       "      <td>4</td>\n",
       "    </tr>\n",
       "    <tr>\n",
       "      <th>11998</th>\n",
       "      <td>Lexus</td>\n",
       "      <td>RX</td>\n",
       "      <td>2000</td>\n",
       "      <td>WAUNG74F79N231869</td>\n",
       "      <td>on 7/1/2017,</td>\n",
       "      <td>Rev</td>\n",
       "      <td>Lezlie Whitworth</td>\n",
       "      <td>Tagopia</td>\n",
       "      <td>£41179.96</td>\n",
       "      <td>£609.2465574660928 per month</td>\n",
       "      <td>4</td>\n",
       "    </tr>\n",
       "    <tr>\n",
       "      <th>11999</th>\n",
       "      <td>Mazda</td>\n",
       "      <td>Millenia</td>\n",
       "      <td>1997</td>\n",
       "      <td>WBA6B8C50FD883526</td>\n",
       "      <td>on 6/2/2018,</td>\n",
       "      <td>Rev</td>\n",
       "      <td>Juli Keming</td>\n",
       "      <td>Jamia</td>\n",
       "      <td>£10225.94</td>\n",
       "      <td>£165.84722036327264 per month</td>\n",
       "      <td>4</td>\n",
       "    </tr>\n",
       "  </tbody>\n",
       "</table>\n",
       "<p>12000 rows × 11 columns</p>\n",
       "</div>"
      ],
      "text/plain": [
       "        car_make      car_model  model_year            car_vin  \\\n",
       "0           Ford       Freestar        2003  WAUKH98E58A381109   \n",
       "1          Mazda            626        2002  3C3CFFAR4CT883916   \n",
       "2         Subaru           Baja        2003  1GYFC26209R153521   \n",
       "3           Ford          Focus        2009  WAULC58E95A491863   \n",
       "4        Mercury  Grand Marquis        1995  WAUKG94F56N224154   \n",
       "...          ...            ...         ...                ...   \n",
       "11995       Ford         Taurus        1989  1G4HC5EM6BU985821   \n",
       "11996  Chevrolet       Corvette        1955  SAJWA4DB9EL727638   \n",
       "11997      Volvo            V40        2000  1ZVBP8JZ9E5788901   \n",
       "11998      Lexus             RX        2000  WAUNG74F79N231869   \n",
       "11999      Mazda       Millenia        1997  WBA6B8C50FD883526   \n",
       "\n",
       "        purchase_date      title           full_name     dealer        rrp  \\\n",
       "0       on 6/16/2018,         Dr      Cathryn Aloigi    Tagchat  £37484.85   \n",
       "1       on 4/27/2018,         Ms          Keen Sives  Flipstorm  £19138.46   \n",
       "2      on 11/27/2017,        Mrs         Tiffy Baugh      Eabox  £24296.23   \n",
       "3       on 1/24/2020,  Honorable  Fredrick Greenroad     Skidoo  £18775.51   \n",
       "4        on 3/2/2020,  Honorable   Muffin Darlington    Trilith        NaN   \n",
       "...               ...        ...                 ...        ...        ...   \n",
       "11995    on 2/1/2020,        Rev    Anthia Van Hault      Voomm  £36273.03   \n",
       "11996   on 5/28/2017,        Mrs     Kerwin Sperling   Cogilith  £25598.22   \n",
       "11997   on 8/17/2018,  Honorable       Georas Tapson     Roombo   £4319.34   \n",
       "11998    on 7/1/2017,        Rev    Lezlie Whitworth    Tagopia  £41179.96   \n",
       "11999    on 6/2/2018,        Rev         Juli Keming      Jamia  £10225.94   \n",
       "\n",
       "                        monthly_cost  region  \n",
       "0       £540.2542348581231 per month       1  \n",
       "1      £279.55088901296773 per month       1  \n",
       "2       £386.1739856281775 per month       1  \n",
       "3       £307.5218717033825 per month       1  \n",
       "4                                NaN       1  \n",
       "...                              ...     ...  \n",
       "11995   £547.9439627361237 per month       4  \n",
       "11996   £421.1100015481617 per month       4  \n",
       "11997   £59.67899060629221 per month       4  \n",
       "11998   £609.2465574660928 per month       4  \n",
       "11999  £165.84722036327264 per month       4  \n",
       "\n",
       "[12000 rows x 11 columns]"
      ]
     },
     "execution_count": 68,
     "metadata": {},
     "output_type": "execute_result"
    }
   ],
   "source": [
    "# join the dataframes into one dataframe\n",
    "full_df = pd.concat(read_dict).reset_index(drop = True)\n",
    "\n",
    "\n",
    "# do some integrity checks\n",
    "import missingno as mn\n",
    "#mn.matrix(full_df)\n",
    "full_df.info()\n",
    "full_df.describe()\n",
    "\n",
    "# mn.matrix(full_df[full_df['region'] == 1])\n",
    "\n",
    "full_df\n"
   ]
  },
  {
   "cell_type": "code",
   "execution_count": 69,
   "metadata": {},
   "outputs": [
    {
     "name": "stdout",
     "output_type": "stream",
     "text": [
      "<class 'pandas.core.frame.DataFrame'>\n",
      "RangeIndex: 12000 entries, 0 to 11999\n",
      "Data columns (total 11 columns):\n",
      " #   Column         Non-Null Count  Dtype         \n",
      "---  ------         --------------  -----         \n",
      " 0   car_make       12000 non-null  object        \n",
      " 1   car_model      12000 non-null  object        \n",
      " 2   model_year     12000 non-null  int64         \n",
      " 3   car_vin        12000 non-null  object        \n",
      " 4   purchase_date  12000 non-null  datetime64[ns]\n",
      " 5   title          12000 non-null  object        \n",
      " 6   full_name      12000 non-null  object        \n",
      " 7   dealer         12000 non-null  object        \n",
      " 8   rrp            11510 non-null  float64       \n",
      " 9   monthly_cost   11510 non-null  float64       \n",
      " 10  region         12000 non-null  int64         \n",
      "dtypes: datetime64[ns](1), float64(2), int64(2), object(6)\n",
      "memory usage: 1.0+ MB\n"
     ]
    },
    {
     "data": {
      "text/html": [
       "<div>\n",
       "<style scoped>\n",
       "    .dataframe tbody tr th:only-of-type {\n",
       "        vertical-align: middle;\n",
       "    }\n",
       "\n",
       "    .dataframe tbody tr th {\n",
       "        vertical-align: top;\n",
       "    }\n",
       "\n",
       "    .dataframe thead th {\n",
       "        text-align: right;\n",
       "    }\n",
       "</style>\n",
       "<table border=\"1\" class=\"dataframe\">\n",
       "  <thead>\n",
       "    <tr style=\"text-align: right;\">\n",
       "      <th></th>\n",
       "      <th>model_year</th>\n",
       "      <th>rrp</th>\n",
       "      <th>monthly_cost</th>\n",
       "      <th>region</th>\n",
       "    </tr>\n",
       "  </thead>\n",
       "  <tbody>\n",
       "    <tr>\n",
       "      <th>count</th>\n",
       "      <td>12000.000000</td>\n",
       "      <td>11510.000000</td>\n",
       "      <td>11510.000000</td>\n",
       "      <td>12000.000000</td>\n",
       "    </tr>\n",
       "    <tr>\n",
       "      <th>mean</th>\n",
       "      <td>2000.237917</td>\n",
       "      <td>30903.613569</td>\n",
       "      <td>471.379674</td>\n",
       "      <td>3.500000</td>\n",
       "    </tr>\n",
       "    <tr>\n",
       "      <th>std</th>\n",
       "      <td>9.123673</td>\n",
       "      <td>18110.330517</td>\n",
       "      <td>277.889023</td>\n",
       "      <td>1.707896</td>\n",
       "    </tr>\n",
       "    <tr>\n",
       "      <th>min</th>\n",
       "      <td>1909.000000</td>\n",
       "      <td>12.040000</td>\n",
       "      <td>0.190000</td>\n",
       "      <td>1.000000</td>\n",
       "    </tr>\n",
       "    <tr>\n",
       "      <th>25%</th>\n",
       "      <td>1994.000000</td>\n",
       "      <td>16860.250000</td>\n",
       "      <td>255.925000</td>\n",
       "      <td>2.000000</td>\n",
       "    </tr>\n",
       "    <tr>\n",
       "      <th>50%</th>\n",
       "      <td>2002.000000</td>\n",
       "      <td>29760.145000</td>\n",
       "      <td>452.455000</td>\n",
       "      <td>3.500000</td>\n",
       "    </tr>\n",
       "    <tr>\n",
       "      <th>75%</th>\n",
       "      <td>2007.000000</td>\n",
       "      <td>43097.575000</td>\n",
       "      <td>656.625000</td>\n",
       "      <td>5.000000</td>\n",
       "    </tr>\n",
       "    <tr>\n",
       "      <th>max</th>\n",
       "      <td>2013.000000</td>\n",
       "      <td>118678.550000</td>\n",
       "      <td>1706.720000</td>\n",
       "      <td>6.000000</td>\n",
       "    </tr>\n",
       "  </tbody>\n",
       "</table>\n",
       "</div>"
      ],
      "text/plain": [
       "         model_year            rrp  monthly_cost        region\n",
       "count  12000.000000   11510.000000  11510.000000  12000.000000\n",
       "mean    2000.237917   30903.613569    471.379674      3.500000\n",
       "std        9.123673   18110.330517    277.889023      1.707896\n",
       "min     1909.000000      12.040000      0.190000      1.000000\n",
       "25%     1994.000000   16860.250000    255.925000      2.000000\n",
       "50%     2002.000000   29760.145000    452.455000      3.500000\n",
       "75%     2007.000000   43097.575000    656.625000      5.000000\n",
       "max     2013.000000  118678.550000   1706.720000      6.000000"
      ]
     },
     "execution_count": 69,
     "metadata": {},
     "output_type": "execute_result"
    }
   ],
   "source": [
    "# convert the purchase date using the built in pandas function - no need to remove the strings around it\n",
    "full_df['purchase_date'] = pd.to_datetime(full_df['purchase_date'])\n",
    "\n",
    "# remove the £ signs for rrp\n",
    "full_df['rrp'] = full_df['rrp'].str.replace('£','')\n",
    "# convert to numeric\n",
    "full_df['rrp'] = pd.to_numeric(full_df['rrp'])\n",
    "# round to 2dp\n",
    "full_df['rrp'] = np.round(full_df['rrp'],2)\n",
    "\n",
    "#or in one line\n",
    "# full_df['rrp'] = np.round(pd.to_numeric(full_df['rrp'].str.replace('£','')),2)\n",
    "\n",
    "# remove the £ signs for monthly_cost\n",
    "# could use regex here for more generic cases\n",
    "full_df['monthly_cost'] = full_df['monthly_cost'].str.replace('£','')\n",
    "# remove the ' per month' string\n",
    "full_df['monthly_cost'] = full_df['monthly_cost'].str.replace(' per month','')\n",
    "# convert to numeric\n",
    "full_df['monthly_cost'] = pd.to_numeric(full_df['monthly_cost'])\n",
    "# round to 2dp\n",
    "full_df['monthly_cost'] = np.round(full_df['monthly_cost'],2)\n",
    "\n",
    "# or in one line\n",
    "# full_df['monthly_cost'] = np.round(pd.to_numeric(full_df['monthly_cost'].str.replace('£','').str.replace(' per month','')),2)\n",
    "\n",
    "full_df\n",
    "\n",
    "\n",
    "# more integrity checks\n",
    "full_df.info()\n",
    "full_df.describe()\n"
   ]
  },
  {
   "cell_type": "markdown",
   "metadata": {},
   "source": [
    "<b>Answer pt. 4</b> - Audi writedown, remove missing fields, and map regions"
   ]
  },
  {
   "cell_type": "code",
   "execution_count": null,
   "metadata": {},
   "outputs": [],
   "source": [
    "# writedown audi values\n",
    "# use a list of the relevant columns to avoid repeating code\n",
    "for col in ['rrp','monthly_cost']:\n",
    "    1==1\n",
    "    # for each of the 2 columns test whether make is Audi and year < 2005 using np.where and bitwise & operator\n",
    "    full_df[col] = np.where((full_df.loc[:,'car_make'] == 'Audi') & (full_df.loc[:,'model_year'] < 2005)\n",
    "                            ,full_df.loc[:,col]*0.7,full_df.loc[:,col])\n",
    "    # if true then x 0.7 if false, leave as is\n",
    "\n",
    "# find indeces where both numeric fields are NaN using bitwise & for logical test    \n",
    "bad_indeces = full_df[(full_df['rrp'].isna()== True) & (full_df['monthly_cost'].isna() == True)].index\n",
    "\n",
    "# drop these rows\n",
    "full_df = full_df.drop(bad_indeces, axis = 0)\n",
    "\n",
    "# use map to map numbers to regions from the region_dict\n",
    "full_df['region'] = full_df.loc[:,'region'].map(region_dict)\n",
    "\n",
    "full_df\n"
   ]
  },
  {
   "cell_type": "markdown",
   "metadata": {},
   "source": [
    "<b>Answer pt.5</b> - Summarise regions"
   ]
  },
  {
   "cell_type": "code",
   "execution_count": null,
   "metadata": {},
   "outputs": [],
   "source": [
    "# group on region and make\n",
    "grouped_df = full_df.groupby(['region', 'car_make'])\n",
    "# aggregate using functions of your choice\n",
    "agg_df = grouped_df.agg({'car_vin':'count','rrp': ['mean','sum'], 'monthly_cost': ['mean']})\n",
    "\n",
    "# create list of flattened columns for ease\n",
    "new_cols = [col+'_'+function for col, function in agg_df.columns.ravel()]\n",
    "# assign new columns\n",
    "agg_df.columns = new_cols\n",
    "\n",
    "#lets round all decimal columns to 2dp\n",
    "# get a list of columns we want to round\n",
    "decimal_cols = agg_df.columns[1:4]\n",
    "# round using numpy round\n",
    "agg_df = np.round(agg_df[decimal_cols],2)\n",
    "\n",
    "# define an output path based on source path\n",
    "out_path = os.path.join(source_path,'car_sales_summary.csv')\n",
    "# output the summary to csv - let's do pipe dimited, and include the index:\n",
    "agg_df.to_csv(out_path, index = True, sep = '|')\n",
    "\n",
    "agg_df\n",
    "\n"
   ]
  },
  {
   "cell_type": "markdown",
   "metadata": {},
   "source": [
    "<b>Answer pt.6</b> - Find the rarest cars"
   ]
  },
  {
   "cell_type": "code",
   "execution_count": null,
   "metadata": {},
   "outputs": [],
   "source": [
    "# find the rarest cars\n",
    "rare_df = full_df.groupby(['car_make','car_model']).agg({'car_vin' : 'count'})\n",
    "\n",
    "# assign new column names\n",
    "rare_df.columns = ['car_count']\n",
    "\n",
    "# sort rarest to least rare\n",
    "rare_df = rare_df.sort_values(by = 'car_count', ascending = True)#\n",
    "\n",
    "rare_df"
   ]
  },
  {
   "cell_type": "code",
   "execution_count": null,
   "metadata": {},
   "outputs": [],
   "source": [
    "# find the lowest count (i.e. the rarest cars have this count)\n",
    "min_count = min(rare_df['car_count'])\n",
    "# return only these cars\n",
    "rare_df[rare_df['car_count'] == min_count]"
   ]
  },
  {
   "cell_type": "markdown",
   "metadata": {},
   "source": [
    "## Appendix - Strings and escape chars<a id = '19'></a>\n",
    "[Back to contents](#cont)"
   ]
  },
  {
   "cell_type": "markdown",
   "metadata": {},
   "source": [
    "Funnies and escape characters:"
   ]
  },
  {
   "cell_type": "code",
   "execution_count": null,
   "metadata": {},
   "outputs": [],
   "source": [
    "a = 'isn't'"
   ]
  },
  {
   "cell_type": "markdown",
   "metadata": {},
   "source": [
    "Using <code>''</code> doesn't work - quotes are different to normal eschape chars"
   ]
  },
  {
   "cell_type": "code",
   "execution_count": null,
   "metadata": {
    "scrolled": true
   },
   "outputs": [],
   "source": [
    "a = 'isn''t'\n",
    "a"
   ]
  },
  {
   "cell_type": "markdown",
   "metadata": {},
   "source": [
    "Can swap quote types"
   ]
  },
  {
   "cell_type": "code",
   "execution_count": null,
   "metadata": {},
   "outputs": [],
   "source": [
    "a = \"isn't\"\n",
    "a"
   ]
  },
  {
   "cell_type": "markdown",
   "metadata": {},
   "source": [
    "Or can escape with backslash <code>\\\\</code>"
   ]
  },
  {
   "cell_type": "code",
   "execution_count": null,
   "metadata": {
    "scrolled": true
   },
   "outputs": [],
   "source": [
    "a = 'isn\\'t'\n",
    "a"
   ]
  },
  {
   "cell_type": "markdown",
   "metadata": {},
   "source": [
    "What if the string contains <code>\\\\</code>?"
   ]
  },
  {
   "cell_type": "markdown",
   "metadata": {},
   "source": [
    "Different problem - interpreter thinks <code>\\U</code> is a unicode string"
   ]
  },
  {
   "cell_type": "code",
   "execution_count": null,
   "metadata": {},
   "outputs": [],
   "source": [
    "path = 'C:\\Users\\jasonboyle\\Desktop\\Python Training'"
   ]
  },
  {
   "cell_type": "markdown",
   "metadata": {},
   "source": [
    "Can escape your slashes!"
   ]
  },
  {
   "cell_type": "code",
   "execution_count": null,
   "metadata": {},
   "outputs": [],
   "source": [
    "path = 'C:\\\\Users\\jasonboyle\\\\Desktop\\\\Python Training'\n",
    "path"
   ]
  },
  {
   "cell_type": "markdown",
   "metadata": {},
   "source": [
    "Or use a 'raw' string"
   ]
  },
  {
   "cell_type": "code",
   "execution_count": null,
   "metadata": {},
   "outputs": [],
   "source": [
    "path = r'C:\\Users\\jasonboyle\\Desktop\\Python Training'\n",
    "path"
   ]
  }
 ],
 "metadata": {
  "kernelspec": {
   "display_name": "Python 3",
   "language": "python",
   "name": "python3"
  },
  "language_info": {
   "codemirror_mode": {
    "name": "ipython",
    "version": 3
   },
   "file_extension": ".py",
   "mimetype": "text/x-python",
   "name": "python",
   "nbconvert_exporter": "python",
   "pygments_lexer": "ipython3",
   "version": "3.7.4"
  }
 },
 "nbformat": 4,
 "nbformat_minor": 4
}
