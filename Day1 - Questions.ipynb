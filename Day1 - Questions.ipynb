{
 "cells": [
  {
   "cell_type": "markdown",
   "metadata": {},
   "source": [
    "# Introduction to Python Day 1\n",
    "## Workbook Contents <a id = 'cont'></a>\n",
    "1. [Example - Writing good code](#1)\n",
    "2. [Example - Basic syntax](#2)\n",
    "3. [Example - Script structure](#3)\n",
    "4. [Example - The for loop](#4)\n",
    "5. [Exercise - My first script](#5)\n",
    "6. [Example - Built-in functions](#6)\n",
    "7. [Example - Indexing and slicing](#7)\n",
    "8. [Example - Iterators](#8)\n",
    "9. [Example - String maniuplation](#9)\n",
    "10. [Exercise - Fixing a list of strings](#10)\n",
    "11. [Exercise - Importing data with pandas](#11)\n",
    "12. [Example - Importing and exporting data with pandas](#12)\n",
    "13. [Exercise - User defined functions](#13)\n",
    "14. [Example - pandas: addressing, indexing, and masks](#14)\n",
    "15. [Example - pandas: iterating and applying](#15)\n",
    "16. [Example - pandas: grouping and aggregating](#16)\n",
    "17. [Example - pandas: concatenating DataFrames](#17)\n",
    "18. [Exercise - collecting and analysing separate data sources](#18)\n",
    "\n"
   ]
  },
  {
   "cell_type": "markdown",
   "metadata": {},
   "source": [
    "## 1. Example - Writing good code<a id = '1'></a>\n",
    "[Back to contents](#cont)"
   ]
  },
  {
   "cell_type": "markdown",
   "metadata": {},
   "source": [
    "<b>Bad example:</b>\n",
    "\n",
    "Note that this might be ok - if you're just trying to do something quickly and plan on throwing away the code."
   ]
  },
  {
   "cell_type": "code",
   "execution_count": 1,
   "metadata": {},
   "outputs": [
    {
     "name": "stdout",
     "output_type": "stream",
     "text": [
      "7.06725 9.42 3.0 14.137166925\n"
     ]
    }
   ],
   "source": [
    "x = 3.141*1.5**2\n",
    "y = 2*3.14*1.5\n",
    "z = 2*1.5\n",
    "x2 = 4*3.14159265*1.5**3/3\n",
    "print(x,y,z,x2)"
   ]
  },
  {
   "cell_type": "markdown",
   "metadata": {},
   "source": [
    "<b>Good example:</b>\n",
    "\n",
    "Takes slightly longer to write - but is re-useable and could be picked up by someone else.<br>\n",
    "What could be done even better?"
   ]
  },
  {
   "cell_type": "code",
   "execution_count": 2,
   "metadata": {},
   "outputs": [
    {
     "name": "stdout",
     "output_type": "stream",
     "text": [
      "Area is  7.0685834625\n",
      "Circumference is  9.424777950000001\n",
      "Diameter is  3.0\n",
      "Volume is  14.137166925\n"
     ]
    }
   ],
   "source": [
    "# radius in metres\n",
    "r = 1.5\n",
    "# value of pi\n",
    "PI = 3.14159265\n",
    "\n",
    "# ** is to the power of\n",
    "# area of circle according to A = pi*r^2\n",
    "A = PI*r**2\n",
    "# circumference of circle according to c = 2*pi*r\n",
    "c = 2*PI*r\n",
    "# diameter of circle according to d = 2r\n",
    "d = 2*r\n",
    "# volume of sphere according to V = 4*pi*r^3/3\n",
    "V = 4*PI*r**3/3\n",
    "\n",
    "print('Area is ',A)\n",
    "print('Circumference is ',c)\n",
    "print('Diameter is ',d)\n",
    "print('Volume is ',V)"
   ]
  },
  {
   "cell_type": "markdown",
   "metadata": {},
   "source": [
    "## 2. Example - Basic syntax<a id = '2'></a>\n",
    "[Back to contents](#cont)"
   ]
  },
  {
   "cell_type": "markdown",
   "metadata": {},
   "source": [
    "<b>Notice the key feautres:</b>\n",
    "- different types of comment\n",
    "- string variables vs integers / numeric\n",
    "- use of keywords (e.g. <code>print</code>) and operators (e.g. <code>=</code>)\n",
    "\n",
    "N.B. the result of adding strings is different than adding integers."
   ]
  },
  {
   "cell_type": "code",
   "execution_count": 2,
   "metadata": {},
   "outputs": [
    {
     "name": "stdout",
     "output_type": "stream",
     "text": [
      "22\n"
     ]
    }
   ],
   "source": [
    "# define a string variable\n",
    "a_string = '1'\n",
    "# add two strings together and print them\n",
    "print(a_string + a_string)"
   ]
  },
  {
   "cell_type": "code",
   "execution_count": 3,
   "metadata": {},
   "outputs": [
    {
     "name": "stdout",
     "output_type": "stream",
     "text": [
      "2\n"
     ]
    }
   ],
   "source": [
    "'''define a string variable\n",
    "add two strings together\n",
    "and print them'''\n",
    "\n",
    "an_int = 1\n",
    "print(an_int + an_int)"
   ]
  },
  {
   "cell_type": "markdown",
   "metadata": {},
   "source": [
    "## 3. Example - Script Structure <a id = '3'></a>\n",
    "[Back to contents](#cont)"
   ]
  },
  {
   "cell_type": "markdown",
   "metadata": {},
   "source": [
    "<b>Read the below and feel free to modify.</b> <br>\n",
    "N.B. the below has additional comments to explain - normally you wouldn't use this many."
   ]
  },
  {
   "cell_type": "code",
   "execution_count": 6,
   "metadata": {},
   "outputs": [
    {
     "name": "stdout",
     "output_type": "stream",
     "text": [
      "This is a function!\n",
      "Function result is:  36.0\n"
     ]
    }
   ],
   "source": [
    "# -*- coding: utf-8 -*-\n",
    "\"\"\"\n",
    "Created on Mon Sep  7 16:29:43 2020\n",
    "\n",
    "@author: jasonboyle\n",
    "\"\"\"\n",
    "# script header above - not required but often auto-generated, notice triple quotes\n",
    "\n",
    "# import modules required\n",
    "import math\n",
    "\n",
    "# define any user-defined functions here:\n",
    "\n",
    "# def keyword introduces function\n",
    "def my_function(): # function arguments are enclosed in brackets (no arguments here)\n",
    "    # notice colon above, and notice that the line below the colon is indented\n",
    "    # this function just prints a pre-defined string\n",
    "    print('This is a function!')\n",
    "\n",
    "# define another function that takes an integer argument    \n",
    "def pow_2(an_int: int):\n",
    "    # an_int is defined with local scope\n",
    "    # do a simple calculation squaring the integer\n",
    "    result_int = math.pow(an_int,2) # note that math.pow takes two arguments (base and exponent) separated by ,\n",
    "    # note that this calculation can be performed as an_int**2 -it's the same\n",
    "    \n",
    "    # return the result of the calculation\n",
    "    return result_int\n",
    "\n",
    "\n",
    "# call the basic function to print our message\n",
    "my_function()\n",
    "\n",
    "\n",
    "# define the value of an integer - play around with this value to see what happens\n",
    "my_int = 6 \n",
    "\n",
    "# do a logical test\n",
    "if my_int >= 5: #>= is greater than or equal to\n",
    "    function_result = pow_2(my_int)\n",
    "    print('Function result is: ', function_result) #notice print can take multiple arguments separated by ,\n",
    "    \n",
    "else:\n",
    "    print('Integer is less than 5 - function not called')\n",
    "    \n",
    "\n"
   ]
  },
  {
   "cell_type": "markdown",
   "metadata": {},
   "source": [
    "The script is repeated here with minimal comments - it may be easier to see what's happening"
   ]
  },
  {
   "cell_type": "code",
   "execution_count": 7,
   "metadata": {},
   "outputs": [
    {
     "name": "stdout",
     "output_type": "stream",
     "text": [
      "This is a function!\n",
      "Function result is:  36.0\n"
     ]
    }
   ],
   "source": [
    "# -*- coding: utf-8 -*-\n",
    "\"\"\"\n",
    "Created on Mon Sep  7 16:29:43 2020\n",
    "\n",
    "@author: jasonboyle\n",
    "\"\"\"\n",
    "\n",
    "# import required modules\n",
    "import math\n",
    "\n",
    "# define functions\n",
    "def my_function():\n",
    "    print('This is a function!')\n",
    "\n",
    "def pow_2(an_int: int):\n",
    "    result_int = math.pow(an_int,2)\n",
    "    return result_int\n",
    "\n",
    "# call function and set int variable\n",
    "my_function()\n",
    "my_int = 6 \n",
    "\n",
    "# do logical test for my_int more than 5 - calling pow_2 if succesful\n",
    "if my_int >= 5:\n",
    "    function_result = pow_2(my_int)\n",
    "    print('Function result is: ', function_result)\n",
    "    \n",
    "else:\n",
    "    print('Integer is less than 5 - function not called')\n",
    "    \n",
    "\n"
   ]
  },
  {
   "cell_type": "markdown",
   "metadata": {},
   "source": [
    "## 4. Example - the <code>for</code> loop <a id = '4'></a>\n",
    "[Back to contents](#cont)"
   ]
  },
  {
   "cell_type": "markdown",
   "metadata": {},
   "source": [
    "Using <code>range()</code>"
   ]
  },
  {
   "cell_type": "code",
   "execution_count": 8,
   "metadata": {},
   "outputs": [
    {
     "name": "stdout",
     "output_type": "stream",
     "text": [
      "0 Hello world!\n",
      "1 Hello world!\n",
      "2 Hello world!\n",
      "3 Hello world!\n",
      "4 Hello world!\n",
      "5 Hello world!\n",
      "6 Hello world!\n",
      "7 Hello world!\n",
      "8 Hello world!\n",
      "9 Hello world!\n"
     ]
    }
   ],
   "source": [
    "for i in range(10):\n",
    "    print(i, 'Hello world!')"
   ]
  },
  {
   "cell_type": "markdown",
   "metadata": {},
   "source": [
    "<b>NB</b> - indexing in Python starts from 0. The first element is indexed as 0."
   ]
  },
  {
   "cell_type": "markdown",
   "metadata": {},
   "source": [
    "Iterating with a <code>for</code> loop"
   ]
  },
  {
   "cell_type": "code",
   "execution_count": 9,
   "metadata": {},
   "outputs": [
    {
     "name": "stdout",
     "output_type": "stream",
     "text": [
      "Sarah\n",
      "Aqib\n",
      "Jane\n",
      "Tom\n"
     ]
    }
   ],
   "source": [
    "a_list = ['Sarah','Aqib','Jane','Tom']\n",
    "\n",
    "for j in a_list:\n",
    "    print(j)"
   ]
  },
  {
   "cell_type": "markdown",
   "metadata": {},
   "source": [
    "## 5. Exercise - My First Script <a id ='5'></a>\n",
    "[Back to contents](#cont)"
   ]
  },
  {
   "cell_type": "markdown",
   "metadata": {},
   "source": [
    "\n",
    "<b>Write a script which does the following:</b>\n",
    "- Stores 2 variables (one numeric, one string)\n",
    "- Tests two logical conditions on the numeric variable\n",
    "- Prints the string if logical conditions are met\n",
    "\n",
    "Remember to use <code>if condition is true:</code>… and that <code>:</code> should be followed by an indent on the next line"
   ]
  },
  {
   "cell_type": "code",
   "execution_count": 1,
   "metadata": {},
   "outputs": [
    {
     "name": "stdout",
     "output_type": "stream",
     "text": [
      "4\n"
     ]
    }
   ],
   "source": [
    "# Enter your script here\n"
   ]
  },
  {
   "cell_type": "markdown",
   "metadata": {},
   "source": [
    "## 6. Example - key built-in functions<a id= '6'></a>\n",
    "[Back to contents](#cont)"
   ]
  },
  {
   "cell_type": "markdown",
   "metadata": {},
   "source": [
    "<code>print()</code>  - print to screen either a direct value or the value of a variable"
   ]
  },
  {
   "cell_type": "code",
   "execution_count": 13,
   "metadata": {},
   "outputs": [
    {
     "name": "stdout",
     "output_type": "stream",
     "text": [
      "Hello World!\n",
      "a_long_string\n"
     ]
    }
   ],
   "source": [
    "print('Hello World!')\n",
    "my_var = 'a_long_string'\n",
    "print(my_var)"
   ]
  },
  {
   "cell_type": "markdown",
   "metadata": {},
   "source": [
    "String formatting with <code>%</code> - this acts like a placeholder with optional format strings"
   ]
  },
  {
   "cell_type": "code",
   "execution_count": 17,
   "metadata": {},
   "outputs": [
    {
     "name": "stdout",
     "output_type": "stream",
     "text": [
      "Here is an integer 100\n",
      "Here is a float 445.688680\n",
      "Here are two presentations of the same float 445.689   446\n"
     ]
    }
   ],
   "source": [
    "an_int = 100\n",
    "a_float = 445.68868\n",
    "\n",
    "print('Here is an integer %i' %an_int)\n",
    "print('Here is a float %f' %a_float)\n",
    "print('Here are two presentations of the same float %4.3f   %3.0f' %(a_float,a_float))"
   ]
  },
  {
   "cell_type": "markdown",
   "metadata": {},
   "source": [
    "<code>max()</code> <code>min()</code>  - max / min of multiple values"
   ]
  },
  {
   "cell_type": "code",
   "execution_count": 18,
   "metadata": {
    "scrolled": true
   },
   "outputs": [
    {
     "data": {
      "text/plain": [
       "5"
      ]
     },
     "execution_count": 18,
     "metadata": {},
     "output_type": "execute_result"
    }
   ],
   "source": [
    "max([0,3,5,2])"
   ]
  },
  {
   "cell_type": "code",
   "execution_count": 19,
   "metadata": {},
   "outputs": [
    {
     "data": {
      "text/plain": [
       "0"
      ]
     },
     "execution_count": 19,
     "metadata": {},
     "output_type": "execute_result"
    }
   ],
   "source": [
    "min([0,3,5,2])"
   ]
  },
  {
   "cell_type": "markdown",
   "metadata": {},
   "source": [
    "<code>len()</code> - length of an object"
   ]
  },
  {
   "cell_type": "code",
   "execution_count": 20,
   "metadata": {},
   "outputs": [
    {
     "data": {
      "text/plain": [
       "6"
      ]
     },
     "execution_count": 20,
     "metadata": {},
     "output_type": "execute_result"
    }
   ],
   "source": [
    "len(['this','is','a','list','of','strings'])"
   ]
  },
  {
   "cell_type": "code",
   "execution_count": 21,
   "metadata": {},
   "outputs": [
    {
     "data": {
      "text/plain": [
       "16"
      ]
     },
     "execution_count": 21,
     "metadata": {},
     "output_type": "execute_result"
    }
   ],
   "source": [
    "len('arbitrary_string')"
   ]
  },
  {
   "cell_type": "markdown",
   "metadata": {},
   "source": [
    "<code>str()</code> <code>int()</code> <code>float()</code> etc.  - convert data types"
   ]
  },
  {
   "cell_type": "code",
   "execution_count": 22,
   "metadata": {},
   "outputs": [
    {
     "data": {
      "text/plain": [
       "'1'"
      ]
     },
     "execution_count": 22,
     "metadata": {},
     "output_type": "execute_result"
    }
   ],
   "source": [
    "str(1)"
   ]
  },
  {
   "cell_type": "code",
   "execution_count": 23,
   "metadata": {
    "scrolled": true
   },
   "outputs": [
    {
     "data": {
      "text/plain": [
       "1"
      ]
     },
     "execution_count": 23,
     "metadata": {},
     "output_type": "execute_result"
    }
   ],
   "source": [
    "int('1')\n"
   ]
  },
  {
   "cell_type": "code",
   "execution_count": 24,
   "metadata": {
    "scrolled": true
   },
   "outputs": [
    {
     "data": {
      "text/plain": [
       "1.0"
      ]
     },
     "execution_count": 24,
     "metadata": {},
     "output_type": "execute_result"
    }
   ],
   "source": [
    "float(1)"
   ]
  },
  {
   "cell_type": "markdown",
   "metadata": {},
   "source": [
    "## 7. Example - Indexing and slicing<a id = '7'></a>\n",
    "[Back to contents](#cont)"
   ]
  },
  {
   "cell_type": "markdown",
   "metadata": {},
   "source": [
    "Create a <code>list</code>"
   ]
  },
  {
   "cell_type": "code",
   "execution_count": 25,
   "metadata": {},
   "outputs": [],
   "source": [
    "a = ['zero','one','two','three','four','five','six','seven','eight','nine','ten']"
   ]
  },
  {
   "cell_type": "markdown",
   "metadata": {},
   "source": [
    "Zero-based indexing"
   ]
  },
  {
   "cell_type": "code",
   "execution_count": 26,
   "metadata": {
    "scrolled": true
   },
   "outputs": [
    {
     "data": {
      "text/plain": [
       "'three'"
      ]
     },
     "execution_count": 26,
     "metadata": {},
     "output_type": "execute_result"
    }
   ],
   "source": [
    "a[3]"
   ]
  },
  {
   "cell_type": "markdown",
   "metadata": {},
   "source": [
    "Negative indices are an offset from the end of the sequence."
   ]
  },
  {
   "cell_type": "code",
   "execution_count": 27,
   "metadata": {
    "scrolled": true
   },
   "outputs": [
    {
     "data": {
      "text/plain": [
       "'eight'"
      ]
     },
     "execution_count": 27,
     "metadata": {},
     "output_type": "execute_result"
    }
   ],
   "source": [
    "a[-3]"
   ]
  },
  {
   "cell_type": "markdown",
   "metadata": {},
   "source": [
    "This is known as a slice. Note that the lower limit is inclusive, while the upper limit it exclusive."
   ]
  },
  {
   "cell_type": "code",
   "execution_count": 28,
   "metadata": {},
   "outputs": [
    {
     "data": {
      "text/plain": [
       "['three', 'four', 'five']"
      ]
     },
     "execution_count": 28,
     "metadata": {},
     "output_type": "execute_result"
    }
   ],
   "source": [
    "a[3:6]"
   ]
  },
  {
   "cell_type": "markdown",
   "metadata": {},
   "source": [
    "Yes, it's empty: you reached the end before you started!"
   ]
  },
  {
   "cell_type": "code",
   "execution_count": 29,
   "metadata": {},
   "outputs": [
    {
     "data": {
      "text/plain": [
       "[]"
      ]
     },
     "execution_count": 29,
     "metadata": {},
     "output_type": "execute_result"
    }
   ],
   "source": [
    "a[6:3]"
   ]
  },
  {
   "cell_type": "markdown",
   "metadata": {},
   "source": [
    "Leaving out a limit means \"go as far as you can in that direction\"."
   ]
  },
  {
   "cell_type": "code",
   "execution_count": 30,
   "metadata": {},
   "outputs": [
    {
     "data": {
      "text/plain": [
       "['zero', 'one', 'two', 'three', 'four', 'five']"
      ]
     },
     "execution_count": 30,
     "metadata": {},
     "output_type": "execute_result"
    }
   ],
   "source": [
    "a[:6]"
   ]
  },
  {
   "cell_type": "code",
   "execution_count": 31,
   "metadata": {},
   "outputs": [
    {
     "data": {
      "text/plain": [
       "['six', 'seven', 'eight', 'nine', 'ten']"
      ]
     },
     "execution_count": 31,
     "metadata": {},
     "output_type": "execute_result"
    }
   ],
   "source": [
    "a[6:]"
   ]
  },
  {
   "cell_type": "markdown",
   "metadata": {},
   "source": [
    "A third number gives the step size. It can be negative. "
   ]
  },
  {
   "cell_type": "code",
   "execution_count": 32,
   "metadata": {},
   "outputs": [
    {
     "data": {
      "text/plain": [
       "['zero', 'two', 'four']"
      ]
     },
     "execution_count": 32,
     "metadata": {},
     "output_type": "execute_result"
    }
   ],
   "source": [
    "a[0:6:2]"
   ]
  },
  {
   "cell_type": "markdown",
   "metadata": {},
   "source": [
    "## 8. Example - Iterators<a id = '8'></a>\n",
    "[Back to contents](#cont)"
   ]
  },
  {
   "cell_type": "markdown",
   "metadata": {},
   "source": [
    "Using the list from before:"
   ]
  },
  {
   "cell_type": "code",
   "execution_count": 38,
   "metadata": {},
   "outputs": [],
   "source": [
    "a = ['zero','one','two','three','four','five','six','seven','eight','nine','ten']"
   ]
  },
  {
   "cell_type": "markdown",
   "metadata": {},
   "source": [
    "Using a manually constructed <code>for</code> loop - we've got the start and end points wrong so have missed 'zero' and got an error as we tried to access an element that doesn't exist."
   ]
  },
  {
   "cell_type": "code",
   "execution_count": 39,
   "metadata": {},
   "outputs": [
    {
     "name": "stdout",
     "output_type": "stream",
     "text": [
      "one\n",
      "two\n",
      "three\n",
      "four\n",
      "five\n",
      "six\n",
      "seven\n",
      "eight\n",
      "nine\n",
      "ten\n"
     ]
    },
    {
     "ename": "IndexError",
     "evalue": "list index out of range",
     "output_type": "error",
     "traceback": [
      "\u001b[1;31m---------------------------------------------------------------------------\u001b[0m",
      "\u001b[1;31mIndexError\u001b[0m                                Traceback (most recent call last)",
      "\u001b[1;32m<ipython-input-39-91d043118d55>\u001b[0m in \u001b[0;36m<module>\u001b[1;34m\u001b[0m\n\u001b[0;32m      1\u001b[0m \u001b[1;32mfor\u001b[0m \u001b[0mi\u001b[0m \u001b[1;32min\u001b[0m \u001b[0mrange\u001b[0m\u001b[1;33m(\u001b[0m\u001b[1;36m1\u001b[0m\u001b[1;33m,\u001b[0m\u001b[1;36m12\u001b[0m\u001b[1;33m)\u001b[0m\u001b[1;33m:\u001b[0m\u001b[1;33m\u001b[0m\u001b[1;33m\u001b[0m\u001b[0m\n\u001b[1;32m----> 2\u001b[1;33m     \u001b[0mprint\u001b[0m\u001b[1;33m(\u001b[0m\u001b[0ma\u001b[0m\u001b[1;33m[\u001b[0m\u001b[0mi\u001b[0m\u001b[1;33m]\u001b[0m\u001b[1;33m)\u001b[0m\u001b[1;33m\u001b[0m\u001b[1;33m\u001b[0m\u001b[0m\n\u001b[0m",
      "\u001b[1;31mIndexError\u001b[0m: list index out of range"
     ]
    }
   ],
   "source": [
    "for i in range(1,12):\n",
    "    print(a[i])"
   ]
  },
  {
   "cell_type": "markdown",
   "metadata": {},
   "source": [
    "Let's add a new value to the list"
   ]
  },
  {
   "cell_type": "code",
   "execution_count": 40,
   "metadata": {},
   "outputs": [
    {
     "data": {
      "text/plain": [
       "['zero',\n",
       " 'one',\n",
       " 'two',\n",
       " 'three',\n",
       " 'four',\n",
       " 'five',\n",
       " 'six',\n",
       " 'seven',\n",
       " 'eight',\n",
       " 'nine',\n",
       " 'ten',\n",
       " 'eleven']"
      ]
     },
     "execution_count": 40,
     "metadata": {},
     "output_type": "execute_result"
    }
   ],
   "source": [
    "a.append('eleven')\n",
    "a"
   ]
  },
  {
   "cell_type": "markdown",
   "metadata": {},
   "source": [
    "Using <code>for</code>"
   ]
  },
  {
   "cell_type": "code",
   "execution_count": 41,
   "metadata": {},
   "outputs": [
    {
     "name": "stdout",
     "output_type": "stream",
     "text": [
      "zero\n",
      "one\n",
      "two\n",
      "three\n",
      "four\n",
      "five\n",
      "six\n",
      "seven\n",
      "eight\n",
      "nine\n",
      "ten\n",
      "eleven\n"
     ]
    }
   ],
   "source": [
    "for i in a:\n",
    "    print(i)"
   ]
  },
  {
   "cell_type": "markdown",
   "metadata": {},
   "source": [
    "Using <code>enumerate</code>"
   ]
  },
  {
   "cell_type": "code",
   "execution_count": 42,
   "metadata": {},
   "outputs": [
    {
     "name": "stdout",
     "output_type": "stream",
     "text": [
      "0 zero\n",
      "1 one\n",
      "2 two\n",
      "3 three\n",
      "4 four\n",
      "5 five\n",
      "6 six\n",
      "7 seven\n",
      "8 eight\n",
      "9 nine\n",
      "10 ten\n",
      "11 eleven\n"
     ]
    }
   ],
   "source": [
    "for i, val in enumerate(a):\n",
    "    print(i, val)"
   ]
  },
  {
   "cell_type": "markdown",
   "metadata": {},
   "source": [
    "With a slice to print the final 3 values from high to low"
   ]
  },
  {
   "cell_type": "code",
   "execution_count": 43,
   "metadata": {},
   "outputs": [
    {
     "name": "stdout",
     "output_type": "stream",
     "text": [
      "0 eleven\n",
      "1 ten\n",
      "2 nine\n"
     ]
    }
   ],
   "source": [
    "for i, val in enumerate(a[-1:-4:-1]):\n",
    "    print(i, val)"
   ]
  },
  {
   "cell_type": "markdown",
   "metadata": {},
   "source": [
    "## 9. Example - string manipulation<a id = '9'></a>\n",
    "[Back to contents](#cont)"
   ]
  },
  {
   "cell_type": "markdown",
   "metadata": {},
   "source": [
    "Define a string (datatype <code>str</code>)"
   ]
  },
  {
   "cell_type": "code",
   "execution_count": 44,
   "metadata": {},
   "outputs": [],
   "source": [
    "my_string = 'WBS-1533271'"
   ]
  },
  {
   "cell_type": "markdown",
   "metadata": {},
   "source": [
    "Slicing works with strings too! As strings are just arrays of characters"
   ]
  },
  {
   "cell_type": "code",
   "execution_count": 45,
   "metadata": {},
   "outputs": [
    {
     "data": {
      "text/plain": [
       "'1533'"
      ]
     },
     "execution_count": 45,
     "metadata": {},
     "output_type": "execute_result"
    }
   ],
   "source": [
    "my_string[4:8]"
   ]
  },
  {
   "cell_type": "markdown",
   "metadata": {},
   "source": [
    "Stack a slice to perform two concurrent slices"
   ]
  },
  {
   "cell_type": "code",
   "execution_count": 46,
   "metadata": {},
   "outputs": [
    {
     "data": {
      "text/plain": [
       "'15'"
      ]
     },
     "execution_count": 46,
     "metadata": {},
     "output_type": "execute_result"
    }
   ],
   "source": [
    "my_string[:6][-2:]"
   ]
  },
  {
   "cell_type": "markdown",
   "metadata": {},
   "source": [
    "Flip the string (<code>::</code> indicates the whole string, <code>-1</code> indicates in reverse)"
   ]
  },
  {
   "cell_type": "code",
   "execution_count": 47,
   "metadata": {},
   "outputs": [
    {
     "data": {
      "text/plain": [
       "'1723351-SBW'"
      ]
     },
     "execution_count": 47,
     "metadata": {},
     "output_type": "execute_result"
    }
   ],
   "source": [
    "my_string[::-1]"
   ]
  },
  {
   "cell_type": "markdown",
   "metadata": {},
   "source": [
    "Split the string based on a particular character using <code>.split()</code> - returns a <code>list</code>"
   ]
  },
  {
   "cell_type": "code",
   "execution_count": 48,
   "metadata": {},
   "outputs": [
    {
     "data": {
      "text/plain": [
       "['WBS', '1533271']"
      ]
     },
     "execution_count": 48,
     "metadata": {},
     "output_type": "execute_result"
    }
   ],
   "source": [
    "my_string.split('-')"
   ]
  },
  {
   "cell_type": "markdown",
   "metadata": {},
   "source": [
    "Count occurences of a particular character using <code>.count()</code>"
   ]
  },
  {
   "cell_type": "code",
   "execution_count": 49,
   "metadata": {},
   "outputs": [
    {
     "data": {
      "text/plain": [
       "2"
      ]
     },
     "execution_count": 49,
     "metadata": {},
     "output_type": "execute_result"
    }
   ],
   "source": [
    "my_string.count('3')"
   ]
  },
  {
   "cell_type": "markdown",
   "metadata": {},
   "source": [
    "More powerful string searching with <code>regex</code>:"
   ]
  },
  {
   "cell_type": "code",
   "execution_count": 2,
   "metadata": {},
   "outputs": [
    {
     "data": {
      "text/plain": [
       "<re.Match object; span=(0, 17), match='The rain in Spain'>"
      ]
     },
     "execution_count": 2,
     "metadata": {},
     "output_type": "execute_result"
    }
   ],
   "source": [
    "import re\n",
    "\n",
    "string1 = 'The rain in Spain'\n",
    "string2 = 'The dog in Spain'\n",
    "string3 = 'The cat in spain'\n",
    "\n",
    "re.search('^The.*Spain$', string1) \n"
   ]
  },
  {
   "cell_type": "code",
   "execution_count": 3,
   "metadata": {},
   "outputs": [
    {
     "data": {
      "text/plain": [
       "<re.Match object; span=(0, 16), match='The dog in Spain'>"
      ]
     },
     "execution_count": 3,
     "metadata": {},
     "output_type": "execute_result"
    }
   ],
   "source": [
    "re.search('^The.*Spain$', string2) "
   ]
  },
  {
   "cell_type": "code",
   "execution_count": 5,
   "metadata": {},
   "outputs": [],
   "source": [
    "re.search('^The.*Spain$', string3) "
   ]
  },
  {
   "cell_type": "code",
   "execution_count": null,
   "metadata": {},
   "outputs": [],
   "source": []
  },
  {
   "cell_type": "markdown",
   "metadata": {},
   "source": [
    "## 10. Exercise - Fixing a list of strings<a id = '10'></a>\n",
    "[Back to contents](#cont)"
   ]
  },
  {
   "cell_type": "markdown",
   "metadata": {},
   "source": [
    "Starting with a <code>list</code> of strings below these have the following characteristics:\n",
    "- Each string has a person's 'spirit animal' and their full name\n",
    "- Animals are separated by '_' from the name\n",
    "- Names are in order first then last, separated by a space\n",
    "- Animals have accidentally been entered in reverse order\n",
    "- There are some blank entries which we're not interested in\n",
    "Example: John Smith's spirit animal is a dog - the string would be 'god_John Smith'\n",
    "\n",
    "<b>Requirement</b>\n",
    "1. Split the strings into three separate lists first name, last name, spirit animal\n",
    "2. The animal list should contain animals the right way round\n",
    "3. Some strings in the list are blank - get rid of these, they shouldn't show up in the final lists\n",
    "4. BONUS - get a list of animals which are 'subspecies' these have commas in the animal name: e.g. 'dog, labrador'\n",
    "5. BONUS - create a new list of strings which recombines and expands on the separate lists in a useful way: e.g. 'John Smith's spirit animal is a dog'\n",
    "6. BONUS - count the number of subspecies\n",
    "\n",
    "<b>HINT</b>\n",
    "\n",
    "- Think about how you can fix one string on its own, then how can you extend this to a list, creating multiple results lists.\n",
    "- You will need to combine what we have learned about strings, iterators, indexing, and lists"
   ]
  },
  {
   "cell_type": "code",
   "execution_count": 2,
   "metadata": {},
   "outputs": [
    {
     "data": {
      "text/plain": [
       "['retaw ,naageL_Cacilie Lenahan',\n",
       " '',\n",
       " 'ylzzirg ,raeB_Crichton Comelini',\n",
       " 'dekcen-ylloow ,krotS_Cosetta Micallef',\n",
       " 'nainosduh ,tiwdoG_Dolly Dyer',\n",
       " 'esuorg egas retaerG_Meaghan Abbett',\n",
       " 'enipucrop naciremA htroN_Banky Lukash',\n",
       " 'alaoK_Gian Yarranton',\n",
       " 'retto revir naciremA htroN_Ariel Brett',\n",
       " '',\n",
       " 'elgae ynwaT_Matthus Sellner',\n",
       " 'ooragnak decaf-kcalB_Ethel De Bernardi',\n",
       " 'eulb ,kcocaeP_Paulie Reddecliffe',\n",
       " 'esiotrot treseD_Bastien Unwin',\n",
       " '',\n",
       " 'gohegdeh nacirfA htuoS_Ambrosio Heamus',\n",
       " '',\n",
       " '',\n",
       " 'nrehtuos ,gniwpaL_Jobey Rosini',\n",
       " 'yraccep deppil-etihW_Libbi Jeske',\n",
       " 'yballaw eligA_Arabela MacManus',\n",
       " 'ekans recaR_Wilfrid Brownrigg',\n",
       " 'kcalb ,nawS_Delinda Broschke',\n",
       " 'dedaeh-wolley ,aracaraC_Robbie Kittman',\n",
       " 'llibnepo ,krotS_Gaspar Butchers']"
      ]
     },
     "execution_count": 2,
     "metadata": {},
     "output_type": "execute_result"
    }
   ],
   "source": [
    "string_list = ['retaw ,naageL_Cacilie Lenahan', '', 'ylzzirg ,raeB_Crichton Comelini',\n",
    "'dekcen-ylloow ,krotS_Cosetta Micallef', 'nainosduh ,tiwdoG_Dolly Dyer',\n",
    "'esuorg egas retaerG_Meaghan Abbett', 'enipucrop naciremA htroN_Banky Lukash',\n",
    "'alaoK_Gian Yarranton', 'retto revir naciremA htroN_Ariel Brett', '',\n",
    "'elgae ynwaT_Matthus Sellner', 'ooragnak decaf-kcalB_Ethel De Bernardi',\n",
    "'eulb ,kcocaeP_Paulie Reddecliffe', 'esiotrot treseD_Bastien Unwin', '',\n",
    "'gohegdeh nacirfA htuoS_Ambrosio Heamus', '', '', 'nrehtuos ,gniwpaL_Jobey Rosini',\n",
    "'yraccep deppil-etihW_Libbi Jeske', 'yballaw eligA_Arabela MacManus',\n",
    "'ekans recaR_Wilfrid Brownrigg', 'kcalb ,nawS_Delinda Broschke',\n",
    "'dedaeh-wolley ,aracaraC_Robbie Kittman', 'llibnepo ,krotS_Gaspar Butchers']\n",
    "\n",
    "# Write your solution here\n",
    "string_list"
   ]
  },
  {
   "cell_type": "markdown",
   "metadata": {},
   "source": [
    "## 11. Exercise - importing data with pandas<a id = '11'></a> \n",
    "[Back to contents](#cont)"
   ]
  },
  {
   "cell_type": "markdown",
   "metadata": {},
   "source": [
    "<b>Requirement</b>\n",
    "1. Read in <code>.csv</code> data from the following location <code>C:\\Users\\student\\Desktop\\Python Training\\MOCK_DATA.csv</code>"
   ]
  },
  {
   "cell_type": "markdown",
   "metadata": {},
   "source": [
    "<b>Key pandas functions for import and export:</b>\n",
    "- <code>pd.read_csv(a_path)</code>\n",
    "- <code>pd.read_excel(a_path)</code>\n",
    "- <code>pd.to_csv(a_path)</code>\n",
    "- <code>pd.to_excel(a_path)</code>"
   ]
  },
  {
   "cell_type": "code",
   "execution_count": 53,
   "metadata": {},
   "outputs": [],
   "source": [
    "import pandas as pd\n",
    "# your code goes here"
   ]
  },
  {
   "cell_type": "markdown",
   "metadata": {},
   "source": [
    "## 12. Example - importing and exporting data with pandas<a id = '12'></a> \n",
    "[Back to contents](#cont)"
   ]
  },
  {
   "cell_type": "markdown",
   "metadata": {},
   "source": [
    "Continuing from the example DataFrame above - let's check the columns"
   ]
  },
  {
   "cell_type": "code",
   "execution_count": 146,
   "metadata": {},
   "outputs": [
    {
     "data": {
      "text/plain": [
       "array(['id', 'first_name', 'last_name', 'email', 'gender', 'ip_address',\n",
       "       'salary', 'date_of_birth'], dtype=object)"
      ]
     },
     "execution_count": 146,
     "metadata": {},
     "output_type": "execute_result"
    }
   ],
   "source": [
    "my_df = pd.read_csv(data_path)\n",
    "my_df.columns.values"
   ]
  },
  {
   "cell_type": "markdown",
   "metadata": {},
   "source": [
    "\n",
    "Let's do some data manipulation"
   ]
  },
  {
   "cell_type": "markdown",
   "metadata": {},
   "source": [
    "Create a new column for full name"
   ]
  },
  {
   "cell_type": "code",
   "execution_count": 147,
   "metadata": {},
   "outputs": [
    {
     "data": {
      "text/html": [
       "<div>\n",
       "<style scoped>\n",
       "    .dataframe tbody tr th:only-of-type {\n",
       "        vertical-align: middle;\n",
       "    }\n",
       "\n",
       "    .dataframe tbody tr th {\n",
       "        vertical-align: top;\n",
       "    }\n",
       "\n",
       "    .dataframe thead th {\n",
       "        text-align: right;\n",
       "    }\n",
       "</style>\n",
       "<table border=\"1\" class=\"dataframe\">\n",
       "  <thead>\n",
       "    <tr style=\"text-align: right;\">\n",
       "      <th></th>\n",
       "      <th>id</th>\n",
       "      <th>first_name</th>\n",
       "      <th>last_name</th>\n",
       "      <th>email</th>\n",
       "      <th>gender</th>\n",
       "      <th>ip_address</th>\n",
       "      <th>salary</th>\n",
       "      <th>date_of_birth</th>\n",
       "      <th>full_name</th>\n",
       "    </tr>\n",
       "  </thead>\n",
       "  <tbody>\n",
       "    <tr>\n",
       "      <th>0</th>\n",
       "      <td>1</td>\n",
       "      <td>Graham</td>\n",
       "      <td>Ivanenkov</td>\n",
       "      <td>givanenkov0@uiuc.edu</td>\n",
       "      <td>Male</td>\n",
       "      <td>12.58.104.199</td>\n",
       "      <td>102778</td>\n",
       "      <td>11/06/1969</td>\n",
       "      <td>Graham Ivanenkov</td>\n",
       "    </tr>\n",
       "    <tr>\n",
       "      <th>1</th>\n",
       "      <td>2</td>\n",
       "      <td>Karlis</td>\n",
       "      <td>Ballchin</td>\n",
       "      <td>kballchin1@alibaba.com</td>\n",
       "      <td>Male</td>\n",
       "      <td>128.63.193.159</td>\n",
       "      <td>70340</td>\n",
       "      <td>10/04/1969</td>\n",
       "      <td>Karlis Ballchin</td>\n",
       "    </tr>\n",
       "    <tr>\n",
       "      <th>2</th>\n",
       "      <td>3</td>\n",
       "      <td>Moria</td>\n",
       "      <td>Barber</td>\n",
       "      <td>mbarber2@oaic.gov.au</td>\n",
       "      <td>Female</td>\n",
       "      <td>175.165.231.76</td>\n",
       "      <td>28931</td>\n",
       "      <td>05/03/1950</td>\n",
       "      <td>Moria Barber</td>\n",
       "    </tr>\n",
       "    <tr>\n",
       "      <th>3</th>\n",
       "      <td>4</td>\n",
       "      <td>Leighton</td>\n",
       "      <td>Quinnette</td>\n",
       "      <td>lquinnette3@biblegateway.com</td>\n",
       "      <td>Male</td>\n",
       "      <td>21.218.156.217</td>\n",
       "      <td>20684</td>\n",
       "      <td>11/03/1985</td>\n",
       "      <td>Leighton Quinnette</td>\n",
       "    </tr>\n",
       "    <tr>\n",
       "      <th>4</th>\n",
       "      <td>5</td>\n",
       "      <td>Trenton</td>\n",
       "      <td>Farmiloe</td>\n",
       "      <td>tfarmiloe4@webmd.com</td>\n",
       "      <td>Male</td>\n",
       "      <td>223.133.70.216</td>\n",
       "      <td>106946</td>\n",
       "      <td>09/12/1951</td>\n",
       "      <td>Trenton Farmiloe</td>\n",
       "    </tr>\n",
       "    <tr>\n",
       "      <th>...</th>\n",
       "      <td>...</td>\n",
       "      <td>...</td>\n",
       "      <td>...</td>\n",
       "      <td>...</td>\n",
       "      <td>...</td>\n",
       "      <td>...</td>\n",
       "      <td>...</td>\n",
       "      <td>...</td>\n",
       "      <td>...</td>\n",
       "    </tr>\n",
       "    <tr>\n",
       "      <th>995</th>\n",
       "      <td>996</td>\n",
       "      <td>Innis</td>\n",
       "      <td>Lindell</td>\n",
       "      <td>ilindellrn@privacy.gov.au</td>\n",
       "      <td>Male</td>\n",
       "      <td>33.228.210.6</td>\n",
       "      <td>26023</td>\n",
       "      <td>06/02/1970</td>\n",
       "      <td>Innis Lindell</td>\n",
       "    </tr>\n",
       "    <tr>\n",
       "      <th>996</th>\n",
       "      <td>997</td>\n",
       "      <td>Edin</td>\n",
       "      <td>Gajewski</td>\n",
       "      <td>egajewskiro@privacy.gov.au</td>\n",
       "      <td>Female</td>\n",
       "      <td>7.180.8.157</td>\n",
       "      <td>18719</td>\n",
       "      <td>26/09/1971</td>\n",
       "      <td>Edin Gajewski</td>\n",
       "    </tr>\n",
       "    <tr>\n",
       "      <th>997</th>\n",
       "      <td>998</td>\n",
       "      <td>Seymour</td>\n",
       "      <td>Boobier</td>\n",
       "      <td>sboobierrp@noaa.gov</td>\n",
       "      <td>Male</td>\n",
       "      <td>105.196.207.20</td>\n",
       "      <td>22734</td>\n",
       "      <td>28/07/1999</td>\n",
       "      <td>Seymour Boobier</td>\n",
       "    </tr>\n",
       "    <tr>\n",
       "      <th>998</th>\n",
       "      <td>999</td>\n",
       "      <td>Gerick</td>\n",
       "      <td>Seyers</td>\n",
       "      <td>gseyersrq@unc.edu</td>\n",
       "      <td>Male</td>\n",
       "      <td>220.22.200.1</td>\n",
       "      <td>85659</td>\n",
       "      <td>10/11/1950</td>\n",
       "      <td>Gerick Seyers</td>\n",
       "    </tr>\n",
       "    <tr>\n",
       "      <th>999</th>\n",
       "      <td>1000</td>\n",
       "      <td>Dulcine</td>\n",
       "      <td>Hearl</td>\n",
       "      <td>dhearlrr@tripadvisor.com</td>\n",
       "      <td>Female</td>\n",
       "      <td>21.39.192.200</td>\n",
       "      <td>85235</td>\n",
       "      <td>09/03/2000</td>\n",
       "      <td>Dulcine Hearl</td>\n",
       "    </tr>\n",
       "  </tbody>\n",
       "</table>\n",
       "<p>1000 rows × 9 columns</p>\n",
       "</div>"
      ],
      "text/plain": [
       "       id first_name  last_name                         email  gender  \\\n",
       "0       1     Graham  Ivanenkov          givanenkov0@uiuc.edu    Male   \n",
       "1       2     Karlis   Ballchin        kballchin1@alibaba.com    Male   \n",
       "2       3      Moria     Barber          mbarber2@oaic.gov.au  Female   \n",
       "3       4   Leighton  Quinnette  lquinnette3@biblegateway.com    Male   \n",
       "4       5    Trenton   Farmiloe          tfarmiloe4@webmd.com    Male   \n",
       "..    ...        ...        ...                           ...     ...   \n",
       "995   996      Innis    Lindell     ilindellrn@privacy.gov.au    Male   \n",
       "996   997       Edin   Gajewski    egajewskiro@privacy.gov.au  Female   \n",
       "997   998    Seymour    Boobier           sboobierrp@noaa.gov    Male   \n",
       "998   999     Gerick     Seyers             gseyersrq@unc.edu    Male   \n",
       "999  1000    Dulcine      Hearl      dhearlrr@tripadvisor.com  Female   \n",
       "\n",
       "         ip_address  salary date_of_birth           full_name  \n",
       "0     12.58.104.199  102778    11/06/1969    Graham Ivanenkov  \n",
       "1    128.63.193.159   70340    10/04/1969     Karlis Ballchin  \n",
       "2    175.165.231.76   28931    05/03/1950        Moria Barber  \n",
       "3    21.218.156.217   20684    11/03/1985  Leighton Quinnette  \n",
       "4    223.133.70.216  106946    09/12/1951    Trenton Farmiloe  \n",
       "..              ...     ...           ...                 ...  \n",
       "995    33.228.210.6   26023    06/02/1970       Innis Lindell  \n",
       "996     7.180.8.157   18719    26/09/1971       Edin Gajewski  \n",
       "997  105.196.207.20   22734    28/07/1999     Seymour Boobier  \n",
       "998    220.22.200.1   85659    10/11/1950       Gerick Seyers  \n",
       "999   21.39.192.200   85235    09/03/2000       Dulcine Hearl  \n",
       "\n",
       "[1000 rows x 9 columns]"
      ]
     },
     "execution_count": 147,
     "metadata": {},
     "output_type": "execute_result"
    }
   ],
   "source": [
    "my_df['full_name'] = my_df['first_name'] + ' ' + my_df['last_name']\n",
    "my_df"
   ]
  },
  {
   "cell_type": "markdown",
   "metadata": {},
   "source": [
    "Get rid of the ip adress column using <code>drop</code> as it's surplus"
   ]
  },
  {
   "cell_type": "code",
   "execution_count": 148,
   "metadata": {},
   "outputs": [
    {
     "data": {
      "text/html": [
       "<div>\n",
       "<style scoped>\n",
       "    .dataframe tbody tr th:only-of-type {\n",
       "        vertical-align: middle;\n",
       "    }\n",
       "\n",
       "    .dataframe tbody tr th {\n",
       "        vertical-align: top;\n",
       "    }\n",
       "\n",
       "    .dataframe thead th {\n",
       "        text-align: right;\n",
       "    }\n",
       "</style>\n",
       "<table border=\"1\" class=\"dataframe\">\n",
       "  <thead>\n",
       "    <tr style=\"text-align: right;\">\n",
       "      <th></th>\n",
       "      <th>id</th>\n",
       "      <th>first_name</th>\n",
       "      <th>last_name</th>\n",
       "      <th>email</th>\n",
       "      <th>gender</th>\n",
       "      <th>salary</th>\n",
       "      <th>date_of_birth</th>\n",
       "      <th>full_name</th>\n",
       "    </tr>\n",
       "  </thead>\n",
       "  <tbody>\n",
       "    <tr>\n",
       "      <th>0</th>\n",
       "      <td>1</td>\n",
       "      <td>Graham</td>\n",
       "      <td>Ivanenkov</td>\n",
       "      <td>givanenkov0@uiuc.edu</td>\n",
       "      <td>Male</td>\n",
       "      <td>102778</td>\n",
       "      <td>11/06/1969</td>\n",
       "      <td>Graham Ivanenkov</td>\n",
       "    </tr>\n",
       "    <tr>\n",
       "      <th>1</th>\n",
       "      <td>2</td>\n",
       "      <td>Karlis</td>\n",
       "      <td>Ballchin</td>\n",
       "      <td>kballchin1@alibaba.com</td>\n",
       "      <td>Male</td>\n",
       "      <td>70340</td>\n",
       "      <td>10/04/1969</td>\n",
       "      <td>Karlis Ballchin</td>\n",
       "    </tr>\n",
       "    <tr>\n",
       "      <th>2</th>\n",
       "      <td>3</td>\n",
       "      <td>Moria</td>\n",
       "      <td>Barber</td>\n",
       "      <td>mbarber2@oaic.gov.au</td>\n",
       "      <td>Female</td>\n",
       "      <td>28931</td>\n",
       "      <td>05/03/1950</td>\n",
       "      <td>Moria Barber</td>\n",
       "    </tr>\n",
       "    <tr>\n",
       "      <th>3</th>\n",
       "      <td>4</td>\n",
       "      <td>Leighton</td>\n",
       "      <td>Quinnette</td>\n",
       "      <td>lquinnette3@biblegateway.com</td>\n",
       "      <td>Male</td>\n",
       "      <td>20684</td>\n",
       "      <td>11/03/1985</td>\n",
       "      <td>Leighton Quinnette</td>\n",
       "    </tr>\n",
       "    <tr>\n",
       "      <th>4</th>\n",
       "      <td>5</td>\n",
       "      <td>Trenton</td>\n",
       "      <td>Farmiloe</td>\n",
       "      <td>tfarmiloe4@webmd.com</td>\n",
       "      <td>Male</td>\n",
       "      <td>106946</td>\n",
       "      <td>09/12/1951</td>\n",
       "      <td>Trenton Farmiloe</td>\n",
       "    </tr>\n",
       "    <tr>\n",
       "      <th>...</th>\n",
       "      <td>...</td>\n",
       "      <td>...</td>\n",
       "      <td>...</td>\n",
       "      <td>...</td>\n",
       "      <td>...</td>\n",
       "      <td>...</td>\n",
       "      <td>...</td>\n",
       "      <td>...</td>\n",
       "    </tr>\n",
       "    <tr>\n",
       "      <th>995</th>\n",
       "      <td>996</td>\n",
       "      <td>Innis</td>\n",
       "      <td>Lindell</td>\n",
       "      <td>ilindellrn@privacy.gov.au</td>\n",
       "      <td>Male</td>\n",
       "      <td>26023</td>\n",
       "      <td>06/02/1970</td>\n",
       "      <td>Innis Lindell</td>\n",
       "    </tr>\n",
       "    <tr>\n",
       "      <th>996</th>\n",
       "      <td>997</td>\n",
       "      <td>Edin</td>\n",
       "      <td>Gajewski</td>\n",
       "      <td>egajewskiro@privacy.gov.au</td>\n",
       "      <td>Female</td>\n",
       "      <td>18719</td>\n",
       "      <td>26/09/1971</td>\n",
       "      <td>Edin Gajewski</td>\n",
       "    </tr>\n",
       "    <tr>\n",
       "      <th>997</th>\n",
       "      <td>998</td>\n",
       "      <td>Seymour</td>\n",
       "      <td>Boobier</td>\n",
       "      <td>sboobierrp@noaa.gov</td>\n",
       "      <td>Male</td>\n",
       "      <td>22734</td>\n",
       "      <td>28/07/1999</td>\n",
       "      <td>Seymour Boobier</td>\n",
       "    </tr>\n",
       "    <tr>\n",
       "      <th>998</th>\n",
       "      <td>999</td>\n",
       "      <td>Gerick</td>\n",
       "      <td>Seyers</td>\n",
       "      <td>gseyersrq@unc.edu</td>\n",
       "      <td>Male</td>\n",
       "      <td>85659</td>\n",
       "      <td>10/11/1950</td>\n",
       "      <td>Gerick Seyers</td>\n",
       "    </tr>\n",
       "    <tr>\n",
       "      <th>999</th>\n",
       "      <td>1000</td>\n",
       "      <td>Dulcine</td>\n",
       "      <td>Hearl</td>\n",
       "      <td>dhearlrr@tripadvisor.com</td>\n",
       "      <td>Female</td>\n",
       "      <td>85235</td>\n",
       "      <td>09/03/2000</td>\n",
       "      <td>Dulcine Hearl</td>\n",
       "    </tr>\n",
       "  </tbody>\n",
       "</table>\n",
       "<p>1000 rows × 8 columns</p>\n",
       "</div>"
      ],
      "text/plain": [
       "       id first_name  last_name                         email  gender  salary  \\\n",
       "0       1     Graham  Ivanenkov          givanenkov0@uiuc.edu    Male  102778   \n",
       "1       2     Karlis   Ballchin        kballchin1@alibaba.com    Male   70340   \n",
       "2       3      Moria     Barber          mbarber2@oaic.gov.au  Female   28931   \n",
       "3       4   Leighton  Quinnette  lquinnette3@biblegateway.com    Male   20684   \n",
       "4       5    Trenton   Farmiloe          tfarmiloe4@webmd.com    Male  106946   \n",
       "..    ...        ...        ...                           ...     ...     ...   \n",
       "995   996      Innis    Lindell     ilindellrn@privacy.gov.au    Male   26023   \n",
       "996   997       Edin   Gajewski    egajewskiro@privacy.gov.au  Female   18719   \n",
       "997   998    Seymour    Boobier           sboobierrp@noaa.gov    Male   22734   \n",
       "998   999     Gerick     Seyers             gseyersrq@unc.edu    Male   85659   \n",
       "999  1000    Dulcine      Hearl      dhearlrr@tripadvisor.com  Female   85235   \n",
       "\n",
       "    date_of_birth           full_name  \n",
       "0      11/06/1969    Graham Ivanenkov  \n",
       "1      10/04/1969     Karlis Ballchin  \n",
       "2      05/03/1950        Moria Barber  \n",
       "3      11/03/1985  Leighton Quinnette  \n",
       "4      09/12/1951    Trenton Farmiloe  \n",
       "..            ...                 ...  \n",
       "995    06/02/1970       Innis Lindell  \n",
       "996    26/09/1971       Edin Gajewski  \n",
       "997    28/07/1999     Seymour Boobier  \n",
       "998    10/11/1950       Gerick Seyers  \n",
       "999    09/03/2000       Dulcine Hearl  \n",
       "\n",
       "[1000 rows x 8 columns]"
      ]
     },
     "execution_count": 148,
     "metadata": {},
     "output_type": "execute_result"
    }
   ],
   "source": [
    "my_df = my_df.drop('ip_address', axis = 1)\n",
    "my_df"
   ]
  },
  {
   "cell_type": "markdown",
   "metadata": {},
   "source": [
    "Lets order the records alphabetically using <code>sort_values</code>"
   ]
  },
  {
   "cell_type": "code",
   "execution_count": 149,
   "metadata": {},
   "outputs": [
    {
     "data": {
      "text/html": [
       "<div>\n",
       "<style scoped>\n",
       "    .dataframe tbody tr th:only-of-type {\n",
       "        vertical-align: middle;\n",
       "    }\n",
       "\n",
       "    .dataframe tbody tr th {\n",
       "        vertical-align: top;\n",
       "    }\n",
       "\n",
       "    .dataframe thead th {\n",
       "        text-align: right;\n",
       "    }\n",
       "</style>\n",
       "<table border=\"1\" class=\"dataframe\">\n",
       "  <thead>\n",
       "    <tr style=\"text-align: right;\">\n",
       "      <th></th>\n",
       "      <th>id</th>\n",
       "      <th>first_name</th>\n",
       "      <th>last_name</th>\n",
       "      <th>email</th>\n",
       "      <th>gender</th>\n",
       "      <th>salary</th>\n",
       "      <th>date_of_birth</th>\n",
       "      <th>full_name</th>\n",
       "    </tr>\n",
       "  </thead>\n",
       "  <tbody>\n",
       "    <tr>\n",
       "      <th>554</th>\n",
       "      <td>555</td>\n",
       "      <td>Abbe</td>\n",
       "      <td>Aucott</td>\n",
       "      <td>aaucottfe@ft.com</td>\n",
       "      <td>Female</td>\n",
       "      <td>14325</td>\n",
       "      <td>29/01/1962</td>\n",
       "      <td>Abbe Aucott</td>\n",
       "    </tr>\n",
       "    <tr>\n",
       "      <th>477</th>\n",
       "      <td>478</td>\n",
       "      <td>Abbi</td>\n",
       "      <td>Southwood</td>\n",
       "      <td>asouthwoodd9@businessinsider.com</td>\n",
       "      <td>Female</td>\n",
       "      <td>27059</td>\n",
       "      <td>24/05/1983</td>\n",
       "      <td>Abbi Southwood</td>\n",
       "    </tr>\n",
       "    <tr>\n",
       "      <th>214</th>\n",
       "      <td>215</td>\n",
       "      <td>Abie</td>\n",
       "      <td>Saenz</td>\n",
       "      <td>asaenz5y@webnode.com</td>\n",
       "      <td>Male</td>\n",
       "      <td>44571</td>\n",
       "      <td>07/01/1974</td>\n",
       "      <td>Abie Saenz</td>\n",
       "    </tr>\n",
       "    <tr>\n",
       "      <th>752</th>\n",
       "      <td>753</td>\n",
       "      <td>Addie</td>\n",
       "      <td>Gregorace</td>\n",
       "      <td>agregoracekw@gnu.org</td>\n",
       "      <td>Male</td>\n",
       "      <td>28902</td>\n",
       "      <td>07/06/1987</td>\n",
       "      <td>Addie Gregorace</td>\n",
       "    </tr>\n",
       "    <tr>\n",
       "      <th>79</th>\n",
       "      <td>80</td>\n",
       "      <td>Adeline</td>\n",
       "      <td>Gaskell</td>\n",
       "      <td>agaskell27@freewebs.com</td>\n",
       "      <td>Female</td>\n",
       "      <td>57393</td>\n",
       "      <td>11/10/1962</td>\n",
       "      <td>Adeline Gaskell</td>\n",
       "    </tr>\n",
       "    <tr>\n",
       "      <th>...</th>\n",
       "      <td>...</td>\n",
       "      <td>...</td>\n",
       "      <td>...</td>\n",
       "      <td>...</td>\n",
       "      <td>...</td>\n",
       "      <td>...</td>\n",
       "      <td>...</td>\n",
       "      <td>...</td>\n",
       "    </tr>\n",
       "    <tr>\n",
       "      <th>584</th>\n",
       "      <td>585</td>\n",
       "      <td>Zachariah</td>\n",
       "      <td>De Bruyne</td>\n",
       "      <td>zdebruyneg8@linkedin.com</td>\n",
       "      <td>Male</td>\n",
       "      <td>45348</td>\n",
       "      <td>19/10/1999</td>\n",
       "      <td>Zachariah De Bruyne</td>\n",
       "    </tr>\n",
       "    <tr>\n",
       "      <th>620</th>\n",
       "      <td>621</td>\n",
       "      <td>Zak</td>\n",
       "      <td>Furnival</td>\n",
       "      <td>zfurnivalh8@acquirethisname.com</td>\n",
       "      <td>Male</td>\n",
       "      <td>65818</td>\n",
       "      <td>16/09/1980</td>\n",
       "      <td>Zak Furnival</td>\n",
       "    </tr>\n",
       "    <tr>\n",
       "      <th>476</th>\n",
       "      <td>477</td>\n",
       "      <td>Zak</td>\n",
       "      <td>Manchester</td>\n",
       "      <td>zmanchesterd8@gov.uk</td>\n",
       "      <td>Male</td>\n",
       "      <td>11353</td>\n",
       "      <td>26/07/1975</td>\n",
       "      <td>Zak Manchester</td>\n",
       "    </tr>\n",
       "    <tr>\n",
       "      <th>234</th>\n",
       "      <td>235</td>\n",
       "      <td>Zelig</td>\n",
       "      <td>Russan</td>\n",
       "      <td>zrussan6i@hhs.gov</td>\n",
       "      <td>Male</td>\n",
       "      <td>73397</td>\n",
       "      <td>05/04/1975</td>\n",
       "      <td>Zelig Russan</td>\n",
       "    </tr>\n",
       "    <tr>\n",
       "      <th>825</th>\n",
       "      <td>826</td>\n",
       "      <td>Zelig</td>\n",
       "      <td>Wooder</td>\n",
       "      <td>zwoodermx@weibo.com</td>\n",
       "      <td>Male</td>\n",
       "      <td>29217</td>\n",
       "      <td>24/02/1989</td>\n",
       "      <td>Zelig Wooder</td>\n",
       "    </tr>\n",
       "  </tbody>\n",
       "</table>\n",
       "<p>1000 rows × 8 columns</p>\n",
       "</div>"
      ],
      "text/plain": [
       "      id first_name   last_name                             email  gender  \\\n",
       "554  555       Abbe      Aucott                  aaucottfe@ft.com  Female   \n",
       "477  478       Abbi   Southwood  asouthwoodd9@businessinsider.com  Female   \n",
       "214  215       Abie       Saenz              asaenz5y@webnode.com    Male   \n",
       "752  753      Addie   Gregorace              agregoracekw@gnu.org    Male   \n",
       "79    80    Adeline     Gaskell           agaskell27@freewebs.com  Female   \n",
       "..   ...        ...         ...                               ...     ...   \n",
       "584  585  Zachariah   De Bruyne          zdebruyneg8@linkedin.com    Male   \n",
       "620  621        Zak    Furnival   zfurnivalh8@acquirethisname.com    Male   \n",
       "476  477        Zak  Manchester              zmanchesterd8@gov.uk    Male   \n",
       "234  235      Zelig      Russan                 zrussan6i@hhs.gov    Male   \n",
       "825  826      Zelig      Wooder               zwoodermx@weibo.com    Male   \n",
       "\n",
       "     salary date_of_birth            full_name  \n",
       "554   14325    29/01/1962          Abbe Aucott  \n",
       "477   27059    24/05/1983       Abbi Southwood  \n",
       "214   44571    07/01/1974           Abie Saenz  \n",
       "752   28902    07/06/1987      Addie Gregorace  \n",
       "79    57393    11/10/1962      Adeline Gaskell  \n",
       "..      ...           ...                  ...  \n",
       "584   45348    19/10/1999  Zachariah De Bruyne  \n",
       "620   65818    16/09/1980         Zak Furnival  \n",
       "476   11353    26/07/1975       Zak Manchester  \n",
       "234   73397    05/04/1975         Zelig Russan  \n",
       "825   29217    24/02/1989         Zelig Wooder  \n",
       "\n",
       "[1000 rows x 8 columns]"
      ]
     },
     "execution_count": 149,
     "metadata": {},
     "output_type": "execute_result"
    }
   ],
   "source": [
    "my_df = my_df.sort_values('full_name', axis = 0, ascending = True)\n",
    "my_df"
   ]
  },
  {
   "cell_type": "markdown",
   "metadata": {},
   "source": [
    "Also get rid of the old name columns as we no longer need these - this time we pas a <code>list</code> of multiple columns to <code>drop</code>"
   ]
  },
  {
   "cell_type": "code",
   "execution_count": 150,
   "metadata": {},
   "outputs": [],
   "source": [
    "my_df = my_df.drop(['first_name','last_name'],axis = 1)\n",
    "my_df"
   ]
  },
  {
   "cell_type": "markdown",
   "metadata": {},
   "source": [
    "Get the columns using the <code>columns</code> accessor"
   ]
  },
  {
   "cell_type": "code",
   "execution_count": 151,
   "metadata": {},
   "outputs": [
    {
     "data": {
      "text/plain": [
       "Index(['id', 'email', 'gender', 'salary', 'date_of_birth', 'full_name'], dtype='object')"
      ]
     },
     "execution_count": 151,
     "metadata": {},
     "output_type": "execute_result"
    }
   ],
   "source": [
    "old_columns = my_df.columns\n",
    "old_columns"
   ]
  },
  {
   "cell_type": "markdown",
   "metadata": {},
   "source": [
    "This produces a <code>pandas</code> <code>index</code> which can be tricky to work with - let's convert to a <code>list</code> instead\n"
   ]
  },
  {
   "cell_type": "code",
   "execution_count": 152,
   "metadata": {},
   "outputs": [
    {
     "data": {
      "text/plain": [
       "['id', 'email', 'gender', 'salary', 'date_of_birth', 'full_name']"
      ]
     },
     "execution_count": 152,
     "metadata": {},
     "output_type": "execute_result"
    }
   ],
   "source": [
    "old_columns = list(old_columns.values)\n",
    "old_columns"
   ]
  },
  {
   "cell_type": "markdown",
   "metadata": {},
   "source": [
    "Now mess around with our <code>list</code> using slices to reorder it note <code>old_columns[-1]</code> is a string - so wrapping it in <code>[]</code> converts it into a list so we can add the two lists together using <code>+</code>"
   ]
  },
  {
   "cell_type": "code",
   "execution_count": 153,
   "metadata": {},
   "outputs": [
    {
     "data": {
      "text/plain": [
       "['full_name', 'id', 'email', 'gender', 'salary', 'date_of_birth']"
      ]
     },
     "execution_count": 153,
     "metadata": {},
     "output_type": "execute_result"
    }
   ],
   "source": [
    "new_columns = [old_columns[-1]] + old_columns[:-1]\n",
    "new_columns"
   ]
  },
  {
   "cell_type": "markdown",
   "metadata": {},
   "source": [
    "Now reorder the <code>DataFrame</code> columns"
   ]
  },
  {
   "cell_type": "code",
   "execution_count": 154,
   "metadata": {},
   "outputs": [
    {
     "data": {
      "text/html": [
       "<div>\n",
       "<style scoped>\n",
       "    .dataframe tbody tr th:only-of-type {\n",
       "        vertical-align: middle;\n",
       "    }\n",
       "\n",
       "    .dataframe tbody tr th {\n",
       "        vertical-align: top;\n",
       "    }\n",
       "\n",
       "    .dataframe thead th {\n",
       "        text-align: right;\n",
       "    }\n",
       "</style>\n",
       "<table border=\"1\" class=\"dataframe\">\n",
       "  <thead>\n",
       "    <tr style=\"text-align: right;\">\n",
       "      <th></th>\n",
       "      <th>full_name</th>\n",
       "      <th>id</th>\n",
       "      <th>email</th>\n",
       "      <th>gender</th>\n",
       "      <th>salary</th>\n",
       "      <th>date_of_birth</th>\n",
       "    </tr>\n",
       "  </thead>\n",
       "  <tbody>\n",
       "    <tr>\n",
       "      <th>554</th>\n",
       "      <td>Abbe Aucott</td>\n",
       "      <td>555</td>\n",
       "      <td>aaucottfe@ft.com</td>\n",
       "      <td>Female</td>\n",
       "      <td>14325</td>\n",
       "      <td>29/01/1962</td>\n",
       "    </tr>\n",
       "    <tr>\n",
       "      <th>477</th>\n",
       "      <td>Abbi Southwood</td>\n",
       "      <td>478</td>\n",
       "      <td>asouthwoodd9@businessinsider.com</td>\n",
       "      <td>Female</td>\n",
       "      <td>27059</td>\n",
       "      <td>24/05/1983</td>\n",
       "    </tr>\n",
       "    <tr>\n",
       "      <th>214</th>\n",
       "      <td>Abie Saenz</td>\n",
       "      <td>215</td>\n",
       "      <td>asaenz5y@webnode.com</td>\n",
       "      <td>Male</td>\n",
       "      <td>44571</td>\n",
       "      <td>07/01/1974</td>\n",
       "    </tr>\n",
       "    <tr>\n",
       "      <th>752</th>\n",
       "      <td>Addie Gregorace</td>\n",
       "      <td>753</td>\n",
       "      <td>agregoracekw@gnu.org</td>\n",
       "      <td>Male</td>\n",
       "      <td>28902</td>\n",
       "      <td>07/06/1987</td>\n",
       "    </tr>\n",
       "    <tr>\n",
       "      <th>79</th>\n",
       "      <td>Adeline Gaskell</td>\n",
       "      <td>80</td>\n",
       "      <td>agaskell27@freewebs.com</td>\n",
       "      <td>Female</td>\n",
       "      <td>57393</td>\n",
       "      <td>11/10/1962</td>\n",
       "    </tr>\n",
       "    <tr>\n",
       "      <th>...</th>\n",
       "      <td>...</td>\n",
       "      <td>...</td>\n",
       "      <td>...</td>\n",
       "      <td>...</td>\n",
       "      <td>...</td>\n",
       "      <td>...</td>\n",
       "    </tr>\n",
       "    <tr>\n",
       "      <th>584</th>\n",
       "      <td>Zachariah De Bruyne</td>\n",
       "      <td>585</td>\n",
       "      <td>zdebruyneg8@linkedin.com</td>\n",
       "      <td>Male</td>\n",
       "      <td>45348</td>\n",
       "      <td>19/10/1999</td>\n",
       "    </tr>\n",
       "    <tr>\n",
       "      <th>620</th>\n",
       "      <td>Zak Furnival</td>\n",
       "      <td>621</td>\n",
       "      <td>zfurnivalh8@acquirethisname.com</td>\n",
       "      <td>Male</td>\n",
       "      <td>65818</td>\n",
       "      <td>16/09/1980</td>\n",
       "    </tr>\n",
       "    <tr>\n",
       "      <th>476</th>\n",
       "      <td>Zak Manchester</td>\n",
       "      <td>477</td>\n",
       "      <td>zmanchesterd8@gov.uk</td>\n",
       "      <td>Male</td>\n",
       "      <td>11353</td>\n",
       "      <td>26/07/1975</td>\n",
       "    </tr>\n",
       "    <tr>\n",
       "      <th>234</th>\n",
       "      <td>Zelig Russan</td>\n",
       "      <td>235</td>\n",
       "      <td>zrussan6i@hhs.gov</td>\n",
       "      <td>Male</td>\n",
       "      <td>73397</td>\n",
       "      <td>05/04/1975</td>\n",
       "    </tr>\n",
       "    <tr>\n",
       "      <th>825</th>\n",
       "      <td>Zelig Wooder</td>\n",
       "      <td>826</td>\n",
       "      <td>zwoodermx@weibo.com</td>\n",
       "      <td>Male</td>\n",
       "      <td>29217</td>\n",
       "      <td>24/02/1989</td>\n",
       "    </tr>\n",
       "  </tbody>\n",
       "</table>\n",
       "<p>1000 rows × 6 columns</p>\n",
       "</div>"
      ],
      "text/plain": [
       "               full_name   id                             email  gender  \\\n",
       "554          Abbe Aucott  555                  aaucottfe@ft.com  Female   \n",
       "477       Abbi Southwood  478  asouthwoodd9@businessinsider.com  Female   \n",
       "214           Abie Saenz  215              asaenz5y@webnode.com    Male   \n",
       "752      Addie Gregorace  753              agregoracekw@gnu.org    Male   \n",
       "79       Adeline Gaskell   80           agaskell27@freewebs.com  Female   \n",
       "..                   ...  ...                               ...     ...   \n",
       "584  Zachariah De Bruyne  585          zdebruyneg8@linkedin.com    Male   \n",
       "620         Zak Furnival  621   zfurnivalh8@acquirethisname.com    Male   \n",
       "476       Zak Manchester  477              zmanchesterd8@gov.uk    Male   \n",
       "234         Zelig Russan  235                 zrussan6i@hhs.gov    Male   \n",
       "825         Zelig Wooder  826               zwoodermx@weibo.com    Male   \n",
       "\n",
       "     salary date_of_birth  \n",
       "554   14325    29/01/1962  \n",
       "477   27059    24/05/1983  \n",
       "214   44571    07/01/1974  \n",
       "752   28902    07/06/1987  \n",
       "79    57393    11/10/1962  \n",
       "..      ...           ...  \n",
       "584   45348    19/10/1999  \n",
       "620   65818    16/09/1980  \n",
       "476   11353    26/07/1975  \n",
       "234   73397    05/04/1975  \n",
       "825   29217    24/02/1989  \n",
       "\n",
       "[1000 rows x 6 columns]"
      ]
     },
     "execution_count": 154,
     "metadata": {},
     "output_type": "execute_result"
    }
   ],
   "source": [
    "my_df = my_df[new_columns]\n",
    "my_df"
   ]
  },
  {
   "cell_type": "markdown",
   "metadata": {},
   "source": [
    "If we'd used <code>my_df.columns = new_cols</code> we would have just renamed the existing columns without moving them - not what we wanted!"
   ]
  },
  {
   "cell_type": "code",
   "execution_count": 155,
   "metadata": {},
   "outputs": [
    {
     "data": {
      "text/html": [
       "<div>\n",
       "<style scoped>\n",
       "    .dataframe tbody tr th:only-of-type {\n",
       "        vertical-align: middle;\n",
       "    }\n",
       "\n",
       "    .dataframe tbody tr th {\n",
       "        vertical-align: top;\n",
       "    }\n",
       "\n",
       "    .dataframe thead th {\n",
       "        text-align: right;\n",
       "    }\n",
       "</style>\n",
       "<table border=\"1\" class=\"dataframe\">\n",
       "  <thead>\n",
       "    <tr style=\"text-align: right;\">\n",
       "      <th></th>\n",
       "      <th>full_name</th>\n",
       "      <th>id</th>\n",
       "      <th>email</th>\n",
       "      <th>gender</th>\n",
       "      <th>salary</th>\n",
       "      <th>date_of_birth</th>\n",
       "    </tr>\n",
       "  </thead>\n",
       "  <tbody>\n",
       "    <tr>\n",
       "      <th>554</th>\n",
       "      <td>555</td>\n",
       "      <td>aaucottfe@ft.com</td>\n",
       "      <td>Female</td>\n",
       "      <td>14325</td>\n",
       "      <td>29/01/1962</td>\n",
       "      <td>Abbe Aucott</td>\n",
       "    </tr>\n",
       "    <tr>\n",
       "      <th>477</th>\n",
       "      <td>478</td>\n",
       "      <td>asouthwoodd9@businessinsider.com</td>\n",
       "      <td>Female</td>\n",
       "      <td>27059</td>\n",
       "      <td>24/05/1983</td>\n",
       "      <td>Abbi Southwood</td>\n",
       "    </tr>\n",
       "    <tr>\n",
       "      <th>214</th>\n",
       "      <td>215</td>\n",
       "      <td>asaenz5y@webnode.com</td>\n",
       "      <td>Male</td>\n",
       "      <td>44571</td>\n",
       "      <td>07/01/1974</td>\n",
       "      <td>Abie Saenz</td>\n",
       "    </tr>\n",
       "    <tr>\n",
       "      <th>752</th>\n",
       "      <td>753</td>\n",
       "      <td>agregoracekw@gnu.org</td>\n",
       "      <td>Male</td>\n",
       "      <td>28902</td>\n",
       "      <td>07/06/1987</td>\n",
       "      <td>Addie Gregorace</td>\n",
       "    </tr>\n",
       "    <tr>\n",
       "      <th>79</th>\n",
       "      <td>80</td>\n",
       "      <td>agaskell27@freewebs.com</td>\n",
       "      <td>Female</td>\n",
       "      <td>57393</td>\n",
       "      <td>11/10/1962</td>\n",
       "      <td>Adeline Gaskell</td>\n",
       "    </tr>\n",
       "    <tr>\n",
       "      <th>...</th>\n",
       "      <td>...</td>\n",
       "      <td>...</td>\n",
       "      <td>...</td>\n",
       "      <td>...</td>\n",
       "      <td>...</td>\n",
       "      <td>...</td>\n",
       "    </tr>\n",
       "    <tr>\n",
       "      <th>584</th>\n",
       "      <td>585</td>\n",
       "      <td>zdebruyneg8@linkedin.com</td>\n",
       "      <td>Male</td>\n",
       "      <td>45348</td>\n",
       "      <td>19/10/1999</td>\n",
       "      <td>Zachariah De Bruyne</td>\n",
       "    </tr>\n",
       "    <tr>\n",
       "      <th>620</th>\n",
       "      <td>621</td>\n",
       "      <td>zfurnivalh8@acquirethisname.com</td>\n",
       "      <td>Male</td>\n",
       "      <td>65818</td>\n",
       "      <td>16/09/1980</td>\n",
       "      <td>Zak Furnival</td>\n",
       "    </tr>\n",
       "    <tr>\n",
       "      <th>476</th>\n",
       "      <td>477</td>\n",
       "      <td>zmanchesterd8@gov.uk</td>\n",
       "      <td>Male</td>\n",
       "      <td>11353</td>\n",
       "      <td>26/07/1975</td>\n",
       "      <td>Zak Manchester</td>\n",
       "    </tr>\n",
       "    <tr>\n",
       "      <th>234</th>\n",
       "      <td>235</td>\n",
       "      <td>zrussan6i@hhs.gov</td>\n",
       "      <td>Male</td>\n",
       "      <td>73397</td>\n",
       "      <td>05/04/1975</td>\n",
       "      <td>Zelig Russan</td>\n",
       "    </tr>\n",
       "    <tr>\n",
       "      <th>825</th>\n",
       "      <td>826</td>\n",
       "      <td>zwoodermx@weibo.com</td>\n",
       "      <td>Male</td>\n",
       "      <td>29217</td>\n",
       "      <td>24/02/1989</td>\n",
       "      <td>Zelig Wooder</td>\n",
       "    </tr>\n",
       "  </tbody>\n",
       "</table>\n",
       "<p>1000 rows × 6 columns</p>\n",
       "</div>"
      ],
      "text/plain": [
       "     full_name                                id   email  gender      salary  \\\n",
       "554        555                  aaucottfe@ft.com  Female   14325  29/01/1962   \n",
       "477        478  asouthwoodd9@businessinsider.com  Female   27059  24/05/1983   \n",
       "214        215              asaenz5y@webnode.com    Male   44571  07/01/1974   \n",
       "752        753              agregoracekw@gnu.org    Male   28902  07/06/1987   \n",
       "79          80           agaskell27@freewebs.com  Female   57393  11/10/1962   \n",
       "..         ...                               ...     ...     ...         ...   \n",
       "584        585          zdebruyneg8@linkedin.com    Male   45348  19/10/1999   \n",
       "620        621   zfurnivalh8@acquirethisname.com    Male   65818  16/09/1980   \n",
       "476        477              zmanchesterd8@gov.uk    Male   11353  26/07/1975   \n",
       "234        235                 zrussan6i@hhs.gov    Male   73397  05/04/1975   \n",
       "825        826               zwoodermx@weibo.com    Male   29217  24/02/1989   \n",
       "\n",
       "           date_of_birth  \n",
       "554          Abbe Aucott  \n",
       "477       Abbi Southwood  \n",
       "214           Abie Saenz  \n",
       "752      Addie Gregorace  \n",
       "79       Adeline Gaskell  \n",
       "..                   ...  \n",
       "584  Zachariah De Bruyne  \n",
       "620         Zak Furnival  \n",
       "476       Zak Manchester  \n",
       "234         Zelig Russan  \n",
       "825         Zelig Wooder  \n",
       "\n",
       "[1000 rows x 6 columns]"
      ]
     },
     "execution_count": 155,
     "metadata": {},
     "output_type": "execute_result"
    }
   ],
   "source": [
    "#e.g. put back to the way it was\n",
    "test_df = my_df[old_columns]\n",
    "# now rename\n",
    "test_df.columns = new_columns\n",
    "test_df"
   ]
  },
  {
   "cell_type": "markdown",
   "metadata": {},
   "source": [
    "Let's filter the data for people with google email addresses only"
   ]
  },
  {
   "cell_type": "code",
   "execution_count": 156,
   "metadata": {},
   "outputs": [
    {
     "data": {
      "text/html": [
       "<div>\n",
       "<style scoped>\n",
       "    .dataframe tbody tr th:only-of-type {\n",
       "        vertical-align: middle;\n",
       "    }\n",
       "\n",
       "    .dataframe tbody tr th {\n",
       "        vertical-align: top;\n",
       "    }\n",
       "\n",
       "    .dataframe thead th {\n",
       "        text-align: right;\n",
       "    }\n",
       "</style>\n",
       "<table border=\"1\" class=\"dataframe\">\n",
       "  <thead>\n",
       "    <tr style=\"text-align: right;\">\n",
       "      <th></th>\n",
       "      <th>full_name</th>\n",
       "      <th>id</th>\n",
       "      <th>email</th>\n",
       "      <th>gender</th>\n",
       "      <th>salary</th>\n",
       "      <th>date_of_birth</th>\n",
       "    </tr>\n",
       "  </thead>\n",
       "  <tbody>\n",
       "    <tr>\n",
       "      <th>534</th>\n",
       "      <td>Adrienne MacConnal</td>\n",
       "      <td>535</td>\n",
       "      <td>amacconnaleu@google.com.hk</td>\n",
       "      <td>Female</td>\n",
       "      <td>94610</td>\n",
       "      <td>18/09/1950</td>\n",
       "    </tr>\n",
       "    <tr>\n",
       "      <th>695</th>\n",
       "      <td>Alta Blackhurst</td>\n",
       "      <td>696</td>\n",
       "      <td>ablackhurstjb@google.com.au</td>\n",
       "      <td>Female</td>\n",
       "      <td>14482</td>\n",
       "      <td>06/10/1982</td>\n",
       "    </tr>\n",
       "    <tr>\n",
       "      <th>757</th>\n",
       "      <td>Ber Bunner</td>\n",
       "      <td>758</td>\n",
       "      <td>bbunnerl1@google.de</td>\n",
       "      <td>Male</td>\n",
       "      <td>58939</td>\n",
       "      <td>30/01/1993</td>\n",
       "    </tr>\n",
       "    <tr>\n",
       "      <th>888</th>\n",
       "      <td>Cam Scrowson</td>\n",
       "      <td>889</td>\n",
       "      <td>cscrowsonoo@google.it</td>\n",
       "      <td>Female</td>\n",
       "      <td>107027</td>\n",
       "      <td>03/05/1998</td>\n",
       "    </tr>\n",
       "    <tr>\n",
       "      <th>912</th>\n",
       "      <td>Cassandry Agge</td>\n",
       "      <td>913</td>\n",
       "      <td>caggepc@google.com.hk</td>\n",
       "      <td>Female</td>\n",
       "      <td>76660</td>\n",
       "      <td>10/05/1964</td>\n",
       "    </tr>\n",
       "    <tr>\n",
       "      <th>852</th>\n",
       "      <td>Constanta Antonomolii</td>\n",
       "      <td>853</td>\n",
       "      <td>cantonomoliino@google.com.br</td>\n",
       "      <td>Female</td>\n",
       "      <td>72382</td>\n",
       "      <td>20/10/1995</td>\n",
       "    </tr>\n",
       "    <tr>\n",
       "      <th>561</th>\n",
       "      <td>Douglass Putland</td>\n",
       "      <td>562</td>\n",
       "      <td>dputlandfl@google.es</td>\n",
       "      <td>Male</td>\n",
       "      <td>38509</td>\n",
       "      <td>28/02/1954</td>\n",
       "    </tr>\n",
       "    <tr>\n",
       "      <th>382</th>\n",
       "      <td>Elaine Dowbakin</td>\n",
       "      <td>383</td>\n",
       "      <td>edowbakinam@google.ca</td>\n",
       "      <td>Female</td>\n",
       "      <td>57259</td>\n",
       "      <td>29/06/1989</td>\n",
       "    </tr>\n",
       "    <tr>\n",
       "      <th>446</th>\n",
       "      <td>Eugenio Brazener</td>\n",
       "      <td>447</td>\n",
       "      <td>ebrazenerce@google.ca</td>\n",
       "      <td>Male</td>\n",
       "      <td>53693</td>\n",
       "      <td>17/04/1947</td>\n",
       "    </tr>\n",
       "    <tr>\n",
       "      <th>64</th>\n",
       "      <td>Gabriell Slinger</td>\n",
       "      <td>65</td>\n",
       "      <td>gslinger1s@google.com.hk</td>\n",
       "      <td>Female</td>\n",
       "      <td>59909</td>\n",
       "      <td>27/08/1953</td>\n",
       "    </tr>\n",
       "    <tr>\n",
       "      <th>619</th>\n",
       "      <td>Gianni Gorry</td>\n",
       "      <td>620</td>\n",
       "      <td>ggorryh7@google.com.br</td>\n",
       "      <td>Male</td>\n",
       "      <td>29531</td>\n",
       "      <td>09/11/1977</td>\n",
       "    </tr>\n",
       "    <tr>\n",
       "      <th>137</th>\n",
       "      <td>Ina Antonietti</td>\n",
       "      <td>138</td>\n",
       "      <td>iantonietti3t@google.it</td>\n",
       "      <td>Female</td>\n",
       "      <td>16752</td>\n",
       "      <td>21/10/1949</td>\n",
       "    </tr>\n",
       "    <tr>\n",
       "      <th>972</th>\n",
       "      <td>Jimmie Tewkesbury</td>\n",
       "      <td>973</td>\n",
       "      <td>jtewkesburyr0@google.com.br</td>\n",
       "      <td>Male</td>\n",
       "      <td>100995</td>\n",
       "      <td>26/06/1956</td>\n",
       "    </tr>\n",
       "    <tr>\n",
       "      <th>14</th>\n",
       "      <td>Karlyn Brehault</td>\n",
       "      <td>15</td>\n",
       "      <td>kbrehaulte@google.com</td>\n",
       "      <td>Female</td>\n",
       "      <td>106373</td>\n",
       "      <td>28/03/1958</td>\n",
       "    </tr>\n",
       "    <tr>\n",
       "      <th>257</th>\n",
       "      <td>Kellen Ogle</td>\n",
       "      <td>258</td>\n",
       "      <td>kogle75@google.com.hk</td>\n",
       "      <td>Female</td>\n",
       "      <td>96742</td>\n",
       "      <td>10/04/1955</td>\n",
       "    </tr>\n",
       "    <tr>\n",
       "      <th>217</th>\n",
       "      <td>Lexy Byfield</td>\n",
       "      <td>218</td>\n",
       "      <td>lbyfield61@google.com</td>\n",
       "      <td>Female</td>\n",
       "      <td>65434</td>\n",
       "      <td>02/08/1971</td>\n",
       "    </tr>\n",
       "    <tr>\n",
       "      <th>294</th>\n",
       "      <td>Loren Leese</td>\n",
       "      <td>295</td>\n",
       "      <td>lleese86@google.cn</td>\n",
       "      <td>Female</td>\n",
       "      <td>38857</td>\n",
       "      <td>16/04/1966</td>\n",
       "    </tr>\n",
       "    <tr>\n",
       "      <th>782</th>\n",
       "      <td>Madelon Buckwell</td>\n",
       "      <td>783</td>\n",
       "      <td>mbuckwelllq@google.com</td>\n",
       "      <td>Female</td>\n",
       "      <td>97938</td>\n",
       "      <td>09/05/2001</td>\n",
       "    </tr>\n",
       "    <tr>\n",
       "      <th>844</th>\n",
       "      <td>Mar Alenichev</td>\n",
       "      <td>845</td>\n",
       "      <td>malenichevng@google.com.hk</td>\n",
       "      <td>Male</td>\n",
       "      <td>49635</td>\n",
       "      <td>07/07/2001</td>\n",
       "    </tr>\n",
       "    <tr>\n",
       "      <th>329</th>\n",
       "      <td>Maurine Tedorenko</td>\n",
       "      <td>330</td>\n",
       "      <td>mtedorenko95@google.pl</td>\n",
       "      <td>Female</td>\n",
       "      <td>60477</td>\n",
       "      <td>13/05/1959</td>\n",
       "    </tr>\n",
       "  </tbody>\n",
       "</table>\n",
       "</div>"
      ],
      "text/plain": [
       "                 full_name   id                         email  gender  salary  \\\n",
       "534     Adrienne MacConnal  535    amacconnaleu@google.com.hk  Female   94610   \n",
       "695        Alta Blackhurst  696   ablackhurstjb@google.com.au  Female   14482   \n",
       "757             Ber Bunner  758           bbunnerl1@google.de    Male   58939   \n",
       "888           Cam Scrowson  889         cscrowsonoo@google.it  Female  107027   \n",
       "912         Cassandry Agge  913         caggepc@google.com.hk  Female   76660   \n",
       "852  Constanta Antonomolii  853  cantonomoliino@google.com.br  Female   72382   \n",
       "561       Douglass Putland  562          dputlandfl@google.es    Male   38509   \n",
       "382        Elaine Dowbakin  383         edowbakinam@google.ca  Female   57259   \n",
       "446       Eugenio Brazener  447         ebrazenerce@google.ca    Male   53693   \n",
       "64        Gabriell Slinger   65      gslinger1s@google.com.hk  Female   59909   \n",
       "619           Gianni Gorry  620        ggorryh7@google.com.br    Male   29531   \n",
       "137         Ina Antonietti  138       iantonietti3t@google.it  Female   16752   \n",
       "972      Jimmie Tewkesbury  973   jtewkesburyr0@google.com.br    Male  100995   \n",
       "14         Karlyn Brehault   15         kbrehaulte@google.com  Female  106373   \n",
       "257            Kellen Ogle  258         kogle75@google.com.hk  Female   96742   \n",
       "217           Lexy Byfield  218         lbyfield61@google.com  Female   65434   \n",
       "294            Loren Leese  295            lleese86@google.cn  Female   38857   \n",
       "782       Madelon Buckwell  783        mbuckwelllq@google.com  Female   97938   \n",
       "844          Mar Alenichev  845    malenichevng@google.com.hk    Male   49635   \n",
       "329      Maurine Tedorenko  330        mtedorenko95@google.pl  Female   60477   \n",
       "\n",
       "    date_of_birth  \n",
       "534    18/09/1950  \n",
       "695    06/10/1982  \n",
       "757    30/01/1993  \n",
       "888    03/05/1998  \n",
       "912    10/05/1964  \n",
       "852    20/10/1995  \n",
       "561    28/02/1954  \n",
       "382    29/06/1989  \n",
       "446    17/04/1947  \n",
       "64     27/08/1953  \n",
       "619    09/11/1977  \n",
       "137    21/10/1949  \n",
       "972    26/06/1956  \n",
       "14     28/03/1958  \n",
       "257    10/04/1955  \n",
       "217    02/08/1971  \n",
       "294    16/04/1966  \n",
       "782    09/05/2001  \n",
       "844    07/07/2001  \n",
       "329    13/05/1959  "
      ]
     },
     "execution_count": 156,
     "metadata": {},
     "output_type": "execute_result"
    }
   ],
   "source": [
    "# get the subset of data with google email addresses (boolean mask)\n",
    "my_mask = my_df['email'].str.contains('google')\n",
    "\n",
    "# filter the dataframe\n",
    "google_df = my_df[my_mask]\n",
    "google_df"
   ]
  },
  {
   "cell_type": "markdown",
   "metadata": {},
   "source": [
    "We can do all of the above manipulation in a few lines if we know what we're doing..."
   ]
  },
  {
   "cell_type": "code",
   "execution_count": 157,
   "metadata": {},
   "outputs": [
    {
     "data": {
      "text/html": [
       "<div>\n",
       "<style scoped>\n",
       "    .dataframe tbody tr th:only-of-type {\n",
       "        vertical-align: middle;\n",
       "    }\n",
       "\n",
       "    .dataframe tbody tr th {\n",
       "        vertical-align: top;\n",
       "    }\n",
       "\n",
       "    .dataframe thead th {\n",
       "        text-align: right;\n",
       "    }\n",
       "</style>\n",
       "<table border=\"1\" class=\"dataframe\">\n",
       "  <thead>\n",
       "    <tr style=\"text-align: right;\">\n",
       "      <th></th>\n",
       "      <th>id</th>\n",
       "      <th>email</th>\n",
       "      <th>gender</th>\n",
       "      <th>salary</th>\n",
       "      <th>date_of_birth</th>\n",
       "      <th>full_name</th>\n",
       "    </tr>\n",
       "  </thead>\n",
       "  <tbody>\n",
       "    <tr>\n",
       "      <th>534</th>\n",
       "      <td>535</td>\n",
       "      <td>amacconnaleu@google.com.hk</td>\n",
       "      <td>Female</td>\n",
       "      <td>94610</td>\n",
       "      <td>18/09/1950</td>\n",
       "      <td>Adrienne MacConnal</td>\n",
       "    </tr>\n",
       "    <tr>\n",
       "      <th>695</th>\n",
       "      <td>696</td>\n",
       "      <td>ablackhurstjb@google.com.au</td>\n",
       "      <td>Female</td>\n",
       "      <td>14482</td>\n",
       "      <td>06/10/1982</td>\n",
       "      <td>Alta Blackhurst</td>\n",
       "    </tr>\n",
       "    <tr>\n",
       "      <th>757</th>\n",
       "      <td>758</td>\n",
       "      <td>bbunnerl1@google.de</td>\n",
       "      <td>Male</td>\n",
       "      <td>58939</td>\n",
       "      <td>30/01/1993</td>\n",
       "      <td>Ber Bunner</td>\n",
       "    </tr>\n",
       "    <tr>\n",
       "      <th>888</th>\n",
       "      <td>889</td>\n",
       "      <td>cscrowsonoo@google.it</td>\n",
       "      <td>Female</td>\n",
       "      <td>107027</td>\n",
       "      <td>03/05/1998</td>\n",
       "      <td>Cam Scrowson</td>\n",
       "    </tr>\n",
       "    <tr>\n",
       "      <th>912</th>\n",
       "      <td>913</td>\n",
       "      <td>caggepc@google.com.hk</td>\n",
       "      <td>Female</td>\n",
       "      <td>76660</td>\n",
       "      <td>10/05/1964</td>\n",
       "      <td>Cassandry Agge</td>\n",
       "    </tr>\n",
       "    <tr>\n",
       "      <th>852</th>\n",
       "      <td>853</td>\n",
       "      <td>cantonomoliino@google.com.br</td>\n",
       "      <td>Female</td>\n",
       "      <td>72382</td>\n",
       "      <td>20/10/1995</td>\n",
       "      <td>Constanta Antonomolii</td>\n",
       "    </tr>\n",
       "    <tr>\n",
       "      <th>561</th>\n",
       "      <td>562</td>\n",
       "      <td>dputlandfl@google.es</td>\n",
       "      <td>Male</td>\n",
       "      <td>38509</td>\n",
       "      <td>28/02/1954</td>\n",
       "      <td>Douglass Putland</td>\n",
       "    </tr>\n",
       "    <tr>\n",
       "      <th>382</th>\n",
       "      <td>383</td>\n",
       "      <td>edowbakinam@google.ca</td>\n",
       "      <td>Female</td>\n",
       "      <td>57259</td>\n",
       "      <td>29/06/1989</td>\n",
       "      <td>Elaine Dowbakin</td>\n",
       "    </tr>\n",
       "    <tr>\n",
       "      <th>446</th>\n",
       "      <td>447</td>\n",
       "      <td>ebrazenerce@google.ca</td>\n",
       "      <td>Male</td>\n",
       "      <td>53693</td>\n",
       "      <td>17/04/1947</td>\n",
       "      <td>Eugenio Brazener</td>\n",
       "    </tr>\n",
       "    <tr>\n",
       "      <th>64</th>\n",
       "      <td>65</td>\n",
       "      <td>gslinger1s@google.com.hk</td>\n",
       "      <td>Female</td>\n",
       "      <td>59909</td>\n",
       "      <td>27/08/1953</td>\n",
       "      <td>Gabriell Slinger</td>\n",
       "    </tr>\n",
       "    <tr>\n",
       "      <th>619</th>\n",
       "      <td>620</td>\n",
       "      <td>ggorryh7@google.com.br</td>\n",
       "      <td>Male</td>\n",
       "      <td>29531</td>\n",
       "      <td>09/11/1977</td>\n",
       "      <td>Gianni Gorry</td>\n",
       "    </tr>\n",
       "    <tr>\n",
       "      <th>137</th>\n",
       "      <td>138</td>\n",
       "      <td>iantonietti3t@google.it</td>\n",
       "      <td>Female</td>\n",
       "      <td>16752</td>\n",
       "      <td>21/10/1949</td>\n",
       "      <td>Ina Antonietti</td>\n",
       "    </tr>\n",
       "    <tr>\n",
       "      <th>972</th>\n",
       "      <td>973</td>\n",
       "      <td>jtewkesburyr0@google.com.br</td>\n",
       "      <td>Male</td>\n",
       "      <td>100995</td>\n",
       "      <td>26/06/1956</td>\n",
       "      <td>Jimmie Tewkesbury</td>\n",
       "    </tr>\n",
       "    <tr>\n",
       "      <th>14</th>\n",
       "      <td>15</td>\n",
       "      <td>kbrehaulte@google.com</td>\n",
       "      <td>Female</td>\n",
       "      <td>106373</td>\n",
       "      <td>28/03/1958</td>\n",
       "      <td>Karlyn Brehault</td>\n",
       "    </tr>\n",
       "    <tr>\n",
       "      <th>257</th>\n",
       "      <td>258</td>\n",
       "      <td>kogle75@google.com.hk</td>\n",
       "      <td>Female</td>\n",
       "      <td>96742</td>\n",
       "      <td>10/04/1955</td>\n",
       "      <td>Kellen Ogle</td>\n",
       "    </tr>\n",
       "    <tr>\n",
       "      <th>217</th>\n",
       "      <td>218</td>\n",
       "      <td>lbyfield61@google.com</td>\n",
       "      <td>Female</td>\n",
       "      <td>65434</td>\n",
       "      <td>02/08/1971</td>\n",
       "      <td>Lexy Byfield</td>\n",
       "    </tr>\n",
       "    <tr>\n",
       "      <th>294</th>\n",
       "      <td>295</td>\n",
       "      <td>lleese86@google.cn</td>\n",
       "      <td>Female</td>\n",
       "      <td>38857</td>\n",
       "      <td>16/04/1966</td>\n",
       "      <td>Loren Leese</td>\n",
       "    </tr>\n",
       "    <tr>\n",
       "      <th>782</th>\n",
       "      <td>783</td>\n",
       "      <td>mbuckwelllq@google.com</td>\n",
       "      <td>Female</td>\n",
       "      <td>97938</td>\n",
       "      <td>09/05/2001</td>\n",
       "      <td>Madelon Buckwell</td>\n",
       "    </tr>\n",
       "    <tr>\n",
       "      <th>844</th>\n",
       "      <td>845</td>\n",
       "      <td>malenichevng@google.com.hk</td>\n",
       "      <td>Male</td>\n",
       "      <td>49635</td>\n",
       "      <td>07/07/2001</td>\n",
       "      <td>Mar Alenichev</td>\n",
       "    </tr>\n",
       "    <tr>\n",
       "      <th>329</th>\n",
       "      <td>330</td>\n",
       "      <td>mtedorenko95@google.pl</td>\n",
       "      <td>Female</td>\n",
       "      <td>60477</td>\n",
       "      <td>13/05/1959</td>\n",
       "      <td>Maurine Tedorenko</td>\n",
       "    </tr>\n",
       "  </tbody>\n",
       "</table>\n",
       "</div>"
      ],
      "text/plain": [
       "      id                         email  gender  salary date_of_birth  \\\n",
       "534  535    amacconnaleu@google.com.hk  Female   94610    18/09/1950   \n",
       "695  696   ablackhurstjb@google.com.au  Female   14482    06/10/1982   \n",
       "757  758           bbunnerl1@google.de    Male   58939    30/01/1993   \n",
       "888  889         cscrowsonoo@google.it  Female  107027    03/05/1998   \n",
       "912  913         caggepc@google.com.hk  Female   76660    10/05/1964   \n",
       "852  853  cantonomoliino@google.com.br  Female   72382    20/10/1995   \n",
       "561  562          dputlandfl@google.es    Male   38509    28/02/1954   \n",
       "382  383         edowbakinam@google.ca  Female   57259    29/06/1989   \n",
       "446  447         ebrazenerce@google.ca    Male   53693    17/04/1947   \n",
       "64    65      gslinger1s@google.com.hk  Female   59909    27/08/1953   \n",
       "619  620        ggorryh7@google.com.br    Male   29531    09/11/1977   \n",
       "137  138       iantonietti3t@google.it  Female   16752    21/10/1949   \n",
       "972  973   jtewkesburyr0@google.com.br    Male  100995    26/06/1956   \n",
       "14    15         kbrehaulte@google.com  Female  106373    28/03/1958   \n",
       "257  258         kogle75@google.com.hk  Female   96742    10/04/1955   \n",
       "217  218         lbyfield61@google.com  Female   65434    02/08/1971   \n",
       "294  295            lleese86@google.cn  Female   38857    16/04/1966   \n",
       "782  783        mbuckwelllq@google.com  Female   97938    09/05/2001   \n",
       "844  845    malenichevng@google.com.hk    Male   49635    07/07/2001   \n",
       "329  330        mtedorenko95@google.pl  Female   60477    13/05/1959   \n",
       "\n",
       "                 full_name  \n",
       "534     Adrienne MacConnal  \n",
       "695        Alta Blackhurst  \n",
       "757             Ber Bunner  \n",
       "888           Cam Scrowson  \n",
       "912         Cassandry Agge  \n",
       "852  Constanta Antonomolii  \n",
       "561       Douglass Putland  \n",
       "382        Elaine Dowbakin  \n",
       "446       Eugenio Brazener  \n",
       "64        Gabriell Slinger  \n",
       "619           Gianni Gorry  \n",
       "137         Ina Antonietti  \n",
       "972      Jimmie Tewkesbury  \n",
       "14         Karlyn Brehault  \n",
       "257            Kellen Ogle  \n",
       "217           Lexy Byfield  \n",
       "294            Loren Leese  \n",
       "782       Madelon Buckwell  \n",
       "844          Mar Alenichev  \n",
       "329      Maurine Tedorenko  "
      ]
     },
     "execution_count": 157,
     "metadata": {},
     "output_type": "execute_result"
    }
   ],
   "source": [
    "my_df = pd.read_csv(data_path)\n",
    "my_df['full_name'] = my_df['first_name'] + ' ' + my_df['last_name']\n",
    "my_df = my_df.drop(['ip_address','first_name','last_name'], axis = 1)\n",
    "cols = list(my_df.columns.values)\n",
    "google_df = my_df[my_df[[cols[-1]]+cols[:-1]]['email'].str.contains('google')].sort_values(by='full_name', ascending = True)\n",
    "google_df"
   ]
  },
  {
   "cell_type": "markdown",
   "metadata": {},
   "source": [
    "Finally let's put the data in a new excel file"
   ]
  },
  {
   "cell_type": "markdown",
   "metadata": {},
   "source": [
    "First let's decide on a new file name and path"
   ]
  },
  {
   "cell_type": "code",
   "execution_count": 159,
   "metadata": {},
   "outputs": [
    {
     "data": {
      "text/plain": [
       "'C:\\\\Users\\\\student\\\\desktop\\\\Python Training\\\\MOCK_DATA_modified.xls'"
      ]
     },
     "execution_count": 159,
     "metadata": {},
     "output_type": "execute_result"
    }
   ],
   "source": [
    "import os\n",
    "# combine path with new filename\n",
    "new_path = os.path.join(os.path.dirname(data_path),'MOCK_DATA_modified.xls')\n",
    "new_path"
   ]
  },
  {
   "cell_type": "markdown",
   "metadata": {},
   "source": [
    "Or more generically for an arbitrary filename and path we could just append <code>_modified.xls</code> to whatever the source data file was called"
   ]
  },
  {
   "cell_type": "code",
   "execution_count": 161,
   "metadata": {},
   "outputs": [
    {
     "data": {
      "text/plain": [
       "'C:\\\\Users\\\\student\\\\desktop\\\\Python Training\\\\MOCK_DATA_modified.xls'"
      ]
     },
     "execution_count": 161,
     "metadata": {},
     "output_type": "execute_result"
    }
   ],
   "source": [
    "head, tail = os.path.split(data_path)\n",
    "new_path = os.path.join(head, os.path.splitext(tail)[0] + '_modified.xls')  \n",
    "new_path"
   ]
  },
  {
   "cell_type": "markdown",
   "metadata": {},
   "source": [
    "Output to an Excel file"
   ]
  },
  {
   "cell_type": "code",
   "execution_count": 163,
   "metadata": {},
   "outputs": [
    {
     "name": "stdout",
     "output_type": "stream",
     "text": [
      "Modified file outputted to C:\\Users\\student\\desktop\\Python Training\\MOCK_DATA_modified.xls\n"
     ]
    }
   ],
   "source": [
    "google_df.to_excel(new_path, index = False)\n",
    "print('Modified file outputted to %s' %new_path)"
   ]
  },
  {
   "cell_type": "markdown",
   "metadata": {},
   "source": [
    "Load it back just to check"
   ]
  },
  {
   "cell_type": "code",
   "execution_count": 164,
   "metadata": {
    "scrolled": true
   },
   "outputs": [
    {
     "data": {
      "text/html": [
       "<div>\n",
       "<style scoped>\n",
       "    .dataframe tbody tr th:only-of-type {\n",
       "        vertical-align: middle;\n",
       "    }\n",
       "\n",
       "    .dataframe tbody tr th {\n",
       "        vertical-align: top;\n",
       "    }\n",
       "\n",
       "    .dataframe thead th {\n",
       "        text-align: right;\n",
       "    }\n",
       "</style>\n",
       "<table border=\"1\" class=\"dataframe\">\n",
       "  <thead>\n",
       "    <tr style=\"text-align: right;\">\n",
       "      <th></th>\n",
       "      <th>full_name</th>\n",
       "      <th>id</th>\n",
       "      <th>email</th>\n",
       "      <th>gender</th>\n",
       "      <th>salary</th>\n",
       "      <th>date_of_birth</th>\n",
       "    </tr>\n",
       "  </thead>\n",
       "  <tbody>\n",
       "    <tr>\n",
       "      <th>0</th>\n",
       "      <td>Adrienne MacConnal</td>\n",
       "      <td>535</td>\n",
       "      <td>amacconnaleu@google.com.hk</td>\n",
       "      <td>Female</td>\n",
       "      <td>94610</td>\n",
       "      <td>18/09/1950</td>\n",
       "    </tr>\n",
       "    <tr>\n",
       "      <th>1</th>\n",
       "      <td>Alta Blackhurst</td>\n",
       "      <td>696</td>\n",
       "      <td>ablackhurstjb@google.com.au</td>\n",
       "      <td>Female</td>\n",
       "      <td>14482</td>\n",
       "      <td>06/10/1982</td>\n",
       "    </tr>\n",
       "    <tr>\n",
       "      <th>2</th>\n",
       "      <td>Ber Bunner</td>\n",
       "      <td>758</td>\n",
       "      <td>bbunnerl1@google.de</td>\n",
       "      <td>Male</td>\n",
       "      <td>58939</td>\n",
       "      <td>30/01/1993</td>\n",
       "    </tr>\n",
       "    <tr>\n",
       "      <th>3</th>\n",
       "      <td>Cam Scrowson</td>\n",
       "      <td>889</td>\n",
       "      <td>cscrowsonoo@google.it</td>\n",
       "      <td>Female</td>\n",
       "      <td>107027</td>\n",
       "      <td>03/05/1998</td>\n",
       "    </tr>\n",
       "    <tr>\n",
       "      <th>4</th>\n",
       "      <td>Cassandry Agge</td>\n",
       "      <td>913</td>\n",
       "      <td>caggepc@google.com.hk</td>\n",
       "      <td>Female</td>\n",
       "      <td>76660</td>\n",
       "      <td>10/05/1964</td>\n",
       "    </tr>\n",
       "    <tr>\n",
       "      <th>5</th>\n",
       "      <td>Constanta Antonomolii</td>\n",
       "      <td>853</td>\n",
       "      <td>cantonomoliino@google.com.br</td>\n",
       "      <td>Female</td>\n",
       "      <td>72382</td>\n",
       "      <td>20/10/1995</td>\n",
       "    </tr>\n",
       "    <tr>\n",
       "      <th>6</th>\n",
       "      <td>Douglass Putland</td>\n",
       "      <td>562</td>\n",
       "      <td>dputlandfl@google.es</td>\n",
       "      <td>Male</td>\n",
       "      <td>38509</td>\n",
       "      <td>28/02/1954</td>\n",
       "    </tr>\n",
       "    <tr>\n",
       "      <th>7</th>\n",
       "      <td>Elaine Dowbakin</td>\n",
       "      <td>383</td>\n",
       "      <td>edowbakinam@google.ca</td>\n",
       "      <td>Female</td>\n",
       "      <td>57259</td>\n",
       "      <td>29/06/1989</td>\n",
       "    </tr>\n",
       "    <tr>\n",
       "      <th>8</th>\n",
       "      <td>Eugenio Brazener</td>\n",
       "      <td>447</td>\n",
       "      <td>ebrazenerce@google.ca</td>\n",
       "      <td>Male</td>\n",
       "      <td>53693</td>\n",
       "      <td>17/04/1947</td>\n",
       "    </tr>\n",
       "    <tr>\n",
       "      <th>9</th>\n",
       "      <td>Gabriell Slinger</td>\n",
       "      <td>65</td>\n",
       "      <td>gslinger1s@google.com.hk</td>\n",
       "      <td>Female</td>\n",
       "      <td>59909</td>\n",
       "      <td>27/08/1953</td>\n",
       "    </tr>\n",
       "    <tr>\n",
       "      <th>10</th>\n",
       "      <td>Gianni Gorry</td>\n",
       "      <td>620</td>\n",
       "      <td>ggorryh7@google.com.br</td>\n",
       "      <td>Male</td>\n",
       "      <td>29531</td>\n",
       "      <td>09/11/1977</td>\n",
       "    </tr>\n",
       "    <tr>\n",
       "      <th>11</th>\n",
       "      <td>Ina Antonietti</td>\n",
       "      <td>138</td>\n",
       "      <td>iantonietti3t@google.it</td>\n",
       "      <td>Female</td>\n",
       "      <td>16752</td>\n",
       "      <td>21/10/1949</td>\n",
       "    </tr>\n",
       "    <tr>\n",
       "      <th>12</th>\n",
       "      <td>Jimmie Tewkesbury</td>\n",
       "      <td>973</td>\n",
       "      <td>jtewkesburyr0@google.com.br</td>\n",
       "      <td>Male</td>\n",
       "      <td>100995</td>\n",
       "      <td>26/06/1956</td>\n",
       "    </tr>\n",
       "    <tr>\n",
       "      <th>13</th>\n",
       "      <td>Karlyn Brehault</td>\n",
       "      <td>15</td>\n",
       "      <td>kbrehaulte@google.com</td>\n",
       "      <td>Female</td>\n",
       "      <td>106373</td>\n",
       "      <td>28/03/1958</td>\n",
       "    </tr>\n",
       "    <tr>\n",
       "      <th>14</th>\n",
       "      <td>Kellen Ogle</td>\n",
       "      <td>258</td>\n",
       "      <td>kogle75@google.com.hk</td>\n",
       "      <td>Female</td>\n",
       "      <td>96742</td>\n",
       "      <td>10/04/1955</td>\n",
       "    </tr>\n",
       "    <tr>\n",
       "      <th>15</th>\n",
       "      <td>Lexy Byfield</td>\n",
       "      <td>218</td>\n",
       "      <td>lbyfield61@google.com</td>\n",
       "      <td>Female</td>\n",
       "      <td>65434</td>\n",
       "      <td>02/08/1971</td>\n",
       "    </tr>\n",
       "    <tr>\n",
       "      <th>16</th>\n",
       "      <td>Loren Leese</td>\n",
       "      <td>295</td>\n",
       "      <td>lleese86@google.cn</td>\n",
       "      <td>Female</td>\n",
       "      <td>38857</td>\n",
       "      <td>16/04/1966</td>\n",
       "    </tr>\n",
       "    <tr>\n",
       "      <th>17</th>\n",
       "      <td>Madelon Buckwell</td>\n",
       "      <td>783</td>\n",
       "      <td>mbuckwelllq@google.com</td>\n",
       "      <td>Female</td>\n",
       "      <td>97938</td>\n",
       "      <td>09/05/2001</td>\n",
       "    </tr>\n",
       "    <tr>\n",
       "      <th>18</th>\n",
       "      <td>Mar Alenichev</td>\n",
       "      <td>845</td>\n",
       "      <td>malenichevng@google.com.hk</td>\n",
       "      <td>Male</td>\n",
       "      <td>49635</td>\n",
       "      <td>07/07/2001</td>\n",
       "    </tr>\n",
       "    <tr>\n",
       "      <th>19</th>\n",
       "      <td>Maurine Tedorenko</td>\n",
       "      <td>330</td>\n",
       "      <td>mtedorenko95@google.pl</td>\n",
       "      <td>Female</td>\n",
       "      <td>60477</td>\n",
       "      <td>13/05/1959</td>\n",
       "    </tr>\n",
       "  </tbody>\n",
       "</table>\n",
       "</div>"
      ],
      "text/plain": [
       "                full_name   id                         email  gender  salary  \\\n",
       "0      Adrienne MacConnal  535    amacconnaleu@google.com.hk  Female   94610   \n",
       "1         Alta Blackhurst  696   ablackhurstjb@google.com.au  Female   14482   \n",
       "2              Ber Bunner  758           bbunnerl1@google.de    Male   58939   \n",
       "3            Cam Scrowson  889         cscrowsonoo@google.it  Female  107027   \n",
       "4          Cassandry Agge  913         caggepc@google.com.hk  Female   76660   \n",
       "5   Constanta Antonomolii  853  cantonomoliino@google.com.br  Female   72382   \n",
       "6        Douglass Putland  562          dputlandfl@google.es    Male   38509   \n",
       "7         Elaine Dowbakin  383         edowbakinam@google.ca  Female   57259   \n",
       "8        Eugenio Brazener  447         ebrazenerce@google.ca    Male   53693   \n",
       "9        Gabriell Slinger   65      gslinger1s@google.com.hk  Female   59909   \n",
       "10           Gianni Gorry  620        ggorryh7@google.com.br    Male   29531   \n",
       "11         Ina Antonietti  138       iantonietti3t@google.it  Female   16752   \n",
       "12      Jimmie Tewkesbury  973   jtewkesburyr0@google.com.br    Male  100995   \n",
       "13        Karlyn Brehault   15         kbrehaulte@google.com  Female  106373   \n",
       "14            Kellen Ogle  258         kogle75@google.com.hk  Female   96742   \n",
       "15           Lexy Byfield  218         lbyfield61@google.com  Female   65434   \n",
       "16            Loren Leese  295            lleese86@google.cn  Female   38857   \n",
       "17       Madelon Buckwell  783        mbuckwelllq@google.com  Female   97938   \n",
       "18          Mar Alenichev  845    malenichevng@google.com.hk    Male   49635   \n",
       "19      Maurine Tedorenko  330        mtedorenko95@google.pl  Female   60477   \n",
       "\n",
       "   date_of_birth  \n",
       "0     18/09/1950  \n",
       "1     06/10/1982  \n",
       "2     30/01/1993  \n",
       "3     03/05/1998  \n",
       "4     10/05/1964  \n",
       "5     20/10/1995  \n",
       "6     28/02/1954  \n",
       "7     29/06/1989  \n",
       "8     17/04/1947  \n",
       "9     27/08/1953  \n",
       "10    09/11/1977  \n",
       "11    21/10/1949  \n",
       "12    26/06/1956  \n",
       "13    28/03/1958  \n",
       "14    10/04/1955  \n",
       "15    02/08/1971  \n",
       "16    16/04/1966  \n",
       "17    09/05/2001  \n",
       "18    07/07/2001  \n",
       "19    13/05/1959  "
      ]
     },
     "execution_count": 164,
     "metadata": {},
     "output_type": "execute_result"
    }
   ],
   "source": [
    "pd.read_excel(new_path)"
   ]
  },
  {
   "cell_type": "markdown",
   "metadata": {},
   "source": [
    "## 13. Exercise - user defined function <a id = '13'></a>\n",
    "[Back to contents](#cont)"
   ]
  },
  {
   "cell_type": "markdown",
   "metadata": {},
   "source": [
    "Recall the code for calculating circle and sphere geometry from a radius:<br>\n",
    "<code>PI = 3.14159265\n",
    "d = 2\\*r\n",
    "c = 2\\*PI\\*r\n",
    "A = PI\\*r\\*\\*2\n",
    "V = 4\\*PI\\*r\\*\\*3/3</code>\n",
    "\n",
    "<b>Requirement</b>\n",
    "1. Create a user defined function which returns <code>d</code>,<code>c</code>,<code>A</code>,<code>V</code> as a <code>tuple</code>.\n",
    "2. BONUS take user input for the radius by using <code>r = input()</code>\n",
    "\n",
    "You can use the <code>math</code> module to import PI as a constant rather than hard-coding it\n",
    "\n",
    "HINT: your code should include <code>def</code>..."
   ]
  },
  {
   "cell_type": "code",
   "execution_count": null,
   "metadata": {},
   "outputs": [],
   "source": [
    "#type your code in here using the starting points below\n",
    "\n",
    "from math import pi\n",
    "\n",
    "#define function here\n",
    "    # calculations here\n",
    "#    return # return values here\n",
    "\n",
    "# call the function here"
   ]
  },
  {
   "cell_type": "markdown",
   "metadata": {},
   "source": [
    "## 14. Example - pandas: addressing, indexing, and masks<a id = '14'></a>\n",
    "[Back to contents](#cont)"
   ]
  },
  {
   "cell_type": "markdown",
   "metadata": {},
   "source": [
    "Let's create a DataFrame from scratch using lists"
   ]
  },
  {
   "cell_type": "code",
   "execution_count": 3,
   "metadata": {},
   "outputs": [
    {
     "data": {
      "text/html": [
       "<div>\n",
       "<style scoped>\n",
       "    .dataframe tbody tr th:only-of-type {\n",
       "        vertical-align: middle;\n",
       "    }\n",
       "\n",
       "    .dataframe tbody tr th {\n",
       "        vertical-align: top;\n",
       "    }\n",
       "\n",
       "    .dataframe thead th {\n",
       "        text-align: right;\n",
       "    }\n",
       "</style>\n",
       "<table border=\"1\" class=\"dataframe\">\n",
       "  <thead>\n",
       "    <tr style=\"text-align: right;\">\n",
       "      <th></th>\n",
       "      <th>animals</th>\n",
       "      <th>counts</th>\n",
       "    </tr>\n",
       "  </thead>\n",
       "  <tbody>\n",
       "    <tr>\n",
       "      <th>0</th>\n",
       "      <td>dog</td>\n",
       "      <td>7</td>\n",
       "    </tr>\n",
       "    <tr>\n",
       "      <th>1</th>\n",
       "      <td>cat</td>\n",
       "      <td>5</td>\n",
       "    </tr>\n",
       "    <tr>\n",
       "      <th>2</th>\n",
       "      <td>rabbit</td>\n",
       "      <td>3</td>\n",
       "    </tr>\n",
       "    <tr>\n",
       "      <th>3</th>\n",
       "      <td>mouse</td>\n",
       "      <td>1</td>\n",
       "    </tr>\n",
       "    <tr>\n",
       "      <th>4</th>\n",
       "      <td>guinea pig</td>\n",
       "      <td>1</td>\n",
       "    </tr>\n",
       "    <tr>\n",
       "      <th>5</th>\n",
       "      <td>goldfish</td>\n",
       "      <td>5</td>\n",
       "    </tr>\n",
       "  </tbody>\n",
       "</table>\n",
       "</div>"
      ],
      "text/plain": [
       "      animals  counts\n",
       "0         dog       7\n",
       "1         cat       5\n",
       "2      rabbit       3\n",
       "3       mouse       1\n",
       "4  guinea pig       1\n",
       "5    goldfish       5"
      ]
     },
     "execution_count": 3,
     "metadata": {},
     "output_type": "execute_result"
    }
   ],
   "source": [
    "import pandas as pd\n",
    "\n",
    "animal_list = ['dog','cat','rabbit','mouse','guinea pig','goldfish']\n",
    "count_list = [7,5,3,1,1,5]\n",
    "\n",
    "pd.DataFrame(list(zip(animal_list,count_list)), columns = ['animals', 'counts'])"
   ]
  },
  {
   "cell_type": "markdown",
   "metadata": {},
   "source": [
    "Equivalently using a dictionary rather than lists"
   ]
  },
  {
   "cell_type": "code",
   "execution_count": 4,
   "metadata": {},
   "outputs": [
    {
     "data": {
      "text/html": [
       "<div>\n",
       "<style scoped>\n",
       "    .dataframe tbody tr th:only-of-type {\n",
       "        vertical-align: middle;\n",
       "    }\n",
       "\n",
       "    .dataframe tbody tr th {\n",
       "        vertical-align: top;\n",
       "    }\n",
       "\n",
       "    .dataframe thead th {\n",
       "        text-align: right;\n",
       "    }\n",
       "</style>\n",
       "<table border=\"1\" class=\"dataframe\">\n",
       "  <thead>\n",
       "    <tr style=\"text-align: right;\">\n",
       "      <th></th>\n",
       "      <th>animals</th>\n",
       "      <th>counts</th>\n",
       "    </tr>\n",
       "  </thead>\n",
       "  <tbody>\n",
       "    <tr>\n",
       "      <th>0</th>\n",
       "      <td>dog</td>\n",
       "      <td>7</td>\n",
       "    </tr>\n",
       "    <tr>\n",
       "      <th>1</th>\n",
       "      <td>cat</td>\n",
       "      <td>5</td>\n",
       "    </tr>\n",
       "    <tr>\n",
       "      <th>2</th>\n",
       "      <td>rabbit</td>\n",
       "      <td>3</td>\n",
       "    </tr>\n",
       "    <tr>\n",
       "      <th>3</th>\n",
       "      <td>mouse</td>\n",
       "      <td>1</td>\n",
       "    </tr>\n",
       "    <tr>\n",
       "      <th>4</th>\n",
       "      <td>guinea pig</td>\n",
       "      <td>1</td>\n",
       "    </tr>\n",
       "    <tr>\n",
       "      <th>5</th>\n",
       "      <td>goldfish</td>\n",
       "      <td>5</td>\n",
       "    </tr>\n",
       "  </tbody>\n",
       "</table>\n",
       "</div>"
      ],
      "text/plain": [
       "      animals  counts\n",
       "0         dog       7\n",
       "1         cat       5\n",
       "2      rabbit       3\n",
       "3       mouse       1\n",
       "4  guinea pig       1\n",
       "5    goldfish       5"
      ]
     },
     "execution_count": 4,
     "metadata": {},
     "output_type": "execute_result"
    }
   ],
   "source": [
    "data_dict = {'animals' : ['dog','cat','rabbit','mouse','guinea pig','goldfish'], 'counts' :[7,5,3,1,1,5]}\n",
    "df = pd.DataFrame(data_dict)\n",
    "df"
   ]
  },
  {
   "cell_type": "markdown",
   "metadata": {},
   "source": [
    "Note that the pandas index may not be numeric, and could be made of strings for example.\n",
    "\n",
    "Using list comprehension (a compact <code>for</code> loop) we can create a new index list"
   ]
  },
  {
   "cell_type": "code",
   "execution_count": 5,
   "metadata": {},
   "outputs": [
    {
     "data": {
      "text/plain": [
       "['row 0', 'row 1', 'row 2', 'row 3', 'row 4', 'row 5']"
      ]
     },
     "execution_count": 5,
     "metadata": {},
     "output_type": "execute_result"
    }
   ],
   "source": [
    "new_index = ['row %i' %i for i in range(len(df))]\n",
    "new_index"
   ]
  },
  {
   "cell_type": "markdown",
   "metadata": {},
   "source": [
    "Let's change the index"
   ]
  },
  {
   "cell_type": "code",
   "execution_count": 6,
   "metadata": {},
   "outputs": [
    {
     "data": {
      "text/html": [
       "<div>\n",
       "<style scoped>\n",
       "    .dataframe tbody tr th:only-of-type {\n",
       "        vertical-align: middle;\n",
       "    }\n",
       "\n",
       "    .dataframe tbody tr th {\n",
       "        vertical-align: top;\n",
       "    }\n",
       "\n",
       "    .dataframe thead th {\n",
       "        text-align: right;\n",
       "    }\n",
       "</style>\n",
       "<table border=\"1\" class=\"dataframe\">\n",
       "  <thead>\n",
       "    <tr style=\"text-align: right;\">\n",
       "      <th></th>\n",
       "      <th>animals</th>\n",
       "      <th>counts</th>\n",
       "    </tr>\n",
       "  </thead>\n",
       "  <tbody>\n",
       "    <tr>\n",
       "      <th>row 0</th>\n",
       "      <td>dog</td>\n",
       "      <td>7</td>\n",
       "    </tr>\n",
       "    <tr>\n",
       "      <th>row 1</th>\n",
       "      <td>cat</td>\n",
       "      <td>5</td>\n",
       "    </tr>\n",
       "    <tr>\n",
       "      <th>row 2</th>\n",
       "      <td>rabbit</td>\n",
       "      <td>3</td>\n",
       "    </tr>\n",
       "    <tr>\n",
       "      <th>row 3</th>\n",
       "      <td>mouse</td>\n",
       "      <td>1</td>\n",
       "    </tr>\n",
       "    <tr>\n",
       "      <th>row 4</th>\n",
       "      <td>guinea pig</td>\n",
       "      <td>1</td>\n",
       "    </tr>\n",
       "    <tr>\n",
       "      <th>row 5</th>\n",
       "      <td>goldfish</td>\n",
       "      <td>5</td>\n",
       "    </tr>\n",
       "  </tbody>\n",
       "</table>\n",
       "</div>"
      ],
      "text/plain": [
       "          animals  counts\n",
       "row 0         dog       7\n",
       "row 1         cat       5\n",
       "row 2      rabbit       3\n",
       "row 3       mouse       1\n",
       "row 4  guinea pig       1\n",
       "row 5    goldfish       5"
      ]
     },
     "execution_count": 6,
     "metadata": {},
     "output_type": "execute_result"
    }
   ],
   "source": [
    "df.index = new_index\n",
    "df"
   ]
  },
  {
   "cell_type": "markdown",
   "metadata": {},
   "source": [
    "Addressing columns as attributes produces a pandas series"
   ]
  },
  {
   "cell_type": "code",
   "execution_count": null,
   "metadata": {},
   "outputs": [],
   "source": [
    "df.animals"
   ]
  },
  {
   "cell_type": "markdown",
   "metadata": {},
   "source": [
    "Similarly using string column names to address columns"
   ]
  },
  {
   "cell_type": "code",
   "execution_count": 7,
   "metadata": {
    "scrolled": true
   },
   "outputs": [
    {
     "data": {
      "text/plain": [
       "row 0           dog\n",
       "row 1           cat\n",
       "row 2        rabbit\n",
       "row 3         mouse\n",
       "row 4    guinea pig\n",
       "row 5      goldfish\n",
       "Name: animals, dtype: object"
      ]
     },
     "execution_count": 7,
     "metadata": {},
     "output_type": "execute_result"
    }
   ],
   "source": [
    "df['animals']"
   ]
  },
  {
   "cell_type": "markdown",
   "metadata": {},
   "source": [
    "Reommended approach for pandas index and column indexing is <code>.loc[index,column]</code>"
   ]
  },
  {
   "cell_type": "code",
   "execution_count": null,
   "metadata": {},
   "outputs": [],
   "source": [
    "df.loc[:,'animals']"
   ]
  },
  {
   "cell_type": "markdown",
   "metadata": {},
   "source": [
    "Also recommended using integer indexing <code>.iloc[row number, column number]</code>"
   ]
  },
  {
   "cell_type": "code",
   "execution_count": null,
   "metadata": {},
   "outputs": [],
   "source": [
    "df.iloc[:,0]"
   ]
  },
  {
   "cell_type": "markdown",
   "metadata": {},
   "source": [
    "For specific rows and columns - we can slice as per ususal"
   ]
  },
  {
   "cell_type": "code",
   "execution_count": null,
   "metadata": {},
   "outputs": [],
   "source": [
    "df.iloc[0:3, 0]"
   ]
  },
  {
   "cell_type": "code",
   "execution_count": null,
   "metadata": {},
   "outputs": [],
   "source": [
    "df.loc['row 2', 'animals']"
   ]
  },
  {
   "cell_type": "markdown",
   "metadata": {},
   "source": [
    "We can use logical tests to develop a 'Boolean mask' of a DataFrame"
   ]
  },
  {
   "cell_type": "code",
   "execution_count": 8,
   "metadata": {},
   "outputs": [
    {
     "data": {
      "text/plain": [
       "row 0     True\n",
       "row 1     True\n",
       "row 2     True\n",
       "row 3    False\n",
       "row 4    False\n",
       "row 5     True\n",
       "Name: counts, dtype: bool"
      ]
     },
     "execution_count": 8,
     "metadata": {},
     "output_type": "execute_result"
    }
   ],
   "source": [
    "bool_mask = df['counts']>2\n",
    "bool_mask"
   ]
  },
  {
   "cell_type": "markdown",
   "metadata": {},
   "source": [
    "We can then apply the mask to the DataFrame giving a reduced portion of the DataFrame which meets the logical criteria"
   ]
  },
  {
   "cell_type": "code",
   "execution_count": 9,
   "metadata": {},
   "outputs": [
    {
     "data": {
      "text/html": [
       "<div>\n",
       "<style scoped>\n",
       "    .dataframe tbody tr th:only-of-type {\n",
       "        vertical-align: middle;\n",
       "    }\n",
       "\n",
       "    .dataframe tbody tr th {\n",
       "        vertical-align: top;\n",
       "    }\n",
       "\n",
       "    .dataframe thead th {\n",
       "        text-align: right;\n",
       "    }\n",
       "</style>\n",
       "<table border=\"1\" class=\"dataframe\">\n",
       "  <thead>\n",
       "    <tr style=\"text-align: right;\">\n",
       "      <th></th>\n",
       "      <th>animals</th>\n",
       "      <th>counts</th>\n",
       "    </tr>\n",
       "  </thead>\n",
       "  <tbody>\n",
       "    <tr>\n",
       "      <th>row 0</th>\n",
       "      <td>dog</td>\n",
       "      <td>7</td>\n",
       "    </tr>\n",
       "    <tr>\n",
       "      <th>row 1</th>\n",
       "      <td>cat</td>\n",
       "      <td>5</td>\n",
       "    </tr>\n",
       "    <tr>\n",
       "      <th>row 2</th>\n",
       "      <td>rabbit</td>\n",
       "      <td>3</td>\n",
       "    </tr>\n",
       "    <tr>\n",
       "      <th>row 5</th>\n",
       "      <td>goldfish</td>\n",
       "      <td>5</td>\n",
       "    </tr>\n",
       "  </tbody>\n",
       "</table>\n",
       "</div>"
      ],
      "text/plain": [
       "        animals  counts\n",
       "row 0       dog       7\n",
       "row 1       cat       5\n",
       "row 2    rabbit       3\n",
       "row 5  goldfish       5"
      ]
     },
     "execution_count": 9,
     "metadata": {},
     "output_type": "execute_result"
    }
   ],
   "source": [
    "df[bool_mask]"
   ]
  },
  {
   "cell_type": "markdown",
   "metadata": {},
   "source": [
    "## 15. Example - pandas: iterating and applying<a id='15'></a>\n",
    "[Back to contents](#cont)"
   ]
  },
  {
   "cell_type": "markdown",
   "metadata": {},
   "source": [
    "Let's use the data from earlier to test some more techniques"
   ]
  },
  {
   "cell_type": "code",
   "execution_count": 6,
   "metadata": {},
   "outputs": [
    {
     "ename": "FileNotFoundError",
     "evalue": "[Errno 2] File C:\\Users\\student\\Desktop\\Python Training\\MOCK_DATA.csv does not exist: 'C:\\\\Users\\\\student\\\\Desktop\\\\Python Training\\\\MOCK_DATA.csv'",
     "output_type": "error",
     "traceback": [
      "\u001b[1;31m---------------------------------------------------------------------------\u001b[0m",
      "\u001b[1;31mFileNotFoundError\u001b[0m                         Traceback (most recent call last)",
      "\u001b[1;32m<ipython-input-6-4027f81e203d>\u001b[0m in \u001b[0;36m<module>\u001b[1;34m\u001b[0m\n\u001b[0;32m      5\u001b[0m \u001b[1;33m\u001b[0m\u001b[0m\n\u001b[0;32m      6\u001b[0m \u001b[1;31m# read in - data is now stored in a dataframe in python\u001b[0m\u001b[1;33m\u001b[0m\u001b[1;33m\u001b[0m\u001b[1;33m\u001b[0m\u001b[0m\n\u001b[1;32m----> 7\u001b[1;33m \u001b[0mmy_df\u001b[0m \u001b[1;33m=\u001b[0m \u001b[0mpd\u001b[0m\u001b[1;33m.\u001b[0m\u001b[0mread_csv\u001b[0m\u001b[1;33m(\u001b[0m\u001b[0mdata_path\u001b[0m\u001b[1;33m)\u001b[0m\u001b[1;33m\u001b[0m\u001b[1;33m\u001b[0m\u001b[0m\n\u001b[0m\u001b[0;32m      8\u001b[0m \u001b[1;33m\u001b[0m\u001b[0m\n\u001b[0;32m      9\u001b[0m \u001b[0mmy_df\u001b[0m\u001b[1;33m\u001b[0m\u001b[1;33m\u001b[0m\u001b[0m\n",
      "\u001b[1;32m~\\AppData\\Local\\Continuum\\anaconda3\\lib\\site-packages\\pandas\\io\\parsers.py\u001b[0m in \u001b[0;36mparser_f\u001b[1;34m(filepath_or_buffer, sep, delimiter, header, names, index_col, usecols, squeeze, prefix, mangle_dupe_cols, dtype, engine, converters, true_values, false_values, skipinitialspace, skiprows, skipfooter, nrows, na_values, keep_default_na, na_filter, verbose, skip_blank_lines, parse_dates, infer_datetime_format, keep_date_col, date_parser, dayfirst, cache_dates, iterator, chunksize, compression, thousands, decimal, lineterminator, quotechar, quoting, doublequote, escapechar, comment, encoding, dialect, error_bad_lines, warn_bad_lines, delim_whitespace, low_memory, memory_map, float_precision)\u001b[0m\n\u001b[0;32m    674\u001b[0m         )\n\u001b[0;32m    675\u001b[0m \u001b[1;33m\u001b[0m\u001b[0m\n\u001b[1;32m--> 676\u001b[1;33m         \u001b[1;32mreturn\u001b[0m \u001b[0m_read\u001b[0m\u001b[1;33m(\u001b[0m\u001b[0mfilepath_or_buffer\u001b[0m\u001b[1;33m,\u001b[0m \u001b[0mkwds\u001b[0m\u001b[1;33m)\u001b[0m\u001b[1;33m\u001b[0m\u001b[1;33m\u001b[0m\u001b[0m\n\u001b[0m\u001b[0;32m    677\u001b[0m \u001b[1;33m\u001b[0m\u001b[0m\n\u001b[0;32m    678\u001b[0m     \u001b[0mparser_f\u001b[0m\u001b[1;33m.\u001b[0m\u001b[0m__name__\u001b[0m \u001b[1;33m=\u001b[0m \u001b[0mname\u001b[0m\u001b[1;33m\u001b[0m\u001b[1;33m\u001b[0m\u001b[0m\n",
      "\u001b[1;32m~\\AppData\\Local\\Continuum\\anaconda3\\lib\\site-packages\\pandas\\io\\parsers.py\u001b[0m in \u001b[0;36m_read\u001b[1;34m(filepath_or_buffer, kwds)\u001b[0m\n\u001b[0;32m    446\u001b[0m \u001b[1;33m\u001b[0m\u001b[0m\n\u001b[0;32m    447\u001b[0m     \u001b[1;31m# Create the parser.\u001b[0m\u001b[1;33m\u001b[0m\u001b[1;33m\u001b[0m\u001b[1;33m\u001b[0m\u001b[0m\n\u001b[1;32m--> 448\u001b[1;33m     \u001b[0mparser\u001b[0m \u001b[1;33m=\u001b[0m \u001b[0mTextFileReader\u001b[0m\u001b[1;33m(\u001b[0m\u001b[0mfp_or_buf\u001b[0m\u001b[1;33m,\u001b[0m \u001b[1;33m**\u001b[0m\u001b[0mkwds\u001b[0m\u001b[1;33m)\u001b[0m\u001b[1;33m\u001b[0m\u001b[1;33m\u001b[0m\u001b[0m\n\u001b[0m\u001b[0;32m    449\u001b[0m \u001b[1;33m\u001b[0m\u001b[0m\n\u001b[0;32m    450\u001b[0m     \u001b[1;32mif\u001b[0m \u001b[0mchunksize\u001b[0m \u001b[1;32mor\u001b[0m \u001b[0miterator\u001b[0m\u001b[1;33m:\u001b[0m\u001b[1;33m\u001b[0m\u001b[1;33m\u001b[0m\u001b[0m\n",
      "\u001b[1;32m~\\AppData\\Local\\Continuum\\anaconda3\\lib\\site-packages\\pandas\\io\\parsers.py\u001b[0m in \u001b[0;36m__init__\u001b[1;34m(self, f, engine, **kwds)\u001b[0m\n\u001b[0;32m    878\u001b[0m             \u001b[0mself\u001b[0m\u001b[1;33m.\u001b[0m\u001b[0moptions\u001b[0m\u001b[1;33m[\u001b[0m\u001b[1;34m\"has_index_names\"\u001b[0m\u001b[1;33m]\u001b[0m \u001b[1;33m=\u001b[0m \u001b[0mkwds\u001b[0m\u001b[1;33m[\u001b[0m\u001b[1;34m\"has_index_names\"\u001b[0m\u001b[1;33m]\u001b[0m\u001b[1;33m\u001b[0m\u001b[1;33m\u001b[0m\u001b[0m\n\u001b[0;32m    879\u001b[0m \u001b[1;33m\u001b[0m\u001b[0m\n\u001b[1;32m--> 880\u001b[1;33m         \u001b[0mself\u001b[0m\u001b[1;33m.\u001b[0m\u001b[0m_make_engine\u001b[0m\u001b[1;33m(\u001b[0m\u001b[0mself\u001b[0m\u001b[1;33m.\u001b[0m\u001b[0mengine\u001b[0m\u001b[1;33m)\u001b[0m\u001b[1;33m\u001b[0m\u001b[1;33m\u001b[0m\u001b[0m\n\u001b[0m\u001b[0;32m    881\u001b[0m \u001b[1;33m\u001b[0m\u001b[0m\n\u001b[0;32m    882\u001b[0m     \u001b[1;32mdef\u001b[0m \u001b[0mclose\u001b[0m\u001b[1;33m(\u001b[0m\u001b[0mself\u001b[0m\u001b[1;33m)\u001b[0m\u001b[1;33m:\u001b[0m\u001b[1;33m\u001b[0m\u001b[1;33m\u001b[0m\u001b[0m\n",
      "\u001b[1;32m~\\AppData\\Local\\Continuum\\anaconda3\\lib\\site-packages\\pandas\\io\\parsers.py\u001b[0m in \u001b[0;36m_make_engine\u001b[1;34m(self, engine)\u001b[0m\n\u001b[0;32m   1112\u001b[0m     \u001b[1;32mdef\u001b[0m \u001b[0m_make_engine\u001b[0m\u001b[1;33m(\u001b[0m\u001b[0mself\u001b[0m\u001b[1;33m,\u001b[0m \u001b[0mengine\u001b[0m\u001b[1;33m=\u001b[0m\u001b[1;34m\"c\"\u001b[0m\u001b[1;33m)\u001b[0m\u001b[1;33m:\u001b[0m\u001b[1;33m\u001b[0m\u001b[1;33m\u001b[0m\u001b[0m\n\u001b[0;32m   1113\u001b[0m         \u001b[1;32mif\u001b[0m \u001b[0mengine\u001b[0m \u001b[1;33m==\u001b[0m \u001b[1;34m\"c\"\u001b[0m\u001b[1;33m:\u001b[0m\u001b[1;33m\u001b[0m\u001b[1;33m\u001b[0m\u001b[0m\n\u001b[1;32m-> 1114\u001b[1;33m             \u001b[0mself\u001b[0m\u001b[1;33m.\u001b[0m\u001b[0m_engine\u001b[0m \u001b[1;33m=\u001b[0m \u001b[0mCParserWrapper\u001b[0m\u001b[1;33m(\u001b[0m\u001b[0mself\u001b[0m\u001b[1;33m.\u001b[0m\u001b[0mf\u001b[0m\u001b[1;33m,\u001b[0m \u001b[1;33m**\u001b[0m\u001b[0mself\u001b[0m\u001b[1;33m.\u001b[0m\u001b[0moptions\u001b[0m\u001b[1;33m)\u001b[0m\u001b[1;33m\u001b[0m\u001b[1;33m\u001b[0m\u001b[0m\n\u001b[0m\u001b[0;32m   1115\u001b[0m         \u001b[1;32melse\u001b[0m\u001b[1;33m:\u001b[0m\u001b[1;33m\u001b[0m\u001b[1;33m\u001b[0m\u001b[0m\n\u001b[0;32m   1116\u001b[0m             \u001b[1;32mif\u001b[0m \u001b[0mengine\u001b[0m \u001b[1;33m==\u001b[0m \u001b[1;34m\"python\"\u001b[0m\u001b[1;33m:\u001b[0m\u001b[1;33m\u001b[0m\u001b[1;33m\u001b[0m\u001b[0m\n",
      "\u001b[1;32m~\\AppData\\Local\\Continuum\\anaconda3\\lib\\site-packages\\pandas\\io\\parsers.py\u001b[0m in \u001b[0;36m__init__\u001b[1;34m(self, src, **kwds)\u001b[0m\n\u001b[0;32m   1889\u001b[0m         \u001b[0mkwds\u001b[0m\u001b[1;33m[\u001b[0m\u001b[1;34m\"usecols\"\u001b[0m\u001b[1;33m]\u001b[0m \u001b[1;33m=\u001b[0m \u001b[0mself\u001b[0m\u001b[1;33m.\u001b[0m\u001b[0musecols\u001b[0m\u001b[1;33m\u001b[0m\u001b[1;33m\u001b[0m\u001b[0m\n\u001b[0;32m   1890\u001b[0m \u001b[1;33m\u001b[0m\u001b[0m\n\u001b[1;32m-> 1891\u001b[1;33m         \u001b[0mself\u001b[0m\u001b[1;33m.\u001b[0m\u001b[0m_reader\u001b[0m \u001b[1;33m=\u001b[0m \u001b[0mparsers\u001b[0m\u001b[1;33m.\u001b[0m\u001b[0mTextReader\u001b[0m\u001b[1;33m(\u001b[0m\u001b[0msrc\u001b[0m\u001b[1;33m,\u001b[0m \u001b[1;33m**\u001b[0m\u001b[0mkwds\u001b[0m\u001b[1;33m)\u001b[0m\u001b[1;33m\u001b[0m\u001b[1;33m\u001b[0m\u001b[0m\n\u001b[0m\u001b[0;32m   1892\u001b[0m         \u001b[0mself\u001b[0m\u001b[1;33m.\u001b[0m\u001b[0munnamed_cols\u001b[0m \u001b[1;33m=\u001b[0m \u001b[0mself\u001b[0m\u001b[1;33m.\u001b[0m\u001b[0m_reader\u001b[0m\u001b[1;33m.\u001b[0m\u001b[0munnamed_cols\u001b[0m\u001b[1;33m\u001b[0m\u001b[1;33m\u001b[0m\u001b[0m\n\u001b[0;32m   1893\u001b[0m \u001b[1;33m\u001b[0m\u001b[0m\n",
      "\u001b[1;32mpandas\\_libs\\parsers.pyx\u001b[0m in \u001b[0;36mpandas._libs.parsers.TextReader.__cinit__\u001b[1;34m()\u001b[0m\n",
      "\u001b[1;32mpandas\\_libs\\parsers.pyx\u001b[0m in \u001b[0;36mpandas._libs.parsers.TextReader._setup_parser_source\u001b[1;34m()\u001b[0m\n",
      "\u001b[1;31mFileNotFoundError\u001b[0m: [Errno 2] File C:\\Users\\student\\Desktop\\Python Training\\MOCK_DATA.csv does not exist: 'C:\\\\Users\\\\student\\\\Desktop\\\\Python Training\\\\MOCK_DATA.csv'"
     ]
    }
   ],
   "source": [
    "import pandas as pd\n",
    "\n",
    "# define file path\n",
    "data_path = r'C:\\Users\\student\\Desktop\\Python Training\\MOCK_DATA.csv'\n",
    "\n",
    "# read in - data is now stored in a dataframe in python\n",
    "my_df = pd.read_csv(data_path)\n",
    "\n",
    "my_df"
   ]
  },
  {
   "cell_type": "markdown",
   "metadata": {},
   "source": [
    "Iterate over columns to perform operations on each column (pandas Series)"
   ]
  },
  {
   "cell_type": "code",
   "execution_count": null,
   "metadata": {},
   "outputs": [],
   "source": [
    "for column in my_df:\n",
    "    print(column, min(my_df[column]), max(my_df[column]))"
   ]
  },
  {
   "cell_type": "markdown",
   "metadata": {},
   "source": [
    "This is equivalent to using the <code>iteritems()</code> iterator - which  returns a tuple of columns and values. This is the recommended method for column iteration"
   ]
  },
  {
   "cell_type": "code",
   "execution_count": null,
   "metadata": {},
   "outputs": [],
   "source": [
    "for column, values in my_df.iteritems():\n",
    "    print(column, min(values), max(values))"
   ]
  },
  {
   "cell_type": "markdown",
   "metadata": {},
   "source": [
    "The results for min and max date of birth don't look right. These dates have been wrongly imported as strings. Let's fix it"
   ]
  },
  {
   "cell_type": "code",
   "execution_count": 12,
   "metadata": {},
   "outputs": [
    {
     "data": {
      "text/html": [
       "<div>\n",
       "<style scoped>\n",
       "    .dataframe tbody tr th:only-of-type {\n",
       "        vertical-align: middle;\n",
       "    }\n",
       "\n",
       "    .dataframe tbody tr th {\n",
       "        vertical-align: top;\n",
       "    }\n",
       "\n",
       "    .dataframe thead th {\n",
       "        text-align: right;\n",
       "    }\n",
       "</style>\n",
       "<table border=\"1\" class=\"dataframe\">\n",
       "  <thead>\n",
       "    <tr style=\"text-align: right;\">\n",
       "      <th></th>\n",
       "      <th>id</th>\n",
       "      <th>first_name</th>\n",
       "      <th>last_name</th>\n",
       "      <th>email</th>\n",
       "      <th>gender</th>\n",
       "      <th>ip_address</th>\n",
       "      <th>salary</th>\n",
       "      <th>date_of_birth</th>\n",
       "    </tr>\n",
       "  </thead>\n",
       "  <tbody>\n",
       "    <tr>\n",
       "      <th>0</th>\n",
       "      <td>1</td>\n",
       "      <td>Graham</td>\n",
       "      <td>Ivanenkov</td>\n",
       "      <td>givanenkov0@uiuc.edu</td>\n",
       "      <td>Male</td>\n",
       "      <td>12.58.104.199</td>\n",
       "      <td>102778</td>\n",
       "      <td>1969-11-06</td>\n",
       "    </tr>\n",
       "    <tr>\n",
       "      <th>1</th>\n",
       "      <td>2</td>\n",
       "      <td>Karlis</td>\n",
       "      <td>Ballchin</td>\n",
       "      <td>kballchin1@alibaba.com</td>\n",
       "      <td>Male</td>\n",
       "      <td>128.63.193.159</td>\n",
       "      <td>70340</td>\n",
       "      <td>1969-10-04</td>\n",
       "    </tr>\n",
       "    <tr>\n",
       "      <th>2</th>\n",
       "      <td>3</td>\n",
       "      <td>Moria</td>\n",
       "      <td>Barber</td>\n",
       "      <td>mbarber2@oaic.gov.au</td>\n",
       "      <td>Female</td>\n",
       "      <td>175.165.231.76</td>\n",
       "      <td>28931</td>\n",
       "      <td>1950-05-03</td>\n",
       "    </tr>\n",
       "    <tr>\n",
       "      <th>3</th>\n",
       "      <td>4</td>\n",
       "      <td>Leighton</td>\n",
       "      <td>Quinnette</td>\n",
       "      <td>lquinnette3@biblegateway.com</td>\n",
       "      <td>Male</td>\n",
       "      <td>21.218.156.217</td>\n",
       "      <td>20684</td>\n",
       "      <td>1985-11-03</td>\n",
       "    </tr>\n",
       "    <tr>\n",
       "      <th>4</th>\n",
       "      <td>5</td>\n",
       "      <td>Trenton</td>\n",
       "      <td>Farmiloe</td>\n",
       "      <td>tfarmiloe4@webmd.com</td>\n",
       "      <td>Male</td>\n",
       "      <td>223.133.70.216</td>\n",
       "      <td>106946</td>\n",
       "      <td>1951-09-12</td>\n",
       "    </tr>\n",
       "    <tr>\n",
       "      <th>...</th>\n",
       "      <td>...</td>\n",
       "      <td>...</td>\n",
       "      <td>...</td>\n",
       "      <td>...</td>\n",
       "      <td>...</td>\n",
       "      <td>...</td>\n",
       "      <td>...</td>\n",
       "      <td>...</td>\n",
       "    </tr>\n",
       "    <tr>\n",
       "      <th>995</th>\n",
       "      <td>996</td>\n",
       "      <td>Innis</td>\n",
       "      <td>Lindell</td>\n",
       "      <td>ilindellrn@privacy.gov.au</td>\n",
       "      <td>Male</td>\n",
       "      <td>33.228.210.6</td>\n",
       "      <td>26023</td>\n",
       "      <td>1970-06-02</td>\n",
       "    </tr>\n",
       "    <tr>\n",
       "      <th>996</th>\n",
       "      <td>997</td>\n",
       "      <td>Edin</td>\n",
       "      <td>Gajewski</td>\n",
       "      <td>egajewskiro@privacy.gov.au</td>\n",
       "      <td>Female</td>\n",
       "      <td>7.180.8.157</td>\n",
       "      <td>18719</td>\n",
       "      <td>1971-09-26</td>\n",
       "    </tr>\n",
       "    <tr>\n",
       "      <th>997</th>\n",
       "      <td>998</td>\n",
       "      <td>Seymour</td>\n",
       "      <td>Boobier</td>\n",
       "      <td>sboobierrp@noaa.gov</td>\n",
       "      <td>Male</td>\n",
       "      <td>105.196.207.20</td>\n",
       "      <td>22734</td>\n",
       "      <td>1999-07-28</td>\n",
       "    </tr>\n",
       "    <tr>\n",
       "      <th>998</th>\n",
       "      <td>999</td>\n",
       "      <td>Gerick</td>\n",
       "      <td>Seyers</td>\n",
       "      <td>gseyersrq@unc.edu</td>\n",
       "      <td>Male</td>\n",
       "      <td>220.22.200.1</td>\n",
       "      <td>85659</td>\n",
       "      <td>1950-10-11</td>\n",
       "    </tr>\n",
       "    <tr>\n",
       "      <th>999</th>\n",
       "      <td>1000</td>\n",
       "      <td>Dulcine</td>\n",
       "      <td>Hearl</td>\n",
       "      <td>dhearlrr@tripadvisor.com</td>\n",
       "      <td>Female</td>\n",
       "      <td>21.39.192.200</td>\n",
       "      <td>85235</td>\n",
       "      <td>2000-09-03</td>\n",
       "    </tr>\n",
       "  </tbody>\n",
       "</table>\n",
       "<p>1000 rows × 8 columns</p>\n",
       "</div>"
      ],
      "text/plain": [
       "       id first_name  last_name                         email  gender  \\\n",
       "0       1     Graham  Ivanenkov          givanenkov0@uiuc.edu    Male   \n",
       "1       2     Karlis   Ballchin        kballchin1@alibaba.com    Male   \n",
       "2       3      Moria     Barber          mbarber2@oaic.gov.au  Female   \n",
       "3       4   Leighton  Quinnette  lquinnette3@biblegateway.com    Male   \n",
       "4       5    Trenton   Farmiloe          tfarmiloe4@webmd.com    Male   \n",
       "..    ...        ...        ...                           ...     ...   \n",
       "995   996      Innis    Lindell     ilindellrn@privacy.gov.au    Male   \n",
       "996   997       Edin   Gajewski    egajewskiro@privacy.gov.au  Female   \n",
       "997   998    Seymour    Boobier           sboobierrp@noaa.gov    Male   \n",
       "998   999     Gerick     Seyers             gseyersrq@unc.edu    Male   \n",
       "999  1000    Dulcine      Hearl      dhearlrr@tripadvisor.com  Female   \n",
       "\n",
       "         ip_address  salary date_of_birth  \n",
       "0     12.58.104.199  102778    1969-11-06  \n",
       "1    128.63.193.159   70340    1969-10-04  \n",
       "2    175.165.231.76   28931    1950-05-03  \n",
       "3    21.218.156.217   20684    1985-11-03  \n",
       "4    223.133.70.216  106946    1951-09-12  \n",
       "..              ...     ...           ...  \n",
       "995    33.228.210.6   26023    1970-06-02  \n",
       "996     7.180.8.157   18719    1971-09-26  \n",
       "997  105.196.207.20   22734    1999-07-28  \n",
       "998    220.22.200.1   85659    1950-10-11  \n",
       "999   21.39.192.200   85235    2000-09-03  \n",
       "\n",
       "[1000 rows x 8 columns]"
      ]
     },
     "execution_count": 12,
     "metadata": {},
     "output_type": "execute_result"
    }
   ],
   "source": [
    "my_df['date_of_birth'] = pd.to_datetime(my_df['date_of_birth'])\n",
    "my_df"
   ]
  },
  {
   "cell_type": "markdown",
   "metadata": {},
   "source": [
    "To perform operations on a row-by-row basis - we could iterate, but this is slow and inefficienct in pandas.\n",
    "\n",
    "E.g. let's calculate age based on current date"
   ]
  },
  {
   "cell_type": "code",
   "execution_count": 13,
   "metadata": {},
   "outputs": [
    {
     "data": {
      "text/html": [
       "<div>\n",
       "<style scoped>\n",
       "    .dataframe tbody tr th:only-of-type {\n",
       "        vertical-align: middle;\n",
       "    }\n",
       "\n",
       "    .dataframe tbody tr th {\n",
       "        vertical-align: top;\n",
       "    }\n",
       "\n",
       "    .dataframe thead th {\n",
       "        text-align: right;\n",
       "    }\n",
       "</style>\n",
       "<table border=\"1\" class=\"dataframe\">\n",
       "  <thead>\n",
       "    <tr style=\"text-align: right;\">\n",
       "      <th></th>\n",
       "      <th>id</th>\n",
       "      <th>first_name</th>\n",
       "      <th>last_name</th>\n",
       "      <th>email</th>\n",
       "      <th>gender</th>\n",
       "      <th>ip_address</th>\n",
       "      <th>salary</th>\n",
       "      <th>date_of_birth</th>\n",
       "      <th>age</th>\n",
       "    </tr>\n",
       "  </thead>\n",
       "  <tbody>\n",
       "    <tr>\n",
       "      <th>0</th>\n",
       "      <td>1</td>\n",
       "      <td>Graham</td>\n",
       "      <td>Ivanenkov</td>\n",
       "      <td>givanenkov0@uiuc.edu</td>\n",
       "      <td>Male</td>\n",
       "      <td>12.58.104.199</td>\n",
       "      <td>102778</td>\n",
       "      <td>1969-11-06</td>\n",
       "      <td>50.882192</td>\n",
       "    </tr>\n",
       "    <tr>\n",
       "      <th>1</th>\n",
       "      <td>2</td>\n",
       "      <td>Karlis</td>\n",
       "      <td>Ballchin</td>\n",
       "      <td>kballchin1@alibaba.com</td>\n",
       "      <td>Male</td>\n",
       "      <td>128.63.193.159</td>\n",
       "      <td>70340</td>\n",
       "      <td>1969-10-04</td>\n",
       "      <td>50.972603</td>\n",
       "    </tr>\n",
       "    <tr>\n",
       "      <th>2</th>\n",
       "      <td>3</td>\n",
       "      <td>Moria</td>\n",
       "      <td>Barber</td>\n",
       "      <td>mbarber2@oaic.gov.au</td>\n",
       "      <td>Female</td>\n",
       "      <td>175.165.231.76</td>\n",
       "      <td>28931</td>\n",
       "      <td>1950-05-03</td>\n",
       "      <td>70.408219</td>\n",
       "    </tr>\n",
       "    <tr>\n",
       "      <th>3</th>\n",
       "      <td>4</td>\n",
       "      <td>Leighton</td>\n",
       "      <td>Quinnette</td>\n",
       "      <td>lquinnette3@biblegateway.com</td>\n",
       "      <td>Male</td>\n",
       "      <td>21.218.156.217</td>\n",
       "      <td>20684</td>\n",
       "      <td>1985-11-03</td>\n",
       "      <td>34.879452</td>\n",
       "    </tr>\n",
       "    <tr>\n",
       "      <th>4</th>\n",
       "      <td>5</td>\n",
       "      <td>Trenton</td>\n",
       "      <td>Farmiloe</td>\n",
       "      <td>tfarmiloe4@webmd.com</td>\n",
       "      <td>Male</td>\n",
       "      <td>223.133.70.216</td>\n",
       "      <td>106946</td>\n",
       "      <td>1951-09-12</td>\n",
       "      <td>69.046575</td>\n",
       "    </tr>\n",
       "    <tr>\n",
       "      <th>...</th>\n",
       "      <td>...</td>\n",
       "      <td>...</td>\n",
       "      <td>...</td>\n",
       "      <td>...</td>\n",
       "      <td>...</td>\n",
       "      <td>...</td>\n",
       "      <td>...</td>\n",
       "      <td>...</td>\n",
       "      <td>...</td>\n",
       "    </tr>\n",
       "    <tr>\n",
       "      <th>995</th>\n",
       "      <td>996</td>\n",
       "      <td>Innis</td>\n",
       "      <td>Lindell</td>\n",
       "      <td>ilindellrn@privacy.gov.au</td>\n",
       "      <td>Male</td>\n",
       "      <td>33.228.210.6</td>\n",
       "      <td>26023</td>\n",
       "      <td>1970-06-02</td>\n",
       "      <td>50.312329</td>\n",
       "    </tr>\n",
       "    <tr>\n",
       "      <th>996</th>\n",
       "      <td>997</td>\n",
       "      <td>Edin</td>\n",
       "      <td>Gajewski</td>\n",
       "      <td>egajewskiro@privacy.gov.au</td>\n",
       "      <td>Female</td>\n",
       "      <td>7.180.8.157</td>\n",
       "      <td>18719</td>\n",
       "      <td>1971-09-26</td>\n",
       "      <td>48.994521</td>\n",
       "    </tr>\n",
       "    <tr>\n",
       "      <th>997</th>\n",
       "      <td>998</td>\n",
       "      <td>Seymour</td>\n",
       "      <td>Boobier</td>\n",
       "      <td>sboobierrp@noaa.gov</td>\n",
       "      <td>Male</td>\n",
       "      <td>105.196.207.20</td>\n",
       "      <td>22734</td>\n",
       "      <td>1999-07-28</td>\n",
       "      <td>21.139726</td>\n",
       "    </tr>\n",
       "    <tr>\n",
       "      <th>998</th>\n",
       "      <td>999</td>\n",
       "      <td>Gerick</td>\n",
       "      <td>Seyers</td>\n",
       "      <td>gseyersrq@unc.edu</td>\n",
       "      <td>Male</td>\n",
       "      <td>220.22.200.1</td>\n",
       "      <td>85659</td>\n",
       "      <td>1950-10-11</td>\n",
       "      <td>69.967123</td>\n",
       "    </tr>\n",
       "    <tr>\n",
       "      <th>999</th>\n",
       "      <td>1000</td>\n",
       "      <td>Dulcine</td>\n",
       "      <td>Hearl</td>\n",
       "      <td>dhearlrr@tripadvisor.com</td>\n",
       "      <td>Female</td>\n",
       "      <td>21.39.192.200</td>\n",
       "      <td>85235</td>\n",
       "      <td>2000-09-03</td>\n",
       "      <td>20.035616</td>\n",
       "    </tr>\n",
       "  </tbody>\n",
       "</table>\n",
       "<p>1000 rows × 9 columns</p>\n",
       "</div>"
      ],
      "text/plain": [
       "       id first_name  last_name                         email  gender  \\\n",
       "0       1     Graham  Ivanenkov          givanenkov0@uiuc.edu    Male   \n",
       "1       2     Karlis   Ballchin        kballchin1@alibaba.com    Male   \n",
       "2       3      Moria     Barber          mbarber2@oaic.gov.au  Female   \n",
       "3       4   Leighton  Quinnette  lquinnette3@biblegateway.com    Male   \n",
       "4       5    Trenton   Farmiloe          tfarmiloe4@webmd.com    Male   \n",
       "..    ...        ...        ...                           ...     ...   \n",
       "995   996      Innis    Lindell     ilindellrn@privacy.gov.au    Male   \n",
       "996   997       Edin   Gajewski    egajewskiro@privacy.gov.au  Female   \n",
       "997   998    Seymour    Boobier           sboobierrp@noaa.gov    Male   \n",
       "998   999     Gerick     Seyers             gseyersrq@unc.edu    Male   \n",
       "999  1000    Dulcine      Hearl      dhearlrr@tripadvisor.com  Female   \n",
       "\n",
       "         ip_address  salary date_of_birth        age  \n",
       "0     12.58.104.199  102778    1969-11-06  50.882192  \n",
       "1    128.63.193.159   70340    1969-10-04  50.972603  \n",
       "2    175.165.231.76   28931    1950-05-03  70.408219  \n",
       "3    21.218.156.217   20684    1985-11-03  34.879452  \n",
       "4    223.133.70.216  106946    1951-09-12  69.046575  \n",
       "..              ...     ...           ...        ...  \n",
       "995    33.228.210.6   26023    1970-06-02  50.312329  \n",
       "996     7.180.8.157   18719    1971-09-26  48.994521  \n",
       "997  105.196.207.20   22734    1999-07-28  21.139726  \n",
       "998    220.22.200.1   85659    1950-10-11  69.967123  \n",
       "999   21.39.192.200   85235    2000-09-03  20.035616  \n",
       "\n",
       "[1000 rows x 9 columns]"
      ]
     },
     "execution_count": 13,
     "metadata": {},
     "output_type": "execute_result"
    }
   ],
   "source": [
    "from datetime import datetime\n",
    "age_list = []\n",
    "\n",
    "#iterate over rows\n",
    "for row in my_df['date_of_birth']:\n",
    "    datediff_days = (datetime.now() - row).days\n",
    "    age_list.append((datediff_days/365))\n",
    "\n",
    "my_df['age'] = age_list\n",
    "my_df"
   ]
  },
  {
   "cell_type": "markdown",
   "metadata": {},
   "source": [
    "We can use <code>apply</code> to apply a function to a column without iterating.\n",
    "\n",
    "Let's use the <code>numpy</code> library which includes a range of vectorized mathemtaical functions.\n",
    "\n",
    "Specifically we can use <code>np.floor</code> to round down our ages then convert to <code>int</code."
   ]
  },
  {
   "cell_type": "code",
   "execution_count": 14,
   "metadata": {},
   "outputs": [
    {
     "data": {
      "text/html": [
       "<div>\n",
       "<style scoped>\n",
       "    .dataframe tbody tr th:only-of-type {\n",
       "        vertical-align: middle;\n",
       "    }\n",
       "\n",
       "    .dataframe tbody tr th {\n",
       "        vertical-align: top;\n",
       "    }\n",
       "\n",
       "    .dataframe thead th {\n",
       "        text-align: right;\n",
       "    }\n",
       "</style>\n",
       "<table border=\"1\" class=\"dataframe\">\n",
       "  <thead>\n",
       "    <tr style=\"text-align: right;\">\n",
       "      <th></th>\n",
       "      <th>id</th>\n",
       "      <th>first_name</th>\n",
       "      <th>last_name</th>\n",
       "      <th>email</th>\n",
       "      <th>gender</th>\n",
       "      <th>ip_address</th>\n",
       "      <th>salary</th>\n",
       "      <th>date_of_birth</th>\n",
       "      <th>age</th>\n",
       "    </tr>\n",
       "  </thead>\n",
       "  <tbody>\n",
       "    <tr>\n",
       "      <th>0</th>\n",
       "      <td>1</td>\n",
       "      <td>Graham</td>\n",
       "      <td>Ivanenkov</td>\n",
       "      <td>givanenkov0@uiuc.edu</td>\n",
       "      <td>Male</td>\n",
       "      <td>12.58.104.199</td>\n",
       "      <td>102778</td>\n",
       "      <td>1969-11-06</td>\n",
       "      <td>50</td>\n",
       "    </tr>\n",
       "    <tr>\n",
       "      <th>1</th>\n",
       "      <td>2</td>\n",
       "      <td>Karlis</td>\n",
       "      <td>Ballchin</td>\n",
       "      <td>kballchin1@alibaba.com</td>\n",
       "      <td>Male</td>\n",
       "      <td>128.63.193.159</td>\n",
       "      <td>70340</td>\n",
       "      <td>1969-10-04</td>\n",
       "      <td>50</td>\n",
       "    </tr>\n",
       "    <tr>\n",
       "      <th>2</th>\n",
       "      <td>3</td>\n",
       "      <td>Moria</td>\n",
       "      <td>Barber</td>\n",
       "      <td>mbarber2@oaic.gov.au</td>\n",
       "      <td>Female</td>\n",
       "      <td>175.165.231.76</td>\n",
       "      <td>28931</td>\n",
       "      <td>1950-05-03</td>\n",
       "      <td>70</td>\n",
       "    </tr>\n",
       "    <tr>\n",
       "      <th>3</th>\n",
       "      <td>4</td>\n",
       "      <td>Leighton</td>\n",
       "      <td>Quinnette</td>\n",
       "      <td>lquinnette3@biblegateway.com</td>\n",
       "      <td>Male</td>\n",
       "      <td>21.218.156.217</td>\n",
       "      <td>20684</td>\n",
       "      <td>1985-11-03</td>\n",
       "      <td>34</td>\n",
       "    </tr>\n",
       "    <tr>\n",
       "      <th>4</th>\n",
       "      <td>5</td>\n",
       "      <td>Trenton</td>\n",
       "      <td>Farmiloe</td>\n",
       "      <td>tfarmiloe4@webmd.com</td>\n",
       "      <td>Male</td>\n",
       "      <td>223.133.70.216</td>\n",
       "      <td>106946</td>\n",
       "      <td>1951-09-12</td>\n",
       "      <td>69</td>\n",
       "    </tr>\n",
       "    <tr>\n",
       "      <th>...</th>\n",
       "      <td>...</td>\n",
       "      <td>...</td>\n",
       "      <td>...</td>\n",
       "      <td>...</td>\n",
       "      <td>...</td>\n",
       "      <td>...</td>\n",
       "      <td>...</td>\n",
       "      <td>...</td>\n",
       "      <td>...</td>\n",
       "    </tr>\n",
       "    <tr>\n",
       "      <th>995</th>\n",
       "      <td>996</td>\n",
       "      <td>Innis</td>\n",
       "      <td>Lindell</td>\n",
       "      <td>ilindellrn@privacy.gov.au</td>\n",
       "      <td>Male</td>\n",
       "      <td>33.228.210.6</td>\n",
       "      <td>26023</td>\n",
       "      <td>1970-06-02</td>\n",
       "      <td>50</td>\n",
       "    </tr>\n",
       "    <tr>\n",
       "      <th>996</th>\n",
       "      <td>997</td>\n",
       "      <td>Edin</td>\n",
       "      <td>Gajewski</td>\n",
       "      <td>egajewskiro@privacy.gov.au</td>\n",
       "      <td>Female</td>\n",
       "      <td>7.180.8.157</td>\n",
       "      <td>18719</td>\n",
       "      <td>1971-09-26</td>\n",
       "      <td>48</td>\n",
       "    </tr>\n",
       "    <tr>\n",
       "      <th>997</th>\n",
       "      <td>998</td>\n",
       "      <td>Seymour</td>\n",
       "      <td>Boobier</td>\n",
       "      <td>sboobierrp@noaa.gov</td>\n",
       "      <td>Male</td>\n",
       "      <td>105.196.207.20</td>\n",
       "      <td>22734</td>\n",
       "      <td>1999-07-28</td>\n",
       "      <td>21</td>\n",
       "    </tr>\n",
       "    <tr>\n",
       "      <th>998</th>\n",
       "      <td>999</td>\n",
       "      <td>Gerick</td>\n",
       "      <td>Seyers</td>\n",
       "      <td>gseyersrq@unc.edu</td>\n",
       "      <td>Male</td>\n",
       "      <td>220.22.200.1</td>\n",
       "      <td>85659</td>\n",
       "      <td>1950-10-11</td>\n",
       "      <td>69</td>\n",
       "    </tr>\n",
       "    <tr>\n",
       "      <th>999</th>\n",
       "      <td>1000</td>\n",
       "      <td>Dulcine</td>\n",
       "      <td>Hearl</td>\n",
       "      <td>dhearlrr@tripadvisor.com</td>\n",
       "      <td>Female</td>\n",
       "      <td>21.39.192.200</td>\n",
       "      <td>85235</td>\n",
       "      <td>2000-09-03</td>\n",
       "      <td>20</td>\n",
       "    </tr>\n",
       "  </tbody>\n",
       "</table>\n",
       "<p>1000 rows × 9 columns</p>\n",
       "</div>"
      ],
      "text/plain": [
       "       id first_name  last_name                         email  gender  \\\n",
       "0       1     Graham  Ivanenkov          givanenkov0@uiuc.edu    Male   \n",
       "1       2     Karlis   Ballchin        kballchin1@alibaba.com    Male   \n",
       "2       3      Moria     Barber          mbarber2@oaic.gov.au  Female   \n",
       "3       4   Leighton  Quinnette  lquinnette3@biblegateway.com    Male   \n",
       "4       5    Trenton   Farmiloe          tfarmiloe4@webmd.com    Male   \n",
       "..    ...        ...        ...                           ...     ...   \n",
       "995   996      Innis    Lindell     ilindellrn@privacy.gov.au    Male   \n",
       "996   997       Edin   Gajewski    egajewskiro@privacy.gov.au  Female   \n",
       "997   998    Seymour    Boobier           sboobierrp@noaa.gov    Male   \n",
       "998   999     Gerick     Seyers             gseyersrq@unc.edu    Male   \n",
       "999  1000    Dulcine      Hearl      dhearlrr@tripadvisor.com  Female   \n",
       "\n",
       "         ip_address  salary date_of_birth  age  \n",
       "0     12.58.104.199  102778    1969-11-06   50  \n",
       "1    128.63.193.159   70340    1969-10-04   50  \n",
       "2    175.165.231.76   28931    1950-05-03   70  \n",
       "3    21.218.156.217   20684    1985-11-03   34  \n",
       "4    223.133.70.216  106946    1951-09-12   69  \n",
       "..              ...     ...           ...  ...  \n",
       "995    33.228.210.6   26023    1970-06-02   50  \n",
       "996     7.180.8.157   18719    1971-09-26   48  \n",
       "997  105.196.207.20   22734    1999-07-28   21  \n",
       "998    220.22.200.1   85659    1950-10-11   69  \n",
       "999   21.39.192.200   85235    2000-09-03   20  \n",
       "\n",
       "[1000 rows x 9 columns]"
      ]
     },
     "execution_count": 14,
     "metadata": {},
     "output_type": "execute_result"
    }
   ],
   "source": [
    "import numpy as np\n",
    "# round down and convert\n",
    "my_df['age'] = my_df['age'].apply(np.floor).astype(int)\n",
    "my_df"
   ]
  },
  {
   "cell_type": "markdown",
   "metadata": {},
   "source": [
    "We can repeat this whole calculation process more efficiently, using <code>apply</code> with a disposable <code>lambda</code> function"
   ]
  },
  {
   "cell_type": "code",
   "execution_count": 15,
   "metadata": {},
   "outputs": [
    {
     "data": {
      "text/html": [
       "<div>\n",
       "<style scoped>\n",
       "    .dataframe tbody tr th:only-of-type {\n",
       "        vertical-align: middle;\n",
       "    }\n",
       "\n",
       "    .dataframe tbody tr th {\n",
       "        vertical-align: top;\n",
       "    }\n",
       "\n",
       "    .dataframe thead th {\n",
       "        text-align: right;\n",
       "    }\n",
       "</style>\n",
       "<table border=\"1\" class=\"dataframe\">\n",
       "  <thead>\n",
       "    <tr style=\"text-align: right;\">\n",
       "      <th></th>\n",
       "      <th>id</th>\n",
       "      <th>first_name</th>\n",
       "      <th>last_name</th>\n",
       "      <th>email</th>\n",
       "      <th>gender</th>\n",
       "      <th>ip_address</th>\n",
       "      <th>salary</th>\n",
       "      <th>date_of_birth</th>\n",
       "      <th>age</th>\n",
       "    </tr>\n",
       "  </thead>\n",
       "  <tbody>\n",
       "    <tr>\n",
       "      <th>0</th>\n",
       "      <td>1</td>\n",
       "      <td>Graham</td>\n",
       "      <td>Ivanenkov</td>\n",
       "      <td>givanenkov0@uiuc.edu</td>\n",
       "      <td>Male</td>\n",
       "      <td>12.58.104.199</td>\n",
       "      <td>102778</td>\n",
       "      <td>1969-11-06</td>\n",
       "      <td>50</td>\n",
       "    </tr>\n",
       "    <tr>\n",
       "      <th>1</th>\n",
       "      <td>2</td>\n",
       "      <td>Karlis</td>\n",
       "      <td>Ballchin</td>\n",
       "      <td>kballchin1@alibaba.com</td>\n",
       "      <td>Male</td>\n",
       "      <td>128.63.193.159</td>\n",
       "      <td>70340</td>\n",
       "      <td>1969-10-04</td>\n",
       "      <td>50</td>\n",
       "    </tr>\n",
       "    <tr>\n",
       "      <th>2</th>\n",
       "      <td>3</td>\n",
       "      <td>Moria</td>\n",
       "      <td>Barber</td>\n",
       "      <td>mbarber2@oaic.gov.au</td>\n",
       "      <td>Female</td>\n",
       "      <td>175.165.231.76</td>\n",
       "      <td>28931</td>\n",
       "      <td>1950-05-03</td>\n",
       "      <td>70</td>\n",
       "    </tr>\n",
       "    <tr>\n",
       "      <th>3</th>\n",
       "      <td>4</td>\n",
       "      <td>Leighton</td>\n",
       "      <td>Quinnette</td>\n",
       "      <td>lquinnette3@biblegateway.com</td>\n",
       "      <td>Male</td>\n",
       "      <td>21.218.156.217</td>\n",
       "      <td>20684</td>\n",
       "      <td>1985-11-03</td>\n",
       "      <td>34</td>\n",
       "    </tr>\n",
       "    <tr>\n",
       "      <th>4</th>\n",
       "      <td>5</td>\n",
       "      <td>Trenton</td>\n",
       "      <td>Farmiloe</td>\n",
       "      <td>tfarmiloe4@webmd.com</td>\n",
       "      <td>Male</td>\n",
       "      <td>223.133.70.216</td>\n",
       "      <td>106946</td>\n",
       "      <td>1951-09-12</td>\n",
       "      <td>69</td>\n",
       "    </tr>\n",
       "    <tr>\n",
       "      <th>...</th>\n",
       "      <td>...</td>\n",
       "      <td>...</td>\n",
       "      <td>...</td>\n",
       "      <td>...</td>\n",
       "      <td>...</td>\n",
       "      <td>...</td>\n",
       "      <td>...</td>\n",
       "      <td>...</td>\n",
       "      <td>...</td>\n",
       "    </tr>\n",
       "    <tr>\n",
       "      <th>995</th>\n",
       "      <td>996</td>\n",
       "      <td>Innis</td>\n",
       "      <td>Lindell</td>\n",
       "      <td>ilindellrn@privacy.gov.au</td>\n",
       "      <td>Male</td>\n",
       "      <td>33.228.210.6</td>\n",
       "      <td>26023</td>\n",
       "      <td>1970-06-02</td>\n",
       "      <td>50</td>\n",
       "    </tr>\n",
       "    <tr>\n",
       "      <th>996</th>\n",
       "      <td>997</td>\n",
       "      <td>Edin</td>\n",
       "      <td>Gajewski</td>\n",
       "      <td>egajewskiro@privacy.gov.au</td>\n",
       "      <td>Female</td>\n",
       "      <td>7.180.8.157</td>\n",
       "      <td>18719</td>\n",
       "      <td>1971-09-26</td>\n",
       "      <td>48</td>\n",
       "    </tr>\n",
       "    <tr>\n",
       "      <th>997</th>\n",
       "      <td>998</td>\n",
       "      <td>Seymour</td>\n",
       "      <td>Boobier</td>\n",
       "      <td>sboobierrp@noaa.gov</td>\n",
       "      <td>Male</td>\n",
       "      <td>105.196.207.20</td>\n",
       "      <td>22734</td>\n",
       "      <td>1999-07-28</td>\n",
       "      <td>21</td>\n",
       "    </tr>\n",
       "    <tr>\n",
       "      <th>998</th>\n",
       "      <td>999</td>\n",
       "      <td>Gerick</td>\n",
       "      <td>Seyers</td>\n",
       "      <td>gseyersrq@unc.edu</td>\n",
       "      <td>Male</td>\n",
       "      <td>220.22.200.1</td>\n",
       "      <td>85659</td>\n",
       "      <td>1950-10-11</td>\n",
       "      <td>69</td>\n",
       "    </tr>\n",
       "    <tr>\n",
       "      <th>999</th>\n",
       "      <td>1000</td>\n",
       "      <td>Dulcine</td>\n",
       "      <td>Hearl</td>\n",
       "      <td>dhearlrr@tripadvisor.com</td>\n",
       "      <td>Female</td>\n",
       "      <td>21.39.192.200</td>\n",
       "      <td>85235</td>\n",
       "      <td>2000-09-03</td>\n",
       "      <td>20</td>\n",
       "    </tr>\n",
       "  </tbody>\n",
       "</table>\n",
       "<p>1000 rows × 9 columns</p>\n",
       "</div>"
      ],
      "text/plain": [
       "       id first_name  last_name                         email  gender  \\\n",
       "0       1     Graham  Ivanenkov          givanenkov0@uiuc.edu    Male   \n",
       "1       2     Karlis   Ballchin        kballchin1@alibaba.com    Male   \n",
       "2       3      Moria     Barber          mbarber2@oaic.gov.au  Female   \n",
       "3       4   Leighton  Quinnette  lquinnette3@biblegateway.com    Male   \n",
       "4       5    Trenton   Farmiloe          tfarmiloe4@webmd.com    Male   \n",
       "..    ...        ...        ...                           ...     ...   \n",
       "995   996      Innis    Lindell     ilindellrn@privacy.gov.au    Male   \n",
       "996   997       Edin   Gajewski    egajewskiro@privacy.gov.au  Female   \n",
       "997   998    Seymour    Boobier           sboobierrp@noaa.gov    Male   \n",
       "998   999     Gerick     Seyers             gseyersrq@unc.edu    Male   \n",
       "999  1000    Dulcine      Hearl      dhearlrr@tripadvisor.com  Female   \n",
       "\n",
       "         ip_address  salary date_of_birth  age  \n",
       "0     12.58.104.199  102778    1969-11-06   50  \n",
       "1    128.63.193.159   70340    1969-10-04   50  \n",
       "2    175.165.231.76   28931    1950-05-03   70  \n",
       "3    21.218.156.217   20684    1985-11-03   34  \n",
       "4    223.133.70.216  106946    1951-09-12   69  \n",
       "..              ...     ...           ...  ...  \n",
       "995    33.228.210.6   26023    1970-06-02   50  \n",
       "996     7.180.8.157   18719    1971-09-26   48  \n",
       "997  105.196.207.20   22734    1999-07-28   21  \n",
       "998    220.22.200.1   85659    1950-10-11   69  \n",
       "999   21.39.192.200   85235    2000-09-03   20  \n",
       "\n",
       "[1000 rows x 9 columns]"
      ]
     },
     "execution_count": 15,
     "metadata": {},
     "output_type": "execute_result"
    }
   ],
   "source": [
    "my_df['age'] = my_df.apply(lambda row: int(np.floor((datetime.now() - row['date_of_birth']).days/365)) , axis =1)\n",
    "my_df"
   ]
  },
  {
   "cell_type": "markdown",
   "metadata": {},
   "source": [
    "This is better - but the syntax is a little messy, and we haven't accounted for leap-years. We really need to define a custom function for this and <code>apply</code> that instead.\n",
    "\n",
    "Define and test the function:"
   ]
  },
  {
   "cell_type": "code",
   "execution_count": 17,
   "metadata": {},
   "outputs": [
    {
     "name": "stdout",
     "output_type": "stream",
     "text": [
      "1969-11-06 00:00:00\n",
      "50\n"
     ]
    }
   ],
   "source": [
    "def calc_age(dob: datetime):\n",
    "    # current year - birth year\n",
    "    current = datetime.now()\n",
    "    year_delta = current.year - dob.year\n",
    "    month_delta = current.month - dob.month\n",
    "    day_delta = current.day - dob.day\n",
    "    \n",
    "    if current.month > dob.month or (current.month == dob.month and current.day >= dob.day):\n",
    "        age = year_delta\n",
    "    else:\n",
    "        age = year_delta - 1\n",
    "    return (age)\n",
    "    \n",
    "    \n",
    "print(my_df.loc[0,'date_of_birth'])\n",
    "print(calc_age(my_df.loc[0,'date_of_birth']))\n",
    "    "
   ]
  },
  {
   "cell_type": "markdown",
   "metadata": {},
   "source": [
    "Now let's <code>apply</code> the <code>calc_age</code> function to the <code>'date of birth'</code> <code>series</code>:"
   ]
  },
  {
   "cell_type": "code",
   "execution_count": 18,
   "metadata": {},
   "outputs": [
    {
     "data": {
      "text/html": [
       "<div>\n",
       "<style scoped>\n",
       "    .dataframe tbody tr th:only-of-type {\n",
       "        vertical-align: middle;\n",
       "    }\n",
       "\n",
       "    .dataframe tbody tr th {\n",
       "        vertical-align: top;\n",
       "    }\n",
       "\n",
       "    .dataframe thead th {\n",
       "        text-align: right;\n",
       "    }\n",
       "</style>\n",
       "<table border=\"1\" class=\"dataframe\">\n",
       "  <thead>\n",
       "    <tr style=\"text-align: right;\">\n",
       "      <th></th>\n",
       "      <th>id</th>\n",
       "      <th>first_name</th>\n",
       "      <th>last_name</th>\n",
       "      <th>email</th>\n",
       "      <th>gender</th>\n",
       "      <th>ip_address</th>\n",
       "      <th>salary</th>\n",
       "      <th>date_of_birth</th>\n",
       "      <th>age</th>\n",
       "    </tr>\n",
       "  </thead>\n",
       "  <tbody>\n",
       "    <tr>\n",
       "      <th>0</th>\n",
       "      <td>1</td>\n",
       "      <td>Graham</td>\n",
       "      <td>Ivanenkov</td>\n",
       "      <td>givanenkov0@uiuc.edu</td>\n",
       "      <td>Male</td>\n",
       "      <td>12.58.104.199</td>\n",
       "      <td>102778</td>\n",
       "      <td>1969-11-06</td>\n",
       "      <td>50</td>\n",
       "    </tr>\n",
       "    <tr>\n",
       "      <th>1</th>\n",
       "      <td>2</td>\n",
       "      <td>Karlis</td>\n",
       "      <td>Ballchin</td>\n",
       "      <td>kballchin1@alibaba.com</td>\n",
       "      <td>Male</td>\n",
       "      <td>128.63.193.159</td>\n",
       "      <td>70340</td>\n",
       "      <td>1969-10-04</td>\n",
       "      <td>50</td>\n",
       "    </tr>\n",
       "    <tr>\n",
       "      <th>2</th>\n",
       "      <td>3</td>\n",
       "      <td>Moria</td>\n",
       "      <td>Barber</td>\n",
       "      <td>mbarber2@oaic.gov.au</td>\n",
       "      <td>Female</td>\n",
       "      <td>175.165.231.76</td>\n",
       "      <td>28931</td>\n",
       "      <td>1950-05-03</td>\n",
       "      <td>70</td>\n",
       "    </tr>\n",
       "    <tr>\n",
       "      <th>3</th>\n",
       "      <td>4</td>\n",
       "      <td>Leighton</td>\n",
       "      <td>Quinnette</td>\n",
       "      <td>lquinnette3@biblegateway.com</td>\n",
       "      <td>Male</td>\n",
       "      <td>21.218.156.217</td>\n",
       "      <td>20684</td>\n",
       "      <td>1985-11-03</td>\n",
       "      <td>34</td>\n",
       "    </tr>\n",
       "    <tr>\n",
       "      <th>4</th>\n",
       "      <td>5</td>\n",
       "      <td>Trenton</td>\n",
       "      <td>Farmiloe</td>\n",
       "      <td>tfarmiloe4@webmd.com</td>\n",
       "      <td>Male</td>\n",
       "      <td>223.133.70.216</td>\n",
       "      <td>106946</td>\n",
       "      <td>1951-09-12</td>\n",
       "      <td>68</td>\n",
       "    </tr>\n",
       "    <tr>\n",
       "      <th>...</th>\n",
       "      <td>...</td>\n",
       "      <td>...</td>\n",
       "      <td>...</td>\n",
       "      <td>...</td>\n",
       "      <td>...</td>\n",
       "      <td>...</td>\n",
       "      <td>...</td>\n",
       "      <td>...</td>\n",
       "      <td>...</td>\n",
       "    </tr>\n",
       "    <tr>\n",
       "      <th>995</th>\n",
       "      <td>996</td>\n",
       "      <td>Innis</td>\n",
       "      <td>Lindell</td>\n",
       "      <td>ilindellrn@privacy.gov.au</td>\n",
       "      <td>Male</td>\n",
       "      <td>33.228.210.6</td>\n",
       "      <td>26023</td>\n",
       "      <td>1970-06-02</td>\n",
       "      <td>50</td>\n",
       "    </tr>\n",
       "    <tr>\n",
       "      <th>996</th>\n",
       "      <td>997</td>\n",
       "      <td>Edin</td>\n",
       "      <td>Gajewski</td>\n",
       "      <td>egajewskiro@privacy.gov.au</td>\n",
       "      <td>Female</td>\n",
       "      <td>7.180.8.157</td>\n",
       "      <td>18719</td>\n",
       "      <td>1971-09-26</td>\n",
       "      <td>48</td>\n",
       "    </tr>\n",
       "    <tr>\n",
       "      <th>997</th>\n",
       "      <td>998</td>\n",
       "      <td>Seymour</td>\n",
       "      <td>Boobier</td>\n",
       "      <td>sboobierrp@noaa.gov</td>\n",
       "      <td>Male</td>\n",
       "      <td>105.196.207.20</td>\n",
       "      <td>22734</td>\n",
       "      <td>1999-07-28</td>\n",
       "      <td>21</td>\n",
       "    </tr>\n",
       "    <tr>\n",
       "      <th>998</th>\n",
       "      <td>999</td>\n",
       "      <td>Gerick</td>\n",
       "      <td>Seyers</td>\n",
       "      <td>gseyersrq@unc.edu</td>\n",
       "      <td>Male</td>\n",
       "      <td>220.22.200.1</td>\n",
       "      <td>85659</td>\n",
       "      <td>1950-10-11</td>\n",
       "      <td>69</td>\n",
       "    </tr>\n",
       "    <tr>\n",
       "      <th>999</th>\n",
       "      <td>1000</td>\n",
       "      <td>Dulcine</td>\n",
       "      <td>Hearl</td>\n",
       "      <td>dhearlrr@tripadvisor.com</td>\n",
       "      <td>Female</td>\n",
       "      <td>21.39.192.200</td>\n",
       "      <td>85235</td>\n",
       "      <td>2000-09-03</td>\n",
       "      <td>20</td>\n",
       "    </tr>\n",
       "  </tbody>\n",
       "</table>\n",
       "<p>1000 rows × 9 columns</p>\n",
       "</div>"
      ],
      "text/plain": [
       "       id first_name  last_name                         email  gender  \\\n",
       "0       1     Graham  Ivanenkov          givanenkov0@uiuc.edu    Male   \n",
       "1       2     Karlis   Ballchin        kballchin1@alibaba.com    Male   \n",
       "2       3      Moria     Barber          mbarber2@oaic.gov.au  Female   \n",
       "3       4   Leighton  Quinnette  lquinnette3@biblegateway.com    Male   \n",
       "4       5    Trenton   Farmiloe          tfarmiloe4@webmd.com    Male   \n",
       "..    ...        ...        ...                           ...     ...   \n",
       "995   996      Innis    Lindell     ilindellrn@privacy.gov.au    Male   \n",
       "996   997       Edin   Gajewski    egajewskiro@privacy.gov.au  Female   \n",
       "997   998    Seymour    Boobier           sboobierrp@noaa.gov    Male   \n",
       "998   999     Gerick     Seyers             gseyersrq@unc.edu    Male   \n",
       "999  1000    Dulcine      Hearl      dhearlrr@tripadvisor.com  Female   \n",
       "\n",
       "         ip_address  salary date_of_birth  age  \n",
       "0     12.58.104.199  102778    1969-11-06   50  \n",
       "1    128.63.193.159   70340    1969-10-04   50  \n",
       "2    175.165.231.76   28931    1950-05-03   70  \n",
       "3    21.218.156.217   20684    1985-11-03   34  \n",
       "4    223.133.70.216  106946    1951-09-12   68  \n",
       "..              ...     ...           ...  ...  \n",
       "995    33.228.210.6   26023    1970-06-02   50  \n",
       "996     7.180.8.157   18719    1971-09-26   48  \n",
       "997  105.196.207.20   22734    1999-07-28   21  \n",
       "998    220.22.200.1   85659    1950-10-11   69  \n",
       "999   21.39.192.200   85235    2000-09-03   20  \n",
       "\n",
       "[1000 rows x 9 columns]"
      ]
     },
     "execution_count": 18,
     "metadata": {},
     "output_type": "execute_result"
    }
   ],
   "source": [
    "my_df['age'] = my_df['date_of_birth'].apply(calc_age)\n",
    "my_df"
   ]
  },
  {
   "cell_type": "markdown",
   "metadata": {},
   "source": [
    "Success!"
   ]
  },
  {
   "cell_type": "markdown",
   "metadata": {},
   "source": [
    "## 16. Example - pandas: grouping and aggregating<a id = '16'></a>\n",
    "[Back to contents](#cont)"
   ]
  },
  {
   "cell_type": "markdown",
   "metadata": {},
   "source": [
    "Using the <code>.groupby</code> method we can group similar entries together. Grouping by gender:"
   ]
  },
  {
   "cell_type": "code",
   "execution_count": 20,
   "metadata": {},
   "outputs": [
    {
     "data": {
      "text/plain": [
       "<pandas.core.groupby.generic.DataFrameGroupBy object at 0x000001E5DCD8CE88>"
      ]
     },
     "execution_count": 20,
     "metadata": {},
     "output_type": "execute_result"
    }
   ],
   "source": [
    "my_df.groupby('gender')"
   ]
  },
  {
   "cell_type": "markdown",
   "metadata": {},
   "source": [
    "Now let's add some custom grouping using a <code>mask</code> and the <code>numpy</code> <code>where</code> function"
   ]
  },
  {
   "cell_type": "code",
   "execution_count": 22,
   "metadata": {},
   "outputs": [
    {
     "data": {
      "text/plain": [
       "<pandas.core.groupby.generic.DataFrameGroupBy object at 0x000001E5DCD7E808>"
      ]
     },
     "execution_count": 22,
     "metadata": {},
     "output_type": "execute_result"
    }
   ],
   "source": [
    "mask = my_df['age']<50\n",
    "mask = np.where(mask==True,'Less than 50', '50 or older')\n",
    "\n",
    "grouped_df = my_df.groupby(by=['gender',mask])\n",
    "grouped_df"
   ]
  },
  {
   "cell_type": "markdown",
   "metadata": {},
   "source": [
    "Now we can aggregate the data by functions of our choosing. Let's check the columns first"
   ]
  },
  {
   "cell_type": "code",
   "execution_count": null,
   "metadata": {},
   "outputs": [],
   "source": [
    "my_df.columns"
   ]
  },
  {
   "cell_type": "markdown",
   "metadata": {},
   "source": [
    "Now let's aggregate"
   ]
  },
  {
   "cell_type": "code",
   "execution_count": 23,
   "metadata": {},
   "outputs": [
    {
     "data": {
      "text/html": [
       "<div>\n",
       "<style scoped>\n",
       "    .dataframe tbody tr th:only-of-type {\n",
       "        vertical-align: middle;\n",
       "    }\n",
       "\n",
       "    .dataframe tbody tr th {\n",
       "        vertical-align: top;\n",
       "    }\n",
       "\n",
       "    .dataframe thead tr th {\n",
       "        text-align: left;\n",
       "    }\n",
       "\n",
       "    .dataframe thead tr:last-of-type th {\n",
       "        text-align: right;\n",
       "    }\n",
       "</style>\n",
       "<table border=\"1\" class=\"dataframe\">\n",
       "  <thead>\n",
       "    <tr>\n",
       "      <th></th>\n",
       "      <th></th>\n",
       "      <th>id</th>\n",
       "      <th>age</th>\n",
       "      <th colspan=\"3\" halign=\"left\">salary</th>\n",
       "    </tr>\n",
       "    <tr>\n",
       "      <th></th>\n",
       "      <th></th>\n",
       "      <th>count</th>\n",
       "      <th>mean</th>\n",
       "      <th>min</th>\n",
       "      <th>max</th>\n",
       "      <th>std</th>\n",
       "    </tr>\n",
       "    <tr>\n",
       "      <th>gender</th>\n",
       "      <th></th>\n",
       "      <th></th>\n",
       "      <th></th>\n",
       "      <th></th>\n",
       "      <th></th>\n",
       "      <th></th>\n",
       "    </tr>\n",
       "  </thead>\n",
       "  <tbody>\n",
       "    <tr>\n",
       "      <th rowspan=\"2\" valign=\"top\">Female</th>\n",
       "      <th>50 or older</th>\n",
       "      <td>203</td>\n",
       "      <td>62.374384</td>\n",
       "      <td>10480</td>\n",
       "      <td>109916</td>\n",
       "      <td>29853.819621</td>\n",
       "    </tr>\n",
       "    <tr>\n",
       "      <th>Less than 50</th>\n",
       "      <td>275</td>\n",
       "      <td>33.883636</td>\n",
       "      <td>10509</td>\n",
       "      <td>109983</td>\n",
       "      <td>29436.613770</td>\n",
       "    </tr>\n",
       "    <tr>\n",
       "      <th rowspan=\"2\" valign=\"top\">Male</th>\n",
       "      <th>50 or older</th>\n",
       "      <td>236</td>\n",
       "      <td>61.627119</td>\n",
       "      <td>10548</td>\n",
       "      <td>109222</td>\n",
       "      <td>28856.564129</td>\n",
       "    </tr>\n",
       "    <tr>\n",
       "      <th>Less than 50</th>\n",
       "      <td>286</td>\n",
       "      <td>33.667832</td>\n",
       "      <td>10009</td>\n",
       "      <td>109964</td>\n",
       "      <td>29027.917560</td>\n",
       "    </tr>\n",
       "  </tbody>\n",
       "</table>\n",
       "</div>"
      ],
      "text/plain": [
       "                       id        age salary                      \n",
       "                    count       mean    min     max           std\n",
       "gender                                                           \n",
       "Female 50 or older    203  62.374384  10480  109916  29853.819621\n",
       "       Less than 50   275  33.883636  10509  109983  29436.613770\n",
       "Male   50 or older    236  61.627119  10548  109222  28856.564129\n",
       "       Less than 50   286  33.667832  10009  109964  29027.917560"
      ]
     },
     "execution_count": 23,
     "metadata": {},
     "output_type": "execute_result"
    }
   ],
   "source": [
    "# use a dict for ease\n",
    "agg_dict = {'id': 'count', 'age': 'mean', 'salary': ['min', 'max' ,'std']}\n",
    "agg_df = grouped_df.agg(agg_dict)\n",
    "agg_df"
   ]
  },
  {
   "cell_type": "markdown",
   "metadata": {},
   "source": [
    "This looks good - but has produced <code>mult-index</code> columns. These can be useful but may be hard to work with when outputting data. Let's flatten them to new column names."
   ]
  },
  {
   "cell_type": "code",
   "execution_count": 24,
   "metadata": {},
   "outputs": [
    {
     "data": {
      "text/html": [
       "<div>\n",
       "<style scoped>\n",
       "    .dataframe tbody tr th:only-of-type {\n",
       "        vertical-align: middle;\n",
       "    }\n",
       "\n",
       "    .dataframe tbody tr th {\n",
       "        vertical-align: top;\n",
       "    }\n",
       "\n",
       "    .dataframe thead th {\n",
       "        text-align: right;\n",
       "    }\n",
       "</style>\n",
       "<table border=\"1\" class=\"dataframe\">\n",
       "  <thead>\n",
       "    <tr style=\"text-align: right;\">\n",
       "      <th></th>\n",
       "      <th></th>\n",
       "      <th>id_count</th>\n",
       "      <th>age_mean</th>\n",
       "      <th>salary_min</th>\n",
       "      <th>salary_max</th>\n",
       "      <th>salary_std</th>\n",
       "    </tr>\n",
       "    <tr>\n",
       "      <th>gender</th>\n",
       "      <th></th>\n",
       "      <th></th>\n",
       "      <th></th>\n",
       "      <th></th>\n",
       "      <th></th>\n",
       "      <th></th>\n",
       "    </tr>\n",
       "  </thead>\n",
       "  <tbody>\n",
       "    <tr>\n",
       "      <th rowspan=\"2\" valign=\"top\">Female</th>\n",
       "      <th>50 or older</th>\n",
       "      <td>203</td>\n",
       "      <td>62.374384</td>\n",
       "      <td>10480</td>\n",
       "      <td>109916</td>\n",
       "      <td>29853.819621</td>\n",
       "    </tr>\n",
       "    <tr>\n",
       "      <th>Less than 50</th>\n",
       "      <td>275</td>\n",
       "      <td>33.883636</td>\n",
       "      <td>10509</td>\n",
       "      <td>109983</td>\n",
       "      <td>29436.613770</td>\n",
       "    </tr>\n",
       "    <tr>\n",
       "      <th rowspan=\"2\" valign=\"top\">Male</th>\n",
       "      <th>50 or older</th>\n",
       "      <td>236</td>\n",
       "      <td>61.627119</td>\n",
       "      <td>10548</td>\n",
       "      <td>109222</td>\n",
       "      <td>28856.564129</td>\n",
       "    </tr>\n",
       "    <tr>\n",
       "      <th>Less than 50</th>\n",
       "      <td>286</td>\n",
       "      <td>33.667832</td>\n",
       "      <td>10009</td>\n",
       "      <td>109964</td>\n",
       "      <td>29027.917560</td>\n",
       "    </tr>\n",
       "  </tbody>\n",
       "</table>\n",
       "</div>"
      ],
      "text/plain": [
       "                     id_count   age_mean  salary_min  salary_max    salary_std\n",
       "gender                                                                        \n",
       "Female 50 or older        203  62.374384       10480      109916  29853.819621\n",
       "       Less than 50       275  33.883636       10509      109983  29436.613770\n",
       "Male   50 or older        236  61.627119       10548      109222  28856.564129\n",
       "       Less than 50       286  33.667832       10009      109964  29027.917560"
      ]
     },
     "execution_count": 24,
     "metadata": {},
     "output_type": "execute_result"
    }
   ],
   "source": [
    "# use list comprehension to get new column names\n",
    "new_cols = [col+'_'+function for col, function in agg_df.columns.ravel()]\n",
    "\n",
    "# assign new column names\n",
    "agg_df.columns = new_cols\n",
    "agg_df"
   ]
  },
  {
   "cell_type": "markdown",
   "metadata": {},
   "source": [
    "## 17. Example - pandas: concatenating DataFrames<a id = '17'></a> \n",
    "[Back to contents](#cont)"
   ]
  },
  {
   "cell_type": "markdown",
   "metadata": {},
   "source": [
    "Let's go back to the original data, and split up the <code>DataFrame</code> into 200 row chunks and put each in a new <code>DataFrame</code> stored in a <code>list</code>"
   ]
  },
  {
   "cell_type": "code",
   "execution_count": 27,
   "metadata": {},
   "outputs": [],
   "source": [
    "import numpy as np\n",
    "\n",
    "# create empty list to store dfs:\n",
    "df_list = []\n",
    "\n",
    "# use a numpy array to find lower bounds\n",
    "n = 200\n",
    "lower_list = np.arange(0,len(my_df),n)\n",
    "\n",
    "# loop to split into separate dataframes\n",
    "for low in lower_list:\n",
    "    split_df = my_df.iloc[low:low+n,:]\n",
    "    df_list.append(split_df)"
   ]
  },
  {
   "cell_type": "markdown",
   "metadata": {},
   "source": [
    "Now let's arbitrarily stick the 3rd and 4th <code>DataFrames</code> back to gether - like a <code>UNION</code>"
   ]
  },
  {
   "cell_type": "code",
   "execution_count": 28,
   "metadata": {},
   "outputs": [
    {
     "data": {
      "text/html": [
       "<div>\n",
       "<style scoped>\n",
       "    .dataframe tbody tr th:only-of-type {\n",
       "        vertical-align: middle;\n",
       "    }\n",
       "\n",
       "    .dataframe tbody tr th {\n",
       "        vertical-align: top;\n",
       "    }\n",
       "\n",
       "    .dataframe thead th {\n",
       "        text-align: right;\n",
       "    }\n",
       "</style>\n",
       "<table border=\"1\" class=\"dataframe\">\n",
       "  <thead>\n",
       "    <tr style=\"text-align: right;\">\n",
       "      <th></th>\n",
       "      <th>id</th>\n",
       "      <th>first_name</th>\n",
       "      <th>last_name</th>\n",
       "      <th>email</th>\n",
       "      <th>gender</th>\n",
       "      <th>ip_address</th>\n",
       "      <th>salary</th>\n",
       "      <th>date_of_birth</th>\n",
       "      <th>age</th>\n",
       "    </tr>\n",
       "  </thead>\n",
       "  <tbody>\n",
       "    <tr>\n",
       "      <th>400</th>\n",
       "      <td>401</td>\n",
       "      <td>Tyrone</td>\n",
       "      <td>Buntine</td>\n",
       "      <td>tbuntineb4@bluehost.com</td>\n",
       "      <td>Male</td>\n",
       "      <td>221.211.251.33</td>\n",
       "      <td>74736</td>\n",
       "      <td>1983-03-29</td>\n",
       "      <td>37</td>\n",
       "    </tr>\n",
       "    <tr>\n",
       "      <th>401</th>\n",
       "      <td>402</td>\n",
       "      <td>Brady</td>\n",
       "      <td>O'dell</td>\n",
       "      <td>bodellb5@timesonline.co.uk</td>\n",
       "      <td>Male</td>\n",
       "      <td>167.149.10.166</td>\n",
       "      <td>99656</td>\n",
       "      <td>1948-12-01</td>\n",
       "      <td>71</td>\n",
       "    </tr>\n",
       "    <tr>\n",
       "      <th>402</th>\n",
       "      <td>403</td>\n",
       "      <td>Emanuel</td>\n",
       "      <td>Vaughan</td>\n",
       "      <td>evaughanb6@typepad.com</td>\n",
       "      <td>Male</td>\n",
       "      <td>135.94.208.201</td>\n",
       "      <td>59445</td>\n",
       "      <td>1951-06-04</td>\n",
       "      <td>69</td>\n",
       "    </tr>\n",
       "    <tr>\n",
       "      <th>403</th>\n",
       "      <td>404</td>\n",
       "      <td>Adelle</td>\n",
       "      <td>Batteson</td>\n",
       "      <td>abattesonb7@wired.com</td>\n",
       "      <td>Female</td>\n",
       "      <td>156.148.98.84</td>\n",
       "      <td>52885</td>\n",
       "      <td>2000-12-21</td>\n",
       "      <td>19</td>\n",
       "    </tr>\n",
       "    <tr>\n",
       "      <th>404</th>\n",
       "      <td>405</td>\n",
       "      <td>Vinny</td>\n",
       "      <td>Rennicks</td>\n",
       "      <td>vrennicksb8@utexas.edu</td>\n",
       "      <td>Female</td>\n",
       "      <td>38.130.45.163</td>\n",
       "      <td>69290</td>\n",
       "      <td>1945-11-16</td>\n",
       "      <td>74</td>\n",
       "    </tr>\n",
       "    <tr>\n",
       "      <th>...</th>\n",
       "      <td>...</td>\n",
       "      <td>...</td>\n",
       "      <td>...</td>\n",
       "      <td>...</td>\n",
       "      <td>...</td>\n",
       "      <td>...</td>\n",
       "      <td>...</td>\n",
       "      <td>...</td>\n",
       "      <td>...</td>\n",
       "    </tr>\n",
       "    <tr>\n",
       "      <th>795</th>\n",
       "      <td>796</td>\n",
       "      <td>Hewe</td>\n",
       "      <td>Lacelett</td>\n",
       "      <td>hlacelettm3@omniture.com</td>\n",
       "      <td>Male</td>\n",
       "      <td>202.164.62.230</td>\n",
       "      <td>23244</td>\n",
       "      <td>1954-11-01</td>\n",
       "      <td>65</td>\n",
       "    </tr>\n",
       "    <tr>\n",
       "      <th>796</th>\n",
       "      <td>797</td>\n",
       "      <td>Ricky</td>\n",
       "      <td>Dood</td>\n",
       "      <td>rdoodm4@friendfeed.com</td>\n",
       "      <td>Male</td>\n",
       "      <td>215.221.31.159</td>\n",
       "      <td>14971</td>\n",
       "      <td>1987-09-28</td>\n",
       "      <td>32</td>\n",
       "    </tr>\n",
       "    <tr>\n",
       "      <th>797</th>\n",
       "      <td>798</td>\n",
       "      <td>Waverley</td>\n",
       "      <td>Scarlon</td>\n",
       "      <td>wscarlonm5@scientificamerican.com</td>\n",
       "      <td>Male</td>\n",
       "      <td>208.156.172.222</td>\n",
       "      <td>54296</td>\n",
       "      <td>1965-05-17</td>\n",
       "      <td>55</td>\n",
       "    </tr>\n",
       "    <tr>\n",
       "      <th>798</th>\n",
       "      <td>799</td>\n",
       "      <td>Rozamond</td>\n",
       "      <td>Powles</td>\n",
       "      <td>rpowlesm6@blogs.com</td>\n",
       "      <td>Female</td>\n",
       "      <td>89.237.127.23</td>\n",
       "      <td>68632</td>\n",
       "      <td>1957-12-10</td>\n",
       "      <td>62</td>\n",
       "    </tr>\n",
       "    <tr>\n",
       "      <th>799</th>\n",
       "      <td>800</td>\n",
       "      <td>Poul</td>\n",
       "      <td>Burbury</td>\n",
       "      <td>pburburym7@weather.com</td>\n",
       "      <td>Male</td>\n",
       "      <td>163.247.105.128</td>\n",
       "      <td>45017</td>\n",
       "      <td>1977-12-20</td>\n",
       "      <td>42</td>\n",
       "    </tr>\n",
       "  </tbody>\n",
       "</table>\n",
       "<p>400 rows × 9 columns</p>\n",
       "</div>"
      ],
      "text/plain": [
       "      id first_name last_name                              email  gender  \\\n",
       "400  401     Tyrone   Buntine            tbuntineb4@bluehost.com    Male   \n",
       "401  402      Brady    O'dell         bodellb5@timesonline.co.uk    Male   \n",
       "402  403    Emanuel   Vaughan             evaughanb6@typepad.com    Male   \n",
       "403  404     Adelle  Batteson              abattesonb7@wired.com  Female   \n",
       "404  405      Vinny  Rennicks             vrennicksb8@utexas.edu  Female   \n",
       "..   ...        ...       ...                                ...     ...   \n",
       "795  796       Hewe  Lacelett           hlacelettm3@omniture.com    Male   \n",
       "796  797      Ricky      Dood             rdoodm4@friendfeed.com    Male   \n",
       "797  798   Waverley   Scarlon  wscarlonm5@scientificamerican.com    Male   \n",
       "798  799   Rozamond    Powles                rpowlesm6@blogs.com  Female   \n",
       "799  800       Poul   Burbury             pburburym7@weather.com    Male   \n",
       "\n",
       "          ip_address  salary date_of_birth  age  \n",
       "400   221.211.251.33   74736    1983-03-29   37  \n",
       "401   167.149.10.166   99656    1948-12-01   71  \n",
       "402   135.94.208.201   59445    1951-06-04   69  \n",
       "403    156.148.98.84   52885    2000-12-21   19  \n",
       "404    38.130.45.163   69290    1945-11-16   74  \n",
       "..               ...     ...           ...  ...  \n",
       "795   202.164.62.230   23244    1954-11-01   65  \n",
       "796   215.221.31.159   14971    1987-09-28   32  \n",
       "797  208.156.172.222   54296    1965-05-17   55  \n",
       "798    89.237.127.23   68632    1957-12-10   62  \n",
       "799  163.247.105.128   45017    1977-12-20   42  \n",
       "\n",
       "[400 rows x 9 columns]"
      ]
     },
     "execution_count": 28,
     "metadata": {},
     "output_type": "execute_result"
    }
   ],
   "source": [
    "union_df = pd.concat(df_list[2:4])\n",
    "union_df"
   ]
  },
  {
   "cell_type": "markdown",
   "metadata": {},
   "source": [
    "Next lets <code>append</code> a new row to the bottom of this new <code>DataFrame</code>. First create a <code>dict</code> of column-value pairs "
   ]
  },
  {
   "cell_type": "code",
   "execution_count": 29,
   "metadata": {},
   "outputs": [
    {
     "data": {
      "text/plain": [
       "{'id': 1001,\n",
       " 'first_name': 'Joe',\n",
       " 'last_name': 'Bloggs',\n",
       " 'email': 'joebloggs99@hotmail.com',\n",
       " 'gender': 'Male',\n",
       " 'ip_address': '345.112.543.22',\n",
       " 'salary': 13470,\n",
       " 'date_of_birth': '17/05/1999'}"
      ]
     },
     "execution_count": 29,
     "metadata": {},
     "output_type": "execute_result"
    }
   ],
   "source": [
    "cols = union_df.columns.to_list()\n",
    "values = (1001,'Joe','Bloggs','joebloggs99@hotmail.com','Male','345.112.543.22',13470,'17/05/1999')\n",
    "\n",
    "newrow_dict = dict(zip(cols,values))\n",
    "newrow_dict"
   ]
  },
  {
   "cell_type": "markdown",
   "metadata": {},
   "source": [
    "Now add to the <code>DataFrame</code>. Note that the new entry has <code>NaN</code> for age - as we calculated this earlier."
   ]
  },
  {
   "cell_type": "code",
   "execution_count": 30,
   "metadata": {},
   "outputs": [
    {
     "data": {
      "text/html": [
       "<div>\n",
       "<style scoped>\n",
       "    .dataframe tbody tr th:only-of-type {\n",
       "        vertical-align: middle;\n",
       "    }\n",
       "\n",
       "    .dataframe tbody tr th {\n",
       "        vertical-align: top;\n",
       "    }\n",
       "\n",
       "    .dataframe thead th {\n",
       "        text-align: right;\n",
       "    }\n",
       "</style>\n",
       "<table border=\"1\" class=\"dataframe\">\n",
       "  <thead>\n",
       "    <tr style=\"text-align: right;\">\n",
       "      <th></th>\n",
       "      <th>id</th>\n",
       "      <th>first_name</th>\n",
       "      <th>last_name</th>\n",
       "      <th>email</th>\n",
       "      <th>gender</th>\n",
       "      <th>ip_address</th>\n",
       "      <th>salary</th>\n",
       "      <th>date_of_birth</th>\n",
       "      <th>age</th>\n",
       "    </tr>\n",
       "  </thead>\n",
       "  <tbody>\n",
       "    <tr>\n",
       "      <th>0</th>\n",
       "      <td>401</td>\n",
       "      <td>Tyrone</td>\n",
       "      <td>Buntine</td>\n",
       "      <td>tbuntineb4@bluehost.com</td>\n",
       "      <td>Male</td>\n",
       "      <td>221.211.251.33</td>\n",
       "      <td>74736</td>\n",
       "      <td>1983-03-29 00:00:00</td>\n",
       "      <td>37.0</td>\n",
       "    </tr>\n",
       "    <tr>\n",
       "      <th>1</th>\n",
       "      <td>402</td>\n",
       "      <td>Brady</td>\n",
       "      <td>O'dell</td>\n",
       "      <td>bodellb5@timesonline.co.uk</td>\n",
       "      <td>Male</td>\n",
       "      <td>167.149.10.166</td>\n",
       "      <td>99656</td>\n",
       "      <td>1948-12-01 00:00:00</td>\n",
       "      <td>71.0</td>\n",
       "    </tr>\n",
       "    <tr>\n",
       "      <th>2</th>\n",
       "      <td>403</td>\n",
       "      <td>Emanuel</td>\n",
       "      <td>Vaughan</td>\n",
       "      <td>evaughanb6@typepad.com</td>\n",
       "      <td>Male</td>\n",
       "      <td>135.94.208.201</td>\n",
       "      <td>59445</td>\n",
       "      <td>1951-06-04 00:00:00</td>\n",
       "      <td>69.0</td>\n",
       "    </tr>\n",
       "    <tr>\n",
       "      <th>3</th>\n",
       "      <td>404</td>\n",
       "      <td>Adelle</td>\n",
       "      <td>Batteson</td>\n",
       "      <td>abattesonb7@wired.com</td>\n",
       "      <td>Female</td>\n",
       "      <td>156.148.98.84</td>\n",
       "      <td>52885</td>\n",
       "      <td>2000-12-21 00:00:00</td>\n",
       "      <td>19.0</td>\n",
       "    </tr>\n",
       "    <tr>\n",
       "      <th>4</th>\n",
       "      <td>405</td>\n",
       "      <td>Vinny</td>\n",
       "      <td>Rennicks</td>\n",
       "      <td>vrennicksb8@utexas.edu</td>\n",
       "      <td>Female</td>\n",
       "      <td>38.130.45.163</td>\n",
       "      <td>69290</td>\n",
       "      <td>1945-11-16 00:00:00</td>\n",
       "      <td>74.0</td>\n",
       "    </tr>\n",
       "    <tr>\n",
       "      <th>...</th>\n",
       "      <td>...</td>\n",
       "      <td>...</td>\n",
       "      <td>...</td>\n",
       "      <td>...</td>\n",
       "      <td>...</td>\n",
       "      <td>...</td>\n",
       "      <td>...</td>\n",
       "      <td>...</td>\n",
       "      <td>...</td>\n",
       "    </tr>\n",
       "    <tr>\n",
       "      <th>396</th>\n",
       "      <td>797</td>\n",
       "      <td>Ricky</td>\n",
       "      <td>Dood</td>\n",
       "      <td>rdoodm4@friendfeed.com</td>\n",
       "      <td>Male</td>\n",
       "      <td>215.221.31.159</td>\n",
       "      <td>14971</td>\n",
       "      <td>1987-09-28 00:00:00</td>\n",
       "      <td>32.0</td>\n",
       "    </tr>\n",
       "    <tr>\n",
       "      <th>397</th>\n",
       "      <td>798</td>\n",
       "      <td>Waverley</td>\n",
       "      <td>Scarlon</td>\n",
       "      <td>wscarlonm5@scientificamerican.com</td>\n",
       "      <td>Male</td>\n",
       "      <td>208.156.172.222</td>\n",
       "      <td>54296</td>\n",
       "      <td>1965-05-17 00:00:00</td>\n",
       "      <td>55.0</td>\n",
       "    </tr>\n",
       "    <tr>\n",
       "      <th>398</th>\n",
       "      <td>799</td>\n",
       "      <td>Rozamond</td>\n",
       "      <td>Powles</td>\n",
       "      <td>rpowlesm6@blogs.com</td>\n",
       "      <td>Female</td>\n",
       "      <td>89.237.127.23</td>\n",
       "      <td>68632</td>\n",
       "      <td>1957-12-10 00:00:00</td>\n",
       "      <td>62.0</td>\n",
       "    </tr>\n",
       "    <tr>\n",
       "      <th>399</th>\n",
       "      <td>800</td>\n",
       "      <td>Poul</td>\n",
       "      <td>Burbury</td>\n",
       "      <td>pburburym7@weather.com</td>\n",
       "      <td>Male</td>\n",
       "      <td>163.247.105.128</td>\n",
       "      <td>45017</td>\n",
       "      <td>1977-12-20 00:00:00</td>\n",
       "      <td>42.0</td>\n",
       "    </tr>\n",
       "    <tr>\n",
       "      <th>400</th>\n",
       "      <td>1001</td>\n",
       "      <td>Joe</td>\n",
       "      <td>Bloggs</td>\n",
       "      <td>joebloggs99@hotmail.com</td>\n",
       "      <td>Male</td>\n",
       "      <td>345.112.543.22</td>\n",
       "      <td>13470</td>\n",
       "      <td>17/05/1999</td>\n",
       "      <td>NaN</td>\n",
       "    </tr>\n",
       "  </tbody>\n",
       "</table>\n",
       "<p>401 rows × 9 columns</p>\n",
       "</div>"
      ],
      "text/plain": [
       "       id first_name last_name                              email  gender  \\\n",
       "0     401     Tyrone   Buntine            tbuntineb4@bluehost.com    Male   \n",
       "1     402      Brady    O'dell         bodellb5@timesonline.co.uk    Male   \n",
       "2     403    Emanuel   Vaughan             evaughanb6@typepad.com    Male   \n",
       "3     404     Adelle  Batteson              abattesonb7@wired.com  Female   \n",
       "4     405      Vinny  Rennicks             vrennicksb8@utexas.edu  Female   \n",
       "..    ...        ...       ...                                ...     ...   \n",
       "396   797      Ricky      Dood             rdoodm4@friendfeed.com    Male   \n",
       "397   798   Waverley   Scarlon  wscarlonm5@scientificamerican.com    Male   \n",
       "398   799   Rozamond    Powles                rpowlesm6@blogs.com  Female   \n",
       "399   800       Poul   Burbury             pburburym7@weather.com    Male   \n",
       "400  1001        Joe    Bloggs            joebloggs99@hotmail.com    Male   \n",
       "\n",
       "          ip_address  salary        date_of_birth   age  \n",
       "0     221.211.251.33   74736  1983-03-29 00:00:00  37.0  \n",
       "1     167.149.10.166   99656  1948-12-01 00:00:00  71.0  \n",
       "2     135.94.208.201   59445  1951-06-04 00:00:00  69.0  \n",
       "3      156.148.98.84   52885  2000-12-21 00:00:00  19.0  \n",
       "4      38.130.45.163   69290  1945-11-16 00:00:00  74.0  \n",
       "..               ...     ...                  ...   ...  \n",
       "396   215.221.31.159   14971  1987-09-28 00:00:00  32.0  \n",
       "397  208.156.172.222   54296  1965-05-17 00:00:00  55.0  \n",
       "398    89.237.127.23   68632  1957-12-10 00:00:00  62.0  \n",
       "399  163.247.105.128   45017  1977-12-20 00:00:00  42.0  \n",
       "400   345.112.543.22   13470           17/05/1999   NaN  \n",
       "\n",
       "[401 rows x 9 columns]"
      ]
     },
     "execution_count": 30,
     "metadata": {},
     "output_type": "execute_result"
    }
   ],
   "source": [
    "union_df.append(newrow_dict, ignore_index = True)"
   ]
  },
  {
   "cell_type": "markdown",
   "metadata": {},
   "source": [
    "We can also join the dataframe horizontally using the <code>axis = 1</code> argument - notice that empty <code>NaN</code> values are created because the indexes don't match - this is like a SQL <code>OUTER JOIN</code>."
   ]
  },
  {
   "cell_type": "code",
   "execution_count": 31,
   "metadata": {
    "scrolled": false
   },
   "outputs": [
    {
     "data": {
      "text/html": [
       "<div>\n",
       "<style scoped>\n",
       "    .dataframe tbody tr th:only-of-type {\n",
       "        vertical-align: middle;\n",
       "    }\n",
       "\n",
       "    .dataframe tbody tr th {\n",
       "        vertical-align: top;\n",
       "    }\n",
       "\n",
       "    .dataframe thead th {\n",
       "        text-align: right;\n",
       "    }\n",
       "</style>\n",
       "<table border=\"1\" class=\"dataframe\">\n",
       "  <thead>\n",
       "    <tr style=\"text-align: right;\">\n",
       "      <th></th>\n",
       "      <th>id</th>\n",
       "      <th>first_name</th>\n",
       "      <th>last_name</th>\n",
       "      <th>email</th>\n",
       "      <th>gender</th>\n",
       "      <th>ip_address</th>\n",
       "      <th>salary</th>\n",
       "      <th>date_of_birth</th>\n",
       "      <th>age</th>\n",
       "      <th>id</th>\n",
       "      <th>first_name</th>\n",
       "      <th>last_name</th>\n",
       "      <th>email</th>\n",
       "      <th>gender</th>\n",
       "      <th>ip_address</th>\n",
       "      <th>salary</th>\n",
       "      <th>date_of_birth</th>\n",
       "      <th>age</th>\n",
       "    </tr>\n",
       "  </thead>\n",
       "  <tbody>\n",
       "    <tr>\n",
       "      <th>400</th>\n",
       "      <td>401.0</td>\n",
       "      <td>Tyrone</td>\n",
       "      <td>Buntine</td>\n",
       "      <td>tbuntineb4@bluehost.com</td>\n",
       "      <td>Male</td>\n",
       "      <td>221.211.251.33</td>\n",
       "      <td>74736.0</td>\n",
       "      <td>1983-03-29</td>\n",
       "      <td>37.0</td>\n",
       "      <td>NaN</td>\n",
       "      <td>NaN</td>\n",
       "      <td>NaN</td>\n",
       "      <td>NaN</td>\n",
       "      <td>NaN</td>\n",
       "      <td>NaN</td>\n",
       "      <td>NaN</td>\n",
       "      <td>NaT</td>\n",
       "      <td>NaN</td>\n",
       "    </tr>\n",
       "    <tr>\n",
       "      <th>401</th>\n",
       "      <td>402.0</td>\n",
       "      <td>Brady</td>\n",
       "      <td>O'dell</td>\n",
       "      <td>bodellb5@timesonline.co.uk</td>\n",
       "      <td>Male</td>\n",
       "      <td>167.149.10.166</td>\n",
       "      <td>99656.0</td>\n",
       "      <td>1948-12-01</td>\n",
       "      <td>71.0</td>\n",
       "      <td>NaN</td>\n",
       "      <td>NaN</td>\n",
       "      <td>NaN</td>\n",
       "      <td>NaN</td>\n",
       "      <td>NaN</td>\n",
       "      <td>NaN</td>\n",
       "      <td>NaN</td>\n",
       "      <td>NaT</td>\n",
       "      <td>NaN</td>\n",
       "    </tr>\n",
       "    <tr>\n",
       "      <th>402</th>\n",
       "      <td>403.0</td>\n",
       "      <td>Emanuel</td>\n",
       "      <td>Vaughan</td>\n",
       "      <td>evaughanb6@typepad.com</td>\n",
       "      <td>Male</td>\n",
       "      <td>135.94.208.201</td>\n",
       "      <td>59445.0</td>\n",
       "      <td>1951-06-04</td>\n",
       "      <td>69.0</td>\n",
       "      <td>NaN</td>\n",
       "      <td>NaN</td>\n",
       "      <td>NaN</td>\n",
       "      <td>NaN</td>\n",
       "      <td>NaN</td>\n",
       "      <td>NaN</td>\n",
       "      <td>NaN</td>\n",
       "      <td>NaT</td>\n",
       "      <td>NaN</td>\n",
       "    </tr>\n",
       "    <tr>\n",
       "      <th>403</th>\n",
       "      <td>404.0</td>\n",
       "      <td>Adelle</td>\n",
       "      <td>Batteson</td>\n",
       "      <td>abattesonb7@wired.com</td>\n",
       "      <td>Female</td>\n",
       "      <td>156.148.98.84</td>\n",
       "      <td>52885.0</td>\n",
       "      <td>2000-12-21</td>\n",
       "      <td>19.0</td>\n",
       "      <td>NaN</td>\n",
       "      <td>NaN</td>\n",
       "      <td>NaN</td>\n",
       "      <td>NaN</td>\n",
       "      <td>NaN</td>\n",
       "      <td>NaN</td>\n",
       "      <td>NaN</td>\n",
       "      <td>NaT</td>\n",
       "      <td>NaN</td>\n",
       "    </tr>\n",
       "    <tr>\n",
       "      <th>404</th>\n",
       "      <td>405.0</td>\n",
       "      <td>Vinny</td>\n",
       "      <td>Rennicks</td>\n",
       "      <td>vrennicksb8@utexas.edu</td>\n",
       "      <td>Female</td>\n",
       "      <td>38.130.45.163</td>\n",
       "      <td>69290.0</td>\n",
       "      <td>1945-11-16</td>\n",
       "      <td>74.0</td>\n",
       "      <td>NaN</td>\n",
       "      <td>NaN</td>\n",
       "      <td>NaN</td>\n",
       "      <td>NaN</td>\n",
       "      <td>NaN</td>\n",
       "      <td>NaN</td>\n",
       "      <td>NaN</td>\n",
       "      <td>NaT</td>\n",
       "      <td>NaN</td>\n",
       "    </tr>\n",
       "    <tr>\n",
       "      <th>...</th>\n",
       "      <td>...</td>\n",
       "      <td>...</td>\n",
       "      <td>...</td>\n",
       "      <td>...</td>\n",
       "      <td>...</td>\n",
       "      <td>...</td>\n",
       "      <td>...</td>\n",
       "      <td>...</td>\n",
       "      <td>...</td>\n",
       "      <td>...</td>\n",
       "      <td>...</td>\n",
       "      <td>...</td>\n",
       "      <td>...</td>\n",
       "      <td>...</td>\n",
       "      <td>...</td>\n",
       "      <td>...</td>\n",
       "      <td>...</td>\n",
       "      <td>...</td>\n",
       "    </tr>\n",
       "    <tr>\n",
       "      <th>795</th>\n",
       "      <td>NaN</td>\n",
       "      <td>NaN</td>\n",
       "      <td>NaN</td>\n",
       "      <td>NaN</td>\n",
       "      <td>NaN</td>\n",
       "      <td>NaN</td>\n",
       "      <td>NaN</td>\n",
       "      <td>NaT</td>\n",
       "      <td>NaN</td>\n",
       "      <td>796.0</td>\n",
       "      <td>Hewe</td>\n",
       "      <td>Lacelett</td>\n",
       "      <td>hlacelettm3@omniture.com</td>\n",
       "      <td>Male</td>\n",
       "      <td>202.164.62.230</td>\n",
       "      <td>23244.0</td>\n",
       "      <td>1954-11-01</td>\n",
       "      <td>65.0</td>\n",
       "    </tr>\n",
       "    <tr>\n",
       "      <th>796</th>\n",
       "      <td>NaN</td>\n",
       "      <td>NaN</td>\n",
       "      <td>NaN</td>\n",
       "      <td>NaN</td>\n",
       "      <td>NaN</td>\n",
       "      <td>NaN</td>\n",
       "      <td>NaN</td>\n",
       "      <td>NaT</td>\n",
       "      <td>NaN</td>\n",
       "      <td>797.0</td>\n",
       "      <td>Ricky</td>\n",
       "      <td>Dood</td>\n",
       "      <td>rdoodm4@friendfeed.com</td>\n",
       "      <td>Male</td>\n",
       "      <td>215.221.31.159</td>\n",
       "      <td>14971.0</td>\n",
       "      <td>1987-09-28</td>\n",
       "      <td>32.0</td>\n",
       "    </tr>\n",
       "    <tr>\n",
       "      <th>797</th>\n",
       "      <td>NaN</td>\n",
       "      <td>NaN</td>\n",
       "      <td>NaN</td>\n",
       "      <td>NaN</td>\n",
       "      <td>NaN</td>\n",
       "      <td>NaN</td>\n",
       "      <td>NaN</td>\n",
       "      <td>NaT</td>\n",
       "      <td>NaN</td>\n",
       "      <td>798.0</td>\n",
       "      <td>Waverley</td>\n",
       "      <td>Scarlon</td>\n",
       "      <td>wscarlonm5@scientificamerican.com</td>\n",
       "      <td>Male</td>\n",
       "      <td>208.156.172.222</td>\n",
       "      <td>54296.0</td>\n",
       "      <td>1965-05-17</td>\n",
       "      <td>55.0</td>\n",
       "    </tr>\n",
       "    <tr>\n",
       "      <th>798</th>\n",
       "      <td>NaN</td>\n",
       "      <td>NaN</td>\n",
       "      <td>NaN</td>\n",
       "      <td>NaN</td>\n",
       "      <td>NaN</td>\n",
       "      <td>NaN</td>\n",
       "      <td>NaN</td>\n",
       "      <td>NaT</td>\n",
       "      <td>NaN</td>\n",
       "      <td>799.0</td>\n",
       "      <td>Rozamond</td>\n",
       "      <td>Powles</td>\n",
       "      <td>rpowlesm6@blogs.com</td>\n",
       "      <td>Female</td>\n",
       "      <td>89.237.127.23</td>\n",
       "      <td>68632.0</td>\n",
       "      <td>1957-12-10</td>\n",
       "      <td>62.0</td>\n",
       "    </tr>\n",
       "    <tr>\n",
       "      <th>799</th>\n",
       "      <td>NaN</td>\n",
       "      <td>NaN</td>\n",
       "      <td>NaN</td>\n",
       "      <td>NaN</td>\n",
       "      <td>NaN</td>\n",
       "      <td>NaN</td>\n",
       "      <td>NaN</td>\n",
       "      <td>NaT</td>\n",
       "      <td>NaN</td>\n",
       "      <td>800.0</td>\n",
       "      <td>Poul</td>\n",
       "      <td>Burbury</td>\n",
       "      <td>pburburym7@weather.com</td>\n",
       "      <td>Male</td>\n",
       "      <td>163.247.105.128</td>\n",
       "      <td>45017.0</td>\n",
       "      <td>1977-12-20</td>\n",
       "      <td>42.0</td>\n",
       "    </tr>\n",
       "  </tbody>\n",
       "</table>\n",
       "<p>400 rows × 18 columns</p>\n",
       "</div>"
      ],
      "text/plain": [
       "        id first_name last_name                       email  gender  \\\n",
       "400  401.0     Tyrone   Buntine     tbuntineb4@bluehost.com    Male   \n",
       "401  402.0      Brady    O'dell  bodellb5@timesonline.co.uk    Male   \n",
       "402  403.0    Emanuel   Vaughan      evaughanb6@typepad.com    Male   \n",
       "403  404.0     Adelle  Batteson       abattesonb7@wired.com  Female   \n",
       "404  405.0      Vinny  Rennicks      vrennicksb8@utexas.edu  Female   \n",
       "..     ...        ...       ...                         ...     ...   \n",
       "795    NaN        NaN       NaN                         NaN     NaN   \n",
       "796    NaN        NaN       NaN                         NaN     NaN   \n",
       "797    NaN        NaN       NaN                         NaN     NaN   \n",
       "798    NaN        NaN       NaN                         NaN     NaN   \n",
       "799    NaN        NaN       NaN                         NaN     NaN   \n",
       "\n",
       "         ip_address   salary date_of_birth   age     id first_name last_name  \\\n",
       "400  221.211.251.33  74736.0    1983-03-29  37.0    NaN        NaN       NaN   \n",
       "401  167.149.10.166  99656.0    1948-12-01  71.0    NaN        NaN       NaN   \n",
       "402  135.94.208.201  59445.0    1951-06-04  69.0    NaN        NaN       NaN   \n",
       "403   156.148.98.84  52885.0    2000-12-21  19.0    NaN        NaN       NaN   \n",
       "404   38.130.45.163  69290.0    1945-11-16  74.0    NaN        NaN       NaN   \n",
       "..              ...      ...           ...   ...    ...        ...       ...   \n",
       "795             NaN      NaN           NaT   NaN  796.0       Hewe  Lacelett   \n",
       "796             NaN      NaN           NaT   NaN  797.0      Ricky      Dood   \n",
       "797             NaN      NaN           NaT   NaN  798.0   Waverley   Scarlon   \n",
       "798             NaN      NaN           NaT   NaN  799.0   Rozamond    Powles   \n",
       "799             NaN      NaN           NaT   NaN  800.0       Poul   Burbury   \n",
       "\n",
       "                                 email  gender       ip_address   salary  \\\n",
       "400                                NaN     NaN              NaN      NaN   \n",
       "401                                NaN     NaN              NaN      NaN   \n",
       "402                                NaN     NaN              NaN      NaN   \n",
       "403                                NaN     NaN              NaN      NaN   \n",
       "404                                NaN     NaN              NaN      NaN   \n",
       "..                                 ...     ...              ...      ...   \n",
       "795           hlacelettm3@omniture.com    Male   202.164.62.230  23244.0   \n",
       "796             rdoodm4@friendfeed.com    Male   215.221.31.159  14971.0   \n",
       "797  wscarlonm5@scientificamerican.com    Male  208.156.172.222  54296.0   \n",
       "798                rpowlesm6@blogs.com  Female    89.237.127.23  68632.0   \n",
       "799             pburburym7@weather.com    Male  163.247.105.128  45017.0   \n",
       "\n",
       "    date_of_birth   age  \n",
       "400           NaT   NaN  \n",
       "401           NaT   NaN  \n",
       "402           NaT   NaN  \n",
       "403           NaT   NaN  \n",
       "404           NaT   NaN  \n",
       "..            ...   ...  \n",
       "795    1954-11-01  65.0  \n",
       "796    1987-09-28  32.0  \n",
       "797    1965-05-17  55.0  \n",
       "798    1957-12-10  62.0  \n",
       "799    1977-12-20  42.0  \n",
       "\n",
       "[400 rows x 18 columns]"
      ]
     },
     "execution_count": 31,
     "metadata": {},
     "output_type": "execute_result"
    }
   ],
   "source": [
    "pd.concat(df_list[2:4], axis = 1)"
   ]
  },
  {
   "cell_type": "markdown",
   "metadata": {},
   "source": [
    "If we want to ignore indexes and just stick the columns together arbitrarily <b>don't</b> use the <code>ignore_index</code> keyword as this does something else. Instead we need to <code>reset_index</code> for each individual dataframe we join"
   ]
  },
  {
   "cell_type": "code",
   "execution_count": 32,
   "metadata": {
    "scrolled": false
   },
   "outputs": [
    {
     "data": {
      "text/html": [
       "<div>\n",
       "<style scoped>\n",
       "    .dataframe tbody tr th:only-of-type {\n",
       "        vertical-align: middle;\n",
       "    }\n",
       "\n",
       "    .dataframe tbody tr th {\n",
       "        vertical-align: top;\n",
       "    }\n",
       "\n",
       "    .dataframe thead th {\n",
       "        text-align: right;\n",
       "    }\n",
       "</style>\n",
       "<table border=\"1\" class=\"dataframe\">\n",
       "  <thead>\n",
       "    <tr style=\"text-align: right;\">\n",
       "      <th></th>\n",
       "      <th>index</th>\n",
       "      <th>id</th>\n",
       "      <th>first_name</th>\n",
       "      <th>last_name</th>\n",
       "      <th>email</th>\n",
       "      <th>gender</th>\n",
       "      <th>ip_address</th>\n",
       "      <th>salary</th>\n",
       "      <th>date_of_birth</th>\n",
       "      <th>age</th>\n",
       "      <th>index</th>\n",
       "      <th>id</th>\n",
       "      <th>first_name</th>\n",
       "      <th>last_name</th>\n",
       "      <th>email</th>\n",
       "      <th>gender</th>\n",
       "      <th>ip_address</th>\n",
       "      <th>salary</th>\n",
       "      <th>date_of_birth</th>\n",
       "      <th>age</th>\n",
       "    </tr>\n",
       "  </thead>\n",
       "  <tbody>\n",
       "    <tr>\n",
       "      <th>0</th>\n",
       "      <td>400</td>\n",
       "      <td>401</td>\n",
       "      <td>Tyrone</td>\n",
       "      <td>Buntine</td>\n",
       "      <td>tbuntineb4@bluehost.com</td>\n",
       "      <td>Male</td>\n",
       "      <td>221.211.251.33</td>\n",
       "      <td>74736</td>\n",
       "      <td>1983-03-29</td>\n",
       "      <td>37</td>\n",
       "      <td>600</td>\n",
       "      <td>601</td>\n",
       "      <td>Celle</td>\n",
       "      <td>Dering</td>\n",
       "      <td>cderinggo@vinaora.com</td>\n",
       "      <td>Female</td>\n",
       "      <td>67.43.105.98</td>\n",
       "      <td>75053</td>\n",
       "      <td>1954-01-18</td>\n",
       "      <td>66</td>\n",
       "    </tr>\n",
       "    <tr>\n",
       "      <th>1</th>\n",
       "      <td>401</td>\n",
       "      <td>402</td>\n",
       "      <td>Brady</td>\n",
       "      <td>O'dell</td>\n",
       "      <td>bodellb5@timesonline.co.uk</td>\n",
       "      <td>Male</td>\n",
       "      <td>167.149.10.166</td>\n",
       "      <td>99656</td>\n",
       "      <td>1948-12-01</td>\n",
       "      <td>71</td>\n",
       "      <td>601</td>\n",
       "      <td>602</td>\n",
       "      <td>Pedro</td>\n",
       "      <td>Deware</td>\n",
       "      <td>pdewaregp@noaa.gov</td>\n",
       "      <td>Male</td>\n",
       "      <td>217.89.241.78</td>\n",
       "      <td>19086</td>\n",
       "      <td>1953-01-18</td>\n",
       "      <td>67</td>\n",
       "    </tr>\n",
       "    <tr>\n",
       "      <th>2</th>\n",
       "      <td>402</td>\n",
       "      <td>403</td>\n",
       "      <td>Emanuel</td>\n",
       "      <td>Vaughan</td>\n",
       "      <td>evaughanb6@typepad.com</td>\n",
       "      <td>Male</td>\n",
       "      <td>135.94.208.201</td>\n",
       "      <td>59445</td>\n",
       "      <td>1951-06-04</td>\n",
       "      <td>69</td>\n",
       "      <td>602</td>\n",
       "      <td>603</td>\n",
       "      <td>Sandy</td>\n",
       "      <td>Varey</td>\n",
       "      <td>svareygq@list-manage.com</td>\n",
       "      <td>Female</td>\n",
       "      <td>194.102.249.26</td>\n",
       "      <td>27870</td>\n",
       "      <td>2000-12-07</td>\n",
       "      <td>19</td>\n",
       "    </tr>\n",
       "    <tr>\n",
       "      <th>3</th>\n",
       "      <td>403</td>\n",
       "      <td>404</td>\n",
       "      <td>Adelle</td>\n",
       "      <td>Batteson</td>\n",
       "      <td>abattesonb7@wired.com</td>\n",
       "      <td>Female</td>\n",
       "      <td>156.148.98.84</td>\n",
       "      <td>52885</td>\n",
       "      <td>2000-12-21</td>\n",
       "      <td>19</td>\n",
       "      <td>603</td>\n",
       "      <td>604</td>\n",
       "      <td>Berti</td>\n",
       "      <td>Virr</td>\n",
       "      <td>bvirrgr@godaddy.com</td>\n",
       "      <td>Male</td>\n",
       "      <td>175.233.39.240</td>\n",
       "      <td>48203</td>\n",
       "      <td>1964-03-22</td>\n",
       "      <td>56</td>\n",
       "    </tr>\n",
       "    <tr>\n",
       "      <th>4</th>\n",
       "      <td>404</td>\n",
       "      <td>405</td>\n",
       "      <td>Vinny</td>\n",
       "      <td>Rennicks</td>\n",
       "      <td>vrennicksb8@utexas.edu</td>\n",
       "      <td>Female</td>\n",
       "      <td>38.130.45.163</td>\n",
       "      <td>69290</td>\n",
       "      <td>1945-11-16</td>\n",
       "      <td>74</td>\n",
       "      <td>604</td>\n",
       "      <td>605</td>\n",
       "      <td>Caddric</td>\n",
       "      <td>Arpur</td>\n",
       "      <td>carpurgs@1und1.de</td>\n",
       "      <td>Male</td>\n",
       "      <td>86.40.160.203</td>\n",
       "      <td>50772</td>\n",
       "      <td>1971-12-31</td>\n",
       "      <td>48</td>\n",
       "    </tr>\n",
       "    <tr>\n",
       "      <th>...</th>\n",
       "      <td>...</td>\n",
       "      <td>...</td>\n",
       "      <td>...</td>\n",
       "      <td>...</td>\n",
       "      <td>...</td>\n",
       "      <td>...</td>\n",
       "      <td>...</td>\n",
       "      <td>...</td>\n",
       "      <td>...</td>\n",
       "      <td>...</td>\n",
       "      <td>...</td>\n",
       "      <td>...</td>\n",
       "      <td>...</td>\n",
       "      <td>...</td>\n",
       "      <td>...</td>\n",
       "      <td>...</td>\n",
       "      <td>...</td>\n",
       "      <td>...</td>\n",
       "      <td>...</td>\n",
       "      <td>...</td>\n",
       "    </tr>\n",
       "    <tr>\n",
       "      <th>195</th>\n",
       "      <td>595</td>\n",
       "      <td>596</td>\n",
       "      <td>Kelwin</td>\n",
       "      <td>Condon</td>\n",
       "      <td>kcondongj@ezinearticles.com</td>\n",
       "      <td>Male</td>\n",
       "      <td>184.98.107.154</td>\n",
       "      <td>82646</td>\n",
       "      <td>2002-09-23</td>\n",
       "      <td>17</td>\n",
       "      <td>795</td>\n",
       "      <td>796</td>\n",
       "      <td>Hewe</td>\n",
       "      <td>Lacelett</td>\n",
       "      <td>hlacelettm3@omniture.com</td>\n",
       "      <td>Male</td>\n",
       "      <td>202.164.62.230</td>\n",
       "      <td>23244</td>\n",
       "      <td>1954-11-01</td>\n",
       "      <td>65</td>\n",
       "    </tr>\n",
       "    <tr>\n",
       "      <th>196</th>\n",
       "      <td>596</td>\n",
       "      <td>597</td>\n",
       "      <td>Berkley</td>\n",
       "      <td>Hully</td>\n",
       "      <td>bhullygk@disqus.com</td>\n",
       "      <td>Male</td>\n",
       "      <td>169.59.29.111</td>\n",
       "      <td>28258</td>\n",
       "      <td>1996-09-28</td>\n",
       "      <td>23</td>\n",
       "      <td>796</td>\n",
       "      <td>797</td>\n",
       "      <td>Ricky</td>\n",
       "      <td>Dood</td>\n",
       "      <td>rdoodm4@friendfeed.com</td>\n",
       "      <td>Male</td>\n",
       "      <td>215.221.31.159</td>\n",
       "      <td>14971</td>\n",
       "      <td>1987-09-28</td>\n",
       "      <td>32</td>\n",
       "    </tr>\n",
       "    <tr>\n",
       "      <th>197</th>\n",
       "      <td>597</td>\n",
       "      <td>598</td>\n",
       "      <td>Greggory</td>\n",
       "      <td>Duerden</td>\n",
       "      <td>gduerdengl@cargocollective.com</td>\n",
       "      <td>Male</td>\n",
       "      <td>194.212.68.214</td>\n",
       "      <td>76442</td>\n",
       "      <td>1998-10-25</td>\n",
       "      <td>21</td>\n",
       "      <td>797</td>\n",
       "      <td>798</td>\n",
       "      <td>Waverley</td>\n",
       "      <td>Scarlon</td>\n",
       "      <td>wscarlonm5@scientificamerican.com</td>\n",
       "      <td>Male</td>\n",
       "      <td>208.156.172.222</td>\n",
       "      <td>54296</td>\n",
       "      <td>1965-05-17</td>\n",
       "      <td>55</td>\n",
       "    </tr>\n",
       "    <tr>\n",
       "      <th>198</th>\n",
       "      <td>598</td>\n",
       "      <td>599</td>\n",
       "      <td>Benetta</td>\n",
       "      <td>Haughin</td>\n",
       "      <td>bhaughingm@amazon.co.jp</td>\n",
       "      <td>Female</td>\n",
       "      <td>168.205.4.251</td>\n",
       "      <td>31512</td>\n",
       "      <td>1983-04-30</td>\n",
       "      <td>37</td>\n",
       "      <td>798</td>\n",
       "      <td>799</td>\n",
       "      <td>Rozamond</td>\n",
       "      <td>Powles</td>\n",
       "      <td>rpowlesm6@blogs.com</td>\n",
       "      <td>Female</td>\n",
       "      <td>89.237.127.23</td>\n",
       "      <td>68632</td>\n",
       "      <td>1957-12-10</td>\n",
       "      <td>62</td>\n",
       "    </tr>\n",
       "    <tr>\n",
       "      <th>199</th>\n",
       "      <td>599</td>\n",
       "      <td>600</td>\n",
       "      <td>Rafaela</td>\n",
       "      <td>Castagne</td>\n",
       "      <td>rcastagnegn@sakura.ne.jp</td>\n",
       "      <td>Female</td>\n",
       "      <td>196.166.28.54</td>\n",
       "      <td>37104</td>\n",
       "      <td>1990-06-09</td>\n",
       "      <td>30</td>\n",
       "      <td>799</td>\n",
       "      <td>800</td>\n",
       "      <td>Poul</td>\n",
       "      <td>Burbury</td>\n",
       "      <td>pburburym7@weather.com</td>\n",
       "      <td>Male</td>\n",
       "      <td>163.247.105.128</td>\n",
       "      <td>45017</td>\n",
       "      <td>1977-12-20</td>\n",
       "      <td>42</td>\n",
       "    </tr>\n",
       "  </tbody>\n",
       "</table>\n",
       "<p>200 rows × 20 columns</p>\n",
       "</div>"
      ],
      "text/plain": [
       "     index   id first_name last_name                           email  gender  \\\n",
       "0      400  401     Tyrone   Buntine         tbuntineb4@bluehost.com    Male   \n",
       "1      401  402      Brady    O'dell      bodellb5@timesonline.co.uk    Male   \n",
       "2      402  403    Emanuel   Vaughan          evaughanb6@typepad.com    Male   \n",
       "3      403  404     Adelle  Batteson           abattesonb7@wired.com  Female   \n",
       "4      404  405      Vinny  Rennicks          vrennicksb8@utexas.edu  Female   \n",
       "..     ...  ...        ...       ...                             ...     ...   \n",
       "195    595  596     Kelwin    Condon     kcondongj@ezinearticles.com    Male   \n",
       "196    596  597    Berkley     Hully             bhullygk@disqus.com    Male   \n",
       "197    597  598   Greggory   Duerden  gduerdengl@cargocollective.com    Male   \n",
       "198    598  599    Benetta   Haughin         bhaughingm@amazon.co.jp  Female   \n",
       "199    599  600    Rafaela  Castagne        rcastagnegn@sakura.ne.jp  Female   \n",
       "\n",
       "         ip_address  salary date_of_birth  age  index   id first_name  \\\n",
       "0    221.211.251.33   74736    1983-03-29   37    600  601      Celle   \n",
       "1    167.149.10.166   99656    1948-12-01   71    601  602      Pedro   \n",
       "2    135.94.208.201   59445    1951-06-04   69    602  603      Sandy   \n",
       "3     156.148.98.84   52885    2000-12-21   19    603  604      Berti   \n",
       "4     38.130.45.163   69290    1945-11-16   74    604  605    Caddric   \n",
       "..              ...     ...           ...  ...    ...  ...        ...   \n",
       "195  184.98.107.154   82646    2002-09-23   17    795  796       Hewe   \n",
       "196   169.59.29.111   28258    1996-09-28   23    796  797      Ricky   \n",
       "197  194.212.68.214   76442    1998-10-25   21    797  798   Waverley   \n",
       "198   168.205.4.251   31512    1983-04-30   37    798  799   Rozamond   \n",
       "199   196.166.28.54   37104    1990-06-09   30    799  800       Poul   \n",
       "\n",
       "    last_name                              email  gender       ip_address  \\\n",
       "0      Dering              cderinggo@vinaora.com  Female     67.43.105.98   \n",
       "1      Deware                 pdewaregp@noaa.gov    Male    217.89.241.78   \n",
       "2       Varey           svareygq@list-manage.com  Female   194.102.249.26   \n",
       "3        Virr                bvirrgr@godaddy.com    Male   175.233.39.240   \n",
       "4       Arpur                  carpurgs@1und1.de    Male    86.40.160.203   \n",
       "..        ...                                ...     ...              ...   \n",
       "195  Lacelett           hlacelettm3@omniture.com    Male   202.164.62.230   \n",
       "196      Dood             rdoodm4@friendfeed.com    Male   215.221.31.159   \n",
       "197   Scarlon  wscarlonm5@scientificamerican.com    Male  208.156.172.222   \n",
       "198    Powles                rpowlesm6@blogs.com  Female    89.237.127.23   \n",
       "199   Burbury             pburburym7@weather.com    Male  163.247.105.128   \n",
       "\n",
       "     salary date_of_birth  age  \n",
       "0     75053    1954-01-18   66  \n",
       "1     19086    1953-01-18   67  \n",
       "2     27870    2000-12-07   19  \n",
       "3     48203    1964-03-22   56  \n",
       "4     50772    1971-12-31   48  \n",
       "..      ...           ...  ...  \n",
       "195   23244    1954-11-01   65  \n",
       "196   14971    1987-09-28   32  \n",
       "197   54296    1965-05-17   55  \n",
       "198   68632    1957-12-10   62  \n",
       "199   45017    1977-12-20   42  \n",
       "\n",
       "[200 rows x 20 columns]"
      ]
     },
     "execution_count": 32,
     "metadata": {},
     "output_type": "execute_result"
    }
   ],
   "source": [
    "new_index_df_list = [df.reset_index() for df in df_list]\n",
    "\n",
    "pd.concat(new_index_df_list[2:4], axis = 1)"
   ]
  },
  {
   "cell_type": "markdown",
   "metadata": {},
   "source": [
    "## 18. Exercise - collecting and analysing separate data sources<a id = '18'></a>\n",
    "[Back to contents](#cont)"
   ]
  },
  {
   "cell_type": "markdown",
   "metadata": {},
   "source": [
    "<b>Requirement</b>\n",
    "1. Read in the 6 datafiles (of unknown location) containing car sales data which sit in the folder <code>C:\\Users\\student\\Python Training\\Car Sales</code>\n",
    "\n",
    "\n",
    "2. Store the region number from the filename\n",
    "\n",
    "\n",
    "3. Combine the individual files into one <code>DataFrame</code>, the new <code>DataFrame</code> should include which region the file is from\n",
    "\n",
    "\n",
    "4. Fix any columns which may not be formatted as the right dataype (<b>hint:</b> look at numerics and dates... you may want to look up the <code>Series.str.replace()</code>, <code>pd.to_datetime()</code> and <code>pd.to_numeric()</code> functions)\n",
    "\n",
    "\n",
    "5. Write down the rrp and monthly_cost by 30% each for any Audi brand car, which has a model year earlier than 2005 (<b>hint</b>: There are multiple ways to achieve this but <code>np.where</code> could be useful here. To combine logical tests you will need to use the bitwise operator <code>&</code> not the scalar operator <code>and</code> \n",
    "\n",
    "\n",
    "6. Get rid of any entries which have no data in the numeric fields - these are erroneous\n",
    "\n",
    "\n",
    "7. Use the provided dictionary <code>region_dict</code> to (<b>hint</b>) <code>map</code> regions to the region number deduced from the filenames\n",
    "\n",
    "\n",
    "8. Summarize data by region and make - some stats like mean rrp would be useful\n",
    "\n",
    "\n",
    "9. Output the summary to a new csv or excel file\n",
    "\n",
    "\n",
    "10. BONUS - find the rarest cars\n",
    "\n",
    "\n",
    "These requirements are complicated so don't expect to get them all. Facilitators will drop in and out of groups to help as much as possible. We can continue the exercise into Day 2 if we run out of time.\n",
    "\n",
    "Feel free to use spyder or another IDE rather than Jupyter if you find it easier. Materials can also be found hon remote desktop instead.\n",
    "\n"
   ]
  },
  {
   "cell_type": "markdown",
   "metadata": {},
   "source": [
    "Let's build up some pseudo code as a hint:"
   ]
  },
  {
   "cell_type": "code",
   "execution_count": 7,
   "metadata": {},
   "outputs": [],
   "source": [
    "# pseudocode for one way of doing it:\n",
    "\n",
    "# import any modules needed\n",
    "\n",
    "# loop over all directories and files using os walk - creating lists for each\n",
    "    # loop over all files in the list\n",
    "        # read each the individual file into pandas dataframe\n",
    "        # store the dataframe in a dicitionary with the filename as the key\n",
    "\n",
    "# iterate over the dictionary key, value pairs\n",
    "    # take the file name and use string manipulation to split it up and deduce region number\n",
    "    # create new column in the dataframe for the region number\n",
    "    # convert number to int from string\n",
    "    \n",
    "# combine separate dataframes into one\n",
    "# remove extra strings around the numeric fields (e.g. £)\n",
    "# convert the numeric fields to numerics / dates where required\n",
    "\n",
    "# find elements of the dataframe where the car make is audi and year is pre 2005\n",
    "# for all of these elements reduce them by 10 %\n",
    "# find rows where the numeric fields are Nan\n",
    "# drop these rows\n",
    "\n",
    "#deduce region names from region number and map - and put these in dataframe\n",
    "\n",
    "# group dataframe on region and make\n",
    "# aggregate using functions of your choice\n",
    "\n",
    "# do any rounding or changes to column names required\n",
    "\n",
    "# define an output path based on source path\n",
    "# output the summary to csv \n",
    "\n",
    "# group non aggregated dataframe by car make and model\n",
    "# aggregate by count\n",
    "# sort lowest count to highest\n",
    "# find the lowest count of cars\n",
    "# find all the items which have this count"
   ]
  },
  {
   "cell_type": "code",
   "execution_count": 165,
   "metadata": {},
   "outputs": [
    {
     "name": "stdout",
     "output_type": "stream",
     "text": [
      "Enter your code here\n",
      "Enter your code here\n",
      "Enter your code here\n",
      "Enter your code here\n",
      "Enter your code here\n",
      "Enter your code here\n"
     ]
    }
   ],
   "source": [
    "# Your code goes here - here are some starting points\n",
    "\n",
    "import os\n",
    "import pandas as pd\n",
    "import numpy as np\n",
    "\n",
    "# mapping of numbers to regions\n",
    "region_dict = dict(zip([1,2,3,4,5,6],['North','South-East','South-West','London','Midlands','Other']))\n",
    "\n",
    "# directory path to read from\n",
    "source_path = r'C:\\Users\\student\\Desktop\\Python Training\\Car Sales'\n",
    "\n",
    "# initialise a dictionary to store the files\n",
    "read_dict = {}\n",
    "\n",
    "# loop over directories, subdirectories, files as a starting point\n",
    "for dirs, subdirs, files in os.walk(source_path):\n",
    "    # loop over list of files\n",
    "    for file in files:\n",
    "        # read in the files!\n",
    "        print('The rest is up to you!')\n",
    "        "
   ]
  }
 ],
 "metadata": {
  "kernelspec": {
   "display_name": "Python 3",
   "language": "python",
   "name": "python3"
  },
  "language_info": {
   "codemirror_mode": {
    "name": "ipython",
    "version": 3
   },
   "file_extension": ".py",
   "mimetype": "text/x-python",
   "name": "python",
   "nbconvert_exporter": "python",
   "pygments_lexer": "ipython3",
   "version": "3.7.4"
  }
 },
 "nbformat": 4,
 "nbformat_minor": 4
}
